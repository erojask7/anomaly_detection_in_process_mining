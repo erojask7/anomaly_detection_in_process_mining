{
 "cells": [
  {
   "cell_type": "code",
   "execution_count": 1,
   "metadata": {},
   "outputs": [
    {
     "name": "stdout",
     "output_type": "stream",
     "text": [
      "\n",
      " ========================== Approach tstideplus ==========================\n",
      "folder_output: \n",
      "E:\\EXPERIMENTOS2020\\anomaly_detection\\research_questions\\best_anomaly_detection_and_descovery\\resultados\\resultados_gexp_stp_62918022799\n",
      "\n",
      "\n",
      "\n",
      "\n",
      "=================Experiment1=====================\n",
      "\n",
      "\n",
      "Data about experiment:\n",
      "log_bimp                                                  log_bimp_ptall.csv\n",
      "log_anomaly_intuition                                                     af\n",
      "log_control_flow_type                                                    all\n",
      "s_k_cv                                                                     5\n",
      "s_tipo_heuristica                                                       None\n",
      "s_method_for_explore_thresholds                           percentiles_unique\n",
      "s_strategy_tr_tst                        cv_without_traces_duplicated_tst_tr\n",
      "s_avaliation_type                                           q_classification\n",
      "s_avaliation_gran_level                                      anomalous_cases\n",
      "exp_group_name                                                     test_case\n",
      "exp_group_id                                            gexp_stp_62918022799\n",
      "use_mask                                                             default\n",
      "p_modelit_id                                                               1\n",
      "p_modelit_windows_size                                                     2\n",
      "p_modelit_thd                                                          0.001\n",
      "log_name                           tstideplus_log_original_ptall_ataf_01.pkl\n",
      "scaling_factors                                                      0.0 1.0\n",
      "p_modelit_vapproach                                                 original\n",
      "p_modelit_voutlierness_calc                                 using_mismatches\n",
      "p_modelit_type                                                    tstideplus\n",
      "log_name_abbrev                                                         af01\n",
      "Name: 0, dtype: object\n",
      "\n",
      "\n"
     ]
    },
    {
     "name": "stderr",
     "output_type": "stream",
     "text": [
      "E:\\EXPERIMENTOS2020\\anomaly_detection\\anomaly_detection\\main\\execute.py:417: SettingWithCopyWarning: \n",
      "A value is trying to be set on a copy of a slice from a DataFrame.\n",
      "Try using .loc[row_indexer,col_indexer] = value instead\n",
      "\n",
      "See the caveats in the documentation: https://pandas.pydata.org/pandas-docs/stable/user_guide/indexing.html#returning-a-view-versus-a-copy\n",
      "  log_of_cases_without_repetition['nr_ocurrences'] = log_of_cases_without_repetition['trace'].map(\n",
      "C:\\Users\\erojas\\anaconda3\\envs\\envesther_pyth3.8\\lib\\site-packages\\sklearn\\metrics\\_classification.py:1221: UndefinedMetricWarning:\n",
      "\n",
      "Precision and F-score are ill-defined and being set to 0.0 in labels with no predicted samples. Use `zero_division` parameter to control this behavior.\n",
      "\n"
     ]
    },
    {
     "name": "stdout",
     "output_type": "stream",
     "text": [
      "\n",
      "\n",
      "=================Experiment2=====================\n",
      "\n",
      "\n",
      "Data about experiment:\n",
      "log_bimp                                                  log_bimp_ptall.csv\n",
      "log_anomaly_intuition                                                     af\n",
      "log_control_flow_type                                                    all\n",
      "s_k_cv                                                                     5\n",
      "s_tipo_heuristica                                                       None\n",
      "s_method_for_explore_thresholds                           percentiles_unique\n",
      "s_strategy_tr_tst                        cv_without_traces_duplicated_tst_tr\n",
      "s_avaliation_type                                           q_classification\n",
      "s_avaliation_gran_level                                      anomalous_cases\n",
      "exp_group_name                                                     test_case\n",
      "exp_group_id                                            gexp_stp_62918022799\n",
      "use_mask                                                             default\n",
      "p_modelit_id                                                               2\n",
      "p_modelit_windows_size                                                     2\n",
      "p_modelit_thd                                                          0.001\n",
      "log_name                           tstideplus_log_original_ptall_ataf_02.pkl\n",
      "scaling_factors                                                      0.0 1.0\n",
      "p_modelit_vapproach                                                 original\n",
      "p_modelit_voutlierness_calc                                 using_mismatches\n",
      "p_modelit_type                                                    tstideplus\n",
      "log_name_abbrev                                                         af02\n",
      "Name: 1, dtype: object\n",
      "\n",
      "\n"
     ]
    },
    {
     "name": "stderr",
     "output_type": "stream",
     "text": [
      "E:\\EXPERIMENTOS2020\\anomaly_detection\\anomaly_detection\\main\\execute.py:417: SettingWithCopyWarning:\n",
      "\n",
      "\n",
      "A value is trying to be set on a copy of a slice from a DataFrame.\n",
      "Try using .loc[row_indexer,col_indexer] = value instead\n",
      "\n",
      "See the caveats in the documentation: https://pandas.pydata.org/pandas-docs/stable/user_guide/indexing.html#returning-a-view-versus-a-copy\n",
      "\n",
      "C:\\Users\\erojas\\anaconda3\\envs\\envesther_pyth3.8\\lib\\site-packages\\sklearn\\metrics\\_classification.py:1221: UndefinedMetricWarning:\n",
      "\n",
      "Precision and F-score are ill-defined and being set to 0.0 in labels with no predicted samples. Use `zero_division` parameter to control this behavior.\n",
      "\n"
     ]
    },
    {
     "name": "stdout",
     "output_type": "stream",
     "text": [
      "\n",
      "\n",
      "=================Experiment3=====================\n",
      "\n",
      "\n",
      "Data about experiment:\n",
      "log_bimp                                                  log_bimp_ptall.csv\n",
      "log_anomaly_intuition                                                     af\n",
      "log_control_flow_type                                                    all\n",
      "s_k_cv                                                                     5\n",
      "s_tipo_heuristica                                                       None\n",
      "s_method_for_explore_thresholds                           percentiles_unique\n",
      "s_strategy_tr_tst                        cv_without_traces_duplicated_tst_tr\n",
      "s_avaliation_type                                           q_classification\n",
      "s_avaliation_gran_level                                      anomalous_cases\n",
      "exp_group_name                                                     test_case\n",
      "exp_group_id                                            gexp_stp_62918022799\n",
      "use_mask                                                             default\n",
      "p_modelit_id                                                               3\n",
      "p_modelit_windows_size                                                     2\n",
      "p_modelit_thd                                                          0.001\n",
      "log_name                           tstideplus_log_original_ptall_ataf_03.pkl\n",
      "scaling_factors                                                      0.0 1.0\n",
      "p_modelit_vapproach                                                 original\n",
      "p_modelit_voutlierness_calc                                 using_mismatches\n",
      "p_modelit_type                                                    tstideplus\n",
      "log_name_abbrev                                                         af03\n",
      "Name: 2, dtype: object\n",
      "\n",
      "\n"
     ]
    },
    {
     "name": "stderr",
     "output_type": "stream",
     "text": [
      "E:\\EXPERIMENTOS2020\\anomaly_detection\\anomaly_detection\\main\\execute.py:417: SettingWithCopyWarning:\n",
      "\n",
      "\n",
      "A value is trying to be set on a copy of a slice from a DataFrame.\n",
      "Try using .loc[row_indexer,col_indexer] = value instead\n",
      "\n",
      "See the caveats in the documentation: https://pandas.pydata.org/pandas-docs/stable/user_guide/indexing.html#returning-a-view-versus-a-copy\n",
      "\n",
      "C:\\Users\\erojas\\anaconda3\\envs\\envesther_pyth3.8\\lib\\site-packages\\sklearn\\metrics\\_classification.py:1221: UndefinedMetricWarning:\n",
      "\n",
      "Precision and F-score are ill-defined and being set to 0.0 in labels with no predicted samples. Use `zero_division` parameter to control this behavior.\n",
      "\n"
     ]
    },
    {
     "name": "stdout",
     "output_type": "stream",
     "text": [
      "\n",
      "\n",
      "=================Experiment4=====================\n",
      "\n",
      "\n",
      "Data about experiment:\n",
      "log_bimp                                                  log_bimp_ptall.csv\n",
      "log_anomaly_intuition                                                     ia\n",
      "log_control_flow_type                                                    all\n",
      "s_k_cv                                                                     5\n",
      "s_tipo_heuristica                                                       None\n",
      "s_method_for_explore_thresholds                           percentiles_unique\n",
      "s_strategy_tr_tst                        cv_without_traces_duplicated_tst_tr\n",
      "s_avaliation_type                                           q_classification\n",
      "s_avaliation_gran_level                                      anomalous_cases\n",
      "exp_group_name                                                     test_case\n",
      "exp_group_id                                            gexp_stp_62918022799\n",
      "use_mask                                                             default\n",
      "p_modelit_id                                                               4\n",
      "p_modelit_windows_size                                                     2\n",
      "p_modelit_thd                                                          0.001\n",
      "log_name                           tstideplus_log_original_ptall_atia_01.pkl\n",
      "scaling_factors                                                      0.0 1.0\n",
      "p_modelit_vapproach                                                 original\n",
      "p_modelit_voutlierness_calc                                 using_mismatches\n",
      "p_modelit_type                                                    tstideplus\n",
      "log_name_abbrev                                                         ia01\n",
      "Name: 3, dtype: object\n",
      "\n",
      "\n"
     ]
    },
    {
     "name": "stderr",
     "output_type": "stream",
     "text": [
      "E:\\EXPERIMENTOS2020\\anomaly_detection\\anomaly_detection\\main\\execute.py:417: SettingWithCopyWarning:\n",
      "\n",
      "\n",
      "A value is trying to be set on a copy of a slice from a DataFrame.\n",
      "Try using .loc[row_indexer,col_indexer] = value instead\n",
      "\n",
      "See the caveats in the documentation: https://pandas.pydata.org/pandas-docs/stable/user_guide/indexing.html#returning-a-view-versus-a-copy\n",
      "\n",
      "C:\\Users\\erojas\\anaconda3\\envs\\envesther_pyth3.8\\lib\\site-packages\\sklearn\\metrics\\_classification.py:1221: UndefinedMetricWarning:\n",
      "\n",
      "Precision and F-score are ill-defined and being set to 0.0 in labels with no predicted samples. Use `zero_division` parameter to control this behavior.\n",
      "\n"
     ]
    },
    {
     "name": "stdout",
     "output_type": "stream",
     "text": [
      "\n",
      "\n",
      "=================Experiment5=====================\n",
      "\n",
      "\n",
      "Data about experiment:\n",
      "log_bimp                                                  log_bimp_ptall.csv\n",
      "log_anomaly_intuition                                                     ia\n",
      "log_control_flow_type                                                    all\n",
      "s_k_cv                                                                     5\n",
      "s_tipo_heuristica                                                       None\n",
      "s_method_for_explore_thresholds                           percentiles_unique\n",
      "s_strategy_tr_tst                        cv_without_traces_duplicated_tst_tr\n",
      "s_avaliation_type                                           q_classification\n",
      "s_avaliation_gran_level                                      anomalous_cases\n",
      "exp_group_name                                                     test_case\n",
      "exp_group_id                                            gexp_stp_62918022799\n",
      "use_mask                                                             default\n",
      "p_modelit_id                                                               5\n",
      "p_modelit_windows_size                                                     2\n",
      "p_modelit_thd                                                          0.001\n",
      "log_name                           tstideplus_log_original_ptall_atia_02.pkl\n",
      "scaling_factors                                                      0.0 1.0\n",
      "p_modelit_vapproach                                                 original\n",
      "p_modelit_voutlierness_calc                                 using_mismatches\n",
      "p_modelit_type                                                    tstideplus\n",
      "log_name_abbrev                                                         ia02\n",
      "Name: 4, dtype: object\n",
      "\n",
      "\n"
     ]
    },
    {
     "name": "stderr",
     "output_type": "stream",
     "text": [
      "E:\\EXPERIMENTOS2020\\anomaly_detection\\anomaly_detection\\main\\execute.py:417: SettingWithCopyWarning:\n",
      "\n",
      "\n",
      "A value is trying to be set on a copy of a slice from a DataFrame.\n",
      "Try using .loc[row_indexer,col_indexer] = value instead\n",
      "\n",
      "See the caveats in the documentation: https://pandas.pydata.org/pandas-docs/stable/user_guide/indexing.html#returning-a-view-versus-a-copy\n",
      "\n",
      "C:\\Users\\erojas\\anaconda3\\envs\\envesther_pyth3.8\\lib\\site-packages\\sklearn\\metrics\\_classification.py:1221: UndefinedMetricWarning:\n",
      "\n",
      "Precision and F-score are ill-defined and being set to 0.0 in labels with no predicted samples. Use `zero_division` parameter to control this behavior.\n",
      "\n"
     ]
    },
    {
     "name": "stdout",
     "output_type": "stream",
     "text": [
      "\n",
      "\n",
      "=================Experiment6=====================\n",
      "\n",
      "\n",
      "Data about experiment:\n",
      "log_bimp                                                  log_bimp_ptall.csv\n",
      "log_anomaly_intuition                                                     ia\n",
      "log_control_flow_type                                                    all\n",
      "s_k_cv                                                                     5\n",
      "s_tipo_heuristica                                                       None\n",
      "s_method_for_explore_thresholds                           percentiles_unique\n",
      "s_strategy_tr_tst                        cv_without_traces_duplicated_tst_tr\n",
      "s_avaliation_type                                           q_classification\n",
      "s_avaliation_gran_level                                      anomalous_cases\n",
      "exp_group_name                                                     test_case\n",
      "exp_group_id                                            gexp_stp_62918022799\n",
      "use_mask                                                             default\n",
      "p_modelit_id                                                               6\n",
      "p_modelit_windows_size                                                     2\n",
      "p_modelit_thd                                                          0.001\n",
      "log_name                           tstideplus_log_original_ptall_atia_03.pkl\n",
      "scaling_factors                                                      0.0 1.0\n",
      "p_modelit_vapproach                                                 original\n",
      "p_modelit_voutlierness_calc                                 using_mismatches\n",
      "p_modelit_type                                                    tstideplus\n",
      "log_name_abbrev                                                         ia03\n",
      "Name: 5, dtype: object\n",
      "\n",
      "\n"
     ]
    },
    {
     "name": "stderr",
     "output_type": "stream",
     "text": [
      "E:\\EXPERIMENTOS2020\\anomaly_detection\\anomaly_detection\\main\\execute.py:417: SettingWithCopyWarning:\n",
      "\n",
      "\n",
      "A value is trying to be set on a copy of a slice from a DataFrame.\n",
      "Try using .loc[row_indexer,col_indexer] = value instead\n",
      "\n",
      "See the caveats in the documentation: https://pandas.pydata.org/pandas-docs/stable/user_guide/indexing.html#returning-a-view-versus-a-copy\n",
      "\n",
      "C:\\Users\\erojas\\anaconda3\\envs\\envesther_pyth3.8\\lib\\site-packages\\sklearn\\metrics\\_classification.py:1221: UndefinedMetricWarning:\n",
      "\n",
      "Precision and F-score are ill-defined and being set to 0.0 in labels with no predicted samples. Use `zero_division` parameter to control this behavior.\n",
      "\n"
     ]
    },
    {
     "name": "stdout",
     "output_type": "stream",
     "text": [
      "\n",
      "\n",
      "=================Experiment7=====================\n",
      "\n",
      "\n",
      "Data about experiment:\n",
      "log_bimp                                                  log_bimp_ptall.csv\n",
      "log_anomaly_intuition                                                     ta\n",
      "log_control_flow_type                                                    all\n",
      "s_k_cv                                                                     5\n",
      "s_tipo_heuristica                                                       None\n",
      "s_method_for_explore_thresholds                           percentiles_unique\n",
      "s_strategy_tr_tst                        cv_without_traces_duplicated_tst_tr\n",
      "s_avaliation_type                                           q_classification\n",
      "s_avaliation_gran_level                                      anomalous_cases\n",
      "exp_group_name                                                     test_case\n",
      "exp_group_id                                            gexp_stp_62918022799\n",
      "use_mask                                                             default\n",
      "p_modelit_id                                                               7\n",
      "p_modelit_windows_size                                                     2\n",
      "p_modelit_thd                                                          0.001\n",
      "log_name                           tstideplus_log_original_ptall_atta_01.pkl\n",
      "scaling_factors                                                      0.0 1.0\n",
      "p_modelit_vapproach                                                 original\n",
      "p_modelit_voutlierness_calc                                 using_mismatches\n",
      "p_modelit_type                                                    tstideplus\n",
      "log_name_abbrev                                                         ta01\n",
      "Name: 6, dtype: object\n",
      "\n",
      "\n"
     ]
    },
    {
     "name": "stderr",
     "output_type": "stream",
     "text": [
      "E:\\EXPERIMENTOS2020\\anomaly_detection\\anomaly_detection\\main\\execute.py:417: SettingWithCopyWarning:\n",
      "\n",
      "\n",
      "A value is trying to be set on a copy of a slice from a DataFrame.\n",
      "Try using .loc[row_indexer,col_indexer] = value instead\n",
      "\n",
      "See the caveats in the documentation: https://pandas.pydata.org/pandas-docs/stable/user_guide/indexing.html#returning-a-view-versus-a-copy\n",
      "\n",
      "C:\\Users\\erojas\\anaconda3\\envs\\envesther_pyth3.8\\lib\\site-packages\\sklearn\\metrics\\_classification.py:1221: UndefinedMetricWarning:\n",
      "\n",
      "Precision and F-score are ill-defined and being set to 0.0 in labels with no predicted samples. Use `zero_division` parameter to control this behavior.\n",
      "\n"
     ]
    },
    {
     "name": "stdout",
     "output_type": "stream",
     "text": [
      "\n",
      "\n",
      "=================Experiment8=====================\n",
      "\n",
      "\n",
      "Data about experiment:\n",
      "log_bimp                                                  log_bimp_ptall.csv\n",
      "log_anomaly_intuition                                                     ta\n",
      "log_control_flow_type                                                    all\n",
      "s_k_cv                                                                     5\n",
      "s_tipo_heuristica                                                       None\n",
      "s_method_for_explore_thresholds                           percentiles_unique\n",
      "s_strategy_tr_tst                        cv_without_traces_duplicated_tst_tr\n",
      "s_avaliation_type                                           q_classification\n",
      "s_avaliation_gran_level                                      anomalous_cases\n",
      "exp_group_name                                                     test_case\n",
      "exp_group_id                                            gexp_stp_62918022799\n",
      "use_mask                                                             default\n",
      "p_modelit_id                                                               8\n",
      "p_modelit_windows_size                                                     2\n",
      "p_modelit_thd                                                          0.001\n",
      "log_name                           tstideplus_log_original_ptall_atta_02.pkl\n",
      "scaling_factors                                                      0.0 1.0\n",
      "p_modelit_vapproach                                                 original\n",
      "p_modelit_voutlierness_calc                                 using_mismatches\n",
      "p_modelit_type                                                    tstideplus\n",
      "log_name_abbrev                                                         ta02\n",
      "Name: 7, dtype: object\n",
      "\n",
      "\n"
     ]
    },
    {
     "name": "stderr",
     "output_type": "stream",
     "text": [
      "E:\\EXPERIMENTOS2020\\anomaly_detection\\anomaly_detection\\main\\execute.py:417: SettingWithCopyWarning:\n",
      "\n",
      "\n",
      "A value is trying to be set on a copy of a slice from a DataFrame.\n",
      "Try using .loc[row_indexer,col_indexer] = value instead\n",
      "\n",
      "See the caveats in the documentation: https://pandas.pydata.org/pandas-docs/stable/user_guide/indexing.html#returning-a-view-versus-a-copy\n",
      "\n",
      "C:\\Users\\erojas\\anaconda3\\envs\\envesther_pyth3.8\\lib\\site-packages\\sklearn\\metrics\\_classification.py:1221: UndefinedMetricWarning:\n",
      "\n",
      "Precision and F-score are ill-defined and being set to 0.0 in labels with no predicted samples. Use `zero_division` parameter to control this behavior.\n",
      "\n"
     ]
    },
    {
     "name": "stdout",
     "output_type": "stream",
     "text": [
      "\n",
      "\n",
      "=================Experiment9=====================\n",
      "\n",
      "\n",
      "Data about experiment:\n",
      "log_bimp                                                  log_bimp_ptall.csv\n",
      "log_anomaly_intuition                                                     ta\n",
      "log_control_flow_type                                                    all\n",
      "s_k_cv                                                                     5\n",
      "s_tipo_heuristica                                                       None\n",
      "s_method_for_explore_thresholds                           percentiles_unique\n",
      "s_strategy_tr_tst                        cv_without_traces_duplicated_tst_tr\n",
      "s_avaliation_type                                           q_classification\n",
      "s_avaliation_gran_level                                      anomalous_cases\n",
      "exp_group_name                                                     test_case\n",
      "exp_group_id                                            gexp_stp_62918022799\n",
      "use_mask                                                             default\n",
      "p_modelit_id                                                               9\n",
      "p_modelit_windows_size                                                     2\n",
      "p_modelit_thd                                                          0.001\n",
      "log_name                           tstideplus_log_original_ptall_atta_03.pkl\n",
      "scaling_factors                                                      0.0 1.0\n",
      "p_modelit_vapproach                                                 original\n",
      "p_modelit_voutlierness_calc                                 using_mismatches\n",
      "p_modelit_type                                                    tstideplus\n",
      "log_name_abbrev                                                         ta03\n",
      "Name: 8, dtype: object\n",
      "\n",
      "\n"
     ]
    },
    {
     "name": "stderr",
     "output_type": "stream",
     "text": [
      "E:\\EXPERIMENTOS2020\\anomaly_detection\\anomaly_detection\\main\\execute.py:417: SettingWithCopyWarning:\n",
      "\n",
      "\n",
      "A value is trying to be set on a copy of a slice from a DataFrame.\n",
      "Try using .loc[row_indexer,col_indexer] = value instead\n",
      "\n",
      "See the caveats in the documentation: https://pandas.pydata.org/pandas-docs/stable/user_guide/indexing.html#returning-a-view-versus-a-copy\n",
      "\n",
      "C:\\Users\\erojas\\anaconda3\\envs\\envesther_pyth3.8\\lib\\site-packages\\sklearn\\metrics\\_classification.py:1221: UndefinedMetricWarning:\n",
      "\n",
      "Precision and F-score are ill-defined and being set to 0.0 in labels with no predicted samples. Use `zero_division` parameter to control this behavior.\n",
      "\n"
     ]
    },
    {
     "name": "stdout",
     "output_type": "stream",
     "text": [
      "\n",
      " ========================== Approach autoencoder_nolle ==========================\n",
      "18 activities found in log\n",
      "18 events existing in the biggest trace\n",
      "The one hot encoding representation for log_original_ptall_ataf_01.csv was created!. \n",
      "\n",
      "18 activities found in log\n",
      "18 events existing in the biggest trace\n",
      "The one hot encoding representation for log_original_ptall_ataf_02.csv was created!. \n",
      "\n",
      "18 activities found in log\n",
      "18 events existing in the biggest trace\n",
      "The one hot encoding representation for log_original_ptall_ataf_03.csv was created!. \n",
      "\n",
      "18 activities found in log\n",
      "19 events existing in the biggest trace\n",
      "The one hot encoding representation for log_original_ptall_atia_01.csv was created!. \n",
      "\n",
      "18 activities found in log\n",
      "18 events existing in the biggest trace\n",
      "The one hot encoding representation for log_original_ptall_atia_02.csv was created!. \n",
      "\n",
      "18 activities found in log\n",
      "19 events existing in the biggest trace\n",
      "The one hot encoding representation for log_original_ptall_atia_03.csv was created!. \n",
      "\n",
      "18 activities found in log\n",
      "18 events existing in the biggest trace\n",
      "The one hot encoding representation for log_original_ptall_atta_01.csv was created!. \n",
      "\n",
      "18 activities found in log\n",
      "18 events existing in the biggest trace\n",
      "The one hot encoding representation for log_original_ptall_atta_02.csv was created!. \n",
      "\n",
      "18 activities found in log\n",
      "18 events existing in the biggest trace\n",
      "The one hot encoding representation for log_original_ptall_atta_03.csv was created!. \n",
      "\n",
      "folder_output: \n",
      "E:\\EXPERIMENTOS2020\\anomaly_detection\\research_questions\\best_anomaly_detection_and_descovery\\resultados\\resultados_gexp_daen_62918109570\n",
      "\n",
      "\n",
      "\n",
      "\n",
      "=================Experiment1=====================\n",
      "\n",
      "\n",
      "Data about experiment:\n",
      "log_bimp                                            log_bimp_ptall.csv\n",
      "log_anomaly_intuition                                               af\n",
      "log_control_flow_type                                              all\n",
      "s_k_cv                                                               5\n",
      "s_tipo_heuristica                                                 None\n",
      "s_method_for_explore_thresholds                     percentiles_unique\n",
      "s_strategy_tr_tst                  cv_without_traces_duplicated_tst_tr\n",
      "s_avaliation_type                                     q_classification\n",
      "s_avaliation_gran_level                                anomalous_cases\n",
      "exp_group_name                                               test_case\n",
      "exp_group_id                                     gexp_daen_62918109570\n",
      "use_mask                                                       default\n",
      "p_modelit_id                                                         1\n",
      "funcao_f                                                          relu\n",
      "funcao_g                                                       sigmoid\n",
      "alfa                                                             0.001\n",
      "log_name                            ohe_log_original_ptall_ataf_01.csv\n",
      "scaling_factors                                                0.0 1.0\n",
      "p_modelit_vapproach                                           original\n",
      "p_modelit_voutlierness_calc                                   original\n",
      "ne                                                                 324\n",
      "no                                                                 162\n",
      "p_modelit_type                                       autoencoder_nolle\n",
      "nitmax                                                               5\n",
      "batch_size                                                         500\n",
      "early_stopping_patiente                                             10\n",
      "nro_camadas_ocultas                                                  2\n",
      "gaussian_noise_std                                                 0.1\n",
      "dropout                                                            0.5\n",
      "optimizer_beta2                                                   0.99\n",
      "early_stopping_metric                                         val_loss\n",
      "log_name_abbrev                                                   af01\n",
      "Name: 0, dtype: object\n",
      "\n",
      "\n",
      "Epoch 1/5\n",
      "4/4 [==============================] - 6s 2s/step - loss: 0.2506 - val_loss: 0.2376\n",
      "Epoch 2/5\n",
      "4/4 [==============================] - 0s 109ms/step - loss: 0.2304 - val_loss: 0.2152\n",
      "Epoch 3/5\n",
      "4/4 [==============================] - 0s 112ms/step - loss: 0.2019 - val_loss: 0.1749\n",
      "Epoch 4/5\n",
      "4/4 [==============================] - 0s 101ms/step - loss: 0.1592 - val_loss: 0.1153\n",
      "Epoch 5/5\n",
      "4/4 [==============================] - 0s 111ms/step - loss: 0.1042 - val_loss: 0.0583\n"
     ]
    },
    {
     "name": "stderr",
     "output_type": "stream",
     "text": [
      "C:\\Users\\erojas\\anaconda3\\envs\\envesther_pyth3.8\\lib\\site-packages\\sklearn\\metrics\\_classification.py:1221: UndefinedMetricWarning:\n",
      "\n",
      "Precision and F-score are ill-defined and being set to 0.0 in labels with no predicted samples. Use `zero_division` parameter to control this behavior.\n",
      "\n"
     ]
    },
    {
     "name": "stdout",
     "output_type": "stream",
     "text": [
      "Epoch 1/5\n",
      "4/4 [==============================] - 1s 194ms/step - loss: 0.2467 - val_loss: 0.2323\n",
      "Epoch 2/5\n",
      "4/4 [==============================] - 0s 81ms/step - loss: 0.2234 - val_loss: 0.2036\n",
      "Epoch 3/5\n",
      "4/4 [==============================] - 0s 110ms/step - loss: 0.1895 - val_loss: 0.1553\n",
      "Epoch 4/5\n",
      "4/4 [==============================] - 0s 100ms/step - loss: 0.1414 - val_loss: 0.0930\n",
      "Epoch 5/5\n",
      "4/4 [==============================] - 0s 96ms/step - loss: 0.0875 - val_loss: 0.0457\n"
     ]
    },
    {
     "name": "stderr",
     "output_type": "stream",
     "text": [
      "C:\\Users\\erojas\\anaconda3\\envs\\envesther_pyth3.8\\lib\\site-packages\\sklearn\\metrics\\_classification.py:1221: UndefinedMetricWarning:\n",
      "\n",
      "Precision and F-score are ill-defined and being set to 0.0 in labels with no predicted samples. Use `zero_division` parameter to control this behavior.\n",
      "\n"
     ]
    },
    {
     "name": "stdout",
     "output_type": "stream",
     "text": [
      "Epoch 1/5\n",
      "4/4 [==============================] - 2s 210ms/step - loss: 0.2478 - val_loss: 0.2310\n",
      "Epoch 2/5\n",
      "4/4 [==============================] - 0s 122ms/step - loss: 0.2229 - val_loss: 0.2006\n",
      "Epoch 3/5\n",
      "4/4 [==============================] - 0s 144ms/step - loss: 0.1877 - val_loss: 0.1508\n",
      "Epoch 4/5\n",
      "4/4 [==============================] - 0s 116ms/step - loss: 0.1385 - val_loss: 0.0890\n",
      "Epoch 5/5\n",
      "4/4 [==============================] - 0s 138ms/step - loss: 0.0850 - val_loss: 0.0440\n"
     ]
    },
    {
     "name": "stderr",
     "output_type": "stream",
     "text": [
      "C:\\Users\\erojas\\anaconda3\\envs\\envesther_pyth3.8\\lib\\site-packages\\sklearn\\metrics\\_classification.py:1221: UndefinedMetricWarning:\n",
      "\n",
      "Precision and F-score are ill-defined and being set to 0.0 in labels with no predicted samples. Use `zero_division` parameter to control this behavior.\n",
      "\n"
     ]
    },
    {
     "name": "stdout",
     "output_type": "stream",
     "text": [
      "Epoch 1/5\n",
      "4/4 [==============================] - 1s 202ms/step - loss: 0.2487 - val_loss: 0.2349\n",
      "Epoch 2/5\n",
      "4/4 [==============================] - 0s 135ms/step - loss: 0.2274 - val_loss: 0.2095\n",
      "Epoch 3/5\n",
      "4/4 [==============================] - 0s 99ms/step - loss: 0.1971 - val_loss: 0.1651\n",
      "Epoch 4/5\n",
      "4/4 [==============================] - 0s 109ms/step - loss: 0.1515 - val_loss: 0.1046\n",
      "Epoch 5/5\n",
      "4/4 [==============================] - 0s 112ms/step - loss: 0.0978 - val_loss: 0.0526\n"
     ]
    },
    {
     "name": "stderr",
     "output_type": "stream",
     "text": [
      "C:\\Users\\erojas\\anaconda3\\envs\\envesther_pyth3.8\\lib\\site-packages\\sklearn\\metrics\\_classification.py:1221: UndefinedMetricWarning:\n",
      "\n",
      "Precision and F-score are ill-defined and being set to 0.0 in labels with no predicted samples. Use `zero_division` parameter to control this behavior.\n",
      "\n"
     ]
    },
    {
     "name": "stdout",
     "output_type": "stream",
     "text": [
      "Epoch 1/5\n",
      "4/4 [==============================] - 2s 257ms/step - loss: 0.2501 - val_loss: 0.2358\n",
      "Epoch 2/5\n",
      "4/4 [==============================] - 0s 123ms/step - loss: 0.2283 - val_loss: 0.2111\n",
      "Epoch 3/5\n",
      "4/4 [==============================] - 0s 142ms/step - loss: 0.1984 - val_loss: 0.1684\n",
      "Epoch 4/5\n",
      "4/4 [==============================] - 0s 99ms/step - loss: 0.1544 - val_loss: 0.1088\n",
      "Epoch 5/5\n",
      "4/4 [==============================] - 0s 95ms/step - loss: 0.1005 - val_loss: 0.0556\n"
     ]
    },
    {
     "name": "stderr",
     "output_type": "stream",
     "text": [
      "C:\\Users\\erojas\\anaconda3\\envs\\envesther_pyth3.8\\lib\\site-packages\\sklearn\\metrics\\_classification.py:1221: UndefinedMetricWarning:\n",
      "\n",
      "Precision and F-score are ill-defined and being set to 0.0 in labels with no predicted samples. Use `zero_division` parameter to control this behavior.\n",
      "\n"
     ]
    },
    {
     "name": "stdout",
     "output_type": "stream",
     "text": [
      "\n",
      "\n",
      "=================Experiment2=====================\n",
      "\n",
      "\n",
      "Data about experiment:\n",
      "log_bimp                                            log_bimp_ptall.csv\n",
      "log_anomaly_intuition                                               af\n",
      "log_control_flow_type                                              all\n",
      "s_k_cv                                                               5\n",
      "s_tipo_heuristica                                                 None\n",
      "s_method_for_explore_thresholds                     percentiles_unique\n",
      "s_strategy_tr_tst                  cv_without_traces_duplicated_tst_tr\n",
      "s_avaliation_type                                     q_classification\n",
      "s_avaliation_gran_level                                anomalous_cases\n",
      "exp_group_name                                               test_case\n",
      "exp_group_id                                     gexp_daen_62918109570\n",
      "use_mask                                                       default\n",
      "p_modelit_id                                                         2\n",
      "funcao_f                                                          relu\n",
      "funcao_g                                                       sigmoid\n",
      "alfa                                                             0.001\n",
      "log_name                            ohe_log_original_ptall_ataf_02.csv\n",
      "scaling_factors                                                0.0 1.0\n",
      "p_modelit_vapproach                                           original\n",
      "p_modelit_voutlierness_calc                                   original\n",
      "ne                                                                 324\n",
      "no                                                                 162\n",
      "p_modelit_type                                       autoencoder_nolle\n",
      "nitmax                                                               5\n",
      "batch_size                                                         500\n",
      "early_stopping_patiente                                             10\n",
      "nro_camadas_ocultas                                                  2\n",
      "gaussian_noise_std                                                 0.1\n",
      "dropout                                                            0.5\n",
      "optimizer_beta2                                                   0.99\n",
      "early_stopping_metric                                         val_loss\n",
      "log_name_abbrev                                                   af02\n",
      "Name: 1, dtype: object\n",
      "\n",
      "\n",
      "Epoch 1/5\n",
      "4/4 [==============================] - 2s 220ms/step - loss: 0.2487 - val_loss: 0.2337\n",
      "Epoch 2/5\n",
      "4/4 [==============================] - 0s 108ms/step - loss: 0.2261 - val_loss: 0.2065\n",
      "Epoch 3/5\n",
      "4/4 [==============================] - 0s 117ms/step - loss: 0.1936 - val_loss: 0.1598\n",
      "Epoch 4/5\n",
      "4/4 [==============================] - 0s 117ms/step - loss: 0.1460 - val_loss: 0.0975\n",
      "Epoch 5/5\n",
      "4/4 [==============================] - 0s 130ms/step - loss: 0.0913 - val_loss: 0.0479\n"
     ]
    },
    {
     "name": "stderr",
     "output_type": "stream",
     "text": [
      "C:\\Users\\erojas\\anaconda3\\envs\\envesther_pyth3.8\\lib\\site-packages\\sklearn\\metrics\\_classification.py:1221: UndefinedMetricWarning:\n",
      "\n",
      "Precision and F-score are ill-defined and being set to 0.0 in labels with no predicted samples. Use `zero_division` parameter to control this behavior.\n",
      "\n"
     ]
    },
    {
     "name": "stdout",
     "output_type": "stream",
     "text": [
      "Epoch 1/5\n",
      "4/4 [==============================] - 1s 208ms/step - loss: 0.2490 - val_loss: 0.2346\n",
      "Epoch 2/5\n",
      "4/4 [==============================] - 0s 103ms/step - loss: 0.2268 - val_loss: 0.2082\n",
      "Epoch 3/5\n",
      "4/4 [==============================] - 0s 100ms/step - loss: 0.1953 - val_loss: 0.1628\n",
      "Epoch 4/5\n",
      "4/4 [==============================] - 0s 109ms/step - loss: 0.1486 - val_loss: 0.1016\n",
      "Epoch 5/5\n",
      "4/4 [==============================] - 0s 120ms/step - loss: 0.0944 - val_loss: 0.0505\n"
     ]
    },
    {
     "name": "stderr",
     "output_type": "stream",
     "text": [
      "C:\\Users\\erojas\\anaconda3\\envs\\envesther_pyth3.8\\lib\\site-packages\\sklearn\\metrics\\_classification.py:1221: UndefinedMetricWarning:\n",
      "\n",
      "Precision and F-score are ill-defined and being set to 0.0 in labels with no predicted samples. Use `zero_division` parameter to control this behavior.\n",
      "\n"
     ]
    },
    {
     "name": "stdout",
     "output_type": "stream",
     "text": [
      "Epoch 1/5\n",
      "4/4 [==============================] - 1s 198ms/step - loss: 0.2484 - val_loss: 0.2336\n",
      "Epoch 2/5\n",
      "4/4 [==============================] - 0s 102ms/step - loss: 0.2259 - val_loss: 0.2069\n",
      "Epoch 3/5\n",
      "4/4 [==============================] - 0s 119ms/step - loss: 0.1935 - val_loss: 0.1605\n",
      "Epoch 4/5\n",
      "4/4 [==============================] - 0s 117ms/step - loss: 0.1462 - val_loss: 0.0979\n",
      "Epoch 5/5\n",
      "4/4 [==============================] - 0s 136ms/step - loss: 0.0922 - val_loss: 0.0478\n"
     ]
    },
    {
     "name": "stderr",
     "output_type": "stream",
     "text": [
      "C:\\Users\\erojas\\anaconda3\\envs\\envesther_pyth3.8\\lib\\site-packages\\sklearn\\metrics\\_classification.py:1221: UndefinedMetricWarning:\n",
      "\n",
      "Precision and F-score are ill-defined and being set to 0.0 in labels with no predicted samples. Use `zero_division` parameter to control this behavior.\n",
      "\n"
     ]
    },
    {
     "name": "stdout",
     "output_type": "stream",
     "text": [
      "Epoch 1/5\n",
      "4/4 [==============================] - 1s 158ms/step - loss: 0.2497 - val_loss: 0.2360\n",
      "Epoch 2/5\n",
      "4/4 [==============================] - 0s 125ms/step - loss: 0.2283 - val_loss: 0.2115\n",
      "Epoch 3/5\n",
      "4/4 [==============================] - 0s 102ms/step - loss: 0.1984 - val_loss: 0.1683\n",
      "Epoch 4/5\n",
      "4/4 [==============================] - 0s 104ms/step - loss: 0.1534 - val_loss: 0.1079\n",
      "Epoch 5/5\n",
      "4/4 [==============================] - 0s 111ms/step - loss: 0.0996 - val_loss: 0.0542\n"
     ]
    },
    {
     "name": "stderr",
     "output_type": "stream",
     "text": [
      "C:\\Users\\erojas\\anaconda3\\envs\\envesther_pyth3.8\\lib\\site-packages\\sklearn\\metrics\\_classification.py:1221: UndefinedMetricWarning:\n",
      "\n",
      "Precision and F-score are ill-defined and being set to 0.0 in labels with no predicted samples. Use `zero_division` parameter to control this behavior.\n",
      "\n"
     ]
    },
    {
     "name": "stdout",
     "output_type": "stream",
     "text": [
      "Epoch 1/5\n",
      "4/4 [==============================] - 2s 202ms/step - loss: 0.2487 - val_loss: 0.2346\n",
      "Epoch 2/5\n",
      "4/4 [==============================] - 0s 133ms/step - loss: 0.2270 - val_loss: 0.2088\n",
      "Epoch 3/5\n",
      "4/4 [==============================] - 0s 116ms/step - loss: 0.1962 - val_loss: 0.1645\n",
      "Epoch 4/5\n",
      "4/4 [==============================] - 0s 99ms/step - loss: 0.1508 - val_loss: 0.1040\n",
      "Epoch 5/5\n",
      "4/4 [==============================] - 0s 120ms/step - loss: 0.0972 - val_loss: 0.0520\n"
     ]
    },
    {
     "name": "stderr",
     "output_type": "stream",
     "text": [
      "C:\\Users\\erojas\\anaconda3\\envs\\envesther_pyth3.8\\lib\\site-packages\\sklearn\\metrics\\_classification.py:1221: UndefinedMetricWarning:\n",
      "\n",
      "Precision and F-score are ill-defined and being set to 0.0 in labels with no predicted samples. Use `zero_division` parameter to control this behavior.\n",
      "\n"
     ]
    },
    {
     "name": "stdout",
     "output_type": "stream",
     "text": [
      "\n",
      "\n",
      "=================Experiment3=====================\n",
      "\n",
      "\n",
      "Data about experiment:\n",
      "log_bimp                                            log_bimp_ptall.csv\n",
      "log_anomaly_intuition                                               af\n",
      "log_control_flow_type                                              all\n",
      "s_k_cv                                                               5\n",
      "s_tipo_heuristica                                                 None\n",
      "s_method_for_explore_thresholds                     percentiles_unique\n",
      "s_strategy_tr_tst                  cv_without_traces_duplicated_tst_tr\n",
      "s_avaliation_type                                     q_classification\n",
      "s_avaliation_gran_level                                anomalous_cases\n",
      "exp_group_name                                               test_case\n",
      "exp_group_id                                     gexp_daen_62918109570\n",
      "use_mask                                                       default\n",
      "p_modelit_id                                                         3\n",
      "funcao_f                                                          relu\n",
      "funcao_g                                                       sigmoid\n",
      "alfa                                                             0.001\n",
      "log_name                            ohe_log_original_ptall_ataf_03.csv\n",
      "scaling_factors                                                0.0 1.0\n",
      "p_modelit_vapproach                                           original\n",
      "p_modelit_voutlierness_calc                                   original\n",
      "ne                                                                 324\n",
      "no                                                                 162\n",
      "p_modelit_type                                       autoencoder_nolle\n",
      "nitmax                                                               5\n",
      "batch_size                                                         500\n",
      "early_stopping_patiente                                             10\n",
      "nro_camadas_ocultas                                                  2\n",
      "gaussian_noise_std                                                 0.1\n",
      "dropout                                                            0.5\n",
      "optimizer_beta2                                                   0.99\n",
      "early_stopping_metric                                         val_loss\n",
      "log_name_abbrev                                                   af03\n",
      "Name: 2, dtype: object\n",
      "\n",
      "\n",
      "Epoch 1/5\n",
      "4/4 [==============================] - 2s 211ms/step - loss: 0.2498 - val_loss: 0.2359\n",
      "Epoch 2/5\n",
      "4/4 [==============================] - 0s 89ms/step - loss: 0.2287 - val_loss: 0.2109\n",
      "Epoch 3/5\n",
      "4/4 [==============================] - 0s 127ms/step - loss: 0.1987 - val_loss: 0.1676\n",
      "Epoch 4/5\n",
      "4/4 [==============================] - 0s 104ms/step - loss: 0.1551 - val_loss: 0.1082\n",
      "Epoch 5/5\n",
      "4/4 [==============================] - 0s 83ms/step - loss: 0.1013 - val_loss: 0.0558\n"
     ]
    },
    {
     "name": "stderr",
     "output_type": "stream",
     "text": [
      "C:\\Users\\erojas\\anaconda3\\envs\\envesther_pyth3.8\\lib\\site-packages\\sklearn\\metrics\\_classification.py:1221: UndefinedMetricWarning:\n",
      "\n",
      "Precision and F-score are ill-defined and being set to 0.0 in labels with no predicted samples. Use `zero_division` parameter to control this behavior.\n",
      "\n"
     ]
    },
    {
     "name": "stdout",
     "output_type": "stream",
     "text": [
      "Epoch 1/5\n",
      "4/4 [==============================] - 2s 218ms/step - loss: 0.2483 - val_loss: 0.2348\n",
      "Epoch 2/5\n",
      "4/4 [==============================] - 0s 126ms/step - loss: 0.2269 - val_loss: 0.2094\n",
      "Epoch 3/5\n",
      "4/4 [==============================] - 0s 134ms/step - loss: 0.1958 - val_loss: 0.1654\n",
      "Epoch 4/5\n",
      "4/4 [==============================] - 0s 129ms/step - loss: 0.1508 - val_loss: 0.1048\n",
      "Epoch 5/5\n",
      "4/4 [==============================] - 0s 99ms/step - loss: 0.0970 - val_loss: 0.0519\n"
     ]
    },
    {
     "name": "stderr",
     "output_type": "stream",
     "text": [
      "C:\\Users\\erojas\\anaconda3\\envs\\envesther_pyth3.8\\lib\\site-packages\\sklearn\\metrics\\_classification.py:1221: UndefinedMetricWarning:\n",
      "\n",
      "Precision and F-score are ill-defined and being set to 0.0 in labels with no predicted samples. Use `zero_division` parameter to control this behavior.\n",
      "\n"
     ]
    },
    {
     "name": "stdout",
     "output_type": "stream",
     "text": [
      "Epoch 1/5\n",
      "4/4 [==============================] - 1s 203ms/step - loss: 0.2480 - val_loss: 0.2338\n",
      "Epoch 2/5\n",
      "4/4 [==============================] - 0s 115ms/step - loss: 0.2256 - val_loss: 0.2072\n",
      "Epoch 3/5\n",
      "4/4 [==============================] - 0s 126ms/step - loss: 0.1936 - val_loss: 0.1618\n",
      "Epoch 4/5\n",
      "4/4 [==============================] - 0s 121ms/step - loss: 0.1468 - val_loss: 0.1006\n",
      "Epoch 5/5\n",
      "4/4 [==============================] - 0s 102ms/step - loss: 0.0933 - val_loss: 0.0497\n"
     ]
    },
    {
     "name": "stderr",
     "output_type": "stream",
     "text": [
      "C:\\Users\\erojas\\anaconda3\\envs\\envesther_pyth3.8\\lib\\site-packages\\sklearn\\metrics\\_classification.py:1221: UndefinedMetricWarning:\n",
      "\n",
      "Precision and F-score are ill-defined and being set to 0.0 in labels with no predicted samples. Use `zero_division` parameter to control this behavior.\n",
      "\n"
     ]
    },
    {
     "name": "stdout",
     "output_type": "stream",
     "text": [
      "Epoch 1/5\n",
      "4/4 [==============================] - 1s 197ms/step - loss: 0.2491 - val_loss: 0.2344\n",
      "Epoch 2/5\n",
      "4/4 [==============================] - 0s 90ms/step - loss: 0.2268 - val_loss: 0.2087\n",
      "Epoch 3/5\n",
      "4/4 [==============================] - 0s 101ms/step - loss: 0.1956 - val_loss: 0.1656\n",
      "Epoch 4/5\n",
      "4/4 [==============================] - 0s 141ms/step - loss: 0.1511 - val_loss: 0.1069\n",
      "Epoch 5/5\n",
      "4/4 [==============================] - 0s 99ms/step - loss: 0.0980 - val_loss: 0.0543\n"
     ]
    },
    {
     "name": "stderr",
     "output_type": "stream",
     "text": [
      "C:\\Users\\erojas\\anaconda3\\envs\\envesther_pyth3.8\\lib\\site-packages\\sklearn\\metrics\\_classification.py:1221: UndefinedMetricWarning:\n",
      "\n",
      "Precision and F-score are ill-defined and being set to 0.0 in labels with no predicted samples. Use `zero_division` parameter to control this behavior.\n",
      "\n"
     ]
    },
    {
     "name": "stdout",
     "output_type": "stream",
     "text": [
      "Epoch 1/5\n",
      "4/4 [==============================] - 2s 224ms/step - loss: 0.2485 - val_loss: 0.2347\n",
      "Epoch 2/5\n",
      "4/4 [==============================] - 0s 104ms/step - loss: 0.2266 - val_loss: 0.2075\n",
      "Epoch 3/5\n",
      "4/4 [==============================] - 0s 98ms/step - loss: 0.1931 - val_loss: 0.1597\n",
      "Epoch 4/5\n",
      "4/4 [==============================] - 0s 100ms/step - loss: 0.1449 - val_loss: 0.0954\n",
      "Epoch 5/5\n",
      "4/4 [==============================] - 0s 103ms/step - loss: 0.0884 - val_loss: 0.0455\n"
     ]
    },
    {
     "name": "stderr",
     "output_type": "stream",
     "text": [
      "C:\\Users\\erojas\\anaconda3\\envs\\envesther_pyth3.8\\lib\\site-packages\\sklearn\\metrics\\_classification.py:1221: UndefinedMetricWarning:\n",
      "\n",
      "Precision and F-score are ill-defined and being set to 0.0 in labels with no predicted samples. Use `zero_division` parameter to control this behavior.\n",
      "\n"
     ]
    },
    {
     "name": "stdout",
     "output_type": "stream",
     "text": [
      "\n",
      "\n",
      "=================Experiment4=====================\n",
      "\n",
      "\n",
      "Data about experiment:\n",
      "log_bimp                                            log_bimp_ptall.csv\n",
      "log_anomaly_intuition                                               ia\n",
      "log_control_flow_type                                              all\n",
      "s_k_cv                                                               5\n",
      "s_tipo_heuristica                                                 None\n",
      "s_method_for_explore_thresholds                     percentiles_unique\n",
      "s_strategy_tr_tst                  cv_without_traces_duplicated_tst_tr\n",
      "s_avaliation_type                                     q_classification\n",
      "s_avaliation_gran_level                                anomalous_cases\n",
      "exp_group_name                                               test_case\n",
      "exp_group_id                                     gexp_daen_62918109570\n",
      "use_mask                                                       default\n",
      "p_modelit_id                                                         4\n",
      "funcao_f                                                          relu\n",
      "funcao_g                                                       sigmoid\n",
      "alfa                                                             0.001\n",
      "log_name                            ohe_log_original_ptall_atia_01.csv\n",
      "scaling_factors                                                0.0 1.0\n",
      "p_modelit_vapproach                                           original\n",
      "p_modelit_voutlierness_calc                                   original\n",
      "ne                                                                 342\n",
      "no                                                                 171\n",
      "p_modelit_type                                       autoencoder_nolle\n",
      "nitmax                                                               5\n",
      "batch_size                                                         500\n",
      "early_stopping_patiente                                             10\n",
      "nro_camadas_ocultas                                                  2\n",
      "gaussian_noise_std                                                 0.1\n",
      "dropout                                                            0.5\n",
      "optimizer_beta2                                                   0.99\n",
      "early_stopping_metric                                         val_loss\n",
      "log_name_abbrev                                                   ia01\n",
      "Name: 3, dtype: object\n",
      "\n",
      "\n",
      "Epoch 1/5\n",
      "4/4 [==============================] - 2s 271ms/step - loss: 0.2484 - val_loss: 0.2328\n",
      "Epoch 2/5\n",
      "4/4 [==============================] - 0s 117ms/step - loss: 0.2241 - val_loss: 0.2031\n",
      "Epoch 3/5\n",
      "4/4 [==============================] - 0s 102ms/step - loss: 0.1886 - val_loss: 0.1519\n",
      "Epoch 4/5\n",
      "4/4 [==============================] - 0s 104ms/step - loss: 0.1373 - val_loss: 0.0869\n",
      "Epoch 5/5\n",
      "4/4 [==============================] - 0s 115ms/step - loss: 0.0812 - val_loss: 0.0415\n"
     ]
    },
    {
     "name": "stderr",
     "output_type": "stream",
     "text": [
      "C:\\Users\\erojas\\anaconda3\\envs\\envesther_pyth3.8\\lib\\site-packages\\sklearn\\metrics\\_classification.py:1221: UndefinedMetricWarning:\n",
      "\n",
      "Precision and F-score are ill-defined and being set to 0.0 in labels with no predicted samples. Use `zero_division` parameter to control this behavior.\n",
      "\n"
     ]
    },
    {
     "name": "stdout",
     "output_type": "stream",
     "text": [
      "Epoch 1/5\n",
      "4/4 [==============================] - 2s 193ms/step - loss: 0.2507 - val_loss: 0.2370\n",
      "Epoch 2/5\n",
      "4/4 [==============================] - 0s 74ms/step - loss: 0.2295 - val_loss: 0.2131\n",
      "Epoch 3/5\n",
      "4/4 [==============================] - 0s 94ms/step - loss: 0.1992 - val_loss: 0.1697\n",
      "Epoch 4/5\n",
      "4/4 [==============================] - 0s 89ms/step - loss: 0.1523 - val_loss: 0.1065\n",
      "Epoch 5/5\n",
      "4/4 [==============================] - 0s 104ms/step - loss: 0.0953 - val_loss: 0.0503\n"
     ]
    },
    {
     "name": "stderr",
     "output_type": "stream",
     "text": [
      "C:\\Users\\erojas\\anaconda3\\envs\\envesther_pyth3.8\\lib\\site-packages\\sklearn\\metrics\\_classification.py:1221: UndefinedMetricWarning:\n",
      "\n",
      "Precision and F-score are ill-defined and being set to 0.0 in labels with no predicted samples. Use `zero_division` parameter to control this behavior.\n",
      "\n"
     ]
    },
    {
     "name": "stdout",
     "output_type": "stream",
     "text": [
      "Epoch 1/5\n",
      "4/4 [==============================] - 2s 266ms/step - loss: 0.2488 - val_loss: 0.2368\n",
      "Epoch 2/5\n",
      "4/4 [==============================] - 0s 114ms/step - loss: 0.2289 - val_loss: 0.2128\n",
      "Epoch 3/5\n",
      "4/4 [==============================] - 0s 89ms/step - loss: 0.1985 - val_loss: 0.1686\n",
      "Epoch 4/5\n",
      "4/4 [==============================] - 0s 102ms/step - loss: 0.1515 - val_loss: 0.1049\n",
      "Epoch 5/5\n",
      "4/4 [==============================] - 0s 96ms/step - loss: 0.0953 - val_loss: 0.0503\n"
     ]
    },
    {
     "name": "stderr",
     "output_type": "stream",
     "text": [
      "C:\\Users\\erojas\\anaconda3\\envs\\envesther_pyth3.8\\lib\\site-packages\\sklearn\\metrics\\_classification.py:1221: UndefinedMetricWarning:\n",
      "\n",
      "Precision and F-score are ill-defined and being set to 0.0 in labels with no predicted samples. Use `zero_division` parameter to control this behavior.\n",
      "\n"
     ]
    },
    {
     "name": "stdout",
     "output_type": "stream",
     "text": [
      "Epoch 1/5\n",
      "4/4 [==============================] - 2s 167ms/step - loss: 0.2484 - val_loss: 0.2339\n",
      "Epoch 2/5\n",
      "4/4 [==============================] - 0s 113ms/step - loss: 0.2256 - val_loss: 0.2053\n",
      "Epoch 3/5\n",
      "4/4 [==============================] - 0s 99ms/step - loss: 0.1912 - val_loss: 0.1561\n",
      "Epoch 4/5\n",
      "4/4 [==============================] - 0s 94ms/step - loss: 0.1409 - val_loss: 0.0919\n",
      "Epoch 5/5\n",
      "4/4 [==============================] - 0s 94ms/step - loss: 0.0862 - val_loss: 0.0442\n"
     ]
    },
    {
     "name": "stderr",
     "output_type": "stream",
     "text": [
      "C:\\Users\\erojas\\anaconda3\\envs\\envesther_pyth3.8\\lib\\site-packages\\sklearn\\metrics\\_classification.py:1221: UndefinedMetricWarning:\n",
      "\n",
      "Precision and F-score are ill-defined and being set to 0.0 in labels with no predicted samples. Use `zero_division` parameter to control this behavior.\n",
      "\n"
     ]
    },
    {
     "name": "stdout",
     "output_type": "stream",
     "text": [
      "Epoch 1/5\n",
      "4/4 [==============================] - 2s 187ms/step - loss: 0.2499 - val_loss: 0.2335\n",
      "Epoch 2/5\n",
      "4/4 [==============================] - 0s 115ms/step - loss: 0.2255 - val_loss: 0.2051\n",
      "Epoch 3/5\n",
      "4/4 [==============================] - 0s 130ms/step - loss: 0.1917 - val_loss: 0.1567\n",
      "Epoch 4/5\n",
      "4/4 [==============================] - 0s 127ms/step - loss: 0.1423 - val_loss: 0.0931\n",
      "Epoch 5/5\n",
      "4/4 [==============================] - 0s 103ms/step - loss: 0.0866 - val_loss: 0.0445\n"
     ]
    },
    {
     "name": "stderr",
     "output_type": "stream",
     "text": [
      "C:\\Users\\erojas\\anaconda3\\envs\\envesther_pyth3.8\\lib\\site-packages\\sklearn\\metrics\\_classification.py:1221: UndefinedMetricWarning:\n",
      "\n",
      "Precision and F-score are ill-defined and being set to 0.0 in labels with no predicted samples. Use `zero_division` parameter to control this behavior.\n",
      "\n"
     ]
    },
    {
     "name": "stdout",
     "output_type": "stream",
     "text": [
      "\n",
      "\n",
      "=================Experiment5=====================\n",
      "\n",
      "\n",
      "Data about experiment:\n",
      "log_bimp                                            log_bimp_ptall.csv\n",
      "log_anomaly_intuition                                               ia\n",
      "log_control_flow_type                                              all\n",
      "s_k_cv                                                               5\n",
      "s_tipo_heuristica                                                 None\n",
      "s_method_for_explore_thresholds                     percentiles_unique\n",
      "s_strategy_tr_tst                  cv_without_traces_duplicated_tst_tr\n",
      "s_avaliation_type                                     q_classification\n",
      "s_avaliation_gran_level                                anomalous_cases\n",
      "exp_group_name                                               test_case\n",
      "exp_group_id                                     gexp_daen_62918109570\n",
      "use_mask                                                       default\n",
      "p_modelit_id                                                         5\n",
      "funcao_f                                                          relu\n",
      "funcao_g                                                       sigmoid\n",
      "alfa                                                             0.001\n",
      "log_name                            ohe_log_original_ptall_atia_02.csv\n",
      "scaling_factors                                                0.0 1.0\n",
      "p_modelit_vapproach                                           original\n",
      "p_modelit_voutlierness_calc                                   original\n",
      "ne                                                                 324\n",
      "no                                                                 162\n",
      "p_modelit_type                                       autoencoder_nolle\n",
      "nitmax                                                               5\n",
      "batch_size                                                         500\n",
      "early_stopping_patiente                                             10\n",
      "nro_camadas_ocultas                                                  2\n",
      "gaussian_noise_std                                                 0.1\n",
      "dropout                                                            0.5\n",
      "optimizer_beta2                                                   0.99\n",
      "early_stopping_metric                                         val_loss\n",
      "log_name_abbrev                                                   ia02\n",
      "Name: 4, dtype: object\n",
      "\n",
      "\n",
      "Epoch 1/5\n",
      "4/4 [==============================] - 1s 167ms/step - loss: 0.2459 - val_loss: 0.2307\n",
      "Epoch 2/5\n",
      "4/4 [==============================] - 0s 78ms/step - loss: 0.2223 - val_loss: 0.1993\n",
      "Epoch 3/5\n",
      "4/4 [==============================] - 0s 106ms/step - loss: 0.1861 - val_loss: 0.1474\n",
      "Epoch 4/5\n",
      "4/4 [==============================] - 0s 113ms/step - loss: 0.1356 - val_loss: 0.0852\n",
      "Epoch 5/5\n",
      "4/4 [==============================] - 0s 78ms/step - loss: 0.0824 - val_loss: 0.0432\n"
     ]
    },
    {
     "name": "stderr",
     "output_type": "stream",
     "text": [
      "C:\\Users\\erojas\\anaconda3\\envs\\envesther_pyth3.8\\lib\\site-packages\\sklearn\\metrics\\_classification.py:1221: UndefinedMetricWarning:\n",
      "\n",
      "Precision and F-score are ill-defined and being set to 0.0 in labels with no predicted samples. Use `zero_division` parameter to control this behavior.\n",
      "\n"
     ]
    },
    {
     "name": "stdout",
     "output_type": "stream",
     "text": [
      "Epoch 1/5\n",
      "4/4 [==============================] - 1s 205ms/step - loss: 0.2492 - val_loss: 0.2360\n",
      "Epoch 2/5\n",
      "4/4 [==============================] - 0s 89ms/step - loss: 0.2282 - val_loss: 0.2124\n",
      "Epoch 3/5\n",
      "4/4 [==============================] - 0s 83ms/step - loss: 0.1993 - val_loss: 0.1710\n",
      "Epoch 4/5\n",
      "4/4 [==============================] - 0s 104ms/step - loss: 0.1549 - val_loss: 0.1118\n",
      "Epoch 5/5\n",
      "4/4 [==============================] - 0s 73ms/step - loss: 0.1024 - val_loss: 0.0574\n"
     ]
    },
    {
     "name": "stderr",
     "output_type": "stream",
     "text": [
      "C:\\Users\\erojas\\anaconda3\\envs\\envesther_pyth3.8\\lib\\site-packages\\sklearn\\metrics\\_classification.py:1221: UndefinedMetricWarning:\n",
      "\n",
      "Precision and F-score are ill-defined and being set to 0.0 in labels with no predicted samples. Use `zero_division` parameter to control this behavior.\n",
      "\n"
     ]
    },
    {
     "name": "stdout",
     "output_type": "stream",
     "text": [
      "Epoch 1/5\n",
      "4/4 [==============================] - 3s 200ms/step - loss: 0.2486 - val_loss: 0.2343\n",
      "Epoch 2/5\n",
      "4/4 [==============================] - 0s 78ms/step - loss: 0.2260 - val_loss: 0.2076\n",
      "Epoch 3/5\n",
      "4/4 [==============================] - 0s 99ms/step - loss: 0.1941 - val_loss: 0.1626\n",
      "Epoch 4/5\n",
      "4/4 [==============================] - 0s 98ms/step - loss: 0.1487 - val_loss: 0.1021\n",
      "Epoch 5/5\n",
      "4/4 [==============================] - 0s 94ms/step - loss: 0.0945 - val_loss: 0.0513\n"
     ]
    },
    {
     "name": "stderr",
     "output_type": "stream",
     "text": [
      "C:\\Users\\erojas\\anaconda3\\envs\\envesther_pyth3.8\\lib\\site-packages\\sklearn\\metrics\\_classification.py:1221: UndefinedMetricWarning:\n",
      "\n",
      "Precision and F-score are ill-defined and being set to 0.0 in labels with no predicted samples. Use `zero_division` parameter to control this behavior.\n",
      "\n"
     ]
    },
    {
     "name": "stdout",
     "output_type": "stream",
     "text": [
      "Epoch 1/5\n",
      "4/4 [==============================] - 2s 182ms/step - loss: 0.2482 - val_loss: 0.2331\n",
      "Epoch 2/5\n",
      "4/4 [==============================] - 0s 83ms/step - loss: 0.2252 - val_loss: 0.2058\n",
      "Epoch 3/5\n",
      "4/4 [==============================] - 0s 89ms/step - loss: 0.1929 - val_loss: 0.1597\n",
      "Epoch 4/5\n",
      "4/4 [==============================] - 0s 97ms/step - loss: 0.1454 - val_loss: 0.0982\n",
      "Epoch 5/5\n",
      "4/4 [==============================] - 0s 78ms/step - loss: 0.0918 - val_loss: 0.0488\n"
     ]
    },
    {
     "name": "stderr",
     "output_type": "stream",
     "text": [
      "C:\\Users\\erojas\\anaconda3\\envs\\envesther_pyth3.8\\lib\\site-packages\\sklearn\\metrics\\_classification.py:1221: UndefinedMetricWarning:\n",
      "\n",
      "Precision and F-score are ill-defined and being set to 0.0 in labels with no predicted samples. Use `zero_division` parameter to control this behavior.\n",
      "\n"
     ]
    },
    {
     "name": "stdout",
     "output_type": "stream",
     "text": [
      "Epoch 1/5\n",
      "4/4 [==============================] - 1s 195ms/step - loss: 0.2477 - val_loss: 0.2341\n",
      "Epoch 2/5\n",
      "4/4 [==============================] - 0s 99ms/step - loss: 0.2269 - val_loss: 0.2086\n",
      "Epoch 3/5\n",
      "4/4 [==============================] - 0s 89ms/step - loss: 0.1966 - val_loss: 0.1654\n",
      "Epoch 4/5\n",
      "4/4 [==============================] - 0s 108ms/step - loss: 0.1525 - val_loss: 0.1065\n",
      "Epoch 5/5\n",
      "4/4 [==============================] - 0s 82ms/step - loss: 0.0997 - val_loss: 0.0552\n"
     ]
    },
    {
     "name": "stderr",
     "output_type": "stream",
     "text": [
      "C:\\Users\\erojas\\anaconda3\\envs\\envesther_pyth3.8\\lib\\site-packages\\sklearn\\metrics\\_classification.py:1221: UndefinedMetricWarning:\n",
      "\n",
      "Precision and F-score are ill-defined and being set to 0.0 in labels with no predicted samples. Use `zero_division` parameter to control this behavior.\n",
      "\n"
     ]
    },
    {
     "name": "stdout",
     "output_type": "stream",
     "text": [
      "\n",
      "\n",
      "=================Experiment6=====================\n",
      "\n",
      "\n",
      "Data about experiment:\n",
      "log_bimp                                            log_bimp_ptall.csv\n",
      "log_anomaly_intuition                                               ia\n",
      "log_control_flow_type                                              all\n",
      "s_k_cv                                                               5\n",
      "s_tipo_heuristica                                                 None\n",
      "s_method_for_explore_thresholds                     percentiles_unique\n",
      "s_strategy_tr_tst                  cv_without_traces_duplicated_tst_tr\n",
      "s_avaliation_type                                     q_classification\n",
      "s_avaliation_gran_level                                anomalous_cases\n",
      "exp_group_name                                               test_case\n",
      "exp_group_id                                     gexp_daen_62918109570\n",
      "use_mask                                                       default\n",
      "p_modelit_id                                                         6\n",
      "funcao_f                                                          relu\n",
      "funcao_g                                                       sigmoid\n",
      "alfa                                                             0.001\n",
      "log_name                            ohe_log_original_ptall_atia_03.csv\n",
      "scaling_factors                                                0.0 1.0\n",
      "p_modelit_vapproach                                           original\n",
      "p_modelit_voutlierness_calc                                   original\n",
      "ne                                                                 342\n",
      "no                                                                 171\n",
      "p_modelit_type                                       autoencoder_nolle\n",
      "nitmax                                                               5\n",
      "batch_size                                                         500\n",
      "early_stopping_patiente                                             10\n",
      "nro_camadas_ocultas                                                  2\n",
      "gaussian_noise_std                                                 0.1\n",
      "dropout                                                            0.5\n",
      "optimizer_beta2                                                   0.99\n",
      "early_stopping_metric                                         val_loss\n",
      "log_name_abbrev                                                   ia03\n",
      "Name: 5, dtype: object\n",
      "\n",
      "\n",
      "Epoch 1/5\n",
      "4/4 [==============================] - 1s 193ms/step - loss: 0.2505 - val_loss: 0.2367\n",
      "Epoch 2/5\n",
      "4/4 [==============================] - 0s 102ms/step - loss: 0.2286 - val_loss: 0.2113\n",
      "Epoch 3/5\n",
      "4/4 [==============================] - 0s 73ms/step - loss: 0.1974 - val_loss: 0.1651\n",
      "Epoch 4/5\n",
      "4/4 [==============================] - 0s 94ms/step - loss: 0.1498 - val_loss: 0.1018\n",
      "Epoch 5/5\n",
      "4/4 [==============================] - 0s 89ms/step - loss: 0.0938 - val_loss: 0.0494\n"
     ]
    },
    {
     "name": "stderr",
     "output_type": "stream",
     "text": [
      "C:\\Users\\erojas\\anaconda3\\envs\\envesther_pyth3.8\\lib\\site-packages\\sklearn\\metrics\\_classification.py:1221: UndefinedMetricWarning:\n",
      "\n",
      "Precision and F-score are ill-defined and being set to 0.0 in labels with no predicted samples. Use `zero_division` parameter to control this behavior.\n",
      "\n"
     ]
    },
    {
     "name": "stdout",
     "output_type": "stream",
     "text": [
      "Epoch 1/5\n",
      "4/4 [==============================] - 1s 240ms/step - loss: 0.2474 - val_loss: 0.2321\n",
      "Epoch 2/5\n",
      "4/4 [==============================] - 0s 98ms/step - loss: 0.2237 - val_loss: 0.2029\n",
      "Epoch 3/5\n",
      "4/4 [==============================] - 0s 78ms/step - loss: 0.1894 - val_loss: 0.1534\n",
      "Epoch 4/5\n",
      "4/4 [==============================] - 0s 98ms/step - loss: 0.1387 - val_loss: 0.0898\n",
      "Epoch 5/5\n",
      "4/4 [==============================] - 0s 108ms/step - loss: 0.0837 - val_loss: 0.0437\n"
     ]
    },
    {
     "name": "stderr",
     "output_type": "stream",
     "text": [
      "C:\\Users\\erojas\\anaconda3\\envs\\envesther_pyth3.8\\lib\\site-packages\\sklearn\\metrics\\_classification.py:1221: UndefinedMetricWarning:\n",
      "\n",
      "Precision and F-score are ill-defined and being set to 0.0 in labels with no predicted samples. Use `zero_division` parameter to control this behavior.\n",
      "\n"
     ]
    },
    {
     "name": "stdout",
     "output_type": "stream",
     "text": [
      "Epoch 1/5\n",
      "4/4 [==============================] - 1s 126ms/step - loss: 0.2490 - val_loss: 0.2345\n",
      "Epoch 2/5\n",
      "4/4 [==============================] - 0s 49ms/step - loss: 0.2263 - val_loss: 0.2075\n",
      "Epoch 3/5\n",
      "4/4 [==============================] - 0s 55ms/step - loss: 0.1934 - val_loss: 0.1603\n",
      "Epoch 4/5\n",
      "4/4 [==============================] - 0s 56ms/step - loss: 0.1446 - val_loss: 0.0967\n",
      "Epoch 5/5\n",
      "4/4 [==============================] - 0s 51ms/step - loss: 0.0896 - val_loss: 0.0464\n"
     ]
    },
    {
     "name": "stderr",
     "output_type": "stream",
     "text": [
      "C:\\Users\\erojas\\anaconda3\\envs\\envesther_pyth3.8\\lib\\site-packages\\sklearn\\metrics\\_classification.py:1221: UndefinedMetricWarning:\n",
      "\n",
      "Precision and F-score are ill-defined and being set to 0.0 in labels with no predicted samples. Use `zero_division` parameter to control this behavior.\n",
      "\n"
     ]
    },
    {
     "name": "stdout",
     "output_type": "stream",
     "text": [
      "Epoch 1/5\n",
      "4/4 [==============================] - 1s 133ms/step - loss: 0.2493 - val_loss: 0.2361\n",
      "Epoch 2/5\n",
      "4/4 [==============================] - 0s 49ms/step - loss: 0.2281 - val_loss: 0.2107\n",
      "Epoch 3/5\n",
      "4/4 [==============================] - 0s 55ms/step - loss: 0.1966 - val_loss: 0.1641\n",
      "Epoch 4/5\n",
      "4/4 [==============================] - 0s 52ms/step - loss: 0.1481 - val_loss: 0.0991\n",
      "Epoch 5/5\n",
      "4/4 [==============================] - 0s 49ms/step - loss: 0.0910 - val_loss: 0.0467\n"
     ]
    },
    {
     "name": "stderr",
     "output_type": "stream",
     "text": [
      "C:\\Users\\erojas\\anaconda3\\envs\\envesther_pyth3.8\\lib\\site-packages\\sklearn\\metrics\\_classification.py:1221: UndefinedMetricWarning:\n",
      "\n",
      "Precision and F-score are ill-defined and being set to 0.0 in labels with no predicted samples. Use `zero_division` parameter to control this behavior.\n",
      "\n"
     ]
    },
    {
     "name": "stdout",
     "output_type": "stream",
     "text": [
      "Epoch 1/5\n",
      "4/4 [==============================] - 1s 120ms/step - loss: 0.2492 - val_loss: 0.2367\n",
      "Epoch 2/5\n",
      "4/4 [==============================] - 0s 55ms/step - loss: 0.2290 - val_loss: 0.2123\n",
      "Epoch 3/5\n",
      "4/4 [==============================] - 0s 51ms/step - loss: 0.1984 - val_loss: 0.1675\n",
      "Epoch 4/5\n",
      "4/4 [==============================] - 0s 48ms/step - loss: 0.1516 - val_loss: 0.1040\n",
      "Epoch 5/5\n",
      "4/4 [==============================] - 0s 47ms/step - loss: 0.0954 - val_loss: 0.0498\n"
     ]
    },
    {
     "name": "stderr",
     "output_type": "stream",
     "text": [
      "C:\\Users\\erojas\\anaconda3\\envs\\envesther_pyth3.8\\lib\\site-packages\\sklearn\\metrics\\_classification.py:1221: UndefinedMetricWarning:\n",
      "\n",
      "Precision and F-score are ill-defined and being set to 0.0 in labels with no predicted samples. Use `zero_division` parameter to control this behavior.\n",
      "\n"
     ]
    },
    {
     "name": "stdout",
     "output_type": "stream",
     "text": [
      "\n",
      "\n",
      "=================Experiment7=====================\n",
      "\n",
      "\n",
      "Data about experiment:\n",
      "log_bimp                                            log_bimp_ptall.csv\n",
      "log_anomaly_intuition                                               ta\n",
      "log_control_flow_type                                              all\n",
      "s_k_cv                                                               5\n",
      "s_tipo_heuristica                                                 None\n",
      "s_method_for_explore_thresholds                     percentiles_unique\n",
      "s_strategy_tr_tst                  cv_without_traces_duplicated_tst_tr\n",
      "s_avaliation_type                                     q_classification\n",
      "s_avaliation_gran_level                                anomalous_cases\n",
      "exp_group_name                                               test_case\n",
      "exp_group_id                                     gexp_daen_62918109570\n",
      "use_mask                                                       default\n",
      "p_modelit_id                                                         7\n",
      "funcao_f                                                          relu\n",
      "funcao_g                                                       sigmoid\n",
      "alfa                                                             0.001\n",
      "log_name                            ohe_log_original_ptall_atta_01.csv\n",
      "scaling_factors                                                0.0 1.0\n",
      "p_modelit_vapproach                                           original\n",
      "p_modelit_voutlierness_calc                                   original\n",
      "ne                                                                 324\n",
      "no                                                                 162\n",
      "p_modelit_type                                       autoencoder_nolle\n",
      "nitmax                                                               5\n",
      "batch_size                                                         500\n",
      "early_stopping_patiente                                             10\n",
      "nro_camadas_ocultas                                                  2\n",
      "gaussian_noise_std                                                 0.1\n",
      "dropout                                                            0.5\n",
      "optimizer_beta2                                                   0.99\n",
      "early_stopping_metric                                         val_loss\n",
      "log_name_abbrev                                                   ta01\n",
      "Name: 6, dtype: object\n",
      "\n",
      "\n",
      "Epoch 1/5\n",
      "4/4 [==============================] - 1s 109ms/step - loss: 0.2501 - val_loss: 0.2368\n",
      "Epoch 2/5\n",
      "4/4 [==============================] - 0s 53ms/step - loss: 0.2299 - val_loss: 0.2134\n",
      "Epoch 3/5\n",
      "4/4 [==============================] - 0s 52ms/step - loss: 0.2011 - val_loss: 0.1720\n",
      "Epoch 4/5\n",
      "4/4 [==============================] - 0s 57ms/step - loss: 0.1581 - val_loss: 0.1133\n",
      "Epoch 5/5\n",
      "4/4 [==============================] - 0s 52ms/step - loss: 0.1050 - val_loss: 0.0591\n"
     ]
    },
    {
     "name": "stderr",
     "output_type": "stream",
     "text": [
      "C:\\Users\\erojas\\anaconda3\\envs\\envesther_pyth3.8\\lib\\site-packages\\sklearn\\metrics\\_classification.py:1221: UndefinedMetricWarning:\n",
      "\n",
      "Precision and F-score are ill-defined and being set to 0.0 in labels with no predicted samples. Use `zero_division` parameter to control this behavior.\n",
      "\n"
     ]
    },
    {
     "name": "stdout",
     "output_type": "stream",
     "text": [
      "Epoch 1/5\n",
      "4/4 [==============================] - 1s 115ms/step - loss: 0.2471 - val_loss: 0.2336\n",
      "Epoch 2/5\n",
      "4/4 [==============================] - 0s 47ms/step - loss: 0.2255 - val_loss: 0.2066\n",
      "Epoch 3/5\n",
      "4/4 [==============================] - 0s 47ms/step - loss: 0.1933 - val_loss: 0.1602\n",
      "Epoch 4/5\n",
      "4/4 [==============================] - 0s 47ms/step - loss: 0.1459 - val_loss: 0.0984\n",
      "Epoch 5/5\n",
      "4/4 [==============================] - 0s 46ms/step - loss: 0.0920 - val_loss: 0.0485\n"
     ]
    },
    {
     "name": "stderr",
     "output_type": "stream",
     "text": [
      "C:\\Users\\erojas\\anaconda3\\envs\\envesther_pyth3.8\\lib\\site-packages\\sklearn\\metrics\\_classification.py:1221: UndefinedMetricWarning:\n",
      "\n",
      "Precision and F-score are ill-defined and being set to 0.0 in labels with no predicted samples. Use `zero_division` parameter to control this behavior.\n",
      "\n"
     ]
    },
    {
     "name": "stdout",
     "output_type": "stream",
     "text": [
      "Epoch 1/5\n",
      "4/4 [==============================] - 1s 149ms/step - loss: 0.2494 - val_loss: 0.2367\n",
      "Epoch 2/5\n",
      "4/4 [==============================] - 0s 51ms/step - loss: 0.2291 - val_loss: 0.2131\n",
      "Epoch 3/5\n",
      "4/4 [==============================] - 0s 48ms/step - loss: 0.1995 - val_loss: 0.1706\n",
      "Epoch 4/5\n",
      "4/4 [==============================] - 0s 52ms/step - loss: 0.1546 - val_loss: 0.1093\n",
      "Epoch 5/5\n",
      "4/4 [==============================] - 0s 52ms/step - loss: 0.0991 - val_loss: 0.0534\n"
     ]
    },
    {
     "name": "stderr",
     "output_type": "stream",
     "text": [
      "C:\\Users\\erojas\\anaconda3\\envs\\envesther_pyth3.8\\lib\\site-packages\\sklearn\\metrics\\_classification.py:1221: UndefinedMetricWarning:\n",
      "\n",
      "Precision and F-score are ill-defined and being set to 0.0 in labels with no predicted samples. Use `zero_division` parameter to control this behavior.\n",
      "\n"
     ]
    },
    {
     "name": "stdout",
     "output_type": "stream",
     "text": [
      "Epoch 1/5\n",
      "4/4 [==============================] - 1s 156ms/step - loss: 0.2493 - val_loss: 0.2346\n",
      "Epoch 2/5\n",
      "4/4 [==============================] - 0s 57ms/step - loss: 0.2273 - val_loss: 0.2089\n",
      "Epoch 3/5\n",
      "4/4 [==============================] - 0s 57ms/step - loss: 0.1966 - val_loss: 0.1653\n",
      "Epoch 4/5\n",
      "4/4 [==============================] - 0s 47ms/step - loss: 0.1514 - val_loss: 0.1055\n",
      "Epoch 5/5\n",
      "4/4 [==============================] - 0s 57ms/step - loss: 0.0967 - val_loss: 0.0528\n"
     ]
    },
    {
     "name": "stderr",
     "output_type": "stream",
     "text": [
      "C:\\Users\\erojas\\anaconda3\\envs\\envesther_pyth3.8\\lib\\site-packages\\sklearn\\metrics\\_classification.py:1221: UndefinedMetricWarning:\n",
      "\n",
      "Precision and F-score are ill-defined and being set to 0.0 in labels with no predicted samples. Use `zero_division` parameter to control this behavior.\n",
      "\n"
     ]
    },
    {
     "name": "stdout",
     "output_type": "stream",
     "text": [
      "Epoch 1/5\n",
      "4/4 [==============================] - 1s 185ms/step - loss: 0.2492 - val_loss: 0.2375\n",
      "Epoch 2/5\n",
      "4/4 [==============================] - 0s 73ms/step - loss: 0.2298 - val_loss: 0.2149\n",
      "Epoch 3/5\n",
      "4/4 [==============================] - 0s 73ms/step - loss: 0.2013 - val_loss: 0.1735\n",
      "Epoch 4/5\n",
      "4/4 [==============================] - 0s 60ms/step - loss: 0.1574 - val_loss: 0.1135\n",
      "Epoch 5/5\n",
      "4/4 [==============================] - 0s 56ms/step - loss: 0.1032 - val_loss: 0.0576\n"
     ]
    },
    {
     "name": "stderr",
     "output_type": "stream",
     "text": [
      "C:\\Users\\erojas\\anaconda3\\envs\\envesther_pyth3.8\\lib\\site-packages\\sklearn\\metrics\\_classification.py:1221: UndefinedMetricWarning:\n",
      "\n",
      "Precision and F-score are ill-defined and being set to 0.0 in labels with no predicted samples. Use `zero_division` parameter to control this behavior.\n",
      "\n"
     ]
    },
    {
     "name": "stdout",
     "output_type": "stream",
     "text": [
      "\n",
      "\n",
      "=================Experiment8=====================\n",
      "\n",
      "\n",
      "Data about experiment:\n",
      "log_bimp                                            log_bimp_ptall.csv\n",
      "log_anomaly_intuition                                               ta\n",
      "log_control_flow_type                                              all\n",
      "s_k_cv                                                               5\n",
      "s_tipo_heuristica                                                 None\n",
      "s_method_for_explore_thresholds                     percentiles_unique\n",
      "s_strategy_tr_tst                  cv_without_traces_duplicated_tst_tr\n",
      "s_avaliation_type                                     q_classification\n",
      "s_avaliation_gran_level                                anomalous_cases\n",
      "exp_group_name                                               test_case\n",
      "exp_group_id                                     gexp_daen_62918109570\n",
      "use_mask                                                       default\n",
      "p_modelit_id                                                         8\n",
      "funcao_f                                                          relu\n",
      "funcao_g                                                       sigmoid\n",
      "alfa                                                             0.001\n",
      "log_name                            ohe_log_original_ptall_atta_02.csv\n",
      "scaling_factors                                                0.0 1.0\n",
      "p_modelit_vapproach                                           original\n",
      "p_modelit_voutlierness_calc                                   original\n",
      "ne                                                                 324\n",
      "no                                                                 162\n",
      "p_modelit_type                                       autoencoder_nolle\n",
      "nitmax                                                               5\n",
      "batch_size                                                         500\n",
      "early_stopping_patiente                                             10\n",
      "nro_camadas_ocultas                                                  2\n",
      "gaussian_noise_std                                                 0.1\n",
      "dropout                                                            0.5\n",
      "optimizer_beta2                                                   0.99\n",
      "early_stopping_metric                                         val_loss\n",
      "log_name_abbrev                                                   ta02\n",
      "Name: 7, dtype: object\n",
      "\n",
      "\n",
      "Epoch 1/5\n",
      "4/4 [==============================] - 1s 109ms/step - loss: 0.2471 - val_loss: 0.2317\n",
      "Epoch 2/5\n",
      "4/4 [==============================] - 0s 47ms/step - loss: 0.2233 - val_loss: 0.2033\n",
      "Epoch 3/5\n",
      "4/4 [==============================] - 0s 53ms/step - loss: 0.1906 - val_loss: 0.1565\n",
      "Epoch 4/5\n",
      "4/4 [==============================] - 0s 47ms/step - loss: 0.1440 - val_loss: 0.0964\n",
      "Epoch 5/5\n",
      "4/4 [==============================] - 0s 47ms/step - loss: 0.0902 - val_loss: 0.0487\n"
     ]
    },
    {
     "name": "stderr",
     "output_type": "stream",
     "text": [
      "C:\\Users\\erojas\\anaconda3\\envs\\envesther_pyth3.8\\lib\\site-packages\\sklearn\\metrics\\_classification.py:1221: UndefinedMetricWarning:\n",
      "\n",
      "Precision and F-score are ill-defined and being set to 0.0 in labels with no predicted samples. Use `zero_division` parameter to control this behavior.\n",
      "\n"
     ]
    },
    {
     "name": "stdout",
     "output_type": "stream",
     "text": [
      "Epoch 1/5\n",
      "4/4 [==============================] - 1s 123ms/step - loss: 0.2494 - val_loss: 0.2384\n",
      "Epoch 2/5\n",
      "4/4 [==============================] - 0s 48ms/step - loss: 0.2315 - val_loss: 0.2181\n",
      "Epoch 3/5\n",
      "4/4 [==============================] - 0s 47ms/step - loss: 0.2052 - val_loss: 0.1806\n",
      "Epoch 4/5\n",
      "4/4 [==============================] - 0s 51ms/step - loss: 0.1644 - val_loss: 0.1234\n",
      "Epoch 5/5\n",
      "4/4 [==============================] - 0s 57ms/step - loss: 0.1104 - val_loss: 0.0644\n"
     ]
    },
    {
     "name": "stderr",
     "output_type": "stream",
     "text": [
      "C:\\Users\\erojas\\anaconda3\\envs\\envesther_pyth3.8\\lib\\site-packages\\sklearn\\metrics\\_classification.py:1221: UndefinedMetricWarning:\n",
      "\n",
      "Precision and F-score are ill-defined and being set to 0.0 in labels with no predicted samples. Use `zero_division` parameter to control this behavior.\n",
      "\n"
     ]
    },
    {
     "name": "stdout",
     "output_type": "stream",
     "text": [
      "Epoch 1/5\n",
      "4/4 [==============================] - 1s 115ms/step - loss: 0.2478 - val_loss: 0.2339\n",
      "Epoch 2/5\n",
      "4/4 [==============================] - 0s 52ms/step - loss: 0.2256 - val_loss: 0.2075\n",
      "Epoch 3/5\n",
      "4/4 [==============================] - 0s 51ms/step - loss: 0.1942 - val_loss: 0.1622\n",
      "Epoch 4/5\n",
      "4/4 [==============================] - 0s 52ms/step - loss: 0.1474 - val_loss: 0.1010\n",
      "Epoch 5/5\n",
      "4/4 [==============================] - 0s 47ms/step - loss: 0.0942 - val_loss: 0.0503\n"
     ]
    },
    {
     "name": "stderr",
     "output_type": "stream",
     "text": [
      "C:\\Users\\erojas\\anaconda3\\envs\\envesther_pyth3.8\\lib\\site-packages\\sklearn\\metrics\\_classification.py:1221: UndefinedMetricWarning:\n",
      "\n",
      "Precision and F-score are ill-defined and being set to 0.0 in labels with no predicted samples. Use `zero_division` parameter to control this behavior.\n",
      "\n"
     ]
    },
    {
     "name": "stdout",
     "output_type": "stream",
     "text": [
      "Epoch 1/5\n",
      "4/4 [==============================] - 1s 121ms/step - loss: 0.2493 - val_loss: 0.2363\n",
      "Epoch 2/5\n",
      "4/4 [==============================] - 0s 53ms/step - loss: 0.2290 - val_loss: 0.2120\n",
      "Epoch 3/5\n",
      "4/4 [==============================] - 0s 52ms/step - loss: 0.1992 - val_loss: 0.1695\n",
      "Epoch 4/5\n",
      "4/4 [==============================] - 0s 47ms/step - loss: 0.1551 - val_loss: 0.1102\n",
      "Epoch 5/5\n",
      "4/4 [==============================] - 0s 52ms/step - loss: 0.1015 - val_loss: 0.0562\n"
     ]
    },
    {
     "name": "stderr",
     "output_type": "stream",
     "text": [
      "C:\\Users\\erojas\\anaconda3\\envs\\envesther_pyth3.8\\lib\\site-packages\\sklearn\\metrics\\_classification.py:1221: UndefinedMetricWarning:\n",
      "\n",
      "Precision and F-score are ill-defined and being set to 0.0 in labels with no predicted samples. Use `zero_division` parameter to control this behavior.\n",
      "\n"
     ]
    },
    {
     "name": "stdout",
     "output_type": "stream",
     "text": [
      "Epoch 1/5\n",
      "4/4 [==============================] - 1s 104ms/step - loss: 0.2510 - val_loss: 0.2365\n",
      "Epoch 2/5\n",
      "4/4 [==============================] - 0s 54ms/step - loss: 0.2299 - val_loss: 0.2132\n",
      "Epoch 3/5\n",
      "4/4 [==============================] - 0s 54ms/step - loss: 0.2012 - val_loss: 0.1720\n",
      "Epoch 4/5\n",
      "4/4 [==============================] - 0s 55ms/step - loss: 0.1581 - val_loss: 0.1133\n",
      "Epoch 5/5\n",
      "4/4 [==============================] - 0s 47ms/step - loss: 0.1048 - val_loss: 0.0579\n"
     ]
    },
    {
     "name": "stderr",
     "output_type": "stream",
     "text": [
      "C:\\Users\\erojas\\anaconda3\\envs\\envesther_pyth3.8\\lib\\site-packages\\sklearn\\metrics\\_classification.py:1221: UndefinedMetricWarning:\n",
      "\n",
      "Precision and F-score are ill-defined and being set to 0.0 in labels with no predicted samples. Use `zero_division` parameter to control this behavior.\n",
      "\n"
     ]
    },
    {
     "name": "stdout",
     "output_type": "stream",
     "text": [
      "\n",
      "\n",
      "=================Experiment9=====================\n",
      "\n",
      "\n",
      "Data about experiment:\n",
      "log_bimp                                            log_bimp_ptall.csv\n",
      "log_anomaly_intuition                                               ta\n",
      "log_control_flow_type                                              all\n",
      "s_k_cv                                                               5\n",
      "s_tipo_heuristica                                                 None\n",
      "s_method_for_explore_thresholds                     percentiles_unique\n",
      "s_strategy_tr_tst                  cv_without_traces_duplicated_tst_tr\n",
      "s_avaliation_type                                     q_classification\n",
      "s_avaliation_gran_level                                anomalous_cases\n",
      "exp_group_name                                               test_case\n",
      "exp_group_id                                     gexp_daen_62918109570\n",
      "use_mask                                                       default\n",
      "p_modelit_id                                                         9\n",
      "funcao_f                                                          relu\n",
      "funcao_g                                                       sigmoid\n",
      "alfa                                                             0.001\n",
      "log_name                            ohe_log_original_ptall_atta_03.csv\n",
      "scaling_factors                                                0.0 1.0\n",
      "p_modelit_vapproach                                           original\n",
      "p_modelit_voutlierness_calc                                   original\n",
      "ne                                                                 324\n",
      "no                                                                 162\n",
      "p_modelit_type                                       autoencoder_nolle\n",
      "nitmax                                                               5\n",
      "batch_size                                                         500\n",
      "early_stopping_patiente                                             10\n",
      "nro_camadas_ocultas                                                  2\n",
      "gaussian_noise_std                                                 0.1\n",
      "dropout                                                            0.5\n",
      "optimizer_beta2                                                   0.99\n",
      "early_stopping_metric                                         val_loss\n",
      "log_name_abbrev                                                   ta03\n",
      "Name: 8, dtype: object\n",
      "\n",
      "\n",
      "Epoch 1/5\n",
      "4/4 [==============================] - 2s 187ms/step - loss: 0.2512 - val_loss: 0.2376\n",
      "Epoch 2/5\n",
      "4/4 [==============================] - 0s 52ms/step - loss: 0.2312 - val_loss: 0.2164\n",
      "Epoch 3/5\n",
      "4/4 [==============================] - 0s 52ms/step - loss: 0.2039 - val_loss: 0.1781\n",
      "Epoch 4/5\n",
      "4/4 [==============================] - 0s 68ms/step - loss: 0.1632 - val_loss: 0.1207\n",
      "Epoch 5/5\n",
      "4/4 [==============================] - 0s 53ms/step - loss: 0.1096 - val_loss: 0.0628\n"
     ]
    },
    {
     "name": "stderr",
     "output_type": "stream",
     "text": [
      "C:\\Users\\erojas\\anaconda3\\envs\\envesther_pyth3.8\\lib\\site-packages\\sklearn\\metrics\\_classification.py:1221: UndefinedMetricWarning:\n",
      "\n",
      "Precision and F-score are ill-defined and being set to 0.0 in labels with no predicted samples. Use `zero_division` parameter to control this behavior.\n",
      "\n"
     ]
    },
    {
     "name": "stdout",
     "output_type": "stream",
     "text": [
      "Epoch 1/5\n",
      "4/4 [==============================] - 1s 112ms/step - loss: 0.2481 - val_loss: 0.2359\n",
      "Epoch 2/5\n",
      "4/4 [==============================] - 0s 47ms/step - loss: 0.2284 - val_loss: 0.2117\n",
      "Epoch 3/5\n",
      "4/4 [==============================] - 0s 49ms/step - loss: 0.1988 - val_loss: 0.1690\n",
      "Epoch 4/5\n",
      "4/4 [==============================] - 0s 57ms/step - loss: 0.1543 - val_loss: 0.1091\n",
      "Epoch 5/5\n",
      "4/4 [==============================] - 0s 47ms/step - loss: 0.1008 - val_loss: 0.0547\n"
     ]
    },
    {
     "name": "stderr",
     "output_type": "stream",
     "text": [
      "C:\\Users\\erojas\\anaconda3\\envs\\envesther_pyth3.8\\lib\\site-packages\\sklearn\\metrics\\_classification.py:1221: UndefinedMetricWarning:\n",
      "\n",
      "Precision and F-score are ill-defined and being set to 0.0 in labels with no predicted samples. Use `zero_division` parameter to control this behavior.\n",
      "\n"
     ]
    },
    {
     "name": "stdout",
     "output_type": "stream",
     "text": [
      "Epoch 1/5\n",
      "4/4 [==============================] - 1s 156ms/step - loss: 0.2492 - val_loss: 0.2357\n",
      "Epoch 2/5\n",
      "4/4 [==============================] - 0s 45ms/step - loss: 0.2283 - val_loss: 0.2114\n",
      "Epoch 3/5\n",
      "4/4 [==============================] - 0s 47ms/step - loss: 0.1990 - val_loss: 0.1703\n",
      "Epoch 4/5\n",
      "4/4 [==============================] - 0s 47ms/step - loss: 0.1556 - val_loss: 0.1126\n",
      "Epoch 5/5\n",
      "4/4 [==============================] - 0s 51ms/step - loss: 0.1026 - val_loss: 0.0585\n"
     ]
    },
    {
     "name": "stderr",
     "output_type": "stream",
     "text": [
      "C:\\Users\\erojas\\anaconda3\\envs\\envesther_pyth3.8\\lib\\site-packages\\sklearn\\metrics\\_classification.py:1221: UndefinedMetricWarning:\n",
      "\n",
      "Precision and F-score are ill-defined and being set to 0.0 in labels with no predicted samples. Use `zero_division` parameter to control this behavior.\n",
      "\n"
     ]
    },
    {
     "name": "stdout",
     "output_type": "stream",
     "text": [
      "Epoch 1/5\n",
      "4/4 [==============================] - 1s 135ms/step - loss: 0.2517 - val_loss: 0.2369\n",
      "Epoch 2/5\n",
      "4/4 [==============================] - 0s 46ms/step - loss: 0.2297 - val_loss: 0.2133\n",
      "Epoch 3/5\n",
      "4/4 [==============================] - 0s 52ms/step - loss: 0.1999 - val_loss: 0.1722\n",
      "Epoch 4/5\n",
      "4/4 [==============================] - 0s 47ms/step - loss: 0.1571 - val_loss: 0.1132\n",
      "Epoch 5/5\n",
      "4/4 [==============================] - 0s 47ms/step - loss: 0.1039 - val_loss: 0.0580\n"
     ]
    },
    {
     "name": "stderr",
     "output_type": "stream",
     "text": [
      "C:\\Users\\erojas\\anaconda3\\envs\\envesther_pyth3.8\\lib\\site-packages\\sklearn\\metrics\\_classification.py:1221: UndefinedMetricWarning:\n",
      "\n",
      "Precision and F-score are ill-defined and being set to 0.0 in labels with no predicted samples. Use `zero_division` parameter to control this behavior.\n",
      "\n"
     ]
    },
    {
     "name": "stdout",
     "output_type": "stream",
     "text": [
      "Epoch 1/5\n",
      "4/4 [==============================] - 1s 120ms/step - loss: 0.2485 - val_loss: 0.2354\n",
      "Epoch 2/5\n",
      "4/4 [==============================] - 0s 54ms/step - loss: 0.2278 - val_loss: 0.2110\n",
      "Epoch 3/5\n",
      "4/4 [==============================] - 0s 47ms/step - loss: 0.1977 - val_loss: 0.1681\n",
      "Epoch 4/5\n",
      "4/4 [==============================] - 0s 42ms/step - loss: 0.1530 - val_loss: 0.1076\n",
      "Epoch 5/5\n",
      "4/4 [==============================] - 0s 57ms/step - loss: 0.0983 - val_loss: 0.0535\n"
     ]
    },
    {
     "name": "stderr",
     "output_type": "stream",
     "text": [
      "C:\\Users\\erojas\\anaconda3\\envs\\envesther_pyth3.8\\lib\\site-packages\\sklearn\\metrics\\_classification.py:1221: UndefinedMetricWarning:\n",
      "\n",
      "Precision and F-score are ill-defined and being set to 0.0 in labels with no predicted samples. Use `zero_division` parameter to control this behavior.\n",
      "\n"
     ]
    },
    {
     "name": "stdout",
     "output_type": "stream",
     "text": [
      "\n",
      " ========================== Approach binet1 ==========================\n",
      "folder_output: \n",
      "E:\\EXPERIMENTOS2020\\anomaly_detection\\research_questions\\best_anomaly_detection_and_descovery\\resultados\\resultados_gexp_binetn_62918306055\n",
      "\n",
      "\n",
      "\n",
      "\n",
      "=================Experiment1=====================\n",
      "\n",
      "\n",
      "Data about experiment:\n",
      "log_bimp                                                  log_bimp_ptall.csv\n",
      "log_anomaly_intuition                                                     af\n",
      "log_control_flow_type                                                    all\n",
      "s_k_cv                                                                     5\n",
      "s_tipo_heuristica                                                       None\n",
      "s_method_for_explore_thresholds                           percentiles_unique\n",
      "s_strategy_tr_tst                        cv_without_traces_duplicated_tst_tr\n",
      "s_avaliation_type                                           q_classification\n",
      "s_avaliation_gran_level                                      anomalous_cases\n",
      "exp_group_name                                                     test_case\n",
      "exp_group_id                                         gexp_binetn_62918306055\n",
      "use_mask                                                             default\n",
      "p_modelit_id                                                               1\n",
      "alfa                                                                   0.001\n",
      "log_name                           tstideplus_log_original_ptall_ataf_01.pkl\n",
      "scaling_factors                                                      0.0 1.0\n",
      "p_modelit_vapproach                                                 original\n",
      "p_modelit_voutlierness_calc                                         original\n",
      "nitmax                                                                   2.0\n",
      "p_modelit_type                                                        binet1\n",
      "batch_size                                                               500\n",
      "early_stopping_patiente                                                   10\n",
      "gaussian_noise_std                                                       0.1\n",
      "optimizer_beta2                                                        0.999\n",
      "decoder                                                                False\n",
      "log_name_abbrev                                                         af01\n",
      "Name: 0, dtype: object\n",
      "\n",
      "\n",
      "Epoch 1/2\n",
      "5/5 [==============================] - 9s 662ms/step - loss: 2.0022 - val_loss: 1.9798\n",
      "Epoch 2/2\n",
      "5/5 [==============================] - 0s 68ms/step - loss: 1.9411 - val_loss: 1.9742\n",
      "Epoch 1/2\n",
      "5/5 [==============================] - 10s 609ms/step - loss: 2.0023 - val_loss: 1.9804\n",
      "Epoch 2/2\n",
      "5/5 [==============================] - 0s 60ms/step - loss: 1.9160 - val_loss: 1.9717\n",
      "Epoch 1/2\n",
      "5/5 [==============================] - 9s 562ms/step - loss: 2.0021 - val_loss: 1.9916\n",
      "Epoch 2/2\n",
      "5/5 [==============================] - 0s 70ms/step - loss: 1.9347 - val_loss: 1.9821\n",
      "Epoch 1/2\n",
      "4/5 [=======================>......] - ETA: 0s - loss: 2.0102WARNING:tensorflow:5 out of the last 17 calls to <function Model.make_test_function.<locals>.test_function at 0x000001BA4D98F5E0> triggered tf.function retracing. Tracing is expensive and the excessive number of tracings could be due to (1) creating @tf.function repeatedly in a loop, (2) passing tensors with different shapes, (3) passing Python objects instead of tensors. For (1), please define your @tf.function outside of the loop. For (2), @tf.function has experimental_relax_shapes=True option that relaxes argument shapes that can avoid unnecessary retracing. For (3), please refer to https://www.tensorflow.org/guide/function#controlling_retracing and https://www.tensorflow.org/api_docs/python/tf/function for  more details.\n",
      "5/5 [==============================] - 10s 635ms/step - loss: 2.0047 - val_loss: 1.9854\n",
      "Epoch 2/2\n",
      "5/5 [==============================] - 0s 65ms/step - loss: 1.9278 - val_loss: 1.9770\n",
      "Epoch 1/2\n",
      "5/5 [==============================] - ETA: 0s - loss: 2.0446WARNING:tensorflow:6 out of the last 19 calls to <function Model.make_test_function.<locals>.test_function at 0x000001BA5F5FEC10> triggered tf.function retracing. Tracing is expensive and the excessive number of tracings could be due to (1) creating @tf.function repeatedly in a loop, (2) passing tensors with different shapes, (3) passing Python objects instead of tensors. For (1), please define your @tf.function outside of the loop. For (2), @tf.function has experimental_relax_shapes=True option that relaxes argument shapes that can avoid unnecessary retracing. For (3), please refer to https://www.tensorflow.org/guide/function#controlling_retracing and https://www.tensorflow.org/api_docs/python/tf/function for  more details.\n",
      "5/5 [==============================] - 10s 609ms/step - loss: 2.0429 - val_loss: 1.9801\n",
      "Epoch 2/2\n",
      "5/5 [==============================] - 0s 83ms/step - loss: 1.9756 - val_loss: 1.9731\n",
      "\n",
      "\n",
      "=================Experiment2=====================\n",
      "\n",
      "\n",
      "Data about experiment:\n",
      "log_bimp                                                  log_bimp_ptall.csv\n",
      "log_anomaly_intuition                                                     af\n",
      "log_control_flow_type                                                    all\n",
      "s_k_cv                                                                     5\n",
      "s_tipo_heuristica                                                       None\n",
      "s_method_for_explore_thresholds                           percentiles_unique\n",
      "s_strategy_tr_tst                        cv_without_traces_duplicated_tst_tr\n",
      "s_avaliation_type                                           q_classification\n",
      "s_avaliation_gran_level                                      anomalous_cases\n",
      "exp_group_name                                                     test_case\n",
      "exp_group_id                                         gexp_binetn_62918306055\n",
      "use_mask                                                             default\n",
      "p_modelit_id                                                               2\n",
      "alfa                                                                   0.001\n",
      "log_name                           tstideplus_log_original_ptall_ataf_02.pkl\n",
      "scaling_factors                                                      0.0 1.0\n",
      "p_modelit_vapproach                                                 original\n",
      "p_modelit_voutlierness_calc                                         original\n",
      "nitmax                                                                   2.0\n",
      "p_modelit_type                                                        binet1\n",
      "batch_size                                                               500\n",
      "early_stopping_patiente                                                   10\n",
      "gaussian_noise_std                                                       0.1\n",
      "optimizer_beta2                                                        0.999\n",
      "decoder                                                                False\n",
      "log_name_abbrev                                                         af02\n",
      "Name: 1, dtype: object\n",
      "\n",
      "\n",
      "Epoch 1/2\n",
      "4/5 [=======================>......] - ETA: 0s - loss: 1.9997WARNING:tensorflow:6 out of the last 11 calls to <function Model.make_test_function.<locals>.test_function at 0x000001BA6099E700> triggered tf.function retracing. Tracing is expensive and the excessive number of tracings could be due to (1) creating @tf.function repeatedly in a loop, (2) passing tensors with different shapes, (3) passing Python objects instead of tensors. For (1), please define your @tf.function outside of the loop. For (2), @tf.function has experimental_relax_shapes=True option that relaxes argument shapes that can avoid unnecessary retracing. For (3), please refer to https://www.tensorflow.org/guide/function#controlling_retracing and https://www.tensorflow.org/api_docs/python/tf/function for  more details.\n",
      "5/5 [==============================] - 9s 637ms/step - loss: 1.9923 - val_loss: 1.9789\n",
      "Epoch 2/2\n",
      "5/5 [==============================] - 0s 68ms/step - loss: 1.9064 - val_loss: 1.9713\n",
      "Epoch 1/2\n",
      "4/5 [=======================>......] - ETA: 0s - loss: 2.0182WARNING:tensorflow:6 out of the last 11 calls to <function Model.make_test_function.<locals>.test_function at 0x000001BA5447AE50> triggered tf.function retracing. Tracing is expensive and the excessive number of tracings could be due to (1) creating @tf.function repeatedly in a loop, (2) passing tensors with different shapes, (3) passing Python objects instead of tensors. For (1), please define your @tf.function outside of the loop. For (2), @tf.function has experimental_relax_shapes=True option that relaxes argument shapes that can avoid unnecessary retracing. For (3), please refer to https://www.tensorflow.org/guide/function#controlling_retracing and https://www.tensorflow.org/api_docs/python/tf/function for  more details.\n"
     ]
    },
    {
     "name": "stdout",
     "output_type": "stream",
     "text": [
      "5/5 [==============================] - 9s 563ms/step - loss: 2.0137 - val_loss: 1.9698\n",
      "Epoch 2/2\n",
      "5/5 [==============================] - 0s 72ms/step - loss: 1.9443 - val_loss: 1.9618\n",
      "Epoch 1/2\n",
      "5/5 [==============================] - ETA: 0s - loss: 1.9861WARNING:tensorflow:6 out of the last 11 calls to <function Model.make_test_function.<locals>.test_function at 0x000001BA64DBA8B0> triggered tf.function retracing. Tracing is expensive and the excessive number of tracings could be due to (1) creating @tf.function repeatedly in a loop, (2) passing tensors with different shapes, (3) passing Python objects instead of tensors. For (1), please define your @tf.function outside of the loop. For (2), @tf.function has experimental_relax_shapes=True option that relaxes argument shapes that can avoid unnecessary retracing. For (3), please refer to https://www.tensorflow.org/guide/function#controlling_retracing and https://www.tensorflow.org/api_docs/python/tf/function for  more details.\n",
      "5/5 [==============================] - 9s 561ms/step - loss: 1.9849 - val_loss: 1.9855\n",
      "Epoch 2/2\n",
      "5/5 [==============================] - 0s 65ms/step - loss: 1.9255 - val_loss: 1.9781\n",
      "Epoch 1/2\n",
      "5/5 [==============================] - ETA: 0s - loss: 1.9881WARNING:tensorflow:6 out of the last 11 calls to <function Model.make_test_function.<locals>.test_function at 0x000001BA591CF430> triggered tf.function retracing. Tracing is expensive and the excessive number of tracings could be due to (1) creating @tf.function repeatedly in a loop, (2) passing tensors with different shapes, (3) passing Python objects instead of tensors. For (1), please define your @tf.function outside of the loop. For (2), @tf.function has experimental_relax_shapes=True option that relaxes argument shapes that can avoid unnecessary retracing. For (3), please refer to https://www.tensorflow.org/guide/function#controlling_retracing and https://www.tensorflow.org/api_docs/python/tf/function for  more details.\n",
      "5/5 [==============================] - 9s 642ms/step - loss: 1.9865 - val_loss: 1.9869\n",
      "Epoch 2/2\n",
      "5/5 [==============================] - 0s 69ms/step - loss: 1.9150 - val_loss: 1.9789\n",
      "Epoch 1/2\n",
      "5/5 [==============================] - ETA: 0s - loss: 1.9675WARNING:tensorflow:6 out of the last 11 calls to <function Model.make_test_function.<locals>.test_function at 0x000001BA62699700> triggered tf.function retracing. Tracing is expensive and the excessive number of tracings could be due to (1) creating @tf.function repeatedly in a loop, (2) passing tensors with different shapes, (3) passing Python objects instead of tensors. For (1), please define your @tf.function outside of the loop. For (2), @tf.function has experimental_relax_shapes=True option that relaxes argument shapes that can avoid unnecessary retracing. For (3), please refer to https://www.tensorflow.org/guide/function#controlling_retracing and https://www.tensorflow.org/api_docs/python/tf/function for  more details.\n",
      "5/5 [==============================] - 9s 585ms/step - loss: 1.9658 - val_loss: 1.9777\n",
      "Epoch 2/2\n",
      "5/5 [==============================] - 0s 65ms/step - loss: 1.8801 - val_loss: 1.9696\n",
      "\n",
      "\n",
      "=================Experiment3=====================\n",
      "\n",
      "\n",
      "Data about experiment:\n",
      "log_bimp                                                  log_bimp_ptall.csv\n",
      "log_anomaly_intuition                                                     af\n",
      "log_control_flow_type                                                    all\n",
      "s_k_cv                                                                     5\n",
      "s_tipo_heuristica                                                       None\n",
      "s_method_for_explore_thresholds                           percentiles_unique\n",
      "s_strategy_tr_tst                        cv_without_traces_duplicated_tst_tr\n",
      "s_avaliation_type                                           q_classification\n",
      "s_avaliation_gran_level                                      anomalous_cases\n",
      "exp_group_name                                                     test_case\n",
      "exp_group_id                                         gexp_binetn_62918306055\n",
      "use_mask                                                             default\n",
      "p_modelit_id                                                               3\n",
      "alfa                                                                   0.001\n",
      "log_name                           tstideplus_log_original_ptall_ataf_03.pkl\n",
      "scaling_factors                                                      0.0 1.0\n",
      "p_modelit_vapproach                                                 original\n",
      "p_modelit_voutlierness_calc                                         original\n",
      "nitmax                                                                   2.0\n",
      "p_modelit_type                                                        binet1\n",
      "batch_size                                                               500\n",
      "early_stopping_patiente                                                   10\n",
      "gaussian_noise_std                                                       0.1\n",
      "optimizer_beta2                                                        0.999\n",
      "decoder                                                                False\n",
      "log_name_abbrev                                                         af03\n",
      "Name: 2, dtype: object\n",
      "\n",
      "\n",
      "Epoch 1/2\n",
      "4/5 [=======================>......] - ETA: 0s - loss: 2.0201WARNING:tensorflow:6 out of the last 11 calls to <function Model.make_test_function.<locals>.test_function at 0x000001BA5F5F33A0> triggered tf.function retracing. Tracing is expensive and the excessive number of tracings could be due to (1) creating @tf.function repeatedly in a loop, (2) passing tensors with different shapes, (3) passing Python objects instead of tensors. For (1), please define your @tf.function outside of the loop. For (2), @tf.function has experimental_relax_shapes=True option that relaxes argument shapes that can avoid unnecessary retracing. For (3), please refer to https://www.tensorflow.org/guide/function#controlling_retracing and https://www.tensorflow.org/api_docs/python/tf/function for  more details.\n",
      "5/5 [==============================] - 9s 567ms/step - loss: 2.0145 - val_loss: 1.9759\n",
      "Epoch 2/2\n",
      "5/5 [==============================] - 0s 68ms/step - loss: 1.9335 - val_loss: 1.9671\n",
      "Epoch 1/2\n",
      "4/5 [=======================>......] - ETA: 0s - loss: 2.0132WARNING:tensorflow:6 out of the last 11 calls to <function Model.make_test_function.<locals>.test_function at 0x000001BA516EACA0> triggered tf.function retracing. Tracing is expensive and the excessive number of tracings could be due to (1) creating @tf.function repeatedly in a loop, (2) passing tensors with different shapes, (3) passing Python objects instead of tensors. For (1), please define your @tf.function outside of the loop. For (2), @tf.function has experimental_relax_shapes=True option that relaxes argument shapes that can avoid unnecessary retracing. For (3), please refer to https://www.tensorflow.org/guide/function#controlling_retracing and https://www.tensorflow.org/api_docs/python/tf/function for  more details.\n",
      "5/5 [==============================] - 10s 738ms/step - loss: 2.0089 - val_loss: 1.9776\n",
      "Epoch 2/2\n",
      "5/5 [==============================] - 0s 66ms/step - loss: 1.9395 - val_loss: 1.9688\n",
      "Epoch 1/2\n",
      "4/5 [=======================>......] - ETA: 0s - loss: 1.9962WARNING:tensorflow:6 out of the last 11 calls to <function Model.make_test_function.<locals>.test_function at 0x000001BA516EA550> triggered tf.function retracing. Tracing is expensive and the excessive number of tracings could be due to (1) creating @tf.function repeatedly in a loop, (2) passing tensors with different shapes, (3) passing Python objects instead of tensors. For (1), please define your @tf.function outside of the loop. For (2), @tf.function has experimental_relax_shapes=True option that relaxes argument shapes that can avoid unnecessary retracing. For (3), please refer to https://www.tensorflow.org/guide/function#controlling_retracing and https://www.tensorflow.org/api_docs/python/tf/function for  more details.\n",
      "5/5 [==============================] - 10s 659ms/step - loss: 1.9939 - val_loss: 1.9764\n",
      "Epoch 2/2\n"
     ]
    },
    {
     "name": "stdout",
     "output_type": "stream",
     "text": [
      "5/5 [==============================] - 0s 64ms/step - loss: 1.9218 - val_loss: 1.9688\n",
      "Epoch 1/2\n",
      "4/5 [=======================>......] - ETA: 0s - loss: 1.9892WARNING:tensorflow:6 out of the last 11 calls to <function Model.make_test_function.<locals>.test_function at 0x000001BA540A0C10> triggered tf.function retracing. Tracing is expensive and the excessive number of tracings could be due to (1) creating @tf.function repeatedly in a loop, (2) passing tensors with different shapes, (3) passing Python objects instead of tensors. For (1), please define your @tf.function outside of the loop. For (2), @tf.function has experimental_relax_shapes=True option that relaxes argument shapes that can avoid unnecessary retracing. For (3), please refer to https://www.tensorflow.org/guide/function#controlling_retracing and https://www.tensorflow.org/api_docs/python/tf/function for  more details.\n",
      "5/5 [==============================] - 12s 544ms/step - loss: 1.9840 - val_loss: 1.9769\n",
      "Epoch 2/2\n",
      "5/5 [==============================] - 0s 88ms/step - loss: 1.9145 - val_loss: 1.9685\n",
      "Epoch 1/2\n",
      "4/5 [=======================>......] - ETA: 0s - loss: 1.9934WARNING:tensorflow:6 out of the last 11 calls to <function Model.make_test_function.<locals>.test_function at 0x000001BA4CC41670> triggered tf.function retracing. Tracing is expensive and the excessive number of tracings could be due to (1) creating @tf.function repeatedly in a loop, (2) passing tensors with different shapes, (3) passing Python objects instead of tensors. For (1), please define your @tf.function outside of the loop. For (2), @tf.function has experimental_relax_shapes=True option that relaxes argument shapes that can avoid unnecessary retracing. For (3), please refer to https://www.tensorflow.org/guide/function#controlling_retracing and https://www.tensorflow.org/api_docs/python/tf/function for  more details.\n",
      "5/5 [==============================] - 10s 675ms/step - loss: 1.9876 - val_loss: 1.9873\n",
      "Epoch 2/2\n",
      "5/5 [==============================] - 0s 82ms/step - loss: 1.9176 - val_loss: 1.9813\n",
      "\n",
      "\n",
      "=================Experiment4=====================\n",
      "\n",
      "\n",
      "Data about experiment:\n",
      "log_bimp                                                  log_bimp_ptall.csv\n",
      "log_anomaly_intuition                                                     ia\n",
      "log_control_flow_type                                                    all\n",
      "s_k_cv                                                                     5\n",
      "s_tipo_heuristica                                                       None\n",
      "s_method_for_explore_thresholds                           percentiles_unique\n",
      "s_strategy_tr_tst                        cv_without_traces_duplicated_tst_tr\n",
      "s_avaliation_type                                           q_classification\n",
      "s_avaliation_gran_level                                      anomalous_cases\n",
      "exp_group_name                                                     test_case\n",
      "exp_group_id                                         gexp_binetn_62918306055\n",
      "use_mask                                                             default\n",
      "p_modelit_id                                                               4\n",
      "alfa                                                                   0.001\n",
      "log_name                           tstideplus_log_original_ptall_atia_01.pkl\n",
      "scaling_factors                                                      0.0 1.0\n",
      "p_modelit_vapproach                                                 original\n",
      "p_modelit_voutlierness_calc                                         original\n",
      "nitmax                                                                   2.0\n",
      "p_modelit_type                                                        binet1\n",
      "batch_size                                                               500\n",
      "early_stopping_patiente                                                   10\n",
      "gaussian_noise_std                                                       0.1\n",
      "optimizer_beta2                                                        0.999\n",
      "decoder                                                                False\n",
      "log_name_abbrev                                                         ia01\n",
      "Name: 3, dtype: object\n",
      "\n",
      "\n",
      "Epoch 1/2\n",
      "4/5 [=======================>......] - ETA: 0s - loss: 1.9910WARNING:tensorflow:6 out of the last 11 calls to <function Model.make_test_function.<locals>.test_function at 0x000001BA5F2D38B0> triggered tf.function retracing. Tracing is expensive and the excessive number of tracings could be due to (1) creating @tf.function repeatedly in a loop, (2) passing tensors with different shapes, (3) passing Python objects instead of tensors. For (1), please define your @tf.function outside of the loop. For (2), @tf.function has experimental_relax_shapes=True option that relaxes argument shapes that can avoid unnecessary retracing. For (3), please refer to https://www.tensorflow.org/guide/function#controlling_retracing and https://www.tensorflow.org/api_docs/python/tf/function for  more details.\n",
      "5/5 [==============================] - 10s 582ms/step - loss: 1.9857 - val_loss: 1.9755\n",
      "Epoch 2/2\n",
      "5/5 [==============================] - 0s 81ms/step - loss: 1.9085 - val_loss: 1.9682\n",
      "Epoch 1/2\n",
      "4/5 [=======================>......] - ETA: 0s - loss: 1.9850WARNING:tensorflow:6 out of the last 11 calls to <function Model.make_test_function.<locals>.test_function at 0x000001BA4ECE7E50> triggered tf.function retracing. Tracing is expensive and the excessive number of tracings could be due to (1) creating @tf.function repeatedly in a loop, (2) passing tensors with different shapes, (3) passing Python objects instead of tensors. For (1), please define your @tf.function outside of the loop. For (2), @tf.function has experimental_relax_shapes=True option that relaxes argument shapes that can avoid unnecessary retracing. For (3), please refer to https://www.tensorflow.org/guide/function#controlling_retracing and https://www.tensorflow.org/api_docs/python/tf/function for  more details.\n",
      "5/5 [==============================] - 11s 683ms/step - loss: 1.9806 - val_loss: 1.9664\n",
      "Epoch 2/2\n",
      "5/5 [==============================] - 0s 77ms/step - loss: 1.9066 - val_loss: 1.9615\n",
      "Epoch 1/2\n",
      "4/5 [=======================>......] - ETA: 0s - loss: 1.9734WARNING:tensorflow:6 out of the last 11 calls to <function Model.make_test_function.<locals>.test_function at 0x000001BA53FC8040> triggered tf.function retracing. Tracing is expensive and the excessive number of tracings could be due to (1) creating @tf.function repeatedly in a loop, (2) passing tensors with different shapes, (3) passing Python objects instead of tensors. For (1), please define your @tf.function outside of the loop. For (2), @tf.function has experimental_relax_shapes=True option that relaxes argument shapes that can avoid unnecessary retracing. For (3), please refer to https://www.tensorflow.org/guide/function#controlling_retracing and https://www.tensorflow.org/api_docs/python/tf/function for  more details.\n",
      "5/5 [==============================] - 17s 1s/step - loss: 1.9695 - val_loss: 1.9770\n",
      "Epoch 2/2\n",
      "5/5 [==============================] - 1s 118ms/step - loss: 1.8988 - val_loss: 1.9698\n",
      "Epoch 1/2\n",
      "4/5 [=======================>......] - ETA: 0s - loss: 1.9946WARNING:tensorflow:6 out of the last 11 calls to <function Model.make_test_function.<locals>.test_function at 0x000001BA535A4DC0> triggered tf.function retracing. Tracing is expensive and the excessive number of tracings could be due to (1) creating @tf.function repeatedly in a loop, (2) passing tensors with different shapes, (3) passing Python objects instead of tensors. For (1), please define your @tf.function outside of the loop. For (2), @tf.function has experimental_relax_shapes=True option that relaxes argument shapes that can avoid unnecessary retracing. For (3), please refer to https://www.tensorflow.org/guide/function#controlling_retracing and https://www.tensorflow.org/api_docs/python/tf/function for  more details.\n",
      "5/5 [==============================] - 10s 627ms/step - loss: 1.9906 - val_loss: 1.9730\n",
      "Epoch 2/2\n",
      "5/5 [==============================] - 0s 100ms/step - loss: 1.9256 - val_loss: 1.9666\n",
      "Epoch 1/2\n"
     ]
    },
    {
     "name": "stdout",
     "output_type": "stream",
     "text": [
      "4/5 [=======================>......] - ETA: 0s - loss: 2.0058WARNING:tensorflow:6 out of the last 11 calls to <function Model.make_test_function.<locals>.test_function at 0x000001BA54123F70> triggered tf.function retracing. Tracing is expensive and the excessive number of tracings could be due to (1) creating @tf.function repeatedly in a loop, (2) passing tensors with different shapes, (3) passing Python objects instead of tensors. For (1), please define your @tf.function outside of the loop. For (2), @tf.function has experimental_relax_shapes=True option that relaxes argument shapes that can avoid unnecessary retracing. For (3), please refer to https://www.tensorflow.org/guide/function#controlling_retracing and https://www.tensorflow.org/api_docs/python/tf/function for  more details.\n",
      "5/5 [==============================] - 12s 641ms/step - loss: 2.0023 - val_loss: 1.9674\n",
      "Epoch 2/2\n",
      "5/5 [==============================] - 0s 78ms/step - loss: 1.9328 - val_loss: 1.9598\n",
      "\n",
      "\n",
      "=================Experiment5=====================\n",
      "\n",
      "\n",
      "Data about experiment:\n",
      "log_bimp                                                  log_bimp_ptall.csv\n",
      "log_anomaly_intuition                                                     ia\n",
      "log_control_flow_type                                                    all\n",
      "s_k_cv                                                                     5\n",
      "s_tipo_heuristica                                                       None\n",
      "s_method_for_explore_thresholds                           percentiles_unique\n",
      "s_strategy_tr_tst                        cv_without_traces_duplicated_tst_tr\n",
      "s_avaliation_type                                           q_classification\n",
      "s_avaliation_gran_level                                      anomalous_cases\n",
      "exp_group_name                                                     test_case\n",
      "exp_group_id                                         gexp_binetn_62918306055\n",
      "use_mask                                                             default\n",
      "p_modelit_id                                                               5\n",
      "alfa                                                                   0.001\n",
      "log_name                           tstideplus_log_original_ptall_atia_02.pkl\n",
      "scaling_factors                                                      0.0 1.0\n",
      "p_modelit_vapproach                                                 original\n",
      "p_modelit_voutlierness_calc                                         original\n",
      "nitmax                                                                   2.0\n",
      "p_modelit_type                                                        binet1\n",
      "batch_size                                                               500\n",
      "early_stopping_patiente                                                   10\n",
      "gaussian_noise_std                                                       0.1\n",
      "optimizer_beta2                                                        0.999\n",
      "decoder                                                                False\n",
      "log_name_abbrev                                                         ia02\n",
      "Name: 4, dtype: object\n",
      "\n",
      "\n",
      "Epoch 1/2\n",
      "4/5 [=======================>......] - ETA: 0s - loss: 2.1032WARNING:tensorflow:6 out of the last 11 calls to <function Model.make_test_function.<locals>.test_function at 0x000001BA66732CA0> triggered tf.function retracing. Tracing is expensive and the excessive number of tracings could be due to (1) creating @tf.function repeatedly in a loop, (2) passing tensors with different shapes, (3) passing Python objects instead of tensors. For (1), please define your @tf.function outside of the loop. For (2), @tf.function has experimental_relax_shapes=True option that relaxes argument shapes that can avoid unnecessary retracing. For (3), please refer to https://www.tensorflow.org/guide/function#controlling_retracing and https://www.tensorflow.org/api_docs/python/tf/function for  more details.\n",
      "5/5 [==============================] - 10s 657ms/step - loss: 2.0977 - val_loss: 2.0843\n",
      "Epoch 2/2\n",
      "5/5 [==============================] - 0s 76ms/step - loss: 2.0221 - val_loss: 2.0770\n",
      "Epoch 1/2\n",
      "4/5 [=======================>......] - ETA: 0s - loss: 2.0931WARNING:tensorflow:6 out of the last 11 calls to <function Model.make_test_function.<locals>.test_function at 0x000001BA534363A0> triggered tf.function retracing. Tracing is expensive and the excessive number of tracings could be due to (1) creating @tf.function repeatedly in a loop, (2) passing tensors with different shapes, (3) passing Python objects instead of tensors. For (1), please define your @tf.function outside of the loop. For (2), @tf.function has experimental_relax_shapes=True option that relaxes argument shapes that can avoid unnecessary retracing. For (3), please refer to https://www.tensorflow.org/guide/function#controlling_retracing and https://www.tensorflow.org/api_docs/python/tf/function for  more details.\n",
      "5/5 [==============================] - 11s 665ms/step - loss: 2.0882 - val_loss: 2.0743\n",
      "Epoch 2/2\n",
      "5/5 [==============================] - 0s 75ms/step - loss: 2.0178 - val_loss: 2.0668\n",
      "Epoch 1/2\n",
      "4/5 [=======================>......] - ETA: 0s - loss: 2.0994WARNING:tensorflow:6 out of the last 11 calls to <function Model.make_test_function.<locals>.test_function at 0x000001BA5418F700> triggered tf.function retracing. Tracing is expensive and the excessive number of tracings could be due to (1) creating @tf.function repeatedly in a loop, (2) passing tensors with different shapes, (3) passing Python objects instead of tensors. For (1), please define your @tf.function outside of the loop. For (2), @tf.function has experimental_relax_shapes=True option that relaxes argument shapes that can avoid unnecessary retracing. For (3), please refer to https://www.tensorflow.org/guide/function#controlling_retracing and https://www.tensorflow.org/api_docs/python/tf/function for  more details.\n",
      "5/5 [==============================] - 10s 836ms/step - loss: 2.0952 - val_loss: 2.0862\n",
      "Epoch 2/2\n",
      "5/5 [==============================] - 1s 128ms/step - loss: 2.0312 - val_loss: 2.0806\n",
      "Epoch 1/2\n",
      "4/5 [=======================>......] - ETA: 0s - loss: 2.0947WARNING:tensorflow:6 out of the last 11 calls to <function Model.make_test_function.<locals>.test_function at 0x000001BA53C26310> triggered tf.function retracing. Tracing is expensive and the excessive number of tracings could be due to (1) creating @tf.function repeatedly in a loop, (2) passing tensors with different shapes, (3) passing Python objects instead of tensors. For (1), please define your @tf.function outside of the loop. For (2), @tf.function has experimental_relax_shapes=True option that relaxes argument shapes that can avoid unnecessary retracing. For (3), please refer to https://www.tensorflow.org/guide/function#controlling_retracing and https://www.tensorflow.org/api_docs/python/tf/function for  more details.\n",
      "5/5 [==============================] - 9s 586ms/step - loss: 2.0902 - val_loss: 2.0792\n",
      "Epoch 2/2\n",
      "5/5 [==============================] - 0s 90ms/step - loss: 2.0136 - val_loss: 2.0716\n",
      "Epoch 1/2\n",
      "4/5 [=======================>......] - ETA: 0s - loss: 2.0812WARNING:tensorflow:6 out of the last 11 calls to <function Model.make_test_function.<locals>.test_function at 0x000001BA532FDAF0> triggered tf.function retracing. Tracing is expensive and the excessive number of tracings could be due to (1) creating @tf.function repeatedly in a loop, (2) passing tensors with different shapes, (3) passing Python objects instead of tensors. For (1), please define your @tf.function outside of the loop. For (2), @tf.function has experimental_relax_shapes=True option that relaxes argument shapes that can avoid unnecessary retracing. For (3), please refer to https://www.tensorflow.org/guide/function#controlling_retracing and https://www.tensorflow.org/api_docs/python/tf/function for  more details.\n",
      "5/5 [==============================] - 10s 581ms/step - loss: 2.0778 - val_loss: 2.0726\n",
      "Epoch 2/2\n",
      "5/5 [==============================] - 0s 71ms/step - loss: 2.0054 - val_loss: 2.0647\n",
      "\n",
      "\n",
      "=================Experiment6=====================\n",
      "\n",
      "\n",
      "Data about experiment:\n",
      "log_bimp                                                  log_bimp_ptall.csv\n",
      "log_anomaly_intuition                                                     ia\n",
      "log_control_flow_type                                                    all\n",
      "s_k_cv                                                                     5\n",
      "s_tipo_heuristica                                                       None\n",
      "s_method_for_explore_thresholds                           percentiles_unique\n",
      "s_strategy_tr_tst                        cv_without_traces_duplicated_tst_tr\n",
      "s_avaliation_type                                           q_classification\n",
      "s_avaliation_gran_level                                      anomalous_cases\n",
      "exp_group_name                                                     test_case\n",
      "exp_group_id                                         gexp_binetn_62918306055\n",
      "use_mask                                                             default\n",
      "p_modelit_id                                                               6\n",
      "alfa                                                                   0.001\n",
      "log_name                           tstideplus_log_original_ptall_atia_03.pkl\n",
      "scaling_factors                                                      0.0 1.0\n",
      "p_modelit_vapproach                                                 original\n",
      "p_modelit_voutlierness_calc                                         original\n",
      "nitmax                                                                   2.0\n",
      "p_modelit_type                                                        binet1\n",
      "batch_size                                                               500\n",
      "early_stopping_patiente                                                   10\n",
      "gaussian_noise_std                                                       0.1\n",
      "optimizer_beta2                                                        0.999\n",
      "decoder                                                                False\n",
      "log_name_abbrev                                                         ia03\n",
      "Name: 5, dtype: object\n",
      "\n",
      "\n"
     ]
    },
    {
     "name": "stdout",
     "output_type": "stream",
     "text": [
      "Epoch 1/2\n",
      "5/5 [==============================] - ETA: 0s - loss: 1.9839WARNING:tensorflow:6 out of the last 11 calls to <function Model.make_test_function.<locals>.test_function at 0x000001BA53FE40D0> triggered tf.function retracing. Tracing is expensive and the excessive number of tracings could be due to (1) creating @tf.function repeatedly in a loop, (2) passing tensors with different shapes, (3) passing Python objects instead of tensors. For (1), please define your @tf.function outside of the loop. For (2), @tf.function has experimental_relax_shapes=True option that relaxes argument shapes that can avoid unnecessary retracing. For (3), please refer to https://www.tensorflow.org/guide/function#controlling_retracing and https://www.tensorflow.org/api_docs/python/tf/function for  more details.\n",
      "5/5 [==============================] - 10s 582ms/step - loss: 1.9820 - val_loss: 1.9823\n",
      "Epoch 2/2\n",
      "5/5 [==============================] - 0s 71ms/step - loss: 1.9080 - val_loss: 1.9738\n",
      "Epoch 1/2\n",
      "4/5 [=======================>......] - ETA: 0s - loss: 1.9998WARNING:tensorflow:6 out of the last 11 calls to <function Model.make_test_function.<locals>.test_function at 0x000001BA5F762CA0> triggered tf.function retracing. Tracing is expensive and the excessive number of tracings could be due to (1) creating @tf.function repeatedly in a loop, (2) passing tensors with different shapes, (3) passing Python objects instead of tensors. For (1), please define your @tf.function outside of the loop. For (2), @tf.function has experimental_relax_shapes=True option that relaxes argument shapes that can avoid unnecessary retracing. For (3), please refer to https://www.tensorflow.org/guide/function#controlling_retracing and https://www.tensorflow.org/api_docs/python/tf/function for  more details.\n",
      "5/5 [==============================] - 11s 593ms/step - loss: 1.9945 - val_loss: 1.9779\n",
      "Epoch 2/2\n",
      "5/5 [==============================] - 0s 84ms/step - loss: 1.9264 - val_loss: 1.9705\n",
      "Epoch 1/2\n",
      "4/5 [=======================>......] - ETA: 0s - loss: 1.9847WARNING:tensorflow:6 out of the last 11 calls to <function Model.make_test_function.<locals>.test_function at 0x000001BA613C85E0> triggered tf.function retracing. Tracing is expensive and the excessive number of tracings could be due to (1) creating @tf.function repeatedly in a loop, (2) passing tensors with different shapes, (3) passing Python objects instead of tensors. For (1), please define your @tf.function outside of the loop. For (2), @tf.function has experimental_relax_shapes=True option that relaxes argument shapes that can avoid unnecessary retracing. For (3), please refer to https://www.tensorflow.org/guide/function#controlling_retracing and https://www.tensorflow.org/api_docs/python/tf/function for  more details.\n",
      "5/5 [==============================] - 14s 1s/step - loss: 1.9803 - val_loss: 1.9745\n",
      "Epoch 2/2\n",
      "5/5 [==============================] - 0s 86ms/step - loss: 1.9044 - val_loss: 1.9653\n",
      "Epoch 1/2\n",
      "4/5 [=======================>......] - ETA: 0s - loss: 2.0102WARNING:tensorflow:6 out of the last 11 calls to <function Model.make_test_function.<locals>.test_function at 0x000001BA5418F670> triggered tf.function retracing. Tracing is expensive and the excessive number of tracings could be due to (1) creating @tf.function repeatedly in a loop, (2) passing tensors with different shapes, (3) passing Python objects instead of tensors. For (1), please define your @tf.function outside of the loop. For (2), @tf.function has experimental_relax_shapes=True option that relaxes argument shapes that can avoid unnecessary retracing. For (3), please refer to https://www.tensorflow.org/guide/function#controlling_retracing and https://www.tensorflow.org/api_docs/python/tf/function for  more details.\n",
      "5/5 [==============================] - 10s 732ms/step - loss: 2.0069 - val_loss: 1.9850\n",
      "Epoch 2/2\n",
      "5/5 [==============================] - 1s 108ms/step - loss: 1.9372 - val_loss: 1.9789\n",
      "Epoch 1/2\n",
      "4/5 [=======================>......] - ETA: 0s - loss: 1.9960WARNING:tensorflow:6 out of the last 11 calls to <function Model.make_test_function.<locals>.test_function at 0x000001BA53F88E50> triggered tf.function retracing. Tracing is expensive and the excessive number of tracings could be due to (1) creating @tf.function repeatedly in a loop, (2) passing tensors with different shapes, (3) passing Python objects instead of tensors. For (1), please define your @tf.function outside of the loop. For (2), @tf.function has experimental_relax_shapes=True option that relaxes argument shapes that can avoid unnecessary retracing. For (3), please refer to https://www.tensorflow.org/guide/function#controlling_retracing and https://www.tensorflow.org/api_docs/python/tf/function for  more details.\n",
      "5/5 [==============================] - 11s 626ms/step - loss: 1.9927 - val_loss: 1.9711\n",
      "Epoch 2/2\n",
      "5/5 [==============================] - 0s 83ms/step - loss: 1.9319 - val_loss: 1.9656\n",
      "\n",
      "\n",
      "=================Experiment7=====================\n",
      "\n",
      "\n",
      "Data about experiment:\n",
      "log_bimp                                                  log_bimp_ptall.csv\n",
      "log_anomaly_intuition                                                     ta\n",
      "log_control_flow_type                                                    all\n",
      "s_k_cv                                                                     5\n",
      "s_tipo_heuristica                                                       None\n",
      "s_method_for_explore_thresholds                           percentiles_unique\n",
      "s_strategy_tr_tst                        cv_without_traces_duplicated_tst_tr\n",
      "s_avaliation_type                                           q_classification\n",
      "s_avaliation_gran_level                                      anomalous_cases\n",
      "exp_group_name                                                     test_case\n",
      "exp_group_id                                         gexp_binetn_62918306055\n",
      "use_mask                                                             default\n",
      "p_modelit_id                                                               7\n",
      "alfa                                                                   0.001\n",
      "log_name                           tstideplus_log_original_ptall_atta_01.pkl\n",
      "scaling_factors                                                      0.0 1.0\n",
      "p_modelit_vapproach                                                 original\n",
      "p_modelit_voutlierness_calc                                         original\n",
      "nitmax                                                                   2.0\n",
      "p_modelit_type                                                        binet1\n",
      "batch_size                                                               500\n",
      "early_stopping_patiente                                                   10\n",
      "gaussian_noise_std                                                       0.1\n",
      "optimizer_beta2                                                        0.999\n",
      "decoder                                                                False\n",
      "log_name_abbrev                                                         ta01\n",
      "Name: 6, dtype: object\n",
      "\n",
      "\n",
      "Epoch 1/2\n",
      "4/5 [=======================>......] - ETA: 0s - loss: 2.0494WARNING:tensorflow:6 out of the last 11 calls to <function Model.make_test_function.<locals>.test_function at 0x000001BA591C30D0> triggered tf.function retracing. Tracing is expensive and the excessive number of tracings could be due to (1) creating @tf.function repeatedly in a loop, (2) passing tensors with different shapes, (3) passing Python objects instead of tensors. For (1), please define your @tf.function outside of the loop. For (2), @tf.function has experimental_relax_shapes=True option that relaxes argument shapes that can avoid unnecessary retracing. For (3), please refer to https://www.tensorflow.org/guide/function#controlling_retracing and https://www.tensorflow.org/api_docs/python/tf/function for  more details.\n",
      "5/5 [==============================] - 13s 673ms/step - loss: 2.0449 - val_loss: 2.0299\n",
      "Epoch 2/2\n",
      "5/5 [==============================] - 0s 67ms/step - loss: 1.9781 - val_loss: 2.0230\n",
      "Epoch 1/2\n",
      "4/5 [=======================>......] - ETA: 0s - loss: 2.0699WARNING:tensorflow:6 out of the last 11 calls to <function Model.make_test_function.<locals>.test_function at 0x000001BA5411CAF0> triggered tf.function retracing. Tracing is expensive and the excessive number of tracings could be due to (1) creating @tf.function repeatedly in a loop, (2) passing tensors with different shapes, (3) passing Python objects instead of tensors. For (1), please define your @tf.function outside of the loop. For (2), @tf.function has experimental_relax_shapes=True option that relaxes argument shapes that can avoid unnecessary retracing. For (3), please refer to https://www.tensorflow.org/guide/function#controlling_retracing and https://www.tensorflow.org/api_docs/python/tf/function for  more details.\n"
     ]
    },
    {
     "name": "stdout",
     "output_type": "stream",
     "text": [
      "5/5 [==============================] - 9s 572ms/step - loss: 2.0652 - val_loss: 2.0376\n",
      "Epoch 2/2\n",
      "5/5 [==============================] - 0s 71ms/step - loss: 2.0021 - val_loss: 2.0311\n",
      "Epoch 1/2\n",
      "4/5 [=======================>......] - ETA: 0s - loss: 2.0264WARNING:tensorflow:6 out of the last 11 calls to <function Model.make_test_function.<locals>.test_function at 0x000001BA542C5D30> triggered tf.function retracing. Tracing is expensive and the excessive number of tracings could be due to (1) creating @tf.function repeatedly in a loop, (2) passing tensors with different shapes, (3) passing Python objects instead of tensors. For (1), please define your @tf.function outside of the loop. For (2), @tf.function has experimental_relax_shapes=True option that relaxes argument shapes that can avoid unnecessary retracing. For (3), please refer to https://www.tensorflow.org/guide/function#controlling_retracing and https://www.tensorflow.org/api_docs/python/tf/function for  more details.\n",
      "5/5 [==============================] - 9s 604ms/step - loss: 2.0211 - val_loss: 2.0285\n",
      "Epoch 2/2\n",
      "5/5 [==============================] - 0s 87ms/step - loss: 1.9534 - val_loss: 2.0220\n",
      "Epoch 1/2\n",
      "4/5 [=======================>......] - ETA: 0s - loss: 2.0515WARNING:tensorflow:6 out of the last 11 calls to <function Model.make_test_function.<locals>.test_function at 0x000001BA66685700> triggered tf.function retracing. Tracing is expensive and the excessive number of tracings could be due to (1) creating @tf.function repeatedly in a loop, (2) passing tensors with different shapes, (3) passing Python objects instead of tensors. For (1), please define your @tf.function outside of the loop. For (2), @tf.function has experimental_relax_shapes=True option that relaxes argument shapes that can avoid unnecessary retracing. For (3), please refer to https://www.tensorflow.org/guide/function#controlling_retracing and https://www.tensorflow.org/api_docs/python/tf/function for  more details.\n",
      "5/5 [==============================] - 10s 587ms/step - loss: 2.0475 - val_loss: 2.0347\n",
      "Epoch 2/2\n",
      "5/5 [==============================] - 0s 71ms/step - loss: 1.9831 - val_loss: 2.0283\n",
      "Epoch 1/2\n",
      "4/5 [=======================>......] - ETA: 0s - loss: 2.0512WARNING:tensorflow:6 out of the last 11 calls to <function Model.make_test_function.<locals>.test_function at 0x000001BA5F210280> triggered tf.function retracing. Tracing is expensive and the excessive number of tracings could be due to (1) creating @tf.function repeatedly in a loop, (2) passing tensors with different shapes, (3) passing Python objects instead of tensors. For (1), please define your @tf.function outside of the loop. For (2), @tf.function has experimental_relax_shapes=True option that relaxes argument shapes that can avoid unnecessary retracing. For (3), please refer to https://www.tensorflow.org/guide/function#controlling_retracing and https://www.tensorflow.org/api_docs/python/tf/function for  more details.\n",
      "5/5 [==============================] - 9s 569ms/step - loss: 2.0455 - val_loss: 2.0352\n",
      "Epoch 2/2\n",
      "5/5 [==============================] - 0s 64ms/step - loss: 1.9765 - val_loss: 2.0299\n",
      "\n",
      "\n",
      "=================Experiment8=====================\n",
      "\n",
      "\n",
      "Data about experiment:\n",
      "log_bimp                                                  log_bimp_ptall.csv\n",
      "log_anomaly_intuition                                                     ta\n",
      "log_control_flow_type                                                    all\n",
      "s_k_cv                                                                     5\n",
      "s_tipo_heuristica                                                       None\n",
      "s_method_for_explore_thresholds                           percentiles_unique\n",
      "s_strategy_tr_tst                        cv_without_traces_duplicated_tst_tr\n",
      "s_avaliation_type                                           q_classification\n",
      "s_avaliation_gran_level                                      anomalous_cases\n",
      "exp_group_name                                                     test_case\n",
      "exp_group_id                                         gexp_binetn_62918306055\n",
      "use_mask                                                             default\n",
      "p_modelit_id                                                               8\n",
      "alfa                                                                   0.001\n",
      "log_name                           tstideplus_log_original_ptall_atta_02.pkl\n",
      "scaling_factors                                                      0.0 1.0\n",
      "p_modelit_vapproach                                                 original\n",
      "p_modelit_voutlierness_calc                                         original\n",
      "nitmax                                                                   2.0\n",
      "p_modelit_type                                                        binet1\n",
      "batch_size                                                               500\n",
      "early_stopping_patiente                                                   10\n",
      "gaussian_noise_std                                                       0.1\n",
      "optimizer_beta2                                                        0.999\n",
      "decoder                                                                False\n",
      "log_name_abbrev                                                         ta02\n",
      "Name: 7, dtype: object\n",
      "\n",
      "\n",
      "Epoch 1/2\n",
      "4/5 [=======================>......] - ETA: 0s - loss: 2.0500WARNING:tensorflow:6 out of the last 11 calls to <function Model.make_test_function.<locals>.test_function at 0x000001BA54065EE0> triggered tf.function retracing. Tracing is expensive and the excessive number of tracings could be due to (1) creating @tf.function repeatedly in a loop, (2) passing tensors with different shapes, (3) passing Python objects instead of tensors. For (1), please define your @tf.function outside of the loop. For (2), @tf.function has experimental_relax_shapes=True option that relaxes argument shapes that can avoid unnecessary retracing. For (3), please refer to https://www.tensorflow.org/guide/function#controlling_retracing and https://www.tensorflow.org/api_docs/python/tf/function for  more details.\n",
      "5/5 [==============================] - 9s 696ms/step - loss: 2.0453 - val_loss: 2.0306\n",
      "Epoch 2/2\n",
      "5/5 [==============================] - 0s 73ms/step - loss: 1.9686 - val_loss: 2.0212\n",
      "Epoch 1/2\n",
      "4/5 [=======================>......] - ETA: 0s - loss: 2.0660WARNING:tensorflow:6 out of the last 11 calls to <function Model.make_test_function.<locals>.test_function at 0x000001BA4D9788B0> triggered tf.function retracing. Tracing is expensive and the excessive number of tracings could be due to (1) creating @tf.function repeatedly in a loop, (2) passing tensors with different shapes, (3) passing Python objects instead of tensors. For (1), please define your @tf.function outside of the loop. For (2), @tf.function has experimental_relax_shapes=True option that relaxes argument shapes that can avoid unnecessary retracing. For (3), please refer to https://www.tensorflow.org/guide/function#controlling_retracing and https://www.tensorflow.org/api_docs/python/tf/function for  more details.\n",
      "5/5 [==============================] - 11s 774ms/step - loss: 2.0620 - val_loss: 2.0280\n",
      "Epoch 2/2\n",
      "5/5 [==============================] - 0s 99ms/step - loss: 1.9903 - val_loss: 2.0208\n",
      "Epoch 1/2\n",
      "4/5 [=======================>......] - ETA: 0s - loss: 2.0399WARNING:tensorflow:6 out of the last 11 calls to <function Model.make_test_function.<locals>.test_function at 0x000001BA5F054550> triggered tf.function retracing. Tracing is expensive and the excessive number of tracings could be due to (1) creating @tf.function repeatedly in a loop, (2) passing tensors with different shapes, (3) passing Python objects instead of tensors. For (1), please define your @tf.function outside of the loop. For (2), @tf.function has experimental_relax_shapes=True option that relaxes argument shapes that can avoid unnecessary retracing. For (3), please refer to https://www.tensorflow.org/guide/function#controlling_retracing and https://www.tensorflow.org/api_docs/python/tf/function for  more details.\n",
      "5/5 [==============================] - 10s 562ms/step - loss: 2.0362 - val_loss: 2.0361\n",
      "Epoch 2/2\n"
     ]
    },
    {
     "name": "stdout",
     "output_type": "stream",
     "text": [
      "5/5 [==============================] - 0s 73ms/step - loss: 1.9637 - val_loss: 2.0292\n",
      "Epoch 1/2\n",
      "4/5 [=======================>......] - ETA: 0s - loss: 2.0281WARNING:tensorflow:6 out of the last 11 calls to <function Model.make_test_function.<locals>.test_function at 0x000001BA613C88B0> triggered tf.function retracing. Tracing is expensive and the excessive number of tracings could be due to (1) creating @tf.function repeatedly in a loop, (2) passing tensors with different shapes, (3) passing Python objects instead of tensors. For (1), please define your @tf.function outside of the loop. For (2), @tf.function has experimental_relax_shapes=True option that relaxes argument shapes that can avoid unnecessary retracing. For (3), please refer to https://www.tensorflow.org/guide/function#controlling_retracing and https://www.tensorflow.org/api_docs/python/tf/function for  more details.\n",
      "5/5 [==============================] - 14s 607ms/step - loss: 2.0233 - val_loss: 2.0249\n",
      "Epoch 2/2\n",
      "5/5 [==============================] - 0s 74ms/step - loss: 1.9456 - val_loss: 2.0170\n",
      "Epoch 1/2\n",
      "4/5 [=======================>......] - ETA: 0s - loss: 2.0377WARNING:tensorflow:6 out of the last 11 calls to <function Model.make_test_function.<locals>.test_function at 0x000001BA52F10790> triggered tf.function retracing. Tracing is expensive and the excessive number of tracings could be due to (1) creating @tf.function repeatedly in a loop, (2) passing tensors with different shapes, (3) passing Python objects instead of tensors. For (1), please define your @tf.function outside of the loop. For (2), @tf.function has experimental_relax_shapes=True option that relaxes argument shapes that can avoid unnecessary retracing. For (3), please refer to https://www.tensorflow.org/guide/function#controlling_retracing and https://www.tensorflow.org/api_docs/python/tf/function for  more details.\n",
      "5/5 [==============================] - 9s 629ms/step - loss: 2.0337 - val_loss: 2.0383\n",
      "Epoch 2/2\n",
      "5/5 [==============================] - 0s 78ms/step - loss: 1.9627 - val_loss: 2.0311\n",
      "\n",
      "\n",
      "=================Experiment9=====================\n",
      "\n",
      "\n",
      "Data about experiment:\n",
      "log_bimp                                                  log_bimp_ptall.csv\n",
      "log_anomaly_intuition                                                     ta\n",
      "log_control_flow_type                                                    all\n",
      "s_k_cv                                                                     5\n",
      "s_tipo_heuristica                                                       None\n",
      "s_method_for_explore_thresholds                           percentiles_unique\n",
      "s_strategy_tr_tst                        cv_without_traces_duplicated_tst_tr\n",
      "s_avaliation_type                                           q_classification\n",
      "s_avaliation_gran_level                                      anomalous_cases\n",
      "exp_group_name                                                     test_case\n",
      "exp_group_id                                         gexp_binetn_62918306055\n",
      "use_mask                                                             default\n",
      "p_modelit_id                                                               9\n",
      "alfa                                                                   0.001\n",
      "log_name                           tstideplus_log_original_ptall_atta_03.pkl\n",
      "scaling_factors                                                      0.0 1.0\n",
      "p_modelit_vapproach                                                 original\n",
      "p_modelit_voutlierness_calc                                         original\n",
      "nitmax                                                                   2.0\n",
      "p_modelit_type                                                        binet1\n",
      "batch_size                                                               500\n",
      "early_stopping_patiente                                                   10\n",
      "gaussian_noise_std                                                       0.1\n",
      "optimizer_beta2                                                        0.999\n",
      "decoder                                                                False\n",
      "log_name_abbrev                                                         ta03\n",
      "Name: 8, dtype: object\n",
      "\n",
      "\n",
      "Epoch 1/2\n",
      "4/5 [=======================>......] - ETA: 0s - loss: 2.0078WARNING:tensorflow:6 out of the last 11 calls to <function Model.make_test_function.<locals>.test_function at 0x000001BA544104C0> triggered tf.function retracing. Tracing is expensive and the excessive number of tracings could be due to (1) creating @tf.function repeatedly in a loop, (2) passing tensors with different shapes, (3) passing Python objects instead of tensors. For (1), please define your @tf.function outside of the loop. For (2), @tf.function has experimental_relax_shapes=True option that relaxes argument shapes that can avoid unnecessary retracing. For (3), please refer to https://www.tensorflow.org/guide/function#controlling_retracing and https://www.tensorflow.org/api_docs/python/tf/function for  more details.\n",
      "5/5 [==============================] - 9s 551ms/step - loss: 2.0036 - val_loss: 2.0246\n",
      "Epoch 2/2\n",
      "5/5 [==============================] - 0s 68ms/step - loss: 1.9310 - val_loss: 2.0162\n",
      "Epoch 1/2\n",
      "5/5 [==============================] - ETA: 0s - loss: 2.0474WARNING:tensorflow:6 out of the last 11 calls to <function Model.make_test_function.<locals>.test_function at 0x000001BA611F2160> triggered tf.function retracing. Tracing is expensive and the excessive number of tracings could be due to (1) creating @tf.function repeatedly in a loop, (2) passing tensors with different shapes, (3) passing Python objects instead of tensors. For (1), please define your @tf.function outside of the loop. For (2), @tf.function has experimental_relax_shapes=True option that relaxes argument shapes that can avoid unnecessary retracing. For (3), please refer to https://www.tensorflow.org/guide/function#controlling_retracing and https://www.tensorflow.org/api_docs/python/tf/function for  more details.\n",
      "5/5 [==============================] - 9s 551ms/step - loss: 2.0461 - val_loss: 2.0220\n",
      "Epoch 2/2\n",
      "5/5 [==============================] - 0s 77ms/step - loss: 1.9866 - val_loss: 2.0156\n",
      "Epoch 1/2\n",
      "4/5 [=======================>......] - ETA: 0s - loss: 2.0550WARNING:tensorflow:6 out of the last 11 calls to <function Model.make_test_function.<locals>.test_function at 0x000001BA52F10D30> triggered tf.function retracing. Tracing is expensive and the excessive number of tracings could be due to (1) creating @tf.function repeatedly in a loop, (2) passing tensors with different shapes, (3) passing Python objects instead of tensors. For (1), please define your @tf.function outside of the loop. For (2), @tf.function has experimental_relax_shapes=True option that relaxes argument shapes that can avoid unnecessary retracing. For (3), please refer to https://www.tensorflow.org/guide/function#controlling_retracing and https://www.tensorflow.org/api_docs/python/tf/function for  more details.\n",
      "5/5 [==============================] - 9s 549ms/step - loss: 2.0516 - val_loss: 2.0280\n",
      "Epoch 2/2\n",
      "5/5 [==============================] - 0s 80ms/step - loss: 1.9902 - val_loss: 2.0207\n",
      "Epoch 1/2\n",
      "5/5 [==============================] - ETA: 0s - loss: 2.0332WARNING:tensorflow:6 out of the last 11 calls to <function Model.make_test_function.<locals>.test_function at 0x000001BA6100E5E0> triggered tf.function retracing. Tracing is expensive and the excessive number of tracings could be due to (1) creating @tf.function repeatedly in a loop, (2) passing tensors with different shapes, (3) passing Python objects instead of tensors. For (1), please define your @tf.function outside of the loop. For (2), @tf.function has experimental_relax_shapes=True option that relaxes argument shapes that can avoid unnecessary retracing. For (3), please refer to https://www.tensorflow.org/guide/function#controlling_retracing and https://www.tensorflow.org/api_docs/python/tf/function for  more details.\n",
      "5/5 [==============================] - 9s 554ms/step - loss: 2.0316 - val_loss: 2.0439\n",
      "Epoch 2/2\n",
      "5/5 [==============================] - 0s 73ms/step - loss: 1.9701 - val_loss: 2.0374\n",
      "Epoch 1/2\n"
     ]
    },
    {
     "name": "stdout",
     "output_type": "stream",
     "text": [
      "5/5 [==============================] - ETA: 0s - loss: 2.0407WARNING:tensorflow:6 out of the last 11 calls to <function Model.make_test_function.<locals>.test_function at 0x000001BA54F2EEE0> triggered tf.function retracing. Tracing is expensive and the excessive number of tracings could be due to (1) creating @tf.function repeatedly in a loop, (2) passing tensors with different shapes, (3) passing Python objects instead of tensors. For (1), please define your @tf.function outside of the loop. For (2), @tf.function has experimental_relax_shapes=True option that relaxes argument shapes that can avoid unnecessary retracing. For (3), please refer to https://www.tensorflow.org/guide/function#controlling_retracing and https://www.tensorflow.org/api_docs/python/tf/function for  more details.\n",
      "5/5 [==============================] - 9s 542ms/step - loss: 2.0390 - val_loss: 2.0414\n",
      "Epoch 2/2\n",
      "5/5 [==============================] - 0s 67ms/step - loss: 1.9732 - val_loss: 2.0319\n",
      "\n",
      " ========================== Approach detect_infrequents ==========================\n",
      "folder_output: \n",
      "E:\\EXPERIMENTOS2020\\anomaly_detection\\research_questions\\best_anomaly_detection_and_descovery\\resultados\\resultados_gexp_infreq_62919017539\n",
      "\n",
      "\n",
      "\n",
      "\n",
      "=================Experiment1=====================\n",
      "\n",
      "\n",
      "Data about experiment:\n",
      "log_bimp                                                  log_bimp_ptall.csv\n",
      "log_anomaly_intuition                                                     af\n",
      "log_control_flow_type                                                    all\n",
      "s_k_cv                                                                     5\n",
      "s_tipo_heuristica                                                       None\n",
      "s_method_for_explore_thresholds                           percentiles_unique\n",
      "s_strategy_tr_tst                        cv_without_traces_duplicated_tst_tr\n",
      "s_avaliation_type                                           q_classification\n",
      "s_avaliation_gran_level                                      anomalous_cases\n",
      "exp_group_name                                                     test_case\n",
      "exp_group_id                                         gexp_infreq_62919017539\n",
      "use_mask                                                             default\n",
      "p_modelit_id                                                               1\n",
      "log_name                           tstideplus_log_original_ptall_ataf_01.pkl\n",
      "scaling_factors                                                      0.0 1.0\n",
      "p_modelit_vapproach                                                 original\n",
      "p_modelit_voutlierness_calc                                         original\n",
      "p_modelit_type                                            detect_infrequents\n",
      "log_name_abbrev                                                         af01\n",
      "Name: 0, dtype: object\n",
      "\n",
      "\n",
      "\n",
      "\n",
      "=================Experiment2=====================\n",
      "\n",
      "\n",
      "Data about experiment:\n",
      "log_bimp                                                  log_bimp_ptall.csv\n",
      "log_anomaly_intuition                                                     af\n",
      "log_control_flow_type                                                    all\n",
      "s_k_cv                                                                     5\n",
      "s_tipo_heuristica                                                       None\n",
      "s_method_for_explore_thresholds                           percentiles_unique\n",
      "s_strategy_tr_tst                        cv_without_traces_duplicated_tst_tr\n",
      "s_avaliation_type                                           q_classification\n",
      "s_avaliation_gran_level                                      anomalous_cases\n",
      "exp_group_name                                                     test_case\n",
      "exp_group_id                                         gexp_infreq_62919017539\n",
      "use_mask                                                             default\n",
      "p_modelit_id                                                               2\n",
      "log_name                           tstideplus_log_original_ptall_ataf_02.pkl\n",
      "scaling_factors                                                      0.0 1.0\n",
      "p_modelit_vapproach                                                 original\n",
      "p_modelit_voutlierness_calc                                         original\n",
      "p_modelit_type                                            detect_infrequents\n",
      "log_name_abbrev                                                         af02\n",
      "Name: 1, dtype: object\n",
      "\n",
      "\n",
      "\n",
      "\n",
      "=================Experiment3=====================\n",
      "\n",
      "\n",
      "Data about experiment:\n",
      "log_bimp                                                  log_bimp_ptall.csv\n",
      "log_anomaly_intuition                                                     af\n",
      "log_control_flow_type                                                    all\n",
      "s_k_cv                                                                     5\n",
      "s_tipo_heuristica                                                       None\n",
      "s_method_for_explore_thresholds                           percentiles_unique\n",
      "s_strategy_tr_tst                        cv_without_traces_duplicated_tst_tr\n",
      "s_avaliation_type                                           q_classification\n",
      "s_avaliation_gran_level                                      anomalous_cases\n",
      "exp_group_name                                                     test_case\n",
      "exp_group_id                                         gexp_infreq_62919017539\n",
      "use_mask                                                             default\n",
      "p_modelit_id                                                               3\n",
      "log_name                           tstideplus_log_original_ptall_ataf_03.pkl\n",
      "scaling_factors                                                      0.0 1.0\n",
      "p_modelit_vapproach                                                 original\n",
      "p_modelit_voutlierness_calc                                         original\n",
      "p_modelit_type                                            detect_infrequents\n",
      "log_name_abbrev                                                         af03\n",
      "Name: 2, dtype: object\n",
      "\n",
      "\n",
      "\n",
      "\n",
      "=================Experiment4=====================\n",
      "\n",
      "\n",
      "Data about experiment:\n",
      "log_bimp                                                  log_bimp_ptall.csv\n",
      "log_anomaly_intuition                                                     ia\n",
      "log_control_flow_type                                                    all\n",
      "s_k_cv                                                                     5\n",
      "s_tipo_heuristica                                                       None\n",
      "s_method_for_explore_thresholds                           percentiles_unique\n",
      "s_strategy_tr_tst                        cv_without_traces_duplicated_tst_tr\n",
      "s_avaliation_type                                           q_classification\n",
      "s_avaliation_gran_level                                      anomalous_cases\n",
      "exp_group_name                                                     test_case\n",
      "exp_group_id                                         gexp_infreq_62919017539\n",
      "use_mask                                                             default\n",
      "p_modelit_id                                                               4\n",
      "log_name                           tstideplus_log_original_ptall_atia_01.pkl\n",
      "scaling_factors                                                      0.0 1.0\n",
      "p_modelit_vapproach                                                 original\n",
      "p_modelit_voutlierness_calc                                         original\n",
      "p_modelit_type                                            detect_infrequents\n",
      "log_name_abbrev                                                         ia01\n",
      "Name: 3, dtype: object\n",
      "\n",
      "\n",
      "\n",
      "\n",
      "=================Experiment5=====================\n",
      "\n",
      "\n",
      "Data about experiment:\n",
      "log_bimp                                                  log_bimp_ptall.csv\n",
      "log_anomaly_intuition                                                     ia\n",
      "log_control_flow_type                                                    all\n",
      "s_k_cv                                                                     5\n",
      "s_tipo_heuristica                                                       None\n",
      "s_method_for_explore_thresholds                           percentiles_unique\n",
      "s_strategy_tr_tst                        cv_without_traces_duplicated_tst_tr\n",
      "s_avaliation_type                                           q_classification\n",
      "s_avaliation_gran_level                                      anomalous_cases\n",
      "exp_group_name                                                     test_case\n",
      "exp_group_id                                         gexp_infreq_62919017539\n",
      "use_mask                                                             default\n",
      "p_modelit_id                                                               5\n",
      "log_name                           tstideplus_log_original_ptall_atia_02.pkl\n",
      "scaling_factors                                                      0.0 1.0\n",
      "p_modelit_vapproach                                                 original\n",
      "p_modelit_voutlierness_calc                                         original\n",
      "p_modelit_type                                            detect_infrequents\n",
      "log_name_abbrev                                                         ia02\n",
      "Name: 4, dtype: object\n",
      "\n",
      "\n"
     ]
    },
    {
     "name": "stdout",
     "output_type": "stream",
     "text": [
      "\n",
      "\n",
      "=================Experiment6=====================\n",
      "\n",
      "\n",
      "Data about experiment:\n",
      "log_bimp                                                  log_bimp_ptall.csv\n",
      "log_anomaly_intuition                                                     ia\n",
      "log_control_flow_type                                                    all\n",
      "s_k_cv                                                                     5\n",
      "s_tipo_heuristica                                                       None\n",
      "s_method_for_explore_thresholds                           percentiles_unique\n",
      "s_strategy_tr_tst                        cv_without_traces_duplicated_tst_tr\n",
      "s_avaliation_type                                           q_classification\n",
      "s_avaliation_gran_level                                      anomalous_cases\n",
      "exp_group_name                                                     test_case\n",
      "exp_group_id                                         gexp_infreq_62919017539\n",
      "use_mask                                                             default\n",
      "p_modelit_id                                                               6\n",
      "log_name                           tstideplus_log_original_ptall_atia_03.pkl\n",
      "scaling_factors                                                      0.0 1.0\n",
      "p_modelit_vapproach                                                 original\n",
      "p_modelit_voutlierness_calc                                         original\n",
      "p_modelit_type                                            detect_infrequents\n",
      "log_name_abbrev                                                         ia03\n",
      "Name: 5, dtype: object\n",
      "\n",
      "\n",
      "\n",
      "\n",
      "=================Experiment7=====================\n",
      "\n",
      "\n",
      "Data about experiment:\n",
      "log_bimp                                                  log_bimp_ptall.csv\n",
      "log_anomaly_intuition                                                     ta\n",
      "log_control_flow_type                                                    all\n",
      "s_k_cv                                                                     5\n",
      "s_tipo_heuristica                                                       None\n",
      "s_method_for_explore_thresholds                           percentiles_unique\n",
      "s_strategy_tr_tst                        cv_without_traces_duplicated_tst_tr\n",
      "s_avaliation_type                                           q_classification\n",
      "s_avaliation_gran_level                                      anomalous_cases\n",
      "exp_group_name                                                     test_case\n",
      "exp_group_id                                         gexp_infreq_62919017539\n",
      "use_mask                                                             default\n",
      "p_modelit_id                                                               7\n",
      "log_name                           tstideplus_log_original_ptall_atta_01.pkl\n",
      "scaling_factors                                                      0.0 1.0\n",
      "p_modelit_vapproach                                                 original\n",
      "p_modelit_voutlierness_calc                                         original\n",
      "p_modelit_type                                            detect_infrequents\n",
      "log_name_abbrev                                                         ta01\n",
      "Name: 6, dtype: object\n",
      "\n",
      "\n",
      "\n",
      "\n",
      "=================Experiment8=====================\n",
      "\n",
      "\n",
      "Data about experiment:\n",
      "log_bimp                                                  log_bimp_ptall.csv\n",
      "log_anomaly_intuition                                                     ta\n",
      "log_control_flow_type                                                    all\n",
      "s_k_cv                                                                     5\n",
      "s_tipo_heuristica                                                       None\n",
      "s_method_for_explore_thresholds                           percentiles_unique\n",
      "s_strategy_tr_tst                        cv_without_traces_duplicated_tst_tr\n",
      "s_avaliation_type                                           q_classification\n",
      "s_avaliation_gran_level                                      anomalous_cases\n",
      "exp_group_name                                                     test_case\n",
      "exp_group_id                                         gexp_infreq_62919017539\n",
      "use_mask                                                             default\n",
      "p_modelit_id                                                               8\n",
      "log_name                           tstideplus_log_original_ptall_atta_02.pkl\n",
      "scaling_factors                                                      0.0 1.0\n",
      "p_modelit_vapproach                                                 original\n",
      "p_modelit_voutlierness_calc                                         original\n",
      "p_modelit_type                                            detect_infrequents\n",
      "log_name_abbrev                                                         ta02\n",
      "Name: 7, dtype: object\n",
      "\n",
      "\n",
      "\n",
      "\n",
      "=================Experiment9=====================\n",
      "\n",
      "\n",
      "Data about experiment:\n",
      "log_bimp                                                  log_bimp_ptall.csv\n",
      "log_anomaly_intuition                                                     ta\n",
      "log_control_flow_type                                                    all\n",
      "s_k_cv                                                                     5\n",
      "s_tipo_heuristica                                                       None\n",
      "s_method_for_explore_thresholds                           percentiles_unique\n",
      "s_strategy_tr_tst                        cv_without_traces_duplicated_tst_tr\n",
      "s_avaliation_type                                           q_classification\n",
      "s_avaliation_gran_level                                      anomalous_cases\n",
      "exp_group_name                                                     test_case\n",
      "exp_group_id                                         gexp_infreq_62919017539\n",
      "use_mask                                                             default\n",
      "p_modelit_id                                                               9\n",
      "log_name                           tstideplus_log_original_ptall_atta_03.pkl\n",
      "scaling_factors                                                      0.0 1.0\n",
      "p_modelit_vapproach                                                 original\n",
      "p_modelit_voutlierness_calc                                         original\n",
      "p_modelit_type                                            detect_infrequents\n",
      "log_name_abbrev                                                         ta03\n",
      "Name: 8, dtype: object\n",
      "\n",
      "\n",
      "\n",
      " ========================== Approach random ==========================\n",
      "folder_output: \n",
      "E:\\EXPERIMENTOS2020\\anomaly_detection\\research_questions\\best_anomaly_detection_and_descovery\\resultados\\resultados_gexp_rndm_62919028900\n",
      "\n",
      "\n",
      "\n",
      "\n",
      "=================Experiment1=====================\n",
      "\n",
      "\n",
      "Data about experiment:\n",
      "log_bimp                                                  log_bimp_ptall.csv\n",
      "log_anomaly_intuition                                                     af\n",
      "log_control_flow_type                                                    all\n",
      "s_k_cv                                                                     5\n",
      "s_tipo_heuristica                                                       None\n",
      "s_method_for_explore_thresholds                           percentiles_unique\n",
      "s_strategy_tr_tst                        cv_without_traces_duplicated_tst_tr\n",
      "s_avaliation_type                                           q_classification\n",
      "s_avaliation_gran_level                                      anomalous_cases\n",
      "exp_group_name                                                     test_case\n",
      "exp_group_id                                           gexp_rndm_62919028900\n",
      "use_mask                                                             default\n",
      "p_modelit_id                                                               1\n",
      "log_name                           tstideplus_log_original_ptall_ataf_01.pkl\n",
      "scaling_factors                                                      0.0 1.0\n",
      "p_modelit_vapproach                                                 original\n",
      "p_modelit_voutlierness_calc                                         original\n",
      "p_modelit_type                                                        random\n",
      "log_name_abbrev                                                         af01\n",
      "Name: 0, dtype: object\n",
      "\n",
      "\n",
      "\n",
      "\n",
      "=================Experiment2=====================\n",
      "\n",
      "\n",
      "Data about experiment:\n",
      "log_bimp                                                  log_bimp_ptall.csv\n",
      "log_anomaly_intuition                                                     af\n",
      "log_control_flow_type                                                    all\n",
      "s_k_cv                                                                     5\n",
      "s_tipo_heuristica                                                       None\n",
      "s_method_for_explore_thresholds                           percentiles_unique\n",
      "s_strategy_tr_tst                        cv_without_traces_duplicated_tst_tr\n",
      "s_avaliation_type                                           q_classification\n",
      "s_avaliation_gran_level                                      anomalous_cases\n",
      "exp_group_name                                                     test_case\n",
      "exp_group_id                                           gexp_rndm_62919028900\n",
      "use_mask                                                             default\n",
      "p_modelit_id                                                               2\n",
      "log_name                           tstideplus_log_original_ptall_ataf_02.pkl\n",
      "scaling_factors                                                      0.0 1.0\n",
      "p_modelit_vapproach                                                 original\n",
      "p_modelit_voutlierness_calc                                         original\n",
      "p_modelit_type                                                        random\n",
      "log_name_abbrev                                                         af02\n",
      "Name: 1, dtype: object\n",
      "\n",
      "\n"
     ]
    },
    {
     "name": "stdout",
     "output_type": "stream",
     "text": [
      "\n",
      "\n",
      "=================Experiment3=====================\n",
      "\n",
      "\n",
      "Data about experiment:\n",
      "log_bimp                                                  log_bimp_ptall.csv\n",
      "log_anomaly_intuition                                                     af\n",
      "log_control_flow_type                                                    all\n",
      "s_k_cv                                                                     5\n",
      "s_tipo_heuristica                                                       None\n",
      "s_method_for_explore_thresholds                           percentiles_unique\n",
      "s_strategy_tr_tst                        cv_without_traces_duplicated_tst_tr\n",
      "s_avaliation_type                                           q_classification\n",
      "s_avaliation_gran_level                                      anomalous_cases\n",
      "exp_group_name                                                     test_case\n",
      "exp_group_id                                           gexp_rndm_62919028900\n",
      "use_mask                                                             default\n",
      "p_modelit_id                                                               3\n",
      "log_name                           tstideplus_log_original_ptall_ataf_03.pkl\n",
      "scaling_factors                                                      0.0 1.0\n",
      "p_modelit_vapproach                                                 original\n",
      "p_modelit_voutlierness_calc                                         original\n",
      "p_modelit_type                                                        random\n",
      "log_name_abbrev                                                         af03\n",
      "Name: 2, dtype: object\n",
      "\n",
      "\n",
      "\n",
      "\n",
      "=================Experiment4=====================\n",
      "\n",
      "\n",
      "Data about experiment:\n",
      "log_bimp                                                  log_bimp_ptall.csv\n",
      "log_anomaly_intuition                                                     ia\n",
      "log_control_flow_type                                                    all\n",
      "s_k_cv                                                                     5\n",
      "s_tipo_heuristica                                                       None\n",
      "s_method_for_explore_thresholds                           percentiles_unique\n",
      "s_strategy_tr_tst                        cv_without_traces_duplicated_tst_tr\n",
      "s_avaliation_type                                           q_classification\n",
      "s_avaliation_gran_level                                      anomalous_cases\n",
      "exp_group_name                                                     test_case\n",
      "exp_group_id                                           gexp_rndm_62919028900\n",
      "use_mask                                                             default\n",
      "p_modelit_id                                                               4\n",
      "log_name                           tstideplus_log_original_ptall_atia_01.pkl\n",
      "scaling_factors                                                      0.0 1.0\n",
      "p_modelit_vapproach                                                 original\n",
      "p_modelit_voutlierness_calc                                         original\n",
      "p_modelit_type                                                        random\n",
      "log_name_abbrev                                                         ia01\n",
      "Name: 3, dtype: object\n",
      "\n",
      "\n",
      "\n",
      "\n",
      "=================Experiment5=====================\n",
      "\n",
      "\n",
      "Data about experiment:\n",
      "log_bimp                                                  log_bimp_ptall.csv\n",
      "log_anomaly_intuition                                                     ia\n",
      "log_control_flow_type                                                    all\n",
      "s_k_cv                                                                     5\n",
      "s_tipo_heuristica                                                       None\n",
      "s_method_for_explore_thresholds                           percentiles_unique\n",
      "s_strategy_tr_tst                        cv_without_traces_duplicated_tst_tr\n",
      "s_avaliation_type                                           q_classification\n",
      "s_avaliation_gran_level                                      anomalous_cases\n",
      "exp_group_name                                                     test_case\n",
      "exp_group_id                                           gexp_rndm_62919028900\n",
      "use_mask                                                             default\n",
      "p_modelit_id                                                               5\n",
      "log_name                           tstideplus_log_original_ptall_atia_02.pkl\n",
      "scaling_factors                                                      0.0 1.0\n",
      "p_modelit_vapproach                                                 original\n",
      "p_modelit_voutlierness_calc                                         original\n",
      "p_modelit_type                                                        random\n",
      "log_name_abbrev                                                         ia02\n",
      "Name: 4, dtype: object\n",
      "\n",
      "\n",
      "\n",
      "\n",
      "=================Experiment6=====================\n",
      "\n",
      "\n",
      "Data about experiment:\n",
      "log_bimp                                                  log_bimp_ptall.csv\n",
      "log_anomaly_intuition                                                     ia\n",
      "log_control_flow_type                                                    all\n",
      "s_k_cv                                                                     5\n",
      "s_tipo_heuristica                                                       None\n",
      "s_method_for_explore_thresholds                           percentiles_unique\n",
      "s_strategy_tr_tst                        cv_without_traces_duplicated_tst_tr\n",
      "s_avaliation_type                                           q_classification\n",
      "s_avaliation_gran_level                                      anomalous_cases\n",
      "exp_group_name                                                     test_case\n",
      "exp_group_id                                           gexp_rndm_62919028900\n",
      "use_mask                                                             default\n",
      "p_modelit_id                                                               6\n",
      "log_name                           tstideplus_log_original_ptall_atia_03.pkl\n",
      "scaling_factors                                                      0.0 1.0\n",
      "p_modelit_vapproach                                                 original\n",
      "p_modelit_voutlierness_calc                                         original\n",
      "p_modelit_type                                                        random\n",
      "log_name_abbrev                                                         ia03\n",
      "Name: 5, dtype: object\n",
      "\n",
      "\n",
      "\n",
      "\n",
      "=================Experiment7=====================\n",
      "\n",
      "\n",
      "Data about experiment:\n",
      "log_bimp                                                  log_bimp_ptall.csv\n",
      "log_anomaly_intuition                                                     ta\n",
      "log_control_flow_type                                                    all\n",
      "s_k_cv                                                                     5\n",
      "s_tipo_heuristica                                                       None\n",
      "s_method_for_explore_thresholds                           percentiles_unique\n",
      "s_strategy_tr_tst                        cv_without_traces_duplicated_tst_tr\n",
      "s_avaliation_type                                           q_classification\n",
      "s_avaliation_gran_level                                      anomalous_cases\n",
      "exp_group_name                                                     test_case\n",
      "exp_group_id                                           gexp_rndm_62919028900\n",
      "use_mask                                                             default\n",
      "p_modelit_id                                                               7\n",
      "log_name                           tstideplus_log_original_ptall_atta_01.pkl\n",
      "scaling_factors                                                      0.0 1.0\n",
      "p_modelit_vapproach                                                 original\n",
      "p_modelit_voutlierness_calc                                         original\n",
      "p_modelit_type                                                        random\n",
      "log_name_abbrev                                                         ta01\n",
      "Name: 6, dtype: object\n",
      "\n",
      "\n",
      "\n",
      "\n",
      "=================Experiment8=====================\n",
      "\n",
      "\n",
      "Data about experiment:\n",
      "log_bimp                                                  log_bimp_ptall.csv\n",
      "log_anomaly_intuition                                                     ta\n",
      "log_control_flow_type                                                    all\n",
      "s_k_cv                                                                     5\n",
      "s_tipo_heuristica                                                       None\n",
      "s_method_for_explore_thresholds                           percentiles_unique\n",
      "s_strategy_tr_tst                        cv_without_traces_duplicated_tst_tr\n",
      "s_avaliation_type                                           q_classification\n",
      "s_avaliation_gran_level                                      anomalous_cases\n",
      "exp_group_name                                                     test_case\n",
      "exp_group_id                                           gexp_rndm_62919028900\n",
      "use_mask                                                             default\n",
      "p_modelit_id                                                               8\n",
      "log_name                           tstideplus_log_original_ptall_atta_02.pkl\n",
      "scaling_factors                                                      0.0 1.0\n",
      "p_modelit_vapproach                                                 original\n",
      "p_modelit_voutlierness_calc                                         original\n",
      "p_modelit_type                                                        random\n",
      "log_name_abbrev                                                         ta02\n",
      "Name: 7, dtype: object\n",
      "\n",
      "\n"
     ]
    },
    {
     "name": "stdout",
     "output_type": "stream",
     "text": [
      "\n",
      "\n",
      "=================Experiment9=====================\n",
      "\n",
      "\n",
      "Data about experiment:\n",
      "log_bimp                                                  log_bimp_ptall.csv\n",
      "log_anomaly_intuition                                                     ta\n",
      "log_control_flow_type                                                    all\n",
      "s_k_cv                                                                     5\n",
      "s_tipo_heuristica                                                       None\n",
      "s_method_for_explore_thresholds                           percentiles_unique\n",
      "s_strategy_tr_tst                        cv_without_traces_duplicated_tst_tr\n",
      "s_avaliation_type                                           q_classification\n",
      "s_avaliation_gran_level                                      anomalous_cases\n",
      "exp_group_name                                                     test_case\n",
      "exp_group_id                                           gexp_rndm_62919028900\n",
      "use_mask                                                             default\n",
      "p_modelit_id                                                               9\n",
      "log_name                           tstideplus_log_original_ptall_atta_03.pkl\n",
      "scaling_factors                                                      0.0 1.0\n",
      "p_modelit_vapproach                                                 original\n",
      "p_modelit_voutlierness_calc                                         original\n",
      "p_modelit_type                                                        random\n",
      "log_name_abbrev                                                         ta03\n",
      "Name: 8, dtype: object\n",
      "\n",
      "\n",
      "\n",
      " ========================== All Approaches in list ==========================\n",
      "full.csv was created\n",
      "Fig14\n"
     ]
    },
    {
     "data": {
      "text/html": [
       "        <script type=\"text/javascript\">\n",
       "        window.PlotlyConfig = {MathJaxConfig: 'local'};\n",
       "        if (window.MathJax) {MathJax.Hub.Config({SVG: {font: \"STIX-Web\"}});}\n",
       "        if (typeof require !== 'undefined') {\n",
       "        require.undef(\"plotly\");\n",
       "        requirejs.config({\n",
       "            paths: {\n",
       "                'plotly': ['https://cdn.plot.ly/plotly-latest.min']\n",
       "            }\n",
       "        });\n",
       "        require(['plotly'], function(Plotly) {\n",
       "            window._Plotly = Plotly;\n",
       "        });\n",
       "        }\n",
       "        </script>\n",
       "        "
      ]
     },
     "metadata": {},
     "output_type": "display_data"
    },
    {
     "data": {
      "application/vnd.plotly.v1+json": {
       "config": {
        "linkText": "Export to plot.ly",
        "plotlyServerURL": "https://plot.ly",
        "showLink": false
       },
       "data": [
        {
         "alignmentgroup": "True",
         "boxpoints": "all",
         "hovertemplate": "Abordagem=DAE<br>Anomalia=%{x}<br>AP=%{y}<extra></extra>",
         "legendgroup": "DAE",
         "marker": {
          "color": "#636efa"
         },
         "name": "DAE",
         "notched": false,
         "offsetgroup": "DAE",
         "orientation": "v",
         "showlegend": true,
         "type": "box",
         "x": [
          "AF",
          "AF",
          "AF",
          "AF",
          "AF",
          "AF",
          "AF",
          "AF",
          "AF",
          "AF",
          "AF",
          "AF",
          "AF",
          "AF",
          "AF",
          "IA",
          "IA",
          "IA",
          "IA",
          "IA",
          "IA",
          "IA",
          "IA",
          "IA",
          "IA",
          "IA",
          "IA",
          "IA",
          "IA",
          "IA",
          "TA",
          "TA",
          "TA",
          "TA",
          "TA",
          "TA",
          "TA",
          "TA",
          "TA",
          "TA",
          "TA",
          "TA",
          "TA",
          "TA",
          "TA"
         ],
         "x0": " ",
         "xaxis": "x",
         "y": [
          0.7070124176582893,
          0.7589870249169821,
          0.7485747931641061,
          0.7098678198310142,
          0.7854810696764857,
          0.6284255669056173,
          0.5950307134415346,
          0.7218804791156311,
          0.7649734606296871,
          0.5553259012399351,
          0.4376668793919256,
          0.640650467911704,
          0.6927695600584234,
          0.4196621720313559,
          0.7729772258868793,
          0.5197993102707158,
          0.5985643301636293,
          0.4602557805138669,
          0.7131099825047627,
          0.5133606796036255,
          0.6294141291269293,
          0.5502949330370958,
          0.6054806921461279,
          0.7812799029349639,
          0.6303233416739749,
          0.31762918599561185,
          0.4733445737372377,
          0.4034206361895276,
          0.6568274019572167,
          0.6299093231931823,
          0.8542808576761171,
          0.8890795793542119,
          0.5832695121204416,
          0.5710549998734782,
          0.7238427856807408,
          0.7585984513912334,
          0.6744084039433645,
          0.7087913882987497,
          0.6977801464212601,
          0.7315041751876603,
          0.4889348056328103,
          0.7770959384361219,
          0.7269937849474166,
          0.6929671705477883,
          0.7095142637094979
         ],
         "y0": " ",
         "yaxis": "y"
        },
        {
         "alignmentgroup": "True",
         "boxpoints": "all",
         "hovertemplate": "Abordagem=Binet<br>Anomalia=%{x}<br>AP=%{y}<extra></extra>",
         "legendgroup": "Binet",
         "marker": {
          "color": "#EF553B"
         },
         "name": "Binet",
         "notched": false,
         "offsetgroup": "Binet",
         "orientation": "v",
         "showlegend": true,
         "type": "box",
         "x": [
          "AF",
          "AF",
          "AF",
          "AF",
          "AF",
          "AF",
          "AF",
          "AF",
          "AF",
          "AF",
          "AF",
          "AF",
          "AF",
          "AF",
          "AF",
          "IA",
          "IA",
          "IA",
          "IA",
          "IA",
          "IA",
          "IA",
          "IA",
          "IA",
          "IA",
          "IA",
          "IA",
          "IA",
          "IA",
          "IA",
          "TA",
          "TA",
          "TA",
          "TA",
          "TA",
          "TA",
          "TA",
          "TA",
          "TA",
          "TA",
          "TA",
          "TA",
          "TA",
          "TA",
          "TA"
         ],
         "x0": " ",
         "xaxis": "x",
         "y": [
          0.27879246438795224,
          0.2725849471767725,
          0.30163492989408913,
          0.2917047285084685,
          0.3143980930707161,
          0.26174677417726816,
          0.2803823313556722,
          0.2935217904067493,
          0.306012074574476,
          0.2760702999786634,
          0.28358993769090635,
          0.3389081210470495,
          0.2983060333373769,
          0.3028129864326125,
          0.3453128314912417,
          0.3880029655669307,
          0.4234070000225885,
          0.5810748724205981,
          0.4209778534875373,
          0.4002572547357863,
          0.4675119010472582,
          0.3996122189065297,
          0.5333690003587879,
          0.3517768652609618,
          0.35114773006054256,
          0.4346135245828912,
          0.4071054930381104,
          0.3846669541309285,
          0.4932629210479247,
          0.4366368625745564,
          0.4666862180621347,
          0.4011009906657023,
          0.4602870391476785,
          0.4831865021975567,
          0.6186240449784739,
          0.4850326807486858,
          0.40614628650929896,
          0.4825337708589528,
          0.4716228763630079,
          0.4310382742218473,
          0.4265494674877797,
          0.3542225495675661,
          0.450585859207758,
          0.5313823889503542,
          0.3755155381662113
         ],
         "y0": " ",
         "yaxis": "y"
        },
        {
         "alignmentgroup": "True",
         "boxpoints": "all",
         "hovertemplate": "Abordagem=ABRI<br>Anomalia=%{x}<br>AP=%{y}<extra></extra>",
         "legendgroup": "ABRI",
         "marker": {
          "color": "#00cc96"
         },
         "name": "ABRI",
         "notched": false,
         "offsetgroup": "ABRI",
         "orientation": "v",
         "showlegend": true,
         "type": "box",
         "x": [
          "AF",
          "AF",
          "AF",
          "AF",
          "AF",
          "AF",
          "AF",
          "AF",
          "AF",
          "AF",
          "AF",
          "AF",
          "AF",
          "AF",
          "AF",
          "IA",
          "IA",
          "IA",
          "IA",
          "IA",
          "IA",
          "IA",
          "IA",
          "IA",
          "IA",
          "IA",
          "IA",
          "IA",
          "IA",
          "IA",
          "TA",
          "TA",
          "TA",
          "TA",
          "TA",
          "TA",
          "TA",
          "TA",
          "TA",
          "TA",
          "TA",
          "TA",
          "TA",
          "TA",
          "TA"
         ],
         "x0": " ",
         "xaxis": "x",
         "y": [
          0.8850793471529592,
          0.8861539559366838,
          0.8883945841032395,
          0.8865495584380163,
          0.8884796263076262,
          0.8876777161048043,
          0.8992642089939169,
          0.8998964449186204,
          0.89041150556685,
          0.8998531536778314,
          0.9041375087406848,
          0.8903610849668527,
          0.8952204207881644,
          0.9038905286869721,
          0.8933679670547703,
          0.9692737889629082,
          0.9637938665000522,
          0.9700132379679232,
          0.9632678829107402,
          0.9583755854942296,
          0.9581761658031088,
          0.9527647610121838,
          0.9527647610121838,
          0.9467013888888888,
          0.9465885225885228,
          0.9543235331551484,
          0.9596382384062936,
          0.9547530864197532,
          0.9587684579015716,
          0.9650124843945068,
          0.950880681818182,
          0.9567068308031378,
          0.9611694476409668,
          0.9579437683211268,
          0.950880681818182,
          0.9408459595959596,
          0.9530725138294412,
          0.9513739705120084,
          0.9451191447858156,
          0.9456909422174506,
          0.9574928407789232,
          0.9574928407789232,
          0.9567068308031378,
          0.9574928407789232,
          0.9544831423729672
         ],
         "y0": " ",
         "yaxis": "y"
        },
        {
         "alignmentgroup": "True",
         "boxpoints": "all",
         "hovertemplate": "Abordagem=Randômica<br>Anomalia=%{x}<br>AP=%{y}<extra></extra>",
         "legendgroup": "Randômica",
         "marker": {
          "color": "#ab63fa"
         },
         "name": "Randômica",
         "notched": false,
         "offsetgroup": "Randômica",
         "orientation": "v",
         "showlegend": true,
         "type": "box",
         "x": [
          "AF",
          "AF",
          "AF",
          "AF",
          "AF",
          "AF",
          "AF",
          "AF",
          "AF",
          "AF",
          "AF",
          "AF",
          "AF",
          "AF",
          "AF",
          "IA",
          "IA",
          "IA",
          "IA",
          "IA",
          "IA",
          "IA",
          "IA",
          "IA",
          "IA",
          "IA",
          "IA",
          "IA",
          "IA",
          "IA",
          "TA",
          "TA",
          "TA",
          "TA",
          "TA",
          "TA",
          "TA",
          "TA",
          "TA",
          "TA",
          "TA",
          "TA",
          "TA",
          "TA",
          "TA"
         ],
         "x0": " ",
         "xaxis": "x",
         "y": [
          0.5239141063103367,
          0.3814666338295831,
          0.3791290143896173,
          0.32409552897040583,
          0.4470311325016744,
          0.2231166483920056,
          0.3507717909653512,
          0.3940973162462801,
          0.4528981309540243,
          0.41253193898434826,
          0.40229363166436943,
          0.4723693905100546,
          0.29057434223047235,
          0.26802238510832965,
          0.3548053562994562,
          0.3694561697691184,
          0.3599479568043049,
          0.3467452476057502,
          0.3199713862883431,
          0.3630517297497263,
          0.2882283178924285,
          0.3343527817117288,
          0.3584902226782233,
          0.3062916721748187,
          0.32025384271794444,
          0.2508142309489432,
          0.3208500140749669,
          0.33293944528192754,
          0.32344433674544043,
          0.3150500526308432,
          0.3665869121564665,
          0.3633785012771184,
          0.338462858066755,
          0.2698730856865986,
          0.3648201787888701,
          0.3026036375836194,
          0.3555945670465883,
          0.38601374089912177,
          0.3390560391064048,
          0.2876746839494648,
          0.31131344699137,
          0.2942099949910031,
          0.3786630792901096,
          0.34614602649528003,
          0.4114631667876324
         ],
         "y0": " ",
         "yaxis": "y"
        },
        {
         "alignmentgroup": "True",
         "boxpoints": "all",
         "hovertemplate": "Abordagem=t-STIDE+<br>Anomalia=%{x}<br>AP=%{y}<extra></extra>",
         "legendgroup": "t-STIDE+",
         "marker": {
          "color": "#FFA15A"
         },
         "name": "t-STIDE+",
         "notched": false,
         "offsetgroup": "t-STIDE+",
         "orientation": "v",
         "showlegend": true,
         "type": "box",
         "x": [
          "AF",
          "AF",
          "AF",
          "AF",
          "AF",
          "AF",
          "AF",
          "AF",
          "AF",
          "AF",
          "AF",
          "AF",
          "AF",
          "AF",
          "AF",
          "IA",
          "IA",
          "IA",
          "IA",
          "IA",
          "IA",
          "IA",
          "IA",
          "IA",
          "IA",
          "IA",
          "IA",
          "IA",
          "IA",
          "IA",
          "TA",
          "TA",
          "TA",
          "TA",
          "TA",
          "TA",
          "TA",
          "TA",
          "TA",
          "TA",
          "TA",
          "TA",
          "TA",
          "TA",
          "TA"
         ],
         "x0": " ",
         "xaxis": "x",
         "y": [
          0.4827777777777778,
          0.5800000000000001,
          0.5955555555555555,
          0.5488888888888889,
          0.5955555555555555,
          0.5527777777777777,
          0.58,
          0.6266666666666667,
          0.4827777777777778,
          0.6188888888888889,
          0.5411111111111111,
          0.5372222222222223,
          0.6111111111111112,
          0.5566666666666665,
          0.5994444444444444,
          0.9766666666666666,
          0.9533333333333334,
          0.9494444444444444,
          0.9377777777777776,
          0.9494444444444444,
          0.965,
          0.9611111111111112,
          0.9494444444444444,
          0.9766666666666668,
          0.9455555555555556,
          0.9611111111111108,
          0.9688888888888888,
          0.9611111111111108,
          0.965,
          0.9572222222222222,
          0.9961111111111112,
          1,
          1,
          1,
          1,
          1,
          1,
          1,
          0.9961111111111112,
          1,
          1,
          0.9922222222222222,
          0.9961111111111112,
          1,
          1
         ],
         "y0": " ",
         "yaxis": "y"
        }
       ],
       "layout": {
        "boxmode": "group",
        "height": 400,
        "legend": {
         "title": {
          "text": "Abordagem"
         },
         "tracegroupgap": 0
        },
        "template": {
         "data": {
          "bar": [
           {
            "error_x": {
             "color": "#2a3f5f"
            },
            "error_y": {
             "color": "#2a3f5f"
            },
            "marker": {
             "line": {
              "color": "#E5ECF6",
              "width": 0.5
             }
            },
            "type": "bar"
           }
          ],
          "barpolar": [
           {
            "marker": {
             "line": {
              "color": "#E5ECF6",
              "width": 0.5
             }
            },
            "type": "barpolar"
           }
          ],
          "carpet": [
           {
            "aaxis": {
             "endlinecolor": "#2a3f5f",
             "gridcolor": "white",
             "linecolor": "white",
             "minorgridcolor": "white",
             "startlinecolor": "#2a3f5f"
            },
            "baxis": {
             "endlinecolor": "#2a3f5f",
             "gridcolor": "white",
             "linecolor": "white",
             "minorgridcolor": "white",
             "startlinecolor": "#2a3f5f"
            },
            "type": "carpet"
           }
          ],
          "choropleth": [
           {
            "colorbar": {
             "outlinewidth": 0,
             "ticks": ""
            },
            "type": "choropleth"
           }
          ],
          "contour": [
           {
            "colorbar": {
             "outlinewidth": 0,
             "ticks": ""
            },
            "colorscale": [
             [
              0,
              "#0d0887"
             ],
             [
              0.1111111111111111,
              "#46039f"
             ],
             [
              0.2222222222222222,
              "#7201a8"
             ],
             [
              0.3333333333333333,
              "#9c179e"
             ],
             [
              0.4444444444444444,
              "#bd3786"
             ],
             [
              0.5555555555555556,
              "#d8576b"
             ],
             [
              0.6666666666666666,
              "#ed7953"
             ],
             [
              0.7777777777777778,
              "#fb9f3a"
             ],
             [
              0.8888888888888888,
              "#fdca26"
             ],
             [
              1,
              "#f0f921"
             ]
            ],
            "type": "contour"
           }
          ],
          "contourcarpet": [
           {
            "colorbar": {
             "outlinewidth": 0,
             "ticks": ""
            },
            "type": "contourcarpet"
           }
          ],
          "heatmap": [
           {
            "colorbar": {
             "outlinewidth": 0,
             "ticks": ""
            },
            "colorscale": [
             [
              0,
              "#0d0887"
             ],
             [
              0.1111111111111111,
              "#46039f"
             ],
             [
              0.2222222222222222,
              "#7201a8"
             ],
             [
              0.3333333333333333,
              "#9c179e"
             ],
             [
              0.4444444444444444,
              "#bd3786"
             ],
             [
              0.5555555555555556,
              "#d8576b"
             ],
             [
              0.6666666666666666,
              "#ed7953"
             ],
             [
              0.7777777777777778,
              "#fb9f3a"
             ],
             [
              0.8888888888888888,
              "#fdca26"
             ],
             [
              1,
              "#f0f921"
             ]
            ],
            "type": "heatmap"
           }
          ],
          "heatmapgl": [
           {
            "colorbar": {
             "outlinewidth": 0,
             "ticks": ""
            },
            "colorscale": [
             [
              0,
              "#0d0887"
             ],
             [
              0.1111111111111111,
              "#46039f"
             ],
             [
              0.2222222222222222,
              "#7201a8"
             ],
             [
              0.3333333333333333,
              "#9c179e"
             ],
             [
              0.4444444444444444,
              "#bd3786"
             ],
             [
              0.5555555555555556,
              "#d8576b"
             ],
             [
              0.6666666666666666,
              "#ed7953"
             ],
             [
              0.7777777777777778,
              "#fb9f3a"
             ],
             [
              0.8888888888888888,
              "#fdca26"
             ],
             [
              1,
              "#f0f921"
             ]
            ],
            "type": "heatmapgl"
           }
          ],
          "histogram": [
           {
            "marker": {
             "colorbar": {
              "outlinewidth": 0,
              "ticks": ""
             }
            },
            "type": "histogram"
           }
          ],
          "histogram2d": [
           {
            "colorbar": {
             "outlinewidth": 0,
             "ticks": ""
            },
            "colorscale": [
             [
              0,
              "#0d0887"
             ],
             [
              0.1111111111111111,
              "#46039f"
             ],
             [
              0.2222222222222222,
              "#7201a8"
             ],
             [
              0.3333333333333333,
              "#9c179e"
             ],
             [
              0.4444444444444444,
              "#bd3786"
             ],
             [
              0.5555555555555556,
              "#d8576b"
             ],
             [
              0.6666666666666666,
              "#ed7953"
             ],
             [
              0.7777777777777778,
              "#fb9f3a"
             ],
             [
              0.8888888888888888,
              "#fdca26"
             ],
             [
              1,
              "#f0f921"
             ]
            ],
            "type": "histogram2d"
           }
          ],
          "histogram2dcontour": [
           {
            "colorbar": {
             "outlinewidth": 0,
             "ticks": ""
            },
            "colorscale": [
             [
              0,
              "#0d0887"
             ],
             [
              0.1111111111111111,
              "#46039f"
             ],
             [
              0.2222222222222222,
              "#7201a8"
             ],
             [
              0.3333333333333333,
              "#9c179e"
             ],
             [
              0.4444444444444444,
              "#bd3786"
             ],
             [
              0.5555555555555556,
              "#d8576b"
             ],
             [
              0.6666666666666666,
              "#ed7953"
             ],
             [
              0.7777777777777778,
              "#fb9f3a"
             ],
             [
              0.8888888888888888,
              "#fdca26"
             ],
             [
              1,
              "#f0f921"
             ]
            ],
            "type": "histogram2dcontour"
           }
          ],
          "mesh3d": [
           {
            "colorbar": {
             "outlinewidth": 0,
             "ticks": ""
            },
            "type": "mesh3d"
           }
          ],
          "parcoords": [
           {
            "line": {
             "colorbar": {
              "outlinewidth": 0,
              "ticks": ""
             }
            },
            "type": "parcoords"
           }
          ],
          "pie": [
           {
            "automargin": true,
            "type": "pie"
           }
          ],
          "scatter": [
           {
            "marker": {
             "colorbar": {
              "outlinewidth": 0,
              "ticks": ""
             }
            },
            "type": "scatter"
           }
          ],
          "scatter3d": [
           {
            "line": {
             "colorbar": {
              "outlinewidth": 0,
              "ticks": ""
             }
            },
            "marker": {
             "colorbar": {
              "outlinewidth": 0,
              "ticks": ""
             }
            },
            "type": "scatter3d"
           }
          ],
          "scattercarpet": [
           {
            "marker": {
             "colorbar": {
              "outlinewidth": 0,
              "ticks": ""
             }
            },
            "type": "scattercarpet"
           }
          ],
          "scattergeo": [
           {
            "marker": {
             "colorbar": {
              "outlinewidth": 0,
              "ticks": ""
             }
            },
            "type": "scattergeo"
           }
          ],
          "scattergl": [
           {
            "marker": {
             "colorbar": {
              "outlinewidth": 0,
              "ticks": ""
             }
            },
            "type": "scattergl"
           }
          ],
          "scattermapbox": [
           {
            "marker": {
             "colorbar": {
              "outlinewidth": 0,
              "ticks": ""
             }
            },
            "type": "scattermapbox"
           }
          ],
          "scatterpolar": [
           {
            "marker": {
             "colorbar": {
              "outlinewidth": 0,
              "ticks": ""
             }
            },
            "type": "scatterpolar"
           }
          ],
          "scatterpolargl": [
           {
            "marker": {
             "colorbar": {
              "outlinewidth": 0,
              "ticks": ""
             }
            },
            "type": "scatterpolargl"
           }
          ],
          "scatterternary": [
           {
            "marker": {
             "colorbar": {
              "outlinewidth": 0,
              "ticks": ""
             }
            },
            "type": "scatterternary"
           }
          ],
          "surface": [
           {
            "colorbar": {
             "outlinewidth": 0,
             "ticks": ""
            },
            "colorscale": [
             [
              0,
              "#0d0887"
             ],
             [
              0.1111111111111111,
              "#46039f"
             ],
             [
              0.2222222222222222,
              "#7201a8"
             ],
             [
              0.3333333333333333,
              "#9c179e"
             ],
             [
              0.4444444444444444,
              "#bd3786"
             ],
             [
              0.5555555555555556,
              "#d8576b"
             ],
             [
              0.6666666666666666,
              "#ed7953"
             ],
             [
              0.7777777777777778,
              "#fb9f3a"
             ],
             [
              0.8888888888888888,
              "#fdca26"
             ],
             [
              1,
              "#f0f921"
             ]
            ],
            "type": "surface"
           }
          ],
          "table": [
           {
            "cells": {
             "fill": {
              "color": "#EBF0F8"
             },
             "line": {
              "color": "white"
             }
            },
            "header": {
             "fill": {
              "color": "#C8D4E3"
             },
             "line": {
              "color": "white"
             }
            },
            "type": "table"
           }
          ]
         },
         "layout": {
          "annotationdefaults": {
           "arrowcolor": "#2a3f5f",
           "arrowhead": 0,
           "arrowwidth": 1
          },
          "autotypenumbers": "strict",
          "coloraxis": {
           "colorbar": {
            "outlinewidth": 0,
            "ticks": ""
           }
          },
          "colorscale": {
           "diverging": [
            [
             0,
             "#8e0152"
            ],
            [
             0.1,
             "#c51b7d"
            ],
            [
             0.2,
             "#de77ae"
            ],
            [
             0.3,
             "#f1b6da"
            ],
            [
             0.4,
             "#fde0ef"
            ],
            [
             0.5,
             "#f7f7f7"
            ],
            [
             0.6,
             "#e6f5d0"
            ],
            [
             0.7,
             "#b8e186"
            ],
            [
             0.8,
             "#7fbc41"
            ],
            [
             0.9,
             "#4d9221"
            ],
            [
             1,
             "#276419"
            ]
           ],
           "sequential": [
            [
             0,
             "#0d0887"
            ],
            [
             0.1111111111111111,
             "#46039f"
            ],
            [
             0.2222222222222222,
             "#7201a8"
            ],
            [
             0.3333333333333333,
             "#9c179e"
            ],
            [
             0.4444444444444444,
             "#bd3786"
            ],
            [
             0.5555555555555556,
             "#d8576b"
            ],
            [
             0.6666666666666666,
             "#ed7953"
            ],
            [
             0.7777777777777778,
             "#fb9f3a"
            ],
            [
             0.8888888888888888,
             "#fdca26"
            ],
            [
             1,
             "#f0f921"
            ]
           ],
           "sequentialminus": [
            [
             0,
             "#0d0887"
            ],
            [
             0.1111111111111111,
             "#46039f"
            ],
            [
             0.2222222222222222,
             "#7201a8"
            ],
            [
             0.3333333333333333,
             "#9c179e"
            ],
            [
             0.4444444444444444,
             "#bd3786"
            ],
            [
             0.5555555555555556,
             "#d8576b"
            ],
            [
             0.6666666666666666,
             "#ed7953"
            ],
            [
             0.7777777777777778,
             "#fb9f3a"
            ],
            [
             0.8888888888888888,
             "#fdca26"
            ],
            [
             1,
             "#f0f921"
            ]
           ]
          },
          "colorway": [
           "#636efa",
           "#EF553B",
           "#00cc96",
           "#ab63fa",
           "#FFA15A",
           "#19d3f3",
           "#FF6692",
           "#B6E880",
           "#FF97FF",
           "#FECB52"
          ],
          "font": {
           "color": "#2a3f5f"
          },
          "geo": {
           "bgcolor": "white",
           "lakecolor": "white",
           "landcolor": "#E5ECF6",
           "showlakes": true,
           "showland": true,
           "subunitcolor": "white"
          },
          "hoverlabel": {
           "align": "left"
          },
          "hovermode": "closest",
          "mapbox": {
           "style": "light"
          },
          "paper_bgcolor": "white",
          "plot_bgcolor": "#E5ECF6",
          "polar": {
           "angularaxis": {
            "gridcolor": "white",
            "linecolor": "white",
            "ticks": ""
           },
           "bgcolor": "#E5ECF6",
           "radialaxis": {
            "gridcolor": "white",
            "linecolor": "white",
            "ticks": ""
           }
          },
          "scene": {
           "xaxis": {
            "backgroundcolor": "#E5ECF6",
            "gridcolor": "white",
            "gridwidth": 2,
            "linecolor": "white",
            "showbackground": true,
            "ticks": "",
            "zerolinecolor": "white"
           },
           "yaxis": {
            "backgroundcolor": "#E5ECF6",
            "gridcolor": "white",
            "gridwidth": 2,
            "linecolor": "white",
            "showbackground": true,
            "ticks": "",
            "zerolinecolor": "white"
           },
           "zaxis": {
            "backgroundcolor": "#E5ECF6",
            "gridcolor": "white",
            "gridwidth": 2,
            "linecolor": "white",
            "showbackground": true,
            "ticks": "",
            "zerolinecolor": "white"
           }
          },
          "shapedefaults": {
           "line": {
            "color": "#2a3f5f"
           }
          },
          "ternary": {
           "aaxis": {
            "gridcolor": "white",
            "linecolor": "white",
            "ticks": ""
           },
           "baxis": {
            "gridcolor": "white",
            "linecolor": "white",
            "ticks": ""
           },
           "bgcolor": "#E5ECF6",
           "caxis": {
            "gridcolor": "white",
            "linecolor": "white",
            "ticks": ""
           }
          },
          "title": {
           "x": 0.05
          },
          "xaxis": {
           "automargin": true,
           "gridcolor": "white",
           "linecolor": "white",
           "ticks": "",
           "title": {
            "standoff": 15
           },
           "zerolinecolor": "white",
           "zerolinewidth": 2
          },
          "yaxis": {
           "automargin": true,
           "gridcolor": "white",
           "linecolor": "white",
           "ticks": "",
           "title": {
            "standoff": 15
           },
           "zerolinecolor": "white",
           "zerolinewidth": 2
          }
         }
        },
        "title": {
         "text": "AP versus parameterizations"
        },
        "xaxis": {
         "anchor": "y",
         "categoryarray": [
          "AF",
          "IA",
          "TA"
         ],
         "categoryorder": "array",
         "domain": [
          0,
          1
         ],
         "showticklabels": true,
         "title": {
          "text": "Anomalia"
         },
         "type": "category"
        },
        "yaxis": {
         "anchor": "x",
         "domain": [
          0,
          1
         ],
         "range": [
          0,
          1.01
         ],
         "title": {
          "text": "AP"
         }
        }
       }
      },
      "text/html": [
       "<div>                            <div id=\"f83992c5-3cab-4345-b26d-f235bf86fe5c\" class=\"plotly-graph-div\" style=\"height:400px; width:100%;\"></div>            <script type=\"text/javascript\">                require([\"plotly\"], function(Plotly) {                    window.PLOTLYENV=window.PLOTLYENV || {};                                    if (document.getElementById(\"f83992c5-3cab-4345-b26d-f235bf86fe5c\")) {                    Plotly.newPlot(                        \"f83992c5-3cab-4345-b26d-f235bf86fe5c\",                        [{\"alignmentgroup\": \"True\", \"boxpoints\": \"all\", \"hovertemplate\": \"Abordagem=DAE<br>Anomalia=%{x}<br>AP=%{y}<extra></extra>\", \"legendgroup\": \"DAE\", \"marker\": {\"color\": \"#636efa\"}, \"name\": \"DAE\", \"notched\": false, \"offsetgroup\": \"DAE\", \"orientation\": \"v\", \"showlegend\": true, \"type\": \"box\", \"x\": [\"AF\", \"AF\", \"AF\", \"AF\", \"AF\", \"AF\", \"AF\", \"AF\", \"AF\", \"AF\", \"AF\", \"AF\", \"AF\", \"AF\", \"AF\", \"IA\", \"IA\", \"IA\", \"IA\", \"IA\", \"IA\", \"IA\", \"IA\", \"IA\", \"IA\", \"IA\", \"IA\", \"IA\", \"IA\", \"IA\", \"TA\", \"TA\", \"TA\", \"TA\", \"TA\", \"TA\", \"TA\", \"TA\", \"TA\", \"TA\", \"TA\", \"TA\", \"TA\", \"TA\", \"TA\"], \"x0\": \" \", \"xaxis\": \"x\", \"y\": [0.7070124176582893, 0.7589870249169821, 0.7485747931641061, 0.7098678198310142, 0.7854810696764857, 0.6284255669056173, 0.5950307134415346, 0.7218804791156311, 0.7649734606296871, 0.5553259012399351, 0.4376668793919256, 0.640650467911704, 0.6927695600584234, 0.4196621720313559, 0.7729772258868793, 0.5197993102707158, 0.5985643301636293, 0.4602557805138669, 0.7131099825047627, 0.5133606796036255, 0.6294141291269293, 0.5502949330370958, 0.6054806921461279, 0.7812799029349639, 0.6303233416739749, 0.31762918599561185, 0.4733445737372377, 0.4034206361895276, 0.6568274019572167, 0.6299093231931823, 0.8542808576761171, 0.8890795793542119, 0.5832695121204416, 0.5710549998734782, 0.7238427856807408, 0.7585984513912334, 0.6744084039433645, 0.7087913882987497, 0.6977801464212601, 0.7315041751876603, 0.4889348056328103, 0.7770959384361219, 0.7269937849474166, 0.6929671705477883, 0.7095142637094979], \"y0\": \" \", \"yaxis\": \"y\"}, {\"alignmentgroup\": \"True\", \"boxpoints\": \"all\", \"hovertemplate\": \"Abordagem=Binet<br>Anomalia=%{x}<br>AP=%{y}<extra></extra>\", \"legendgroup\": \"Binet\", \"marker\": {\"color\": \"#EF553B\"}, \"name\": \"Binet\", \"notched\": false, \"offsetgroup\": \"Binet\", \"orientation\": \"v\", \"showlegend\": true, \"type\": \"box\", \"x\": [\"AF\", \"AF\", \"AF\", \"AF\", \"AF\", \"AF\", \"AF\", \"AF\", \"AF\", \"AF\", \"AF\", \"AF\", \"AF\", \"AF\", \"AF\", \"IA\", \"IA\", \"IA\", \"IA\", \"IA\", \"IA\", \"IA\", \"IA\", \"IA\", \"IA\", \"IA\", \"IA\", \"IA\", \"IA\", \"IA\", \"TA\", \"TA\", \"TA\", \"TA\", \"TA\", \"TA\", \"TA\", \"TA\", \"TA\", \"TA\", \"TA\", \"TA\", \"TA\", \"TA\", \"TA\"], \"x0\": \" \", \"xaxis\": \"x\", \"y\": [0.27879246438795224, 0.2725849471767725, 0.30163492989408913, 0.2917047285084685, 0.3143980930707161, 0.26174677417726816, 0.2803823313556722, 0.2935217904067493, 0.306012074574476, 0.2760702999786634, 0.28358993769090635, 0.3389081210470495, 0.2983060333373769, 0.3028129864326125, 0.3453128314912417, 0.3880029655669307, 0.4234070000225885, 0.5810748724205981, 0.4209778534875373, 0.4002572547357863, 0.4675119010472582, 0.3996122189065297, 0.5333690003587879, 0.3517768652609618, 0.35114773006054256, 0.4346135245828912, 0.4071054930381104, 0.3846669541309285, 0.4932629210479247, 0.4366368625745564, 0.4666862180621347, 0.4011009906657023, 0.4602870391476785, 0.4831865021975567, 0.6186240449784739, 0.4850326807486858, 0.40614628650929896, 0.4825337708589528, 0.4716228763630079, 0.4310382742218473, 0.4265494674877797, 0.3542225495675661, 0.450585859207758, 0.5313823889503542, 0.3755155381662113], \"y0\": \" \", \"yaxis\": \"y\"}, {\"alignmentgroup\": \"True\", \"boxpoints\": \"all\", \"hovertemplate\": \"Abordagem=ABRI<br>Anomalia=%{x}<br>AP=%{y}<extra></extra>\", \"legendgroup\": \"ABRI\", \"marker\": {\"color\": \"#00cc96\"}, \"name\": \"ABRI\", \"notched\": false, \"offsetgroup\": \"ABRI\", \"orientation\": \"v\", \"showlegend\": true, \"type\": \"box\", \"x\": [\"AF\", \"AF\", \"AF\", \"AF\", \"AF\", \"AF\", \"AF\", \"AF\", \"AF\", \"AF\", \"AF\", \"AF\", \"AF\", \"AF\", \"AF\", \"IA\", \"IA\", \"IA\", \"IA\", \"IA\", \"IA\", \"IA\", \"IA\", \"IA\", \"IA\", \"IA\", \"IA\", \"IA\", \"IA\", \"IA\", \"TA\", \"TA\", \"TA\", \"TA\", \"TA\", \"TA\", \"TA\", \"TA\", \"TA\", \"TA\", \"TA\", \"TA\", \"TA\", \"TA\", \"TA\"], \"x0\": \" \", \"xaxis\": \"x\", \"y\": [0.8850793471529592, 0.8861539559366838, 0.8883945841032395, 0.8865495584380163, 0.8884796263076262, 0.8876777161048043, 0.8992642089939169, 0.8998964449186204, 0.89041150556685, 0.8998531536778314, 0.9041375087406848, 0.8903610849668527, 0.8952204207881644, 0.9038905286869721, 0.8933679670547703, 0.9692737889629082, 0.9637938665000522, 0.9700132379679232, 0.9632678829107402, 0.9583755854942296, 0.9581761658031088, 0.9527647610121838, 0.9527647610121838, 0.9467013888888888, 0.9465885225885228, 0.9543235331551484, 0.9596382384062936, 0.9547530864197532, 0.9587684579015716, 0.9650124843945068, 0.950880681818182, 0.9567068308031378, 0.9611694476409668, 0.9579437683211268, 0.950880681818182, 0.9408459595959596, 0.9530725138294412, 0.9513739705120084, 0.9451191447858156, 0.9456909422174506, 0.9574928407789232, 0.9574928407789232, 0.9567068308031378, 0.9574928407789232, 0.9544831423729672], \"y0\": \" \", \"yaxis\": \"y\"}, {\"alignmentgroup\": \"True\", \"boxpoints\": \"all\", \"hovertemplate\": \"Abordagem=Rand\\u00f4mica<br>Anomalia=%{x}<br>AP=%{y}<extra></extra>\", \"legendgroup\": \"Rand\\u00f4mica\", \"marker\": {\"color\": \"#ab63fa\"}, \"name\": \"Rand\\u00f4mica\", \"notched\": false, \"offsetgroup\": \"Rand\\u00f4mica\", \"orientation\": \"v\", \"showlegend\": true, \"type\": \"box\", \"x\": [\"AF\", \"AF\", \"AF\", \"AF\", \"AF\", \"AF\", \"AF\", \"AF\", \"AF\", \"AF\", \"AF\", \"AF\", \"AF\", \"AF\", \"AF\", \"IA\", \"IA\", \"IA\", \"IA\", \"IA\", \"IA\", \"IA\", \"IA\", \"IA\", \"IA\", \"IA\", \"IA\", \"IA\", \"IA\", \"IA\", \"TA\", \"TA\", \"TA\", \"TA\", \"TA\", \"TA\", \"TA\", \"TA\", \"TA\", \"TA\", \"TA\", \"TA\", \"TA\", \"TA\", \"TA\"], \"x0\": \" \", \"xaxis\": \"x\", \"y\": [0.5239141063103367, 0.3814666338295831, 0.3791290143896173, 0.32409552897040583, 0.4470311325016744, 0.2231166483920056, 0.3507717909653512, 0.3940973162462801, 0.4528981309540243, 0.41253193898434826, 0.40229363166436943, 0.4723693905100546, 0.29057434223047235, 0.26802238510832965, 0.3548053562994562, 0.3694561697691184, 0.3599479568043049, 0.3467452476057502, 0.3199713862883431, 0.3630517297497263, 0.2882283178924285, 0.3343527817117288, 0.3584902226782233, 0.3062916721748187, 0.32025384271794444, 0.2508142309489432, 0.3208500140749669, 0.33293944528192754, 0.32344433674544043, 0.3150500526308432, 0.3665869121564665, 0.3633785012771184, 0.338462858066755, 0.2698730856865986, 0.3648201787888701, 0.3026036375836194, 0.3555945670465883, 0.38601374089912177, 0.3390560391064048, 0.2876746839494648, 0.31131344699137, 0.2942099949910031, 0.3786630792901096, 0.34614602649528003, 0.4114631667876324], \"y0\": \" \", \"yaxis\": \"y\"}, {\"alignmentgroup\": \"True\", \"boxpoints\": \"all\", \"hovertemplate\": \"Abordagem=t-STIDE+<br>Anomalia=%{x}<br>AP=%{y}<extra></extra>\", \"legendgroup\": \"t-STIDE+\", \"marker\": {\"color\": \"#FFA15A\"}, \"name\": \"t-STIDE+\", \"notched\": false, \"offsetgroup\": \"t-STIDE+\", \"orientation\": \"v\", \"showlegend\": true, \"type\": \"box\", \"x\": [\"AF\", \"AF\", \"AF\", \"AF\", \"AF\", \"AF\", \"AF\", \"AF\", \"AF\", \"AF\", \"AF\", \"AF\", \"AF\", \"AF\", \"AF\", \"IA\", \"IA\", \"IA\", \"IA\", \"IA\", \"IA\", \"IA\", \"IA\", \"IA\", \"IA\", \"IA\", \"IA\", \"IA\", \"IA\", \"IA\", \"TA\", \"TA\", \"TA\", \"TA\", \"TA\", \"TA\", \"TA\", \"TA\", \"TA\", \"TA\", \"TA\", \"TA\", \"TA\", \"TA\", \"TA\"], \"x0\": \" \", \"xaxis\": \"x\", \"y\": [0.4827777777777778, 0.5800000000000001, 0.5955555555555555, 0.5488888888888889, 0.5955555555555555, 0.5527777777777777, 0.58, 0.6266666666666667, 0.4827777777777778, 0.6188888888888889, 0.5411111111111111, 0.5372222222222223, 0.6111111111111112, 0.5566666666666665, 0.5994444444444444, 0.9766666666666666, 0.9533333333333334, 0.9494444444444444, 0.9377777777777776, 0.9494444444444444, 0.965, 0.9611111111111112, 0.9494444444444444, 0.9766666666666668, 0.9455555555555556, 0.9611111111111108, 0.9688888888888888, 0.9611111111111108, 0.965, 0.9572222222222222, 0.9961111111111112, 1.0, 1.0, 1.0, 1.0, 1.0, 1.0, 1.0, 0.9961111111111112, 1.0, 1.0, 0.9922222222222222, 0.9961111111111112, 1.0, 1.0], \"y0\": \" \", \"yaxis\": \"y\"}],                        {\"boxmode\": \"group\", \"height\": 400, \"legend\": {\"title\": {\"text\": \"Abordagem\"}, \"tracegroupgap\": 0}, \"template\": {\"data\": {\"bar\": [{\"error_x\": {\"color\": \"#2a3f5f\"}, \"error_y\": {\"color\": \"#2a3f5f\"}, \"marker\": {\"line\": {\"color\": \"#E5ECF6\", \"width\": 0.5}}, \"type\": \"bar\"}], \"barpolar\": [{\"marker\": {\"line\": {\"color\": \"#E5ECF6\", \"width\": 0.5}}, \"type\": \"barpolar\"}], \"carpet\": [{\"aaxis\": {\"endlinecolor\": \"#2a3f5f\", \"gridcolor\": \"white\", \"linecolor\": \"white\", \"minorgridcolor\": \"white\", \"startlinecolor\": \"#2a3f5f\"}, \"baxis\": {\"endlinecolor\": \"#2a3f5f\", \"gridcolor\": \"white\", \"linecolor\": \"white\", \"minorgridcolor\": \"white\", \"startlinecolor\": \"#2a3f5f\"}, \"type\": \"carpet\"}], \"choropleth\": [{\"colorbar\": {\"outlinewidth\": 0, \"ticks\": \"\"}, \"type\": \"choropleth\"}], \"contour\": [{\"colorbar\": {\"outlinewidth\": 0, \"ticks\": \"\"}, \"colorscale\": [[0.0, \"#0d0887\"], [0.1111111111111111, \"#46039f\"], [0.2222222222222222, \"#7201a8\"], [0.3333333333333333, \"#9c179e\"], [0.4444444444444444, \"#bd3786\"], [0.5555555555555556, \"#d8576b\"], [0.6666666666666666, \"#ed7953\"], [0.7777777777777778, \"#fb9f3a\"], [0.8888888888888888, \"#fdca26\"], [1.0, \"#f0f921\"]], \"type\": \"contour\"}], \"contourcarpet\": [{\"colorbar\": {\"outlinewidth\": 0, \"ticks\": \"\"}, \"type\": \"contourcarpet\"}], \"heatmap\": [{\"colorbar\": {\"outlinewidth\": 0, \"ticks\": \"\"}, \"colorscale\": [[0.0, \"#0d0887\"], [0.1111111111111111, \"#46039f\"], [0.2222222222222222, \"#7201a8\"], [0.3333333333333333, \"#9c179e\"], [0.4444444444444444, \"#bd3786\"], [0.5555555555555556, \"#d8576b\"], [0.6666666666666666, \"#ed7953\"], [0.7777777777777778, \"#fb9f3a\"], [0.8888888888888888, \"#fdca26\"], [1.0, \"#f0f921\"]], \"type\": \"heatmap\"}], \"heatmapgl\": [{\"colorbar\": {\"outlinewidth\": 0, \"ticks\": \"\"}, \"colorscale\": [[0.0, \"#0d0887\"], [0.1111111111111111, \"#46039f\"], [0.2222222222222222, \"#7201a8\"], [0.3333333333333333, \"#9c179e\"], [0.4444444444444444, \"#bd3786\"], [0.5555555555555556, \"#d8576b\"], [0.6666666666666666, \"#ed7953\"], [0.7777777777777778, \"#fb9f3a\"], [0.8888888888888888, \"#fdca26\"], [1.0, \"#f0f921\"]], \"type\": \"heatmapgl\"}], \"histogram\": [{\"marker\": {\"colorbar\": {\"outlinewidth\": 0, \"ticks\": \"\"}}, \"type\": \"histogram\"}], \"histogram2d\": [{\"colorbar\": {\"outlinewidth\": 0, \"ticks\": \"\"}, \"colorscale\": [[0.0, \"#0d0887\"], [0.1111111111111111, \"#46039f\"], [0.2222222222222222, \"#7201a8\"], [0.3333333333333333, \"#9c179e\"], [0.4444444444444444, \"#bd3786\"], [0.5555555555555556, \"#d8576b\"], [0.6666666666666666, \"#ed7953\"], [0.7777777777777778, \"#fb9f3a\"], [0.8888888888888888, \"#fdca26\"], [1.0, \"#f0f921\"]], \"type\": \"histogram2d\"}], \"histogram2dcontour\": [{\"colorbar\": {\"outlinewidth\": 0, \"ticks\": \"\"}, \"colorscale\": [[0.0, \"#0d0887\"], [0.1111111111111111, \"#46039f\"], [0.2222222222222222, \"#7201a8\"], [0.3333333333333333, \"#9c179e\"], [0.4444444444444444, \"#bd3786\"], [0.5555555555555556, \"#d8576b\"], [0.6666666666666666, \"#ed7953\"], [0.7777777777777778, \"#fb9f3a\"], [0.8888888888888888, \"#fdca26\"], [1.0, \"#f0f921\"]], \"type\": \"histogram2dcontour\"}], \"mesh3d\": [{\"colorbar\": {\"outlinewidth\": 0, \"ticks\": \"\"}, \"type\": \"mesh3d\"}], \"parcoords\": [{\"line\": {\"colorbar\": {\"outlinewidth\": 0, \"ticks\": \"\"}}, \"type\": \"parcoords\"}], \"pie\": [{\"automargin\": true, \"type\": \"pie\"}], \"scatter\": [{\"marker\": {\"colorbar\": {\"outlinewidth\": 0, \"ticks\": \"\"}}, \"type\": \"scatter\"}], \"scatter3d\": [{\"line\": {\"colorbar\": {\"outlinewidth\": 0, \"ticks\": \"\"}}, \"marker\": {\"colorbar\": {\"outlinewidth\": 0, \"ticks\": \"\"}}, \"type\": \"scatter3d\"}], \"scattercarpet\": [{\"marker\": {\"colorbar\": {\"outlinewidth\": 0, \"ticks\": \"\"}}, \"type\": \"scattercarpet\"}], \"scattergeo\": [{\"marker\": {\"colorbar\": {\"outlinewidth\": 0, \"ticks\": \"\"}}, \"type\": \"scattergeo\"}], \"scattergl\": [{\"marker\": {\"colorbar\": {\"outlinewidth\": 0, \"ticks\": \"\"}}, \"type\": \"scattergl\"}], \"scattermapbox\": [{\"marker\": {\"colorbar\": {\"outlinewidth\": 0, \"ticks\": \"\"}}, \"type\": \"scattermapbox\"}], \"scatterpolar\": [{\"marker\": {\"colorbar\": {\"outlinewidth\": 0, \"ticks\": \"\"}}, \"type\": \"scatterpolar\"}], \"scatterpolargl\": [{\"marker\": {\"colorbar\": {\"outlinewidth\": 0, \"ticks\": \"\"}}, \"type\": \"scatterpolargl\"}], \"scatterternary\": [{\"marker\": {\"colorbar\": {\"outlinewidth\": 0, \"ticks\": \"\"}}, \"type\": \"scatterternary\"}], \"surface\": [{\"colorbar\": {\"outlinewidth\": 0, \"ticks\": \"\"}, \"colorscale\": [[0.0, \"#0d0887\"], [0.1111111111111111, \"#46039f\"], [0.2222222222222222, \"#7201a8\"], [0.3333333333333333, \"#9c179e\"], [0.4444444444444444, \"#bd3786\"], [0.5555555555555556, \"#d8576b\"], [0.6666666666666666, \"#ed7953\"], [0.7777777777777778, \"#fb9f3a\"], [0.8888888888888888, \"#fdca26\"], [1.0, \"#f0f921\"]], \"type\": \"surface\"}], \"table\": [{\"cells\": {\"fill\": {\"color\": \"#EBF0F8\"}, \"line\": {\"color\": \"white\"}}, \"header\": {\"fill\": {\"color\": \"#C8D4E3\"}, \"line\": {\"color\": \"white\"}}, \"type\": \"table\"}]}, \"layout\": {\"annotationdefaults\": {\"arrowcolor\": \"#2a3f5f\", \"arrowhead\": 0, \"arrowwidth\": 1}, \"autotypenumbers\": \"strict\", \"coloraxis\": {\"colorbar\": {\"outlinewidth\": 0, \"ticks\": \"\"}}, \"colorscale\": {\"diverging\": [[0, \"#8e0152\"], [0.1, \"#c51b7d\"], [0.2, \"#de77ae\"], [0.3, \"#f1b6da\"], [0.4, \"#fde0ef\"], [0.5, \"#f7f7f7\"], [0.6, \"#e6f5d0\"], [0.7, \"#b8e186\"], [0.8, \"#7fbc41\"], [0.9, \"#4d9221\"], [1, \"#276419\"]], \"sequential\": [[0.0, \"#0d0887\"], [0.1111111111111111, \"#46039f\"], [0.2222222222222222, \"#7201a8\"], [0.3333333333333333, \"#9c179e\"], [0.4444444444444444, \"#bd3786\"], [0.5555555555555556, \"#d8576b\"], [0.6666666666666666, \"#ed7953\"], [0.7777777777777778, \"#fb9f3a\"], [0.8888888888888888, \"#fdca26\"], [1.0, \"#f0f921\"]], \"sequentialminus\": [[0.0, \"#0d0887\"], [0.1111111111111111, \"#46039f\"], [0.2222222222222222, \"#7201a8\"], [0.3333333333333333, \"#9c179e\"], [0.4444444444444444, \"#bd3786\"], [0.5555555555555556, \"#d8576b\"], [0.6666666666666666, \"#ed7953\"], [0.7777777777777778, \"#fb9f3a\"], [0.8888888888888888, \"#fdca26\"], [1.0, \"#f0f921\"]]}, \"colorway\": [\"#636efa\", \"#EF553B\", \"#00cc96\", \"#ab63fa\", \"#FFA15A\", \"#19d3f3\", \"#FF6692\", \"#B6E880\", \"#FF97FF\", \"#FECB52\"], \"font\": {\"color\": \"#2a3f5f\"}, \"geo\": {\"bgcolor\": \"white\", \"lakecolor\": \"white\", \"landcolor\": \"#E5ECF6\", \"showlakes\": true, \"showland\": true, \"subunitcolor\": \"white\"}, \"hoverlabel\": {\"align\": \"left\"}, \"hovermode\": \"closest\", \"mapbox\": {\"style\": \"light\"}, \"paper_bgcolor\": \"white\", \"plot_bgcolor\": \"#E5ECF6\", \"polar\": {\"angularaxis\": {\"gridcolor\": \"white\", \"linecolor\": \"white\", \"ticks\": \"\"}, \"bgcolor\": \"#E5ECF6\", \"radialaxis\": {\"gridcolor\": \"white\", \"linecolor\": \"white\", \"ticks\": \"\"}}, \"scene\": {\"xaxis\": {\"backgroundcolor\": \"#E5ECF6\", \"gridcolor\": \"white\", \"gridwidth\": 2, \"linecolor\": \"white\", \"showbackground\": true, \"ticks\": \"\", \"zerolinecolor\": \"white\"}, \"yaxis\": {\"backgroundcolor\": \"#E5ECF6\", \"gridcolor\": \"white\", \"gridwidth\": 2, \"linecolor\": \"white\", \"showbackground\": true, \"ticks\": \"\", \"zerolinecolor\": \"white\"}, \"zaxis\": {\"backgroundcolor\": \"#E5ECF6\", \"gridcolor\": \"white\", \"gridwidth\": 2, \"linecolor\": \"white\", \"showbackground\": true, \"ticks\": \"\", \"zerolinecolor\": \"white\"}}, \"shapedefaults\": {\"line\": {\"color\": \"#2a3f5f\"}}, \"ternary\": {\"aaxis\": {\"gridcolor\": \"white\", \"linecolor\": \"white\", \"ticks\": \"\"}, \"baxis\": {\"gridcolor\": \"white\", \"linecolor\": \"white\", \"ticks\": \"\"}, \"bgcolor\": \"#E5ECF6\", \"caxis\": {\"gridcolor\": \"white\", \"linecolor\": \"white\", \"ticks\": \"\"}}, \"title\": {\"x\": 0.05}, \"xaxis\": {\"automargin\": true, \"gridcolor\": \"white\", \"linecolor\": \"white\", \"ticks\": \"\", \"title\": {\"standoff\": 15}, \"zerolinecolor\": \"white\", \"zerolinewidth\": 2}, \"yaxis\": {\"automargin\": true, \"gridcolor\": \"white\", \"linecolor\": \"white\", \"ticks\": \"\", \"title\": {\"standoff\": 15}, \"zerolinecolor\": \"white\", \"zerolinewidth\": 2}}}, \"title\": {\"text\": \"AP versus parameterizations\"}, \"xaxis\": {\"anchor\": \"y\", \"categoryarray\": [\"AF\", \"IA\", \"TA\"], \"categoryorder\": \"array\", \"domain\": [0.0, 1.0], \"showticklabels\": true, \"title\": {\"text\": \"Anomalia\"}, \"type\": \"category\"}, \"yaxis\": {\"anchor\": \"x\", \"domain\": [0.0, 1.0], \"range\": [0, 1.01], \"title\": {\"text\": \"AP\"}}},                        {\"responsive\": true}                    ).then(function(){\n",
       "                            \n",
       "var gd = document.getElementById('f83992c5-3cab-4345-b26d-f235bf86fe5c');\n",
       "var x = new MutationObserver(function (mutations, observer) {{\n",
       "        var display = window.getComputedStyle(gd).display;\n",
       "        if (!display || display === 'none') {{\n",
       "            console.log([gd, 'removed!']);\n",
       "            Plotly.purge(gd);\n",
       "            observer.disconnect();\n",
       "        }}\n",
       "}});\n",
       "\n",
       "// Listen for the removal of the full notebook cells\n",
       "var notebookContainer = gd.closest('#notebook-container');\n",
       "if (notebookContainer) {{\n",
       "    x.observe(notebookContainer, {childList: true});\n",
       "}}\n",
       "\n",
       "// Listen for the clearing of the current output cell\n",
       "var outputEl = gd.closest('.output');\n",
       "if (outputEl) {{\n",
       "    x.observe(outputEl, {childList: true});\n",
       "}}\n",
       "\n",
       "                        })                };                });            </script>        </div>"
      ]
     },
     "metadata": {},
     "output_type": "display_data"
    },
    {
     "name": "stdout",
     "output_type": "stream",
     "text": [
      "Fig15\n"
     ]
    },
    {
     "data": {
      "text/html": [
       "        <script type=\"text/javascript\">\n",
       "        window.PlotlyConfig = {MathJaxConfig: 'local'};\n",
       "        if (window.MathJax) {MathJax.Hub.Config({SVG: {font: \"STIX-Web\"}});}\n",
       "        if (typeof require !== 'undefined') {\n",
       "        require.undef(\"plotly\");\n",
       "        requirejs.config({\n",
       "            paths: {\n",
       "                'plotly': ['https://cdn.plot.ly/plotly-latest.min']\n",
       "            }\n",
       "        });\n",
       "        require(['plotly'], function(Plotly) {\n",
       "            window._Plotly = Plotly;\n",
       "        });\n",
       "        }\n",
       "        </script>\n",
       "        "
      ]
     },
     "metadata": {},
     "output_type": "display_data"
    },
    {
     "data": {
      "application/vnd.plotly.v1+json": {
       "config": {
        "linkText": "Export to plot.ly",
        "plotlyServerURL": "https://plot.ly",
        "showLink": false
       },
       "data": [
        {
         "hovertemplate": "Anomalia=AF<br>Abordagem=%{x}<br>AP=%{y}<extra></extra>",
         "legendgroup": "",
         "marker": {
          "color": "#636efa",
          "symbol": "circle"
         },
         "mode": "markers",
         "name": "",
         "orientation": "v",
         "showlegend": false,
         "type": "scatter",
         "x": [
          "DAE",
          "DAE",
          "DAE",
          "Binet",
          "Binet",
          "Binet",
          "ABRI",
          "ABRI",
          "ABRI",
          "Randômica",
          "Randômica",
          "Randômica",
          "t-STIDE+",
          "t-STIDE+",
          "t-STIDE+"
         ],
         "xaxis": "x",
         "y": [
          0.7419846250493756,
          0.6531272242664811,
          0.5927452610560577,
          0.2918230326075997,
          0.28354665409856583,
          0.31378598199983737,
          0.886931414387705,
          0.8954206058524047,
          0.8973955020474887,
          0.4111272832003235,
          0.3666831651084019,
          0.35761302116253646,
          0.5605555555555555,
          0.5722222222222222,
          0.5691111111111111
         ],
         "yaxis": "y"
        },
        {
         "hovertemplate": "Anomalia=IA<br>Abordagem=%{x}<br>AP=%{y}<extra></extra>",
         "legendgroup": "",
         "marker": {
          "color": "#636efa",
          "symbol": "circle"
         },
         "mode": "markers",
         "name": "",
         "orientation": "v",
         "showlegend": false,
         "type": "scatter",
         "x": [
          "DAE",
          "DAE",
          "DAE",
          "Binet",
          "Binet",
          "Binet",
          "ABRI",
          "ABRI",
          "ABRI",
          "Randômica",
          "Randômica",
          "Randômica",
          "t-STIDE+",
          "t-STIDE+",
          "t-STIDE+"
         ],
         "xaxis": "x2",
         "y": [
          0.56101801661132,
          0.6393585997838184,
          0.49622622421455526,
          0.44274398924668823,
          0.42068354312681605,
          0.4312571510748822,
          0.9649448723671705,
          0.9513991198609775,
          0.9584991600554547,
          0.3518344980434486,
          0.32152336743502874,
          0.3086196159364242,
          0.9533333333333334,
          0.9595555555555556,
          0.9626666666666666
         ],
         "yaxis": "y2"
        },
        {
         "hovertemplate": "Anomalia=TA<br>Abordagem=%{x}<br>AP=%{y}<extra></extra>",
         "legendgroup": "",
         "marker": {
          "color": "#636efa",
          "symbol": "circle"
         },
         "mode": "markers",
         "name": "",
         "orientation": "v",
         "showlegend": false,
         "type": "scatter",
         "x": [
          "DAE",
          "DAE",
          "DAE",
          "Binet",
          "Binet",
          "Binet",
          "ABRI",
          "ABRI",
          "ABRI",
          "Randômica",
          "Randômica",
          "Randômica",
          "t-STIDE+",
          "t-STIDE+",
          "t-STIDE+"
         ],
         "xaxis": "x3",
         "y": [
          0.7243055469409978,
          0.7142165130484536,
          0.679101192654727,
          0.4859769590103092,
          0.4552747777403586,
          0.4276511606759339,
          0.955516282080319,
          0.947220506188135,
          0.956733699102575,
          0.34062430719516174,
          0.3341885337170398,
          0.348359142911079,
          0.9992222222222222,
          0.9992222222222222,
          0.9976666666666667
         ],
         "yaxis": "y3"
        }
       ],
       "layout": {
        "annotations": [
         {
          "showarrow": false,
          "text": "Anomalia=AF",
          "x": 0.13666666666666666,
          "xanchor": "center",
          "xref": "paper",
          "y": 1,
          "yanchor": "bottom",
          "yref": "paper"
         },
         {
          "showarrow": false,
          "text": "Anomalia=IA",
          "x": 0.49999999999999994,
          "xanchor": "center",
          "xref": "paper",
          "y": 1,
          "yanchor": "bottom",
          "yref": "paper"
         },
         {
          "showarrow": false,
          "text": "Anomalia=TA",
          "x": 0.8633333333333333,
          "xanchor": "center",
          "xref": "paper",
          "y": 1,
          "yanchor": "bottom",
          "yref": "paper"
         }
        ],
        "height": 500,
        "legend": {
         "tracegroupgap": 0
        },
        "template": {
         "data": {
          "bar": [
           {
            "error_x": {
             "color": "#2a3f5f"
            },
            "error_y": {
             "color": "#2a3f5f"
            },
            "marker": {
             "line": {
              "color": "#E5ECF6",
              "width": 0.5
             }
            },
            "type": "bar"
           }
          ],
          "barpolar": [
           {
            "marker": {
             "line": {
              "color": "#E5ECF6",
              "width": 0.5
             }
            },
            "type": "barpolar"
           }
          ],
          "carpet": [
           {
            "aaxis": {
             "endlinecolor": "#2a3f5f",
             "gridcolor": "white",
             "linecolor": "white",
             "minorgridcolor": "white",
             "startlinecolor": "#2a3f5f"
            },
            "baxis": {
             "endlinecolor": "#2a3f5f",
             "gridcolor": "white",
             "linecolor": "white",
             "minorgridcolor": "white",
             "startlinecolor": "#2a3f5f"
            },
            "type": "carpet"
           }
          ],
          "choropleth": [
           {
            "colorbar": {
             "outlinewidth": 0,
             "ticks": ""
            },
            "type": "choropleth"
           }
          ],
          "contour": [
           {
            "colorbar": {
             "outlinewidth": 0,
             "ticks": ""
            },
            "colorscale": [
             [
              0,
              "#0d0887"
             ],
             [
              0.1111111111111111,
              "#46039f"
             ],
             [
              0.2222222222222222,
              "#7201a8"
             ],
             [
              0.3333333333333333,
              "#9c179e"
             ],
             [
              0.4444444444444444,
              "#bd3786"
             ],
             [
              0.5555555555555556,
              "#d8576b"
             ],
             [
              0.6666666666666666,
              "#ed7953"
             ],
             [
              0.7777777777777778,
              "#fb9f3a"
             ],
             [
              0.8888888888888888,
              "#fdca26"
             ],
             [
              1,
              "#f0f921"
             ]
            ],
            "type": "contour"
           }
          ],
          "contourcarpet": [
           {
            "colorbar": {
             "outlinewidth": 0,
             "ticks": ""
            },
            "type": "contourcarpet"
           }
          ],
          "heatmap": [
           {
            "colorbar": {
             "outlinewidth": 0,
             "ticks": ""
            },
            "colorscale": [
             [
              0,
              "#0d0887"
             ],
             [
              0.1111111111111111,
              "#46039f"
             ],
             [
              0.2222222222222222,
              "#7201a8"
             ],
             [
              0.3333333333333333,
              "#9c179e"
             ],
             [
              0.4444444444444444,
              "#bd3786"
             ],
             [
              0.5555555555555556,
              "#d8576b"
             ],
             [
              0.6666666666666666,
              "#ed7953"
             ],
             [
              0.7777777777777778,
              "#fb9f3a"
             ],
             [
              0.8888888888888888,
              "#fdca26"
             ],
             [
              1,
              "#f0f921"
             ]
            ],
            "type": "heatmap"
           }
          ],
          "heatmapgl": [
           {
            "colorbar": {
             "outlinewidth": 0,
             "ticks": ""
            },
            "colorscale": [
             [
              0,
              "#0d0887"
             ],
             [
              0.1111111111111111,
              "#46039f"
             ],
             [
              0.2222222222222222,
              "#7201a8"
             ],
             [
              0.3333333333333333,
              "#9c179e"
             ],
             [
              0.4444444444444444,
              "#bd3786"
             ],
             [
              0.5555555555555556,
              "#d8576b"
             ],
             [
              0.6666666666666666,
              "#ed7953"
             ],
             [
              0.7777777777777778,
              "#fb9f3a"
             ],
             [
              0.8888888888888888,
              "#fdca26"
             ],
             [
              1,
              "#f0f921"
             ]
            ],
            "type": "heatmapgl"
           }
          ],
          "histogram": [
           {
            "marker": {
             "colorbar": {
              "outlinewidth": 0,
              "ticks": ""
             }
            },
            "type": "histogram"
           }
          ],
          "histogram2d": [
           {
            "colorbar": {
             "outlinewidth": 0,
             "ticks": ""
            },
            "colorscale": [
             [
              0,
              "#0d0887"
             ],
             [
              0.1111111111111111,
              "#46039f"
             ],
             [
              0.2222222222222222,
              "#7201a8"
             ],
             [
              0.3333333333333333,
              "#9c179e"
             ],
             [
              0.4444444444444444,
              "#bd3786"
             ],
             [
              0.5555555555555556,
              "#d8576b"
             ],
             [
              0.6666666666666666,
              "#ed7953"
             ],
             [
              0.7777777777777778,
              "#fb9f3a"
             ],
             [
              0.8888888888888888,
              "#fdca26"
             ],
             [
              1,
              "#f0f921"
             ]
            ],
            "type": "histogram2d"
           }
          ],
          "histogram2dcontour": [
           {
            "colorbar": {
             "outlinewidth": 0,
             "ticks": ""
            },
            "colorscale": [
             [
              0,
              "#0d0887"
             ],
             [
              0.1111111111111111,
              "#46039f"
             ],
             [
              0.2222222222222222,
              "#7201a8"
             ],
             [
              0.3333333333333333,
              "#9c179e"
             ],
             [
              0.4444444444444444,
              "#bd3786"
             ],
             [
              0.5555555555555556,
              "#d8576b"
             ],
             [
              0.6666666666666666,
              "#ed7953"
             ],
             [
              0.7777777777777778,
              "#fb9f3a"
             ],
             [
              0.8888888888888888,
              "#fdca26"
             ],
             [
              1,
              "#f0f921"
             ]
            ],
            "type": "histogram2dcontour"
           }
          ],
          "mesh3d": [
           {
            "colorbar": {
             "outlinewidth": 0,
             "ticks": ""
            },
            "type": "mesh3d"
           }
          ],
          "parcoords": [
           {
            "line": {
             "colorbar": {
              "outlinewidth": 0,
              "ticks": ""
             }
            },
            "type": "parcoords"
           }
          ],
          "pie": [
           {
            "automargin": true,
            "type": "pie"
           }
          ],
          "scatter": [
           {
            "marker": {
             "colorbar": {
              "outlinewidth": 0,
              "ticks": ""
             }
            },
            "type": "scatter"
           }
          ],
          "scatter3d": [
           {
            "line": {
             "colorbar": {
              "outlinewidth": 0,
              "ticks": ""
             }
            },
            "marker": {
             "colorbar": {
              "outlinewidth": 0,
              "ticks": ""
             }
            },
            "type": "scatter3d"
           }
          ],
          "scattercarpet": [
           {
            "marker": {
             "colorbar": {
              "outlinewidth": 0,
              "ticks": ""
             }
            },
            "type": "scattercarpet"
           }
          ],
          "scattergeo": [
           {
            "marker": {
             "colorbar": {
              "outlinewidth": 0,
              "ticks": ""
             }
            },
            "type": "scattergeo"
           }
          ],
          "scattergl": [
           {
            "marker": {
             "colorbar": {
              "outlinewidth": 0,
              "ticks": ""
             }
            },
            "type": "scattergl"
           }
          ],
          "scattermapbox": [
           {
            "marker": {
             "colorbar": {
              "outlinewidth": 0,
              "ticks": ""
             }
            },
            "type": "scattermapbox"
           }
          ],
          "scatterpolar": [
           {
            "marker": {
             "colorbar": {
              "outlinewidth": 0,
              "ticks": ""
             }
            },
            "type": "scatterpolar"
           }
          ],
          "scatterpolargl": [
           {
            "marker": {
             "colorbar": {
              "outlinewidth": 0,
              "ticks": ""
             }
            },
            "type": "scatterpolargl"
           }
          ],
          "scatterternary": [
           {
            "marker": {
             "colorbar": {
              "outlinewidth": 0,
              "ticks": ""
             }
            },
            "type": "scatterternary"
           }
          ],
          "surface": [
           {
            "colorbar": {
             "outlinewidth": 0,
             "ticks": ""
            },
            "colorscale": [
             [
              0,
              "#0d0887"
             ],
             [
              0.1111111111111111,
              "#46039f"
             ],
             [
              0.2222222222222222,
              "#7201a8"
             ],
             [
              0.3333333333333333,
              "#9c179e"
             ],
             [
              0.4444444444444444,
              "#bd3786"
             ],
             [
              0.5555555555555556,
              "#d8576b"
             ],
             [
              0.6666666666666666,
              "#ed7953"
             ],
             [
              0.7777777777777778,
              "#fb9f3a"
             ],
             [
              0.8888888888888888,
              "#fdca26"
             ],
             [
              1,
              "#f0f921"
             ]
            ],
            "type": "surface"
           }
          ],
          "table": [
           {
            "cells": {
             "fill": {
              "color": "#EBF0F8"
             },
             "line": {
              "color": "white"
             }
            },
            "header": {
             "fill": {
              "color": "#C8D4E3"
             },
             "line": {
              "color": "white"
             }
            },
            "type": "table"
           }
          ]
         },
         "layout": {
          "annotationdefaults": {
           "arrowcolor": "#2a3f5f",
           "arrowhead": 0,
           "arrowwidth": 1
          },
          "autotypenumbers": "strict",
          "coloraxis": {
           "colorbar": {
            "outlinewidth": 0,
            "ticks": ""
           }
          },
          "colorscale": {
           "diverging": [
            [
             0,
             "#8e0152"
            ],
            [
             0.1,
             "#c51b7d"
            ],
            [
             0.2,
             "#de77ae"
            ],
            [
             0.3,
             "#f1b6da"
            ],
            [
             0.4,
             "#fde0ef"
            ],
            [
             0.5,
             "#f7f7f7"
            ],
            [
             0.6,
             "#e6f5d0"
            ],
            [
             0.7,
             "#b8e186"
            ],
            [
             0.8,
             "#7fbc41"
            ],
            [
             0.9,
             "#4d9221"
            ],
            [
             1,
             "#276419"
            ]
           ],
           "sequential": [
            [
             0,
             "#0d0887"
            ],
            [
             0.1111111111111111,
             "#46039f"
            ],
            [
             0.2222222222222222,
             "#7201a8"
            ],
            [
             0.3333333333333333,
             "#9c179e"
            ],
            [
             0.4444444444444444,
             "#bd3786"
            ],
            [
             0.5555555555555556,
             "#d8576b"
            ],
            [
             0.6666666666666666,
             "#ed7953"
            ],
            [
             0.7777777777777778,
             "#fb9f3a"
            ],
            [
             0.8888888888888888,
             "#fdca26"
            ],
            [
             1,
             "#f0f921"
            ]
           ],
           "sequentialminus": [
            [
             0,
             "#0d0887"
            ],
            [
             0.1111111111111111,
             "#46039f"
            ],
            [
             0.2222222222222222,
             "#7201a8"
            ],
            [
             0.3333333333333333,
             "#9c179e"
            ],
            [
             0.4444444444444444,
             "#bd3786"
            ],
            [
             0.5555555555555556,
             "#d8576b"
            ],
            [
             0.6666666666666666,
             "#ed7953"
            ],
            [
             0.7777777777777778,
             "#fb9f3a"
            ],
            [
             0.8888888888888888,
             "#fdca26"
            ],
            [
             1,
             "#f0f921"
            ]
           ]
          },
          "colorway": [
           "#636efa",
           "#EF553B",
           "#00cc96",
           "#ab63fa",
           "#FFA15A",
           "#19d3f3",
           "#FF6692",
           "#B6E880",
           "#FF97FF",
           "#FECB52"
          ],
          "font": {
           "color": "#2a3f5f"
          },
          "geo": {
           "bgcolor": "white",
           "lakecolor": "white",
           "landcolor": "#E5ECF6",
           "showlakes": true,
           "showland": true,
           "subunitcolor": "white"
          },
          "hoverlabel": {
           "align": "left"
          },
          "hovermode": "closest",
          "mapbox": {
           "style": "light"
          },
          "paper_bgcolor": "white",
          "plot_bgcolor": "#E5ECF6",
          "polar": {
           "angularaxis": {
            "gridcolor": "white",
            "linecolor": "white",
            "ticks": ""
           },
           "bgcolor": "#E5ECF6",
           "radialaxis": {
            "gridcolor": "white",
            "linecolor": "white",
            "ticks": ""
           }
          },
          "scene": {
           "xaxis": {
            "backgroundcolor": "#E5ECF6",
            "gridcolor": "white",
            "gridwidth": 2,
            "linecolor": "white",
            "showbackground": true,
            "ticks": "",
            "zerolinecolor": "white"
           },
           "yaxis": {
            "backgroundcolor": "#E5ECF6",
            "gridcolor": "white",
            "gridwidth": 2,
            "linecolor": "white",
            "showbackground": true,
            "ticks": "",
            "zerolinecolor": "white"
           },
           "zaxis": {
            "backgroundcolor": "#E5ECF6",
            "gridcolor": "white",
            "gridwidth": 2,
            "linecolor": "white",
            "showbackground": true,
            "ticks": "",
            "zerolinecolor": "white"
           }
          },
          "shapedefaults": {
           "line": {
            "color": "#2a3f5f"
           }
          },
          "ternary": {
           "aaxis": {
            "gridcolor": "white",
            "linecolor": "white",
            "ticks": ""
           },
           "baxis": {
            "gridcolor": "white",
            "linecolor": "white",
            "ticks": ""
           },
           "bgcolor": "#E5ECF6",
           "caxis": {
            "gridcolor": "white",
            "linecolor": "white",
            "ticks": ""
           }
          },
          "title": {
           "x": 0.05
          },
          "xaxis": {
           "automargin": true,
           "gridcolor": "white",
           "linecolor": "white",
           "ticks": "",
           "title": {
            "standoff": 15
           },
           "zerolinecolor": "white",
           "zerolinewidth": 2
          },
          "yaxis": {
           "automargin": true,
           "gridcolor": "white",
           "linecolor": "white",
           "ticks": "",
           "title": {
            "standoff": 15
           },
           "zerolinecolor": "white",
           "zerolinewidth": 2
          }
         }
        },
        "title": {
         "text": "AP by anomaly types"
        },
        "xaxis": {
         "anchor": "y",
         "domain": [
          0,
          0.2733333333333333
         ],
         "showticklabels": true,
         "title": {
          "text": "Abordagem"
         },
         "type": "category"
        },
        "xaxis2": {
         "anchor": "y2",
         "domain": [
          0.3633333333333333,
          0.6366666666666666
         ],
         "matches": "x",
         "showticklabels": true,
         "title": {
          "text": "Abordagem"
         },
         "type": "category"
        },
        "xaxis3": {
         "anchor": "y3",
         "domain": [
          0.7266666666666666,
          0.9999999999999999
         ],
         "matches": "x",
         "showticklabels": true,
         "title": {
          "text": "Abordagem"
         },
         "type": "category"
        },
        "yaxis": {
         "anchor": "x",
         "domain": [
          0,
          1
         ],
         "range": [
          0,
          1.01
         ],
         "title": {
          "text": "AP"
         }
        },
        "yaxis2": {
         "anchor": "x2",
         "domain": [
          0,
          1
         ],
         "matches": "y",
         "showticklabels": false
        },
        "yaxis3": {
         "anchor": "x3",
         "domain": [
          0,
          1
         ],
         "matches": "y",
         "showticklabels": false
        }
       }
      },
      "text/html": [
       "<div>                            <div id=\"b47e8076-6f3c-49f4-84ed-6a6ca61f1acc\" class=\"plotly-graph-div\" style=\"height:500px; width:100%;\"></div>            <script type=\"text/javascript\">                require([\"plotly\"], function(Plotly) {                    window.PLOTLYENV=window.PLOTLYENV || {};                                    if (document.getElementById(\"b47e8076-6f3c-49f4-84ed-6a6ca61f1acc\")) {                    Plotly.newPlot(                        \"b47e8076-6f3c-49f4-84ed-6a6ca61f1acc\",                        [{\"hovertemplate\": \"Anomalia=AF<br>Abordagem=%{x}<br>AP=%{y}<extra></extra>\", \"legendgroup\": \"\", \"marker\": {\"color\": \"#636efa\", \"symbol\": \"circle\"}, \"mode\": \"markers\", \"name\": \"\", \"orientation\": \"v\", \"showlegend\": false, \"type\": \"scatter\", \"x\": [\"DAE\", \"DAE\", \"DAE\", \"Binet\", \"Binet\", \"Binet\", \"ABRI\", \"ABRI\", \"ABRI\", \"Rand\\u00f4mica\", \"Rand\\u00f4mica\", \"Rand\\u00f4mica\", \"t-STIDE+\", \"t-STIDE+\", \"t-STIDE+\"], \"xaxis\": \"x\", \"y\": [0.7419846250493756, 0.6531272242664811, 0.5927452610560577, 0.2918230326075997, 0.28354665409856583, 0.31378598199983737, 0.886931414387705, 0.8954206058524047, 0.8973955020474887, 0.4111272832003235, 0.3666831651084019, 0.35761302116253646, 0.5605555555555555, 0.5722222222222222, 0.5691111111111111], \"yaxis\": \"y\"}, {\"hovertemplate\": \"Anomalia=IA<br>Abordagem=%{x}<br>AP=%{y}<extra></extra>\", \"legendgroup\": \"\", \"marker\": {\"color\": \"#636efa\", \"symbol\": \"circle\"}, \"mode\": \"markers\", \"name\": \"\", \"orientation\": \"v\", \"showlegend\": false, \"type\": \"scatter\", \"x\": [\"DAE\", \"DAE\", \"DAE\", \"Binet\", \"Binet\", \"Binet\", \"ABRI\", \"ABRI\", \"ABRI\", \"Rand\\u00f4mica\", \"Rand\\u00f4mica\", \"Rand\\u00f4mica\", \"t-STIDE+\", \"t-STIDE+\", \"t-STIDE+\"], \"xaxis\": \"x2\", \"y\": [0.56101801661132, 0.6393585997838184, 0.49622622421455526, 0.44274398924668823, 0.42068354312681605, 0.4312571510748822, 0.9649448723671705, 0.9513991198609775, 0.9584991600554547, 0.3518344980434486, 0.32152336743502874, 0.3086196159364242, 0.9533333333333334, 0.9595555555555556, 0.9626666666666666], \"yaxis\": \"y2\"}, {\"hovertemplate\": \"Anomalia=TA<br>Abordagem=%{x}<br>AP=%{y}<extra></extra>\", \"legendgroup\": \"\", \"marker\": {\"color\": \"#636efa\", \"symbol\": \"circle\"}, \"mode\": \"markers\", \"name\": \"\", \"orientation\": \"v\", \"showlegend\": false, \"type\": \"scatter\", \"x\": [\"DAE\", \"DAE\", \"DAE\", \"Binet\", \"Binet\", \"Binet\", \"ABRI\", \"ABRI\", \"ABRI\", \"Rand\\u00f4mica\", \"Rand\\u00f4mica\", \"Rand\\u00f4mica\", \"t-STIDE+\", \"t-STIDE+\", \"t-STIDE+\"], \"xaxis\": \"x3\", \"y\": [0.7243055469409978, 0.7142165130484536, 0.679101192654727, 0.4859769590103092, 0.4552747777403586, 0.4276511606759339, 0.955516282080319, 0.947220506188135, 0.956733699102575, 0.34062430719516174, 0.3341885337170398, 0.348359142911079, 0.9992222222222222, 0.9992222222222222, 0.9976666666666667], \"yaxis\": \"y3\"}],                        {\"annotations\": [{\"showarrow\": false, \"text\": \"Anomalia=AF\", \"x\": 0.13666666666666666, \"xanchor\": \"center\", \"xref\": \"paper\", \"y\": 1.0, \"yanchor\": \"bottom\", \"yref\": \"paper\"}, {\"showarrow\": false, \"text\": \"Anomalia=IA\", \"x\": 0.49999999999999994, \"xanchor\": \"center\", \"xref\": \"paper\", \"y\": 1.0, \"yanchor\": \"bottom\", \"yref\": \"paper\"}, {\"showarrow\": false, \"text\": \"Anomalia=TA\", \"x\": 0.8633333333333333, \"xanchor\": \"center\", \"xref\": \"paper\", \"y\": 1.0, \"yanchor\": \"bottom\", \"yref\": \"paper\"}], \"height\": 500, \"legend\": {\"tracegroupgap\": 0}, \"template\": {\"data\": {\"bar\": [{\"error_x\": {\"color\": \"#2a3f5f\"}, \"error_y\": {\"color\": \"#2a3f5f\"}, \"marker\": {\"line\": {\"color\": \"#E5ECF6\", \"width\": 0.5}}, \"type\": \"bar\"}], \"barpolar\": [{\"marker\": {\"line\": {\"color\": \"#E5ECF6\", \"width\": 0.5}}, \"type\": \"barpolar\"}], \"carpet\": [{\"aaxis\": {\"endlinecolor\": \"#2a3f5f\", \"gridcolor\": \"white\", \"linecolor\": \"white\", \"minorgridcolor\": \"white\", \"startlinecolor\": \"#2a3f5f\"}, \"baxis\": {\"endlinecolor\": \"#2a3f5f\", \"gridcolor\": \"white\", \"linecolor\": \"white\", \"minorgridcolor\": \"white\", \"startlinecolor\": \"#2a3f5f\"}, \"type\": \"carpet\"}], \"choropleth\": [{\"colorbar\": {\"outlinewidth\": 0, \"ticks\": \"\"}, \"type\": \"choropleth\"}], \"contour\": [{\"colorbar\": {\"outlinewidth\": 0, \"ticks\": \"\"}, \"colorscale\": [[0.0, \"#0d0887\"], [0.1111111111111111, \"#46039f\"], [0.2222222222222222, \"#7201a8\"], [0.3333333333333333, \"#9c179e\"], [0.4444444444444444, \"#bd3786\"], [0.5555555555555556, \"#d8576b\"], [0.6666666666666666, \"#ed7953\"], [0.7777777777777778, \"#fb9f3a\"], [0.8888888888888888, \"#fdca26\"], [1.0, \"#f0f921\"]], \"type\": \"contour\"}], \"contourcarpet\": [{\"colorbar\": {\"outlinewidth\": 0, \"ticks\": \"\"}, \"type\": \"contourcarpet\"}], \"heatmap\": [{\"colorbar\": {\"outlinewidth\": 0, \"ticks\": \"\"}, \"colorscale\": [[0.0, \"#0d0887\"], [0.1111111111111111, \"#46039f\"], [0.2222222222222222, \"#7201a8\"], [0.3333333333333333, \"#9c179e\"], [0.4444444444444444, \"#bd3786\"], [0.5555555555555556, \"#d8576b\"], [0.6666666666666666, \"#ed7953\"], [0.7777777777777778, \"#fb9f3a\"], [0.8888888888888888, \"#fdca26\"], [1.0, \"#f0f921\"]], \"type\": \"heatmap\"}], \"heatmapgl\": [{\"colorbar\": {\"outlinewidth\": 0, \"ticks\": \"\"}, \"colorscale\": [[0.0, \"#0d0887\"], [0.1111111111111111, \"#46039f\"], [0.2222222222222222, \"#7201a8\"], [0.3333333333333333, \"#9c179e\"], [0.4444444444444444, \"#bd3786\"], [0.5555555555555556, \"#d8576b\"], [0.6666666666666666, \"#ed7953\"], [0.7777777777777778, \"#fb9f3a\"], [0.8888888888888888, \"#fdca26\"], [1.0, \"#f0f921\"]], \"type\": \"heatmapgl\"}], \"histogram\": [{\"marker\": {\"colorbar\": {\"outlinewidth\": 0, \"ticks\": \"\"}}, \"type\": \"histogram\"}], \"histogram2d\": [{\"colorbar\": {\"outlinewidth\": 0, \"ticks\": \"\"}, \"colorscale\": [[0.0, \"#0d0887\"], [0.1111111111111111, \"#46039f\"], [0.2222222222222222, \"#7201a8\"], [0.3333333333333333, \"#9c179e\"], [0.4444444444444444, \"#bd3786\"], [0.5555555555555556, \"#d8576b\"], [0.6666666666666666, \"#ed7953\"], [0.7777777777777778, \"#fb9f3a\"], [0.8888888888888888, \"#fdca26\"], [1.0, \"#f0f921\"]], \"type\": \"histogram2d\"}], \"histogram2dcontour\": [{\"colorbar\": {\"outlinewidth\": 0, \"ticks\": \"\"}, \"colorscale\": [[0.0, \"#0d0887\"], [0.1111111111111111, \"#46039f\"], [0.2222222222222222, \"#7201a8\"], [0.3333333333333333, \"#9c179e\"], [0.4444444444444444, \"#bd3786\"], [0.5555555555555556, \"#d8576b\"], [0.6666666666666666, \"#ed7953\"], [0.7777777777777778, \"#fb9f3a\"], [0.8888888888888888, \"#fdca26\"], [1.0, \"#f0f921\"]], \"type\": \"histogram2dcontour\"}], \"mesh3d\": [{\"colorbar\": {\"outlinewidth\": 0, \"ticks\": \"\"}, \"type\": \"mesh3d\"}], \"parcoords\": [{\"line\": {\"colorbar\": {\"outlinewidth\": 0, \"ticks\": \"\"}}, \"type\": \"parcoords\"}], \"pie\": [{\"automargin\": true, \"type\": \"pie\"}], \"scatter\": [{\"marker\": {\"colorbar\": {\"outlinewidth\": 0, \"ticks\": \"\"}}, \"type\": \"scatter\"}], \"scatter3d\": [{\"line\": {\"colorbar\": {\"outlinewidth\": 0, \"ticks\": \"\"}}, \"marker\": {\"colorbar\": {\"outlinewidth\": 0, \"ticks\": \"\"}}, \"type\": \"scatter3d\"}], \"scattercarpet\": [{\"marker\": {\"colorbar\": {\"outlinewidth\": 0, \"ticks\": \"\"}}, \"type\": \"scattercarpet\"}], \"scattergeo\": [{\"marker\": {\"colorbar\": {\"outlinewidth\": 0, \"ticks\": \"\"}}, \"type\": \"scattergeo\"}], \"scattergl\": [{\"marker\": {\"colorbar\": {\"outlinewidth\": 0, \"ticks\": \"\"}}, \"type\": \"scattergl\"}], \"scattermapbox\": [{\"marker\": {\"colorbar\": {\"outlinewidth\": 0, \"ticks\": \"\"}}, \"type\": \"scattermapbox\"}], \"scatterpolar\": [{\"marker\": {\"colorbar\": {\"outlinewidth\": 0, \"ticks\": \"\"}}, \"type\": \"scatterpolar\"}], \"scatterpolargl\": [{\"marker\": {\"colorbar\": {\"outlinewidth\": 0, \"ticks\": \"\"}}, \"type\": \"scatterpolargl\"}], \"scatterternary\": [{\"marker\": {\"colorbar\": {\"outlinewidth\": 0, \"ticks\": \"\"}}, \"type\": \"scatterternary\"}], \"surface\": [{\"colorbar\": {\"outlinewidth\": 0, \"ticks\": \"\"}, \"colorscale\": [[0.0, \"#0d0887\"], [0.1111111111111111, \"#46039f\"], [0.2222222222222222, \"#7201a8\"], [0.3333333333333333, \"#9c179e\"], [0.4444444444444444, \"#bd3786\"], [0.5555555555555556, \"#d8576b\"], [0.6666666666666666, \"#ed7953\"], [0.7777777777777778, \"#fb9f3a\"], [0.8888888888888888, \"#fdca26\"], [1.0, \"#f0f921\"]], \"type\": \"surface\"}], \"table\": [{\"cells\": {\"fill\": {\"color\": \"#EBF0F8\"}, \"line\": {\"color\": \"white\"}}, \"header\": {\"fill\": {\"color\": \"#C8D4E3\"}, \"line\": {\"color\": \"white\"}}, \"type\": \"table\"}]}, \"layout\": {\"annotationdefaults\": {\"arrowcolor\": \"#2a3f5f\", \"arrowhead\": 0, \"arrowwidth\": 1}, \"autotypenumbers\": \"strict\", \"coloraxis\": {\"colorbar\": {\"outlinewidth\": 0, \"ticks\": \"\"}}, \"colorscale\": {\"diverging\": [[0, \"#8e0152\"], [0.1, \"#c51b7d\"], [0.2, \"#de77ae\"], [0.3, \"#f1b6da\"], [0.4, \"#fde0ef\"], [0.5, \"#f7f7f7\"], [0.6, \"#e6f5d0\"], [0.7, \"#b8e186\"], [0.8, \"#7fbc41\"], [0.9, \"#4d9221\"], [1, \"#276419\"]], \"sequential\": [[0.0, \"#0d0887\"], [0.1111111111111111, \"#46039f\"], [0.2222222222222222, \"#7201a8\"], [0.3333333333333333, \"#9c179e\"], [0.4444444444444444, \"#bd3786\"], [0.5555555555555556, \"#d8576b\"], [0.6666666666666666, \"#ed7953\"], [0.7777777777777778, \"#fb9f3a\"], [0.8888888888888888, \"#fdca26\"], [1.0, \"#f0f921\"]], \"sequentialminus\": [[0.0, \"#0d0887\"], [0.1111111111111111, \"#46039f\"], [0.2222222222222222, \"#7201a8\"], [0.3333333333333333, \"#9c179e\"], [0.4444444444444444, \"#bd3786\"], [0.5555555555555556, \"#d8576b\"], [0.6666666666666666, \"#ed7953\"], [0.7777777777777778, \"#fb9f3a\"], [0.8888888888888888, \"#fdca26\"], [1.0, \"#f0f921\"]]}, \"colorway\": [\"#636efa\", \"#EF553B\", \"#00cc96\", \"#ab63fa\", \"#FFA15A\", \"#19d3f3\", \"#FF6692\", \"#B6E880\", \"#FF97FF\", \"#FECB52\"], \"font\": {\"color\": \"#2a3f5f\"}, \"geo\": {\"bgcolor\": \"white\", \"lakecolor\": \"white\", \"landcolor\": \"#E5ECF6\", \"showlakes\": true, \"showland\": true, \"subunitcolor\": \"white\"}, \"hoverlabel\": {\"align\": \"left\"}, \"hovermode\": \"closest\", \"mapbox\": {\"style\": \"light\"}, \"paper_bgcolor\": \"white\", \"plot_bgcolor\": \"#E5ECF6\", \"polar\": {\"angularaxis\": {\"gridcolor\": \"white\", \"linecolor\": \"white\", \"ticks\": \"\"}, \"bgcolor\": \"#E5ECF6\", \"radialaxis\": {\"gridcolor\": \"white\", \"linecolor\": \"white\", \"ticks\": \"\"}}, \"scene\": {\"xaxis\": {\"backgroundcolor\": \"#E5ECF6\", \"gridcolor\": \"white\", \"gridwidth\": 2, \"linecolor\": \"white\", \"showbackground\": true, \"ticks\": \"\", \"zerolinecolor\": \"white\"}, \"yaxis\": {\"backgroundcolor\": \"#E5ECF6\", \"gridcolor\": \"white\", \"gridwidth\": 2, \"linecolor\": \"white\", \"showbackground\": true, \"ticks\": \"\", \"zerolinecolor\": \"white\"}, \"zaxis\": {\"backgroundcolor\": \"#E5ECF6\", \"gridcolor\": \"white\", \"gridwidth\": 2, \"linecolor\": \"white\", \"showbackground\": true, \"ticks\": \"\", \"zerolinecolor\": \"white\"}}, \"shapedefaults\": {\"line\": {\"color\": \"#2a3f5f\"}}, \"ternary\": {\"aaxis\": {\"gridcolor\": \"white\", \"linecolor\": \"white\", \"ticks\": \"\"}, \"baxis\": {\"gridcolor\": \"white\", \"linecolor\": \"white\", \"ticks\": \"\"}, \"bgcolor\": \"#E5ECF6\", \"caxis\": {\"gridcolor\": \"white\", \"linecolor\": \"white\", \"ticks\": \"\"}}, \"title\": {\"x\": 0.05}, \"xaxis\": {\"automargin\": true, \"gridcolor\": \"white\", \"linecolor\": \"white\", \"ticks\": \"\", \"title\": {\"standoff\": 15}, \"zerolinecolor\": \"white\", \"zerolinewidth\": 2}, \"yaxis\": {\"automargin\": true, \"gridcolor\": \"white\", \"linecolor\": \"white\", \"ticks\": \"\", \"title\": {\"standoff\": 15}, \"zerolinecolor\": \"white\", \"zerolinewidth\": 2}}}, \"title\": {\"text\": \"AP by anomaly types\"}, \"xaxis\": {\"anchor\": \"y\", \"domain\": [0.0, 0.2733333333333333], \"showticklabels\": true, \"title\": {\"text\": \"Abordagem\"}, \"type\": \"category\"}, \"xaxis2\": {\"anchor\": \"y2\", \"domain\": [0.3633333333333333, 0.6366666666666666], \"matches\": \"x\", \"showticklabels\": true, \"title\": {\"text\": \"Abordagem\"}, \"type\": \"category\"}, \"xaxis3\": {\"anchor\": \"y3\", \"domain\": [0.7266666666666666, 0.9999999999999999], \"matches\": \"x\", \"showticklabels\": true, \"title\": {\"text\": \"Abordagem\"}, \"type\": \"category\"}, \"yaxis\": {\"anchor\": \"x\", \"domain\": [0.0, 1.0], \"range\": [0, 1.01], \"title\": {\"text\": \"AP\"}}, \"yaxis2\": {\"anchor\": \"x2\", \"domain\": [0.0, 1.0], \"matches\": \"y\", \"showticklabels\": false}, \"yaxis3\": {\"anchor\": \"x3\", \"domain\": [0.0, 1.0], \"matches\": \"y\", \"showticklabels\": false}},                        {\"responsive\": true}                    ).then(function(){\n",
       "                            \n",
       "var gd = document.getElementById('b47e8076-6f3c-49f4-84ed-6a6ca61f1acc');\n",
       "var x = new MutationObserver(function (mutations, observer) {{\n",
       "        var display = window.getComputedStyle(gd).display;\n",
       "        if (!display || display === 'none') {{\n",
       "            console.log([gd, 'removed!']);\n",
       "            Plotly.purge(gd);\n",
       "            observer.disconnect();\n",
       "        }}\n",
       "}});\n",
       "\n",
       "// Listen for the removal of the full notebook cells\n",
       "var notebookContainer = gd.closest('#notebook-container');\n",
       "if (notebookContainer) {{\n",
       "    x.observe(notebookContainer, {childList: true});\n",
       "}}\n",
       "\n",
       "// Listen for the clearing of the current output cell\n",
       "var outputEl = gd.closest('.output');\n",
       "if (outputEl) {{\n",
       "    x.observe(outputEl, {childList: true});\n",
       "}}\n",
       "\n",
       "                        })                };                });            </script>        </div>"
      ]
     },
     "metadata": {},
     "output_type": "display_data"
    },
    {
     "name": "stdout",
     "output_type": "stream",
     "text": [
      "Fig16.modeA\n"
     ]
    },
    {
     "data": {
      "text/html": [
       "        <script type=\"text/javascript\">\n",
       "        window.PlotlyConfig = {MathJaxConfig: 'local'};\n",
       "        if (window.MathJax) {MathJax.Hub.Config({SVG: {font: \"STIX-Web\"}});}\n",
       "        if (typeof require !== 'undefined') {\n",
       "        require.undef(\"plotly\");\n",
       "        requirejs.config({\n",
       "            paths: {\n",
       "                'plotly': ['https://cdn.plot.ly/plotly-latest.min']\n",
       "            }\n",
       "        });\n",
       "        require(['plotly'], function(Plotly) {\n",
       "            window._Plotly = Plotly;\n",
       "        });\n",
       "        }\n",
       "        </script>\n",
       "        "
      ]
     },
     "metadata": {},
     "output_type": "display_data"
    },
    {
     "data": {
      "application/vnd.plotly.v1+json": {
       "config": {
        "linkText": "Export to plot.ly",
        "plotlyServerURL": "https://plot.ly",
        "showLink": false
       },
       "data": [
        {
         "alignmentgroup": "True",
         "boxpoints": "all",
         "hovertemplate": "Abordagem=DAE<br>Anomalia=AF<br>Log=%{x}<br>AP=%{y}<extra></extra>",
         "legendgroup": "DAE",
         "marker": {
          "color": "#636efa"
         },
         "name": "DAE",
         "notched": false,
         "offsetgroup": "DAE",
         "orientation": "v",
         "showlegend": true,
         "type": "box",
         "x": [
          "af01",
          "af01",
          "af01",
          "af01",
          "af01",
          "af02",
          "af02",
          "af02",
          "af02",
          "af02",
          "af03",
          "af03",
          "af03",
          "af03",
          "af03"
         ],
         "x0": " ",
         "xaxis": "x3",
         "y": [
          0.7070124176582893,
          0.7589870249169821,
          0.7485747931641061,
          0.7098678198310142,
          0.7854810696764857,
          0.6284255669056173,
          0.5950307134415346,
          0.7218804791156311,
          0.7649734606296871,
          0.5553259012399351,
          0.4376668793919256,
          0.640650467911704,
          0.6927695600584234,
          0.4196621720313559,
          0.7729772258868793
         ],
         "y0": " ",
         "yaxis": "y3"
        },
        {
         "alignmentgroup": "True",
         "boxpoints": "all",
         "hovertemplate": "Abordagem=DAE<br>Anomalia=IA<br>Log=%{x}<br>AP=%{y}<extra></extra>",
         "legendgroup": "DAE",
         "marker": {
          "color": "#636efa"
         },
         "name": "DAE",
         "notched": false,
         "offsetgroup": "DAE",
         "orientation": "v",
         "showlegend": false,
         "type": "box",
         "x": [
          "ia01",
          "ia01",
          "ia01",
          "ia01",
          "ia01",
          "ia02",
          "ia02",
          "ia02",
          "ia02",
          "ia02",
          "ia03",
          "ia03",
          "ia03",
          "ia03",
          "ia03"
         ],
         "x0": " ",
         "xaxis": "x2",
         "y": [
          0.5197993102707158,
          0.5985643301636293,
          0.4602557805138669,
          0.7131099825047627,
          0.5133606796036255,
          0.6294141291269293,
          0.5502949330370958,
          0.6054806921461279,
          0.7812799029349639,
          0.6303233416739749,
          0.31762918599561185,
          0.4733445737372377,
          0.4034206361895276,
          0.6568274019572167,
          0.6299093231931823
         ],
         "y0": " ",
         "yaxis": "y2"
        },
        {
         "alignmentgroup": "True",
         "boxpoints": "all",
         "hovertemplate": "Abordagem=DAE<br>Anomalia=TA<br>Log=%{x}<br>AP=%{y}<extra></extra>",
         "legendgroup": "DAE",
         "marker": {
          "color": "#636efa"
         },
         "name": "DAE",
         "notched": false,
         "offsetgroup": "DAE",
         "orientation": "v",
         "showlegend": false,
         "type": "box",
         "x": [
          "ta01",
          "ta01",
          "ta01",
          "ta01",
          "ta01",
          "ta02",
          "ta02",
          "ta02",
          "ta02",
          "ta02",
          "ta03",
          "ta03",
          "ta03",
          "ta03",
          "ta03"
         ],
         "x0": " ",
         "xaxis": "x",
         "y": [
          0.8542808576761171,
          0.8890795793542119,
          0.5832695121204416,
          0.5710549998734782,
          0.7238427856807408,
          0.7585984513912334,
          0.6744084039433645,
          0.7087913882987497,
          0.6977801464212601,
          0.7315041751876603,
          0.4889348056328103,
          0.7770959384361219,
          0.7269937849474166,
          0.6929671705477883,
          0.7095142637094979
         ],
         "y0": " ",
         "yaxis": "y"
        },
        {
         "alignmentgroup": "True",
         "boxpoints": "all",
         "hovertemplate": "Abordagem=Binet<br>Anomalia=AF<br>Log=%{x}<br>AP=%{y}<extra></extra>",
         "legendgroup": "Binet",
         "marker": {
          "color": "#EF553B"
         },
         "name": "Binet",
         "notched": false,
         "offsetgroup": "Binet",
         "orientation": "v",
         "showlegend": true,
         "type": "box",
         "x": [
          "af01",
          "af01",
          "af01",
          "af01",
          "af01",
          "af02",
          "af02",
          "af02",
          "af02",
          "af02",
          "af03",
          "af03",
          "af03",
          "af03",
          "af03"
         ],
         "x0": " ",
         "xaxis": "x3",
         "y": [
          0.27879246438795224,
          0.2725849471767725,
          0.30163492989408913,
          0.2917047285084685,
          0.3143980930707161,
          0.26174677417726816,
          0.2803823313556722,
          0.2935217904067493,
          0.306012074574476,
          0.2760702999786634,
          0.28358993769090635,
          0.3389081210470495,
          0.2983060333373769,
          0.3028129864326125,
          0.3453128314912417
         ],
         "y0": " ",
         "yaxis": "y3"
        },
        {
         "alignmentgroup": "True",
         "boxpoints": "all",
         "hovertemplate": "Abordagem=Binet<br>Anomalia=IA<br>Log=%{x}<br>AP=%{y}<extra></extra>",
         "legendgroup": "Binet",
         "marker": {
          "color": "#EF553B"
         },
         "name": "Binet",
         "notched": false,
         "offsetgroup": "Binet",
         "orientation": "v",
         "showlegend": false,
         "type": "box",
         "x": [
          "ia01",
          "ia01",
          "ia01",
          "ia01",
          "ia01",
          "ia02",
          "ia02",
          "ia02",
          "ia02",
          "ia02",
          "ia03",
          "ia03",
          "ia03",
          "ia03",
          "ia03"
         ],
         "x0": " ",
         "xaxis": "x2",
         "y": [
          0.3880029655669307,
          0.4234070000225885,
          0.5810748724205981,
          0.4209778534875373,
          0.4002572547357863,
          0.4675119010472582,
          0.3996122189065297,
          0.5333690003587879,
          0.3517768652609618,
          0.35114773006054256,
          0.4346135245828912,
          0.4071054930381104,
          0.3846669541309285,
          0.4932629210479247,
          0.4366368625745564
         ],
         "y0": " ",
         "yaxis": "y2"
        },
        {
         "alignmentgroup": "True",
         "boxpoints": "all",
         "hovertemplate": "Abordagem=Binet<br>Anomalia=TA<br>Log=%{x}<br>AP=%{y}<extra></extra>",
         "legendgroup": "Binet",
         "marker": {
          "color": "#EF553B"
         },
         "name": "Binet",
         "notched": false,
         "offsetgroup": "Binet",
         "orientation": "v",
         "showlegend": false,
         "type": "box",
         "x": [
          "ta01",
          "ta01",
          "ta01",
          "ta01",
          "ta01",
          "ta02",
          "ta02",
          "ta02",
          "ta02",
          "ta02",
          "ta03",
          "ta03",
          "ta03",
          "ta03",
          "ta03"
         ],
         "x0": " ",
         "xaxis": "x",
         "y": [
          0.4666862180621347,
          0.4011009906657023,
          0.4602870391476785,
          0.4831865021975567,
          0.6186240449784739,
          0.4850326807486858,
          0.40614628650929896,
          0.4825337708589528,
          0.4716228763630079,
          0.4310382742218473,
          0.4265494674877797,
          0.3542225495675661,
          0.450585859207758,
          0.5313823889503542,
          0.3755155381662113
         ],
         "y0": " ",
         "yaxis": "y"
        },
        {
         "alignmentgroup": "True",
         "boxpoints": "all",
         "hovertemplate": "Abordagem=ABRI<br>Anomalia=AF<br>Log=%{x}<br>AP=%{y}<extra></extra>",
         "legendgroup": "ABRI",
         "marker": {
          "color": "#00cc96"
         },
         "name": "ABRI",
         "notched": false,
         "offsetgroup": "ABRI",
         "orientation": "v",
         "showlegend": true,
         "type": "box",
         "x": [
          "af01",
          "af01",
          "af01",
          "af01",
          "af01",
          "af02",
          "af02",
          "af02",
          "af02",
          "af02",
          "af03",
          "af03",
          "af03",
          "af03",
          "af03"
         ],
         "x0": " ",
         "xaxis": "x3",
         "y": [
          0.8850793471529592,
          0.8861539559366838,
          0.8883945841032395,
          0.8865495584380163,
          0.8884796263076262,
          0.8876777161048043,
          0.8992642089939169,
          0.8998964449186204,
          0.89041150556685,
          0.8998531536778314,
          0.9041375087406848,
          0.8903610849668527,
          0.8952204207881644,
          0.9038905286869721,
          0.8933679670547703
         ],
         "y0": " ",
         "yaxis": "y3"
        },
        {
         "alignmentgroup": "True",
         "boxpoints": "all",
         "hovertemplate": "Abordagem=ABRI<br>Anomalia=IA<br>Log=%{x}<br>AP=%{y}<extra></extra>",
         "legendgroup": "ABRI",
         "marker": {
          "color": "#00cc96"
         },
         "name": "ABRI",
         "notched": false,
         "offsetgroup": "ABRI",
         "orientation": "v",
         "showlegend": false,
         "type": "box",
         "x": [
          "ia01",
          "ia01",
          "ia01",
          "ia01",
          "ia01",
          "ia02",
          "ia02",
          "ia02",
          "ia02",
          "ia02",
          "ia03",
          "ia03",
          "ia03",
          "ia03",
          "ia03"
         ],
         "x0": " ",
         "xaxis": "x2",
         "y": [
          0.9692737889629082,
          0.9637938665000522,
          0.9700132379679232,
          0.9632678829107402,
          0.9583755854942296,
          0.9581761658031088,
          0.9527647610121838,
          0.9527647610121838,
          0.9467013888888888,
          0.9465885225885228,
          0.9543235331551484,
          0.9596382384062936,
          0.9547530864197532,
          0.9587684579015716,
          0.9650124843945068
         ],
         "y0": " ",
         "yaxis": "y2"
        },
        {
         "alignmentgroup": "True",
         "boxpoints": "all",
         "hovertemplate": "Abordagem=ABRI<br>Anomalia=TA<br>Log=%{x}<br>AP=%{y}<extra></extra>",
         "legendgroup": "ABRI",
         "marker": {
          "color": "#00cc96"
         },
         "name": "ABRI",
         "notched": false,
         "offsetgroup": "ABRI",
         "orientation": "v",
         "showlegend": false,
         "type": "box",
         "x": [
          "ta01",
          "ta01",
          "ta01",
          "ta01",
          "ta01",
          "ta02",
          "ta02",
          "ta02",
          "ta02",
          "ta02",
          "ta03",
          "ta03",
          "ta03",
          "ta03",
          "ta03"
         ],
         "x0": " ",
         "xaxis": "x",
         "y": [
          0.950880681818182,
          0.9567068308031378,
          0.9611694476409668,
          0.9579437683211268,
          0.950880681818182,
          0.9408459595959596,
          0.9530725138294412,
          0.9513739705120084,
          0.9451191447858156,
          0.9456909422174506,
          0.9574928407789232,
          0.9574928407789232,
          0.9567068308031378,
          0.9574928407789232,
          0.9544831423729672
         ],
         "y0": " ",
         "yaxis": "y"
        },
        {
         "alignmentgroup": "True",
         "boxpoints": "all",
         "hovertemplate": "Abordagem=Randômica<br>Anomalia=AF<br>Log=%{x}<br>AP=%{y}<extra></extra>",
         "legendgroup": "Randômica",
         "marker": {
          "color": "#ab63fa"
         },
         "name": "Randômica",
         "notched": false,
         "offsetgroup": "Randômica",
         "orientation": "v",
         "showlegend": true,
         "type": "box",
         "x": [
          "af01",
          "af01",
          "af01",
          "af01",
          "af01",
          "af02",
          "af02",
          "af02",
          "af02",
          "af02",
          "af03",
          "af03",
          "af03",
          "af03",
          "af03"
         ],
         "x0": " ",
         "xaxis": "x3",
         "y": [
          0.5239141063103367,
          0.3814666338295831,
          0.3791290143896173,
          0.32409552897040583,
          0.4470311325016744,
          0.2231166483920056,
          0.3507717909653512,
          0.3940973162462801,
          0.4528981309540243,
          0.41253193898434826,
          0.40229363166436943,
          0.4723693905100546,
          0.29057434223047235,
          0.26802238510832965,
          0.3548053562994562
         ],
         "y0": " ",
         "yaxis": "y3"
        },
        {
         "alignmentgroup": "True",
         "boxpoints": "all",
         "hovertemplate": "Abordagem=Randômica<br>Anomalia=IA<br>Log=%{x}<br>AP=%{y}<extra></extra>",
         "legendgroup": "Randômica",
         "marker": {
          "color": "#ab63fa"
         },
         "name": "Randômica",
         "notched": false,
         "offsetgroup": "Randômica",
         "orientation": "v",
         "showlegend": false,
         "type": "box",
         "x": [
          "ia01",
          "ia01",
          "ia01",
          "ia01",
          "ia01",
          "ia02",
          "ia02",
          "ia02",
          "ia02",
          "ia02",
          "ia03",
          "ia03",
          "ia03",
          "ia03",
          "ia03"
         ],
         "x0": " ",
         "xaxis": "x2",
         "y": [
          0.3694561697691184,
          0.3599479568043049,
          0.3467452476057502,
          0.3199713862883431,
          0.3630517297497263,
          0.2882283178924285,
          0.3343527817117288,
          0.3584902226782233,
          0.3062916721748187,
          0.32025384271794444,
          0.2508142309489432,
          0.3208500140749669,
          0.33293944528192754,
          0.32344433674544043,
          0.3150500526308432
         ],
         "y0": " ",
         "yaxis": "y2"
        },
        {
         "alignmentgroup": "True",
         "boxpoints": "all",
         "hovertemplate": "Abordagem=Randômica<br>Anomalia=TA<br>Log=%{x}<br>AP=%{y}<extra></extra>",
         "legendgroup": "Randômica",
         "marker": {
          "color": "#ab63fa"
         },
         "name": "Randômica",
         "notched": false,
         "offsetgroup": "Randômica",
         "orientation": "v",
         "showlegend": false,
         "type": "box",
         "x": [
          "ta01",
          "ta01",
          "ta01",
          "ta01",
          "ta01",
          "ta02",
          "ta02",
          "ta02",
          "ta02",
          "ta02",
          "ta03",
          "ta03",
          "ta03",
          "ta03",
          "ta03"
         ],
         "x0": " ",
         "xaxis": "x",
         "y": [
          0.3665869121564665,
          0.3633785012771184,
          0.338462858066755,
          0.2698730856865986,
          0.3648201787888701,
          0.3026036375836194,
          0.3555945670465883,
          0.38601374089912177,
          0.3390560391064048,
          0.2876746839494648,
          0.31131344699137,
          0.2942099949910031,
          0.3786630792901096,
          0.34614602649528003,
          0.4114631667876324
         ],
         "y0": " ",
         "yaxis": "y"
        },
        {
         "alignmentgroup": "True",
         "boxpoints": "all",
         "hovertemplate": "Abordagem=t-STIDE+<br>Anomalia=AF<br>Log=%{x}<br>AP=%{y}<extra></extra>",
         "legendgroup": "t-STIDE+",
         "marker": {
          "color": "#FFA15A"
         },
         "name": "t-STIDE+",
         "notched": false,
         "offsetgroup": "t-STIDE+",
         "orientation": "v",
         "showlegend": true,
         "type": "box",
         "x": [
          "af01",
          "af01",
          "af01",
          "af01",
          "af01",
          "af02",
          "af02",
          "af02",
          "af02",
          "af02",
          "af03",
          "af03",
          "af03",
          "af03",
          "af03"
         ],
         "x0": " ",
         "xaxis": "x3",
         "y": [
          0.4827777777777778,
          0.5800000000000001,
          0.5955555555555555,
          0.5488888888888889,
          0.5955555555555555,
          0.5527777777777777,
          0.58,
          0.6266666666666667,
          0.4827777777777778,
          0.6188888888888889,
          0.5411111111111111,
          0.5372222222222223,
          0.6111111111111112,
          0.5566666666666665,
          0.5994444444444444
         ],
         "y0": " ",
         "yaxis": "y3"
        },
        {
         "alignmentgroup": "True",
         "boxpoints": "all",
         "hovertemplate": "Abordagem=t-STIDE+<br>Anomalia=IA<br>Log=%{x}<br>AP=%{y}<extra></extra>",
         "legendgroup": "t-STIDE+",
         "marker": {
          "color": "#FFA15A"
         },
         "name": "t-STIDE+",
         "notched": false,
         "offsetgroup": "t-STIDE+",
         "orientation": "v",
         "showlegend": false,
         "type": "box",
         "x": [
          "ia01",
          "ia01",
          "ia01",
          "ia01",
          "ia01",
          "ia02",
          "ia02",
          "ia02",
          "ia02",
          "ia02",
          "ia03",
          "ia03",
          "ia03",
          "ia03",
          "ia03"
         ],
         "x0": " ",
         "xaxis": "x2",
         "y": [
          0.9766666666666666,
          0.9533333333333334,
          0.9494444444444444,
          0.9377777777777776,
          0.9494444444444444,
          0.965,
          0.9611111111111112,
          0.9494444444444444,
          0.9766666666666668,
          0.9455555555555556,
          0.9611111111111108,
          0.9688888888888888,
          0.9611111111111108,
          0.965,
          0.9572222222222222
         ],
         "y0": " ",
         "yaxis": "y2"
        },
        {
         "alignmentgroup": "True",
         "boxpoints": "all",
         "hovertemplate": "Abordagem=t-STIDE+<br>Anomalia=TA<br>Log=%{x}<br>AP=%{y}<extra></extra>",
         "legendgroup": "t-STIDE+",
         "marker": {
          "color": "#FFA15A"
         },
         "name": "t-STIDE+",
         "notched": false,
         "offsetgroup": "t-STIDE+",
         "orientation": "v",
         "showlegend": false,
         "type": "box",
         "x": [
          "ta01",
          "ta01",
          "ta01",
          "ta01",
          "ta01",
          "ta02",
          "ta02",
          "ta02",
          "ta02",
          "ta02",
          "ta03",
          "ta03",
          "ta03",
          "ta03",
          "ta03"
         ],
         "x0": " ",
         "xaxis": "x",
         "y": [
          0.9961111111111112,
          1,
          1,
          1,
          1,
          1,
          1,
          1,
          0.9961111111111112,
          1,
          1,
          0.9922222222222222,
          0.9961111111111112,
          1,
          1
         ],
         "y0": " ",
         "yaxis": "y"
        }
       ],
       "layout": {
        "annotations": [
         {
          "showarrow": false,
          "text": "Anomalia=TA",
          "x": 0.5,
          "xanchor": "center",
          "xref": "paper",
          "y": 0.2866666666666666,
          "yanchor": "bottom",
          "yref": "paper"
         },
         {
          "showarrow": false,
          "text": "Anomalia=IA",
          "x": 0.5,
          "xanchor": "center",
          "xref": "paper",
          "y": 0.6433333333333333,
          "yanchor": "bottom",
          "yref": "paper"
         },
         {
          "showarrow": false,
          "text": "Anomalia=AF",
          "x": 0.5,
          "xanchor": "center",
          "xref": "paper",
          "y": 0.9999999999999999,
          "yanchor": "bottom",
          "yref": "paper"
         }
        ],
        "boxmode": "group",
        "height": 400,
        "legend": {
         "title": {
          "text": "Abordagem"
         },
         "tracegroupgap": 0
        },
        "template": {
         "data": {
          "bar": [
           {
            "error_x": {
             "color": "#2a3f5f"
            },
            "error_y": {
             "color": "#2a3f5f"
            },
            "marker": {
             "line": {
              "color": "#E5ECF6",
              "width": 0.5
             }
            },
            "type": "bar"
           }
          ],
          "barpolar": [
           {
            "marker": {
             "line": {
              "color": "#E5ECF6",
              "width": 0.5
             }
            },
            "type": "barpolar"
           }
          ],
          "carpet": [
           {
            "aaxis": {
             "endlinecolor": "#2a3f5f",
             "gridcolor": "white",
             "linecolor": "white",
             "minorgridcolor": "white",
             "startlinecolor": "#2a3f5f"
            },
            "baxis": {
             "endlinecolor": "#2a3f5f",
             "gridcolor": "white",
             "linecolor": "white",
             "minorgridcolor": "white",
             "startlinecolor": "#2a3f5f"
            },
            "type": "carpet"
           }
          ],
          "choropleth": [
           {
            "colorbar": {
             "outlinewidth": 0,
             "ticks": ""
            },
            "type": "choropleth"
           }
          ],
          "contour": [
           {
            "colorbar": {
             "outlinewidth": 0,
             "ticks": ""
            },
            "colorscale": [
             [
              0,
              "#0d0887"
             ],
             [
              0.1111111111111111,
              "#46039f"
             ],
             [
              0.2222222222222222,
              "#7201a8"
             ],
             [
              0.3333333333333333,
              "#9c179e"
             ],
             [
              0.4444444444444444,
              "#bd3786"
             ],
             [
              0.5555555555555556,
              "#d8576b"
             ],
             [
              0.6666666666666666,
              "#ed7953"
             ],
             [
              0.7777777777777778,
              "#fb9f3a"
             ],
             [
              0.8888888888888888,
              "#fdca26"
             ],
             [
              1,
              "#f0f921"
             ]
            ],
            "type": "contour"
           }
          ],
          "contourcarpet": [
           {
            "colorbar": {
             "outlinewidth": 0,
             "ticks": ""
            },
            "type": "contourcarpet"
           }
          ],
          "heatmap": [
           {
            "colorbar": {
             "outlinewidth": 0,
             "ticks": ""
            },
            "colorscale": [
             [
              0,
              "#0d0887"
             ],
             [
              0.1111111111111111,
              "#46039f"
             ],
             [
              0.2222222222222222,
              "#7201a8"
             ],
             [
              0.3333333333333333,
              "#9c179e"
             ],
             [
              0.4444444444444444,
              "#bd3786"
             ],
             [
              0.5555555555555556,
              "#d8576b"
             ],
             [
              0.6666666666666666,
              "#ed7953"
             ],
             [
              0.7777777777777778,
              "#fb9f3a"
             ],
             [
              0.8888888888888888,
              "#fdca26"
             ],
             [
              1,
              "#f0f921"
             ]
            ],
            "type": "heatmap"
           }
          ],
          "heatmapgl": [
           {
            "colorbar": {
             "outlinewidth": 0,
             "ticks": ""
            },
            "colorscale": [
             [
              0,
              "#0d0887"
             ],
             [
              0.1111111111111111,
              "#46039f"
             ],
             [
              0.2222222222222222,
              "#7201a8"
             ],
             [
              0.3333333333333333,
              "#9c179e"
             ],
             [
              0.4444444444444444,
              "#bd3786"
             ],
             [
              0.5555555555555556,
              "#d8576b"
             ],
             [
              0.6666666666666666,
              "#ed7953"
             ],
             [
              0.7777777777777778,
              "#fb9f3a"
             ],
             [
              0.8888888888888888,
              "#fdca26"
             ],
             [
              1,
              "#f0f921"
             ]
            ],
            "type": "heatmapgl"
           }
          ],
          "histogram": [
           {
            "marker": {
             "colorbar": {
              "outlinewidth": 0,
              "ticks": ""
             }
            },
            "type": "histogram"
           }
          ],
          "histogram2d": [
           {
            "colorbar": {
             "outlinewidth": 0,
             "ticks": ""
            },
            "colorscale": [
             [
              0,
              "#0d0887"
             ],
             [
              0.1111111111111111,
              "#46039f"
             ],
             [
              0.2222222222222222,
              "#7201a8"
             ],
             [
              0.3333333333333333,
              "#9c179e"
             ],
             [
              0.4444444444444444,
              "#bd3786"
             ],
             [
              0.5555555555555556,
              "#d8576b"
             ],
             [
              0.6666666666666666,
              "#ed7953"
             ],
             [
              0.7777777777777778,
              "#fb9f3a"
             ],
             [
              0.8888888888888888,
              "#fdca26"
             ],
             [
              1,
              "#f0f921"
             ]
            ],
            "type": "histogram2d"
           }
          ],
          "histogram2dcontour": [
           {
            "colorbar": {
             "outlinewidth": 0,
             "ticks": ""
            },
            "colorscale": [
             [
              0,
              "#0d0887"
             ],
             [
              0.1111111111111111,
              "#46039f"
             ],
             [
              0.2222222222222222,
              "#7201a8"
             ],
             [
              0.3333333333333333,
              "#9c179e"
             ],
             [
              0.4444444444444444,
              "#bd3786"
             ],
             [
              0.5555555555555556,
              "#d8576b"
             ],
             [
              0.6666666666666666,
              "#ed7953"
             ],
             [
              0.7777777777777778,
              "#fb9f3a"
             ],
             [
              0.8888888888888888,
              "#fdca26"
             ],
             [
              1,
              "#f0f921"
             ]
            ],
            "type": "histogram2dcontour"
           }
          ],
          "mesh3d": [
           {
            "colorbar": {
             "outlinewidth": 0,
             "ticks": ""
            },
            "type": "mesh3d"
           }
          ],
          "parcoords": [
           {
            "line": {
             "colorbar": {
              "outlinewidth": 0,
              "ticks": ""
             }
            },
            "type": "parcoords"
           }
          ],
          "pie": [
           {
            "automargin": true,
            "type": "pie"
           }
          ],
          "scatter": [
           {
            "marker": {
             "colorbar": {
              "outlinewidth": 0,
              "ticks": ""
             }
            },
            "type": "scatter"
           }
          ],
          "scatter3d": [
           {
            "line": {
             "colorbar": {
              "outlinewidth": 0,
              "ticks": ""
             }
            },
            "marker": {
             "colorbar": {
              "outlinewidth": 0,
              "ticks": ""
             }
            },
            "type": "scatter3d"
           }
          ],
          "scattercarpet": [
           {
            "marker": {
             "colorbar": {
              "outlinewidth": 0,
              "ticks": ""
             }
            },
            "type": "scattercarpet"
           }
          ],
          "scattergeo": [
           {
            "marker": {
             "colorbar": {
              "outlinewidth": 0,
              "ticks": ""
             }
            },
            "type": "scattergeo"
           }
          ],
          "scattergl": [
           {
            "marker": {
             "colorbar": {
              "outlinewidth": 0,
              "ticks": ""
             }
            },
            "type": "scattergl"
           }
          ],
          "scattermapbox": [
           {
            "marker": {
             "colorbar": {
              "outlinewidth": 0,
              "ticks": ""
             }
            },
            "type": "scattermapbox"
           }
          ],
          "scatterpolar": [
           {
            "marker": {
             "colorbar": {
              "outlinewidth": 0,
              "ticks": ""
             }
            },
            "type": "scatterpolar"
           }
          ],
          "scatterpolargl": [
           {
            "marker": {
             "colorbar": {
              "outlinewidth": 0,
              "ticks": ""
             }
            },
            "type": "scatterpolargl"
           }
          ],
          "scatterternary": [
           {
            "marker": {
             "colorbar": {
              "outlinewidth": 0,
              "ticks": ""
             }
            },
            "type": "scatterternary"
           }
          ],
          "surface": [
           {
            "colorbar": {
             "outlinewidth": 0,
             "ticks": ""
            },
            "colorscale": [
             [
              0,
              "#0d0887"
             ],
             [
              0.1111111111111111,
              "#46039f"
             ],
             [
              0.2222222222222222,
              "#7201a8"
             ],
             [
              0.3333333333333333,
              "#9c179e"
             ],
             [
              0.4444444444444444,
              "#bd3786"
             ],
             [
              0.5555555555555556,
              "#d8576b"
             ],
             [
              0.6666666666666666,
              "#ed7953"
             ],
             [
              0.7777777777777778,
              "#fb9f3a"
             ],
             [
              0.8888888888888888,
              "#fdca26"
             ],
             [
              1,
              "#f0f921"
             ]
            ],
            "type": "surface"
           }
          ],
          "table": [
           {
            "cells": {
             "fill": {
              "color": "#EBF0F8"
             },
             "line": {
              "color": "white"
             }
            },
            "header": {
             "fill": {
              "color": "#C8D4E3"
             },
             "line": {
              "color": "white"
             }
            },
            "type": "table"
           }
          ]
         },
         "layout": {
          "annotationdefaults": {
           "arrowcolor": "#2a3f5f",
           "arrowhead": 0,
           "arrowwidth": 1
          },
          "autotypenumbers": "strict",
          "coloraxis": {
           "colorbar": {
            "outlinewidth": 0,
            "ticks": ""
           }
          },
          "colorscale": {
           "diverging": [
            [
             0,
             "#8e0152"
            ],
            [
             0.1,
             "#c51b7d"
            ],
            [
             0.2,
             "#de77ae"
            ],
            [
             0.3,
             "#f1b6da"
            ],
            [
             0.4,
             "#fde0ef"
            ],
            [
             0.5,
             "#f7f7f7"
            ],
            [
             0.6,
             "#e6f5d0"
            ],
            [
             0.7,
             "#b8e186"
            ],
            [
             0.8,
             "#7fbc41"
            ],
            [
             0.9,
             "#4d9221"
            ],
            [
             1,
             "#276419"
            ]
           ],
           "sequential": [
            [
             0,
             "#0d0887"
            ],
            [
             0.1111111111111111,
             "#46039f"
            ],
            [
             0.2222222222222222,
             "#7201a8"
            ],
            [
             0.3333333333333333,
             "#9c179e"
            ],
            [
             0.4444444444444444,
             "#bd3786"
            ],
            [
             0.5555555555555556,
             "#d8576b"
            ],
            [
             0.6666666666666666,
             "#ed7953"
            ],
            [
             0.7777777777777778,
             "#fb9f3a"
            ],
            [
             0.8888888888888888,
             "#fdca26"
            ],
            [
             1,
             "#f0f921"
            ]
           ],
           "sequentialminus": [
            [
             0,
             "#0d0887"
            ],
            [
             0.1111111111111111,
             "#46039f"
            ],
            [
             0.2222222222222222,
             "#7201a8"
            ],
            [
             0.3333333333333333,
             "#9c179e"
            ],
            [
             0.4444444444444444,
             "#bd3786"
            ],
            [
             0.5555555555555556,
             "#d8576b"
            ],
            [
             0.6666666666666666,
             "#ed7953"
            ],
            [
             0.7777777777777778,
             "#fb9f3a"
            ],
            [
             0.8888888888888888,
             "#fdca26"
            ],
            [
             1,
             "#f0f921"
            ]
           ]
          },
          "colorway": [
           "#636efa",
           "#EF553B",
           "#00cc96",
           "#ab63fa",
           "#FFA15A",
           "#19d3f3",
           "#FF6692",
           "#B6E880",
           "#FF97FF",
           "#FECB52"
          ],
          "font": {
           "color": "#2a3f5f"
          },
          "geo": {
           "bgcolor": "white",
           "lakecolor": "white",
           "landcolor": "#E5ECF6",
           "showlakes": true,
           "showland": true,
           "subunitcolor": "white"
          },
          "hoverlabel": {
           "align": "left"
          },
          "hovermode": "closest",
          "mapbox": {
           "style": "light"
          },
          "paper_bgcolor": "white",
          "plot_bgcolor": "#E5ECF6",
          "polar": {
           "angularaxis": {
            "gridcolor": "white",
            "linecolor": "white",
            "ticks": ""
           },
           "bgcolor": "#E5ECF6",
           "radialaxis": {
            "gridcolor": "white",
            "linecolor": "white",
            "ticks": ""
           }
          },
          "scene": {
           "xaxis": {
            "backgroundcolor": "#E5ECF6",
            "gridcolor": "white",
            "gridwidth": 2,
            "linecolor": "white",
            "showbackground": true,
            "ticks": "",
            "zerolinecolor": "white"
           },
           "yaxis": {
            "backgroundcolor": "#E5ECF6",
            "gridcolor": "white",
            "gridwidth": 2,
            "linecolor": "white",
            "showbackground": true,
            "ticks": "",
            "zerolinecolor": "white"
           },
           "zaxis": {
            "backgroundcolor": "#E5ECF6",
            "gridcolor": "white",
            "gridwidth": 2,
            "linecolor": "white",
            "showbackground": true,
            "ticks": "",
            "zerolinecolor": "white"
           }
          },
          "shapedefaults": {
           "line": {
            "color": "#2a3f5f"
           }
          },
          "ternary": {
           "aaxis": {
            "gridcolor": "white",
            "linecolor": "white",
            "ticks": ""
           },
           "baxis": {
            "gridcolor": "white",
            "linecolor": "white",
            "ticks": ""
           },
           "bgcolor": "#E5ECF6",
           "caxis": {
            "gridcolor": "white",
            "linecolor": "white",
            "ticks": ""
           }
          },
          "title": {
           "x": 0.05
          },
          "xaxis": {
           "automargin": true,
           "gridcolor": "white",
           "linecolor": "white",
           "ticks": "",
           "title": {
            "standoff": 15
           },
           "zerolinecolor": "white",
           "zerolinewidth": 2
          },
          "yaxis": {
           "automargin": true,
           "gridcolor": "white",
           "linecolor": "white",
           "ticks": "",
           "title": {
            "standoff": 15
           },
           "zerolinecolor": "white",
           "zerolinewidth": 2
          }
         }
        },
        "title": {
         "text": "AP versus parameterizations"
        },
        "xaxis": {
         "anchor": "y",
         "categoryarray": [
          "af01",
          "af02",
          "af03",
          "ia01",
          "ia02",
          "ia03",
          "ta01",
          "ta02",
          "ta03"
         ],
         "categoryorder": "array",
         "domain": [
          0,
          1
         ],
         "showticklabels": true,
         "title": {
          "text": "Log"
         },
         "type": "category"
        },
        "xaxis2": {
         "anchor": "y2",
         "domain": [
          0,
          1
         ],
         "showticklabels": true,
         "title": {
          "text": "Log"
         },
         "type": "category"
        },
        "xaxis3": {
         "anchor": "y3",
         "domain": [
          0,
          1
         ],
         "showticklabels": true,
         "title": {
          "text": "Log"
         },
         "type": "category"
        },
        "yaxis": {
         "anchor": "x",
         "domain": [
          0,
          0.2866666666666666
         ],
         "range": [
          0,
          1.01
         ],
         "title": {
          "text": "AP"
         }
        },
        "yaxis2": {
         "anchor": "x2",
         "domain": [
          0.35666666666666663,
          0.6433333333333333
         ],
         "matches": "y",
         "range": [
          0,
          1.01
         ],
         "title": {
          "text": "AP"
         }
        },
        "yaxis3": {
         "anchor": "x3",
         "domain": [
          0.7133333333333333,
          0.9999999999999999
         ],
         "matches": "y",
         "range": [
          0,
          1.01
         ],
         "title": {
          "text": "AP"
         }
        }
       }
      },
      "text/html": [
       "<div>                            <div id=\"00bfdc29-6179-4982-817b-920a35430bad\" class=\"plotly-graph-div\" style=\"height:400px; width:100%;\"></div>            <script type=\"text/javascript\">                require([\"plotly\"], function(Plotly) {                    window.PLOTLYENV=window.PLOTLYENV || {};                                    if (document.getElementById(\"00bfdc29-6179-4982-817b-920a35430bad\")) {                    Plotly.newPlot(                        \"00bfdc29-6179-4982-817b-920a35430bad\",                        [{\"alignmentgroup\": \"True\", \"boxpoints\": \"all\", \"hovertemplate\": \"Abordagem=DAE<br>Anomalia=AF<br>Log=%{x}<br>AP=%{y}<extra></extra>\", \"legendgroup\": \"DAE\", \"marker\": {\"color\": \"#636efa\"}, \"name\": \"DAE\", \"notched\": false, \"offsetgroup\": \"DAE\", \"orientation\": \"v\", \"showlegend\": true, \"type\": \"box\", \"x\": [\"af01\", \"af01\", \"af01\", \"af01\", \"af01\", \"af02\", \"af02\", \"af02\", \"af02\", \"af02\", \"af03\", \"af03\", \"af03\", \"af03\", \"af03\"], \"x0\": \" \", \"xaxis\": \"x3\", \"y\": [0.7070124176582893, 0.7589870249169821, 0.7485747931641061, 0.7098678198310142, 0.7854810696764857, 0.6284255669056173, 0.5950307134415346, 0.7218804791156311, 0.7649734606296871, 0.5553259012399351, 0.4376668793919256, 0.640650467911704, 0.6927695600584234, 0.4196621720313559, 0.7729772258868793], \"y0\": \" \", \"yaxis\": \"y3\"}, {\"alignmentgroup\": \"True\", \"boxpoints\": \"all\", \"hovertemplate\": \"Abordagem=DAE<br>Anomalia=IA<br>Log=%{x}<br>AP=%{y}<extra></extra>\", \"legendgroup\": \"DAE\", \"marker\": {\"color\": \"#636efa\"}, \"name\": \"DAE\", \"notched\": false, \"offsetgroup\": \"DAE\", \"orientation\": \"v\", \"showlegend\": false, \"type\": \"box\", \"x\": [\"ia01\", \"ia01\", \"ia01\", \"ia01\", \"ia01\", \"ia02\", \"ia02\", \"ia02\", \"ia02\", \"ia02\", \"ia03\", \"ia03\", \"ia03\", \"ia03\", \"ia03\"], \"x0\": \" \", \"xaxis\": \"x2\", \"y\": [0.5197993102707158, 0.5985643301636293, 0.4602557805138669, 0.7131099825047627, 0.5133606796036255, 0.6294141291269293, 0.5502949330370958, 0.6054806921461279, 0.7812799029349639, 0.6303233416739749, 0.31762918599561185, 0.4733445737372377, 0.4034206361895276, 0.6568274019572167, 0.6299093231931823], \"y0\": \" \", \"yaxis\": \"y2\"}, {\"alignmentgroup\": \"True\", \"boxpoints\": \"all\", \"hovertemplate\": \"Abordagem=DAE<br>Anomalia=TA<br>Log=%{x}<br>AP=%{y}<extra></extra>\", \"legendgroup\": \"DAE\", \"marker\": {\"color\": \"#636efa\"}, \"name\": \"DAE\", \"notched\": false, \"offsetgroup\": \"DAE\", \"orientation\": \"v\", \"showlegend\": false, \"type\": \"box\", \"x\": [\"ta01\", \"ta01\", \"ta01\", \"ta01\", \"ta01\", \"ta02\", \"ta02\", \"ta02\", \"ta02\", \"ta02\", \"ta03\", \"ta03\", \"ta03\", \"ta03\", \"ta03\"], \"x0\": \" \", \"xaxis\": \"x\", \"y\": [0.8542808576761171, 0.8890795793542119, 0.5832695121204416, 0.5710549998734782, 0.7238427856807408, 0.7585984513912334, 0.6744084039433645, 0.7087913882987497, 0.6977801464212601, 0.7315041751876603, 0.4889348056328103, 0.7770959384361219, 0.7269937849474166, 0.6929671705477883, 0.7095142637094979], \"y0\": \" \", \"yaxis\": \"y\"}, {\"alignmentgroup\": \"True\", \"boxpoints\": \"all\", \"hovertemplate\": \"Abordagem=Binet<br>Anomalia=AF<br>Log=%{x}<br>AP=%{y}<extra></extra>\", \"legendgroup\": \"Binet\", \"marker\": {\"color\": \"#EF553B\"}, \"name\": \"Binet\", \"notched\": false, \"offsetgroup\": \"Binet\", \"orientation\": \"v\", \"showlegend\": true, \"type\": \"box\", \"x\": [\"af01\", \"af01\", \"af01\", \"af01\", \"af01\", \"af02\", \"af02\", \"af02\", \"af02\", \"af02\", \"af03\", \"af03\", \"af03\", \"af03\", \"af03\"], \"x0\": \" \", \"xaxis\": \"x3\", \"y\": [0.27879246438795224, 0.2725849471767725, 0.30163492989408913, 0.2917047285084685, 0.3143980930707161, 0.26174677417726816, 0.2803823313556722, 0.2935217904067493, 0.306012074574476, 0.2760702999786634, 0.28358993769090635, 0.3389081210470495, 0.2983060333373769, 0.3028129864326125, 0.3453128314912417], \"y0\": \" \", \"yaxis\": \"y3\"}, {\"alignmentgroup\": \"True\", \"boxpoints\": \"all\", \"hovertemplate\": \"Abordagem=Binet<br>Anomalia=IA<br>Log=%{x}<br>AP=%{y}<extra></extra>\", \"legendgroup\": \"Binet\", \"marker\": {\"color\": \"#EF553B\"}, \"name\": \"Binet\", \"notched\": false, \"offsetgroup\": \"Binet\", \"orientation\": \"v\", \"showlegend\": false, \"type\": \"box\", \"x\": [\"ia01\", \"ia01\", \"ia01\", \"ia01\", \"ia01\", \"ia02\", \"ia02\", \"ia02\", \"ia02\", \"ia02\", \"ia03\", \"ia03\", \"ia03\", \"ia03\", \"ia03\"], \"x0\": \" \", \"xaxis\": \"x2\", \"y\": [0.3880029655669307, 0.4234070000225885, 0.5810748724205981, 0.4209778534875373, 0.4002572547357863, 0.4675119010472582, 0.3996122189065297, 0.5333690003587879, 0.3517768652609618, 0.35114773006054256, 0.4346135245828912, 0.4071054930381104, 0.3846669541309285, 0.4932629210479247, 0.4366368625745564], \"y0\": \" \", \"yaxis\": \"y2\"}, {\"alignmentgroup\": \"True\", \"boxpoints\": \"all\", \"hovertemplate\": \"Abordagem=Binet<br>Anomalia=TA<br>Log=%{x}<br>AP=%{y}<extra></extra>\", \"legendgroup\": \"Binet\", \"marker\": {\"color\": \"#EF553B\"}, \"name\": \"Binet\", \"notched\": false, \"offsetgroup\": \"Binet\", \"orientation\": \"v\", \"showlegend\": false, \"type\": \"box\", \"x\": [\"ta01\", \"ta01\", \"ta01\", \"ta01\", \"ta01\", \"ta02\", \"ta02\", \"ta02\", \"ta02\", \"ta02\", \"ta03\", \"ta03\", \"ta03\", \"ta03\", \"ta03\"], \"x0\": \" \", \"xaxis\": \"x\", \"y\": [0.4666862180621347, 0.4011009906657023, 0.4602870391476785, 0.4831865021975567, 0.6186240449784739, 0.4850326807486858, 0.40614628650929896, 0.4825337708589528, 0.4716228763630079, 0.4310382742218473, 0.4265494674877797, 0.3542225495675661, 0.450585859207758, 0.5313823889503542, 0.3755155381662113], \"y0\": \" \", \"yaxis\": \"y\"}, {\"alignmentgroup\": \"True\", \"boxpoints\": \"all\", \"hovertemplate\": \"Abordagem=ABRI<br>Anomalia=AF<br>Log=%{x}<br>AP=%{y}<extra></extra>\", \"legendgroup\": \"ABRI\", \"marker\": {\"color\": \"#00cc96\"}, \"name\": \"ABRI\", \"notched\": false, \"offsetgroup\": \"ABRI\", \"orientation\": \"v\", \"showlegend\": true, \"type\": \"box\", \"x\": [\"af01\", \"af01\", \"af01\", \"af01\", \"af01\", \"af02\", \"af02\", \"af02\", \"af02\", \"af02\", \"af03\", \"af03\", \"af03\", \"af03\", \"af03\"], \"x0\": \" \", \"xaxis\": \"x3\", \"y\": [0.8850793471529592, 0.8861539559366838, 0.8883945841032395, 0.8865495584380163, 0.8884796263076262, 0.8876777161048043, 0.8992642089939169, 0.8998964449186204, 0.89041150556685, 0.8998531536778314, 0.9041375087406848, 0.8903610849668527, 0.8952204207881644, 0.9038905286869721, 0.8933679670547703], \"y0\": \" \", \"yaxis\": \"y3\"}, {\"alignmentgroup\": \"True\", \"boxpoints\": \"all\", \"hovertemplate\": \"Abordagem=ABRI<br>Anomalia=IA<br>Log=%{x}<br>AP=%{y}<extra></extra>\", \"legendgroup\": \"ABRI\", \"marker\": {\"color\": \"#00cc96\"}, \"name\": \"ABRI\", \"notched\": false, \"offsetgroup\": \"ABRI\", \"orientation\": \"v\", \"showlegend\": false, \"type\": \"box\", \"x\": [\"ia01\", \"ia01\", \"ia01\", \"ia01\", \"ia01\", \"ia02\", \"ia02\", \"ia02\", \"ia02\", \"ia02\", \"ia03\", \"ia03\", \"ia03\", \"ia03\", \"ia03\"], \"x0\": \" \", \"xaxis\": \"x2\", \"y\": [0.9692737889629082, 0.9637938665000522, 0.9700132379679232, 0.9632678829107402, 0.9583755854942296, 0.9581761658031088, 0.9527647610121838, 0.9527647610121838, 0.9467013888888888, 0.9465885225885228, 0.9543235331551484, 0.9596382384062936, 0.9547530864197532, 0.9587684579015716, 0.9650124843945068], \"y0\": \" \", \"yaxis\": \"y2\"}, {\"alignmentgroup\": \"True\", \"boxpoints\": \"all\", \"hovertemplate\": \"Abordagem=ABRI<br>Anomalia=TA<br>Log=%{x}<br>AP=%{y}<extra></extra>\", \"legendgroup\": \"ABRI\", \"marker\": {\"color\": \"#00cc96\"}, \"name\": \"ABRI\", \"notched\": false, \"offsetgroup\": \"ABRI\", \"orientation\": \"v\", \"showlegend\": false, \"type\": \"box\", \"x\": [\"ta01\", \"ta01\", \"ta01\", \"ta01\", \"ta01\", \"ta02\", \"ta02\", \"ta02\", \"ta02\", \"ta02\", \"ta03\", \"ta03\", \"ta03\", \"ta03\", \"ta03\"], \"x0\": \" \", \"xaxis\": \"x\", \"y\": [0.950880681818182, 0.9567068308031378, 0.9611694476409668, 0.9579437683211268, 0.950880681818182, 0.9408459595959596, 0.9530725138294412, 0.9513739705120084, 0.9451191447858156, 0.9456909422174506, 0.9574928407789232, 0.9574928407789232, 0.9567068308031378, 0.9574928407789232, 0.9544831423729672], \"y0\": \" \", \"yaxis\": \"y\"}, {\"alignmentgroup\": \"True\", \"boxpoints\": \"all\", \"hovertemplate\": \"Abordagem=Rand\\u00f4mica<br>Anomalia=AF<br>Log=%{x}<br>AP=%{y}<extra></extra>\", \"legendgroup\": \"Rand\\u00f4mica\", \"marker\": {\"color\": \"#ab63fa\"}, \"name\": \"Rand\\u00f4mica\", \"notched\": false, \"offsetgroup\": \"Rand\\u00f4mica\", \"orientation\": \"v\", \"showlegend\": true, \"type\": \"box\", \"x\": [\"af01\", \"af01\", \"af01\", \"af01\", \"af01\", \"af02\", \"af02\", \"af02\", \"af02\", \"af02\", \"af03\", \"af03\", \"af03\", \"af03\", \"af03\"], \"x0\": \" \", \"xaxis\": \"x3\", \"y\": [0.5239141063103367, 0.3814666338295831, 0.3791290143896173, 0.32409552897040583, 0.4470311325016744, 0.2231166483920056, 0.3507717909653512, 0.3940973162462801, 0.4528981309540243, 0.41253193898434826, 0.40229363166436943, 0.4723693905100546, 0.29057434223047235, 0.26802238510832965, 0.3548053562994562], \"y0\": \" \", \"yaxis\": \"y3\"}, {\"alignmentgroup\": \"True\", \"boxpoints\": \"all\", \"hovertemplate\": \"Abordagem=Rand\\u00f4mica<br>Anomalia=IA<br>Log=%{x}<br>AP=%{y}<extra></extra>\", \"legendgroup\": \"Rand\\u00f4mica\", \"marker\": {\"color\": \"#ab63fa\"}, \"name\": \"Rand\\u00f4mica\", \"notched\": false, \"offsetgroup\": \"Rand\\u00f4mica\", \"orientation\": \"v\", \"showlegend\": false, \"type\": \"box\", \"x\": [\"ia01\", \"ia01\", \"ia01\", \"ia01\", \"ia01\", \"ia02\", \"ia02\", \"ia02\", \"ia02\", \"ia02\", \"ia03\", \"ia03\", \"ia03\", \"ia03\", \"ia03\"], \"x0\": \" \", \"xaxis\": \"x2\", \"y\": [0.3694561697691184, 0.3599479568043049, 0.3467452476057502, 0.3199713862883431, 0.3630517297497263, 0.2882283178924285, 0.3343527817117288, 0.3584902226782233, 0.3062916721748187, 0.32025384271794444, 0.2508142309489432, 0.3208500140749669, 0.33293944528192754, 0.32344433674544043, 0.3150500526308432], \"y0\": \" \", \"yaxis\": \"y2\"}, {\"alignmentgroup\": \"True\", \"boxpoints\": \"all\", \"hovertemplate\": \"Abordagem=Rand\\u00f4mica<br>Anomalia=TA<br>Log=%{x}<br>AP=%{y}<extra></extra>\", \"legendgroup\": \"Rand\\u00f4mica\", \"marker\": {\"color\": \"#ab63fa\"}, \"name\": \"Rand\\u00f4mica\", \"notched\": false, \"offsetgroup\": \"Rand\\u00f4mica\", \"orientation\": \"v\", \"showlegend\": false, \"type\": \"box\", \"x\": [\"ta01\", \"ta01\", \"ta01\", \"ta01\", \"ta01\", \"ta02\", \"ta02\", \"ta02\", \"ta02\", \"ta02\", \"ta03\", \"ta03\", \"ta03\", \"ta03\", \"ta03\"], \"x0\": \" \", \"xaxis\": \"x\", \"y\": [0.3665869121564665, 0.3633785012771184, 0.338462858066755, 0.2698730856865986, 0.3648201787888701, 0.3026036375836194, 0.3555945670465883, 0.38601374089912177, 0.3390560391064048, 0.2876746839494648, 0.31131344699137, 0.2942099949910031, 0.3786630792901096, 0.34614602649528003, 0.4114631667876324], \"y0\": \" \", \"yaxis\": \"y\"}, {\"alignmentgroup\": \"True\", \"boxpoints\": \"all\", \"hovertemplate\": \"Abordagem=t-STIDE+<br>Anomalia=AF<br>Log=%{x}<br>AP=%{y}<extra></extra>\", \"legendgroup\": \"t-STIDE+\", \"marker\": {\"color\": \"#FFA15A\"}, \"name\": \"t-STIDE+\", \"notched\": false, \"offsetgroup\": \"t-STIDE+\", \"orientation\": \"v\", \"showlegend\": true, \"type\": \"box\", \"x\": [\"af01\", \"af01\", \"af01\", \"af01\", \"af01\", \"af02\", \"af02\", \"af02\", \"af02\", \"af02\", \"af03\", \"af03\", \"af03\", \"af03\", \"af03\"], \"x0\": \" \", \"xaxis\": \"x3\", \"y\": [0.4827777777777778, 0.5800000000000001, 0.5955555555555555, 0.5488888888888889, 0.5955555555555555, 0.5527777777777777, 0.58, 0.6266666666666667, 0.4827777777777778, 0.6188888888888889, 0.5411111111111111, 0.5372222222222223, 0.6111111111111112, 0.5566666666666665, 0.5994444444444444], \"y0\": \" \", \"yaxis\": \"y3\"}, {\"alignmentgroup\": \"True\", \"boxpoints\": \"all\", \"hovertemplate\": \"Abordagem=t-STIDE+<br>Anomalia=IA<br>Log=%{x}<br>AP=%{y}<extra></extra>\", \"legendgroup\": \"t-STIDE+\", \"marker\": {\"color\": \"#FFA15A\"}, \"name\": \"t-STIDE+\", \"notched\": false, \"offsetgroup\": \"t-STIDE+\", \"orientation\": \"v\", \"showlegend\": false, \"type\": \"box\", \"x\": [\"ia01\", \"ia01\", \"ia01\", \"ia01\", \"ia01\", \"ia02\", \"ia02\", \"ia02\", \"ia02\", \"ia02\", \"ia03\", \"ia03\", \"ia03\", \"ia03\", \"ia03\"], \"x0\": \" \", \"xaxis\": \"x2\", \"y\": [0.9766666666666666, 0.9533333333333334, 0.9494444444444444, 0.9377777777777776, 0.9494444444444444, 0.965, 0.9611111111111112, 0.9494444444444444, 0.9766666666666668, 0.9455555555555556, 0.9611111111111108, 0.9688888888888888, 0.9611111111111108, 0.965, 0.9572222222222222], \"y0\": \" \", \"yaxis\": \"y2\"}, {\"alignmentgroup\": \"True\", \"boxpoints\": \"all\", \"hovertemplate\": \"Abordagem=t-STIDE+<br>Anomalia=TA<br>Log=%{x}<br>AP=%{y}<extra></extra>\", \"legendgroup\": \"t-STIDE+\", \"marker\": {\"color\": \"#FFA15A\"}, \"name\": \"t-STIDE+\", \"notched\": false, \"offsetgroup\": \"t-STIDE+\", \"orientation\": \"v\", \"showlegend\": false, \"type\": \"box\", \"x\": [\"ta01\", \"ta01\", \"ta01\", \"ta01\", \"ta01\", \"ta02\", \"ta02\", \"ta02\", \"ta02\", \"ta02\", \"ta03\", \"ta03\", \"ta03\", \"ta03\", \"ta03\"], \"x0\": \" \", \"xaxis\": \"x\", \"y\": [0.9961111111111112, 1.0, 1.0, 1.0, 1.0, 1.0, 1.0, 1.0, 0.9961111111111112, 1.0, 1.0, 0.9922222222222222, 0.9961111111111112, 1.0, 1.0], \"y0\": \" \", \"yaxis\": \"y\"}],                        {\"annotations\": [{\"showarrow\": false, \"text\": \"Anomalia=TA\", \"x\": 0.5, \"xanchor\": \"center\", \"xref\": \"paper\", \"y\": 0.2866666666666666, \"yanchor\": \"bottom\", \"yref\": \"paper\"}, {\"showarrow\": false, \"text\": \"Anomalia=IA\", \"x\": 0.5, \"xanchor\": \"center\", \"xref\": \"paper\", \"y\": 0.6433333333333333, \"yanchor\": \"bottom\", \"yref\": \"paper\"}, {\"showarrow\": false, \"text\": \"Anomalia=AF\", \"x\": 0.5, \"xanchor\": \"center\", \"xref\": \"paper\", \"y\": 0.9999999999999999, \"yanchor\": \"bottom\", \"yref\": \"paper\"}], \"boxmode\": \"group\", \"height\": 400, \"legend\": {\"title\": {\"text\": \"Abordagem\"}, \"tracegroupgap\": 0}, \"template\": {\"data\": {\"bar\": [{\"error_x\": {\"color\": \"#2a3f5f\"}, \"error_y\": {\"color\": \"#2a3f5f\"}, \"marker\": {\"line\": {\"color\": \"#E5ECF6\", \"width\": 0.5}}, \"type\": \"bar\"}], \"barpolar\": [{\"marker\": {\"line\": {\"color\": \"#E5ECF6\", \"width\": 0.5}}, \"type\": \"barpolar\"}], \"carpet\": [{\"aaxis\": {\"endlinecolor\": \"#2a3f5f\", \"gridcolor\": \"white\", \"linecolor\": \"white\", \"minorgridcolor\": \"white\", \"startlinecolor\": \"#2a3f5f\"}, \"baxis\": {\"endlinecolor\": \"#2a3f5f\", \"gridcolor\": \"white\", \"linecolor\": \"white\", \"minorgridcolor\": \"white\", \"startlinecolor\": \"#2a3f5f\"}, \"type\": \"carpet\"}], \"choropleth\": [{\"colorbar\": {\"outlinewidth\": 0, \"ticks\": \"\"}, \"type\": \"choropleth\"}], \"contour\": [{\"colorbar\": {\"outlinewidth\": 0, \"ticks\": \"\"}, \"colorscale\": [[0.0, \"#0d0887\"], [0.1111111111111111, \"#46039f\"], [0.2222222222222222, \"#7201a8\"], [0.3333333333333333, \"#9c179e\"], [0.4444444444444444, \"#bd3786\"], [0.5555555555555556, \"#d8576b\"], [0.6666666666666666, \"#ed7953\"], [0.7777777777777778, \"#fb9f3a\"], [0.8888888888888888, \"#fdca26\"], [1.0, \"#f0f921\"]], \"type\": \"contour\"}], \"contourcarpet\": [{\"colorbar\": {\"outlinewidth\": 0, \"ticks\": \"\"}, \"type\": \"contourcarpet\"}], \"heatmap\": [{\"colorbar\": {\"outlinewidth\": 0, \"ticks\": \"\"}, \"colorscale\": [[0.0, \"#0d0887\"], [0.1111111111111111, \"#46039f\"], [0.2222222222222222, \"#7201a8\"], [0.3333333333333333, \"#9c179e\"], [0.4444444444444444, \"#bd3786\"], [0.5555555555555556, \"#d8576b\"], [0.6666666666666666, \"#ed7953\"], [0.7777777777777778, \"#fb9f3a\"], [0.8888888888888888, \"#fdca26\"], [1.0, \"#f0f921\"]], \"type\": \"heatmap\"}], \"heatmapgl\": [{\"colorbar\": {\"outlinewidth\": 0, \"ticks\": \"\"}, \"colorscale\": [[0.0, \"#0d0887\"], [0.1111111111111111, \"#46039f\"], [0.2222222222222222, \"#7201a8\"], [0.3333333333333333, \"#9c179e\"], [0.4444444444444444, \"#bd3786\"], [0.5555555555555556, \"#d8576b\"], [0.6666666666666666, \"#ed7953\"], [0.7777777777777778, \"#fb9f3a\"], [0.8888888888888888, \"#fdca26\"], [1.0, \"#f0f921\"]], \"type\": \"heatmapgl\"}], \"histogram\": [{\"marker\": {\"colorbar\": {\"outlinewidth\": 0, \"ticks\": \"\"}}, \"type\": \"histogram\"}], \"histogram2d\": [{\"colorbar\": {\"outlinewidth\": 0, \"ticks\": \"\"}, \"colorscale\": [[0.0, \"#0d0887\"], [0.1111111111111111, \"#46039f\"], [0.2222222222222222, \"#7201a8\"], [0.3333333333333333, \"#9c179e\"], [0.4444444444444444, \"#bd3786\"], [0.5555555555555556, \"#d8576b\"], [0.6666666666666666, \"#ed7953\"], [0.7777777777777778, \"#fb9f3a\"], [0.8888888888888888, \"#fdca26\"], [1.0, \"#f0f921\"]], \"type\": \"histogram2d\"}], \"histogram2dcontour\": [{\"colorbar\": {\"outlinewidth\": 0, \"ticks\": \"\"}, \"colorscale\": [[0.0, \"#0d0887\"], [0.1111111111111111, \"#46039f\"], [0.2222222222222222, \"#7201a8\"], [0.3333333333333333, \"#9c179e\"], [0.4444444444444444, \"#bd3786\"], [0.5555555555555556, \"#d8576b\"], [0.6666666666666666, \"#ed7953\"], [0.7777777777777778, \"#fb9f3a\"], [0.8888888888888888, \"#fdca26\"], [1.0, \"#f0f921\"]], \"type\": \"histogram2dcontour\"}], \"mesh3d\": [{\"colorbar\": {\"outlinewidth\": 0, \"ticks\": \"\"}, \"type\": \"mesh3d\"}], \"parcoords\": [{\"line\": {\"colorbar\": {\"outlinewidth\": 0, \"ticks\": \"\"}}, \"type\": \"parcoords\"}], \"pie\": [{\"automargin\": true, \"type\": \"pie\"}], \"scatter\": [{\"marker\": {\"colorbar\": {\"outlinewidth\": 0, \"ticks\": \"\"}}, \"type\": \"scatter\"}], \"scatter3d\": [{\"line\": {\"colorbar\": {\"outlinewidth\": 0, \"ticks\": \"\"}}, \"marker\": {\"colorbar\": {\"outlinewidth\": 0, \"ticks\": \"\"}}, \"type\": \"scatter3d\"}], \"scattercarpet\": [{\"marker\": {\"colorbar\": {\"outlinewidth\": 0, \"ticks\": \"\"}}, \"type\": \"scattercarpet\"}], \"scattergeo\": [{\"marker\": {\"colorbar\": {\"outlinewidth\": 0, \"ticks\": \"\"}}, \"type\": \"scattergeo\"}], \"scattergl\": [{\"marker\": {\"colorbar\": {\"outlinewidth\": 0, \"ticks\": \"\"}}, \"type\": \"scattergl\"}], \"scattermapbox\": [{\"marker\": {\"colorbar\": {\"outlinewidth\": 0, \"ticks\": \"\"}}, \"type\": \"scattermapbox\"}], \"scatterpolar\": [{\"marker\": {\"colorbar\": {\"outlinewidth\": 0, \"ticks\": \"\"}}, \"type\": \"scatterpolar\"}], \"scatterpolargl\": [{\"marker\": {\"colorbar\": {\"outlinewidth\": 0, \"ticks\": \"\"}}, \"type\": \"scatterpolargl\"}], \"scatterternary\": [{\"marker\": {\"colorbar\": {\"outlinewidth\": 0, \"ticks\": \"\"}}, \"type\": \"scatterternary\"}], \"surface\": [{\"colorbar\": {\"outlinewidth\": 0, \"ticks\": \"\"}, \"colorscale\": [[0.0, \"#0d0887\"], [0.1111111111111111, \"#46039f\"], [0.2222222222222222, \"#7201a8\"], [0.3333333333333333, \"#9c179e\"], [0.4444444444444444, \"#bd3786\"], [0.5555555555555556, \"#d8576b\"], [0.6666666666666666, \"#ed7953\"], [0.7777777777777778, \"#fb9f3a\"], [0.8888888888888888, \"#fdca26\"], [1.0, \"#f0f921\"]], \"type\": \"surface\"}], \"table\": [{\"cells\": {\"fill\": {\"color\": \"#EBF0F8\"}, \"line\": {\"color\": \"white\"}}, \"header\": {\"fill\": {\"color\": \"#C8D4E3\"}, \"line\": {\"color\": \"white\"}}, \"type\": \"table\"}]}, \"layout\": {\"annotationdefaults\": {\"arrowcolor\": \"#2a3f5f\", \"arrowhead\": 0, \"arrowwidth\": 1}, \"autotypenumbers\": \"strict\", \"coloraxis\": {\"colorbar\": {\"outlinewidth\": 0, \"ticks\": \"\"}}, \"colorscale\": {\"diverging\": [[0, \"#8e0152\"], [0.1, \"#c51b7d\"], [0.2, \"#de77ae\"], [0.3, \"#f1b6da\"], [0.4, \"#fde0ef\"], [0.5, \"#f7f7f7\"], [0.6, \"#e6f5d0\"], [0.7, \"#b8e186\"], [0.8, \"#7fbc41\"], [0.9, \"#4d9221\"], [1, \"#276419\"]], \"sequential\": [[0.0, \"#0d0887\"], [0.1111111111111111, \"#46039f\"], [0.2222222222222222, \"#7201a8\"], [0.3333333333333333, \"#9c179e\"], [0.4444444444444444, \"#bd3786\"], [0.5555555555555556, \"#d8576b\"], [0.6666666666666666, \"#ed7953\"], [0.7777777777777778, \"#fb9f3a\"], [0.8888888888888888, \"#fdca26\"], [1.0, \"#f0f921\"]], \"sequentialminus\": [[0.0, \"#0d0887\"], [0.1111111111111111, \"#46039f\"], [0.2222222222222222, \"#7201a8\"], [0.3333333333333333, \"#9c179e\"], [0.4444444444444444, \"#bd3786\"], [0.5555555555555556, \"#d8576b\"], [0.6666666666666666, \"#ed7953\"], [0.7777777777777778, \"#fb9f3a\"], [0.8888888888888888, \"#fdca26\"], [1.0, \"#f0f921\"]]}, \"colorway\": [\"#636efa\", \"#EF553B\", \"#00cc96\", \"#ab63fa\", \"#FFA15A\", \"#19d3f3\", \"#FF6692\", \"#B6E880\", \"#FF97FF\", \"#FECB52\"], \"font\": {\"color\": \"#2a3f5f\"}, \"geo\": {\"bgcolor\": \"white\", \"lakecolor\": \"white\", \"landcolor\": \"#E5ECF6\", \"showlakes\": true, \"showland\": true, \"subunitcolor\": \"white\"}, \"hoverlabel\": {\"align\": \"left\"}, \"hovermode\": \"closest\", \"mapbox\": {\"style\": \"light\"}, \"paper_bgcolor\": \"white\", \"plot_bgcolor\": \"#E5ECF6\", \"polar\": {\"angularaxis\": {\"gridcolor\": \"white\", \"linecolor\": \"white\", \"ticks\": \"\"}, \"bgcolor\": \"#E5ECF6\", \"radialaxis\": {\"gridcolor\": \"white\", \"linecolor\": \"white\", \"ticks\": \"\"}}, \"scene\": {\"xaxis\": {\"backgroundcolor\": \"#E5ECF6\", \"gridcolor\": \"white\", \"gridwidth\": 2, \"linecolor\": \"white\", \"showbackground\": true, \"ticks\": \"\", \"zerolinecolor\": \"white\"}, \"yaxis\": {\"backgroundcolor\": \"#E5ECF6\", \"gridcolor\": \"white\", \"gridwidth\": 2, \"linecolor\": \"white\", \"showbackground\": true, \"ticks\": \"\", \"zerolinecolor\": \"white\"}, \"zaxis\": {\"backgroundcolor\": \"#E5ECF6\", \"gridcolor\": \"white\", \"gridwidth\": 2, \"linecolor\": \"white\", \"showbackground\": true, \"ticks\": \"\", \"zerolinecolor\": \"white\"}}, \"shapedefaults\": {\"line\": {\"color\": \"#2a3f5f\"}}, \"ternary\": {\"aaxis\": {\"gridcolor\": \"white\", \"linecolor\": \"white\", \"ticks\": \"\"}, \"baxis\": {\"gridcolor\": \"white\", \"linecolor\": \"white\", \"ticks\": \"\"}, \"bgcolor\": \"#E5ECF6\", \"caxis\": {\"gridcolor\": \"white\", \"linecolor\": \"white\", \"ticks\": \"\"}}, \"title\": {\"x\": 0.05}, \"xaxis\": {\"automargin\": true, \"gridcolor\": \"white\", \"linecolor\": \"white\", \"ticks\": \"\", \"title\": {\"standoff\": 15}, \"zerolinecolor\": \"white\", \"zerolinewidth\": 2}, \"yaxis\": {\"automargin\": true, \"gridcolor\": \"white\", \"linecolor\": \"white\", \"ticks\": \"\", \"title\": {\"standoff\": 15}, \"zerolinecolor\": \"white\", \"zerolinewidth\": 2}}}, \"title\": {\"text\": \"AP versus parameterizations\"}, \"xaxis\": {\"anchor\": \"y\", \"categoryarray\": [\"af01\", \"af02\", \"af03\", \"ia01\", \"ia02\", \"ia03\", \"ta01\", \"ta02\", \"ta03\"], \"categoryorder\": \"array\", \"domain\": [0.0, 1.0], \"showticklabels\": true, \"title\": {\"text\": \"Log\"}, \"type\": \"category\"}, \"xaxis2\": {\"anchor\": \"y2\", \"domain\": [0.0, 1.0], \"showticklabels\": true, \"title\": {\"text\": \"Log\"}, \"type\": \"category\"}, \"xaxis3\": {\"anchor\": \"y3\", \"domain\": [0.0, 1.0], \"showticklabels\": true, \"title\": {\"text\": \"Log\"}, \"type\": \"category\"}, \"yaxis\": {\"anchor\": \"x\", \"domain\": [0.0, 0.2866666666666666], \"range\": [0, 1.01], \"title\": {\"text\": \"AP\"}}, \"yaxis2\": {\"anchor\": \"x2\", \"domain\": [0.35666666666666663, 0.6433333333333333], \"matches\": \"y\", \"range\": [0, 1.01], \"title\": {\"text\": \"AP\"}}, \"yaxis3\": {\"anchor\": \"x3\", \"domain\": [0.7133333333333333, 0.9999999999999999], \"matches\": \"y\", \"range\": [0, 1.01], \"title\": {\"text\": \"AP\"}}},                        {\"responsive\": true}                    ).then(function(){\n",
       "                            \n",
       "var gd = document.getElementById('00bfdc29-6179-4982-817b-920a35430bad');\n",
       "var x = new MutationObserver(function (mutations, observer) {{\n",
       "        var display = window.getComputedStyle(gd).display;\n",
       "        if (!display || display === 'none') {{\n",
       "            console.log([gd, 'removed!']);\n",
       "            Plotly.purge(gd);\n",
       "            observer.disconnect();\n",
       "        }}\n",
       "}});\n",
       "\n",
       "// Listen for the removal of the full notebook cells\n",
       "var notebookContainer = gd.closest('#notebook-container');\n",
       "if (notebookContainer) {{\n",
       "    x.observe(notebookContainer, {childList: true});\n",
       "}}\n",
       "\n",
       "// Listen for the clearing of the current output cell\n",
       "var outputEl = gd.closest('.output');\n",
       "if (outputEl) {{\n",
       "    x.observe(outputEl, {childList: true});\n",
       "}}\n",
       "\n",
       "                        })                };                });            </script>        </div>"
      ]
     },
     "metadata": {},
     "output_type": "display_data"
    },
    {
     "name": "stdout",
     "output_type": "stream",
     "text": [
      "Fig16.modeB\n"
     ]
    },
    {
     "data": {
      "text/html": [
       "        <script type=\"text/javascript\">\n",
       "        window.PlotlyConfig = {MathJaxConfig: 'local'};\n",
       "        if (window.MathJax) {MathJax.Hub.Config({SVG: {font: \"STIX-Web\"}});}\n",
       "        if (typeof require !== 'undefined') {\n",
       "        require.undef(\"plotly\");\n",
       "        requirejs.config({\n",
       "            paths: {\n",
       "                'plotly': ['https://cdn.plot.ly/plotly-latest.min']\n",
       "            }\n",
       "        });\n",
       "        require(['plotly'], function(Plotly) {\n",
       "            window._Plotly = Plotly;\n",
       "        });\n",
       "        }\n",
       "        </script>\n",
       "        "
      ]
     },
     "metadata": {},
     "output_type": "display_data"
    },
    {
     "data": {
      "application/vnd.plotly.v1+json": {
       "config": {
        "linkText": "Export to plot.ly",
        "plotlyServerURL": "https://plot.ly",
        "showLink": false
       },
       "data": [
        {
         "alignmentgroup": "True",
         "hovertemplate": "Abordagem=DAE<br>Log=af01<br>AP=%{y}<extra></extra>",
         "legendgroup": "DAE",
         "marker": {
          "color": "#636efa"
         },
         "name": "DAE",
         "notched": false,
         "offsetgroup": "DAE",
         "orientation": "v",
         "showlegend": true,
         "type": "box",
         "x0": " ",
         "xaxis": "x",
         "y": [
          0.7070124176582893,
          0.7589870249169821,
          0.7485747931641061,
          0.7098678198310142,
          0.7854810696764857
         ],
         "y0": " ",
         "yaxis": "y"
        },
        {
         "alignmentgroup": "True",
         "hovertemplate": "Abordagem=DAE<br>Log=af02<br>AP=%{y}<extra></extra>",
         "legendgroup": "DAE",
         "marker": {
          "color": "#636efa"
         },
         "name": "DAE",
         "notched": false,
         "offsetgroup": "DAE",
         "orientation": "v",
         "showlegend": false,
         "type": "box",
         "x0": " ",
         "xaxis": "x2",
         "y": [
          0.6284255669056173,
          0.5950307134415346,
          0.7218804791156311,
          0.7649734606296871,
          0.5553259012399351
         ],
         "y0": " ",
         "yaxis": "y2"
        },
        {
         "alignmentgroup": "True",
         "hovertemplate": "Abordagem=DAE<br>Log=af03<br>AP=%{y}<extra></extra>",
         "legendgroup": "DAE",
         "marker": {
          "color": "#636efa"
         },
         "name": "DAE",
         "notched": false,
         "offsetgroup": "DAE",
         "orientation": "v",
         "showlegend": false,
         "type": "box",
         "x0": " ",
         "xaxis": "x3",
         "y": [
          0.4376668793919256,
          0.640650467911704,
          0.6927695600584234,
          0.4196621720313559,
          0.7729772258868793
         ],
         "y0": " ",
         "yaxis": "y3"
        },
        {
         "alignmentgroup": "True",
         "hovertemplate": "Abordagem=DAE<br>Log=ia01<br>AP=%{y}<extra></extra>",
         "legendgroup": "DAE",
         "marker": {
          "color": "#636efa"
         },
         "name": "DAE",
         "notched": false,
         "offsetgroup": "DAE",
         "orientation": "v",
         "showlegend": false,
         "type": "box",
         "x0": " ",
         "xaxis": "x4",
         "y": [
          0.5197993102707158,
          0.5985643301636293,
          0.4602557805138669,
          0.7131099825047627,
          0.5133606796036255
         ],
         "y0": " ",
         "yaxis": "y4"
        },
        {
         "alignmentgroup": "True",
         "hovertemplate": "Abordagem=DAE<br>Log=ia02<br>AP=%{y}<extra></extra>",
         "legendgroup": "DAE",
         "marker": {
          "color": "#636efa"
         },
         "name": "DAE",
         "notched": false,
         "offsetgroup": "DAE",
         "orientation": "v",
         "showlegend": false,
         "type": "box",
         "x0": " ",
         "xaxis": "x5",
         "y": [
          0.6294141291269293,
          0.5502949330370958,
          0.6054806921461279,
          0.7812799029349639,
          0.6303233416739749
         ],
         "y0": " ",
         "yaxis": "y5"
        },
        {
         "alignmentgroup": "True",
         "hovertemplate": "Abordagem=DAE<br>Log=ia03<br>AP=%{y}<extra></extra>",
         "legendgroup": "DAE",
         "marker": {
          "color": "#636efa"
         },
         "name": "DAE",
         "notched": false,
         "offsetgroup": "DAE",
         "orientation": "v",
         "showlegend": false,
         "type": "box",
         "x0": " ",
         "xaxis": "x6",
         "y": [
          0.31762918599561185,
          0.4733445737372377,
          0.4034206361895276,
          0.6568274019572167,
          0.6299093231931823
         ],
         "y0": " ",
         "yaxis": "y6"
        },
        {
         "alignmentgroup": "True",
         "hovertemplate": "Abordagem=DAE<br>Log=ta01<br>AP=%{y}<extra></extra>",
         "legendgroup": "DAE",
         "marker": {
          "color": "#636efa"
         },
         "name": "DAE",
         "notched": false,
         "offsetgroup": "DAE",
         "orientation": "v",
         "showlegend": false,
         "type": "box",
         "x0": " ",
         "xaxis": "x7",
         "y": [
          0.8542808576761171,
          0.8890795793542119,
          0.5832695121204416,
          0.5710549998734782,
          0.7238427856807408
         ],
         "y0": " ",
         "yaxis": "y7"
        },
        {
         "alignmentgroup": "True",
         "hovertemplate": "Abordagem=DAE<br>Log=ta02<br>AP=%{y}<extra></extra>",
         "legendgroup": "DAE",
         "marker": {
          "color": "#636efa"
         },
         "name": "DAE",
         "notched": false,
         "offsetgroup": "DAE",
         "orientation": "v",
         "showlegend": false,
         "type": "box",
         "x0": " ",
         "xaxis": "x8",
         "y": [
          0.7585984513912334,
          0.6744084039433645,
          0.7087913882987497,
          0.6977801464212601,
          0.7315041751876603
         ],
         "y0": " ",
         "yaxis": "y8"
        },
        {
         "alignmentgroup": "True",
         "hovertemplate": "Abordagem=DAE<br>Log=ta03<br>AP=%{y}<extra></extra>",
         "legendgroup": "DAE",
         "marker": {
          "color": "#636efa"
         },
         "name": "DAE",
         "notched": false,
         "offsetgroup": "DAE",
         "orientation": "v",
         "showlegend": false,
         "type": "box",
         "x0": " ",
         "xaxis": "x9",
         "y": [
          0.4889348056328103,
          0.7770959384361219,
          0.7269937849474166,
          0.6929671705477883,
          0.7095142637094979
         ],
         "y0": " ",
         "yaxis": "y9"
        },
        {
         "alignmentgroup": "True",
         "hovertemplate": "Abordagem=Binet<br>Log=af01<br>AP=%{y}<extra></extra>",
         "legendgroup": "Binet",
         "marker": {
          "color": "#EF553B"
         },
         "name": "Binet",
         "notched": false,
         "offsetgroup": "Binet",
         "orientation": "v",
         "showlegend": true,
         "type": "box",
         "x0": " ",
         "xaxis": "x",
         "y": [
          0.27879246438795224,
          0.2725849471767725,
          0.30163492989408913,
          0.2917047285084685,
          0.3143980930707161
         ],
         "y0": " ",
         "yaxis": "y"
        },
        {
         "alignmentgroup": "True",
         "hovertemplate": "Abordagem=Binet<br>Log=af02<br>AP=%{y}<extra></extra>",
         "legendgroup": "Binet",
         "marker": {
          "color": "#EF553B"
         },
         "name": "Binet",
         "notched": false,
         "offsetgroup": "Binet",
         "orientation": "v",
         "showlegend": false,
         "type": "box",
         "x0": " ",
         "xaxis": "x2",
         "y": [
          0.26174677417726816,
          0.2803823313556722,
          0.2935217904067493,
          0.306012074574476,
          0.2760702999786634
         ],
         "y0": " ",
         "yaxis": "y2"
        },
        {
         "alignmentgroup": "True",
         "hovertemplate": "Abordagem=Binet<br>Log=af03<br>AP=%{y}<extra></extra>",
         "legendgroup": "Binet",
         "marker": {
          "color": "#EF553B"
         },
         "name": "Binet",
         "notched": false,
         "offsetgroup": "Binet",
         "orientation": "v",
         "showlegend": false,
         "type": "box",
         "x0": " ",
         "xaxis": "x3",
         "y": [
          0.28358993769090635,
          0.3389081210470495,
          0.2983060333373769,
          0.3028129864326125,
          0.3453128314912417
         ],
         "y0": " ",
         "yaxis": "y3"
        },
        {
         "alignmentgroup": "True",
         "hovertemplate": "Abordagem=Binet<br>Log=ia01<br>AP=%{y}<extra></extra>",
         "legendgroup": "Binet",
         "marker": {
          "color": "#EF553B"
         },
         "name": "Binet",
         "notched": false,
         "offsetgroup": "Binet",
         "orientation": "v",
         "showlegend": false,
         "type": "box",
         "x0": " ",
         "xaxis": "x4",
         "y": [
          0.3880029655669307,
          0.4234070000225885,
          0.5810748724205981,
          0.4209778534875373,
          0.4002572547357863
         ],
         "y0": " ",
         "yaxis": "y4"
        },
        {
         "alignmentgroup": "True",
         "hovertemplate": "Abordagem=Binet<br>Log=ia02<br>AP=%{y}<extra></extra>",
         "legendgroup": "Binet",
         "marker": {
          "color": "#EF553B"
         },
         "name": "Binet",
         "notched": false,
         "offsetgroup": "Binet",
         "orientation": "v",
         "showlegend": false,
         "type": "box",
         "x0": " ",
         "xaxis": "x5",
         "y": [
          0.4675119010472582,
          0.3996122189065297,
          0.5333690003587879,
          0.3517768652609618,
          0.35114773006054256
         ],
         "y0": " ",
         "yaxis": "y5"
        },
        {
         "alignmentgroup": "True",
         "hovertemplate": "Abordagem=Binet<br>Log=ia03<br>AP=%{y}<extra></extra>",
         "legendgroup": "Binet",
         "marker": {
          "color": "#EF553B"
         },
         "name": "Binet",
         "notched": false,
         "offsetgroup": "Binet",
         "orientation": "v",
         "showlegend": false,
         "type": "box",
         "x0": " ",
         "xaxis": "x6",
         "y": [
          0.4346135245828912,
          0.4071054930381104,
          0.3846669541309285,
          0.4932629210479247,
          0.4366368625745564
         ],
         "y0": " ",
         "yaxis": "y6"
        },
        {
         "alignmentgroup": "True",
         "hovertemplate": "Abordagem=Binet<br>Log=ta01<br>AP=%{y}<extra></extra>",
         "legendgroup": "Binet",
         "marker": {
          "color": "#EF553B"
         },
         "name": "Binet",
         "notched": false,
         "offsetgroup": "Binet",
         "orientation": "v",
         "showlegend": false,
         "type": "box",
         "x0": " ",
         "xaxis": "x7",
         "y": [
          0.4666862180621347,
          0.4011009906657023,
          0.4602870391476785,
          0.4831865021975567,
          0.6186240449784739
         ],
         "y0": " ",
         "yaxis": "y7"
        },
        {
         "alignmentgroup": "True",
         "hovertemplate": "Abordagem=Binet<br>Log=ta02<br>AP=%{y}<extra></extra>",
         "legendgroup": "Binet",
         "marker": {
          "color": "#EF553B"
         },
         "name": "Binet",
         "notched": false,
         "offsetgroup": "Binet",
         "orientation": "v",
         "showlegend": false,
         "type": "box",
         "x0": " ",
         "xaxis": "x8",
         "y": [
          0.4850326807486858,
          0.40614628650929896,
          0.4825337708589528,
          0.4716228763630079,
          0.4310382742218473
         ],
         "y0": " ",
         "yaxis": "y8"
        },
        {
         "alignmentgroup": "True",
         "hovertemplate": "Abordagem=Binet<br>Log=ta03<br>AP=%{y}<extra></extra>",
         "legendgroup": "Binet",
         "marker": {
          "color": "#EF553B"
         },
         "name": "Binet",
         "notched": false,
         "offsetgroup": "Binet",
         "orientation": "v",
         "showlegend": false,
         "type": "box",
         "x0": " ",
         "xaxis": "x9",
         "y": [
          0.4265494674877797,
          0.3542225495675661,
          0.450585859207758,
          0.5313823889503542,
          0.3755155381662113
         ],
         "y0": " ",
         "yaxis": "y9"
        },
        {
         "alignmentgroup": "True",
         "hovertemplate": "Abordagem=ABRI<br>Log=af01<br>AP=%{y}<extra></extra>",
         "legendgroup": "ABRI",
         "marker": {
          "color": "#00cc96"
         },
         "name": "ABRI",
         "notched": false,
         "offsetgroup": "ABRI",
         "orientation": "v",
         "showlegend": true,
         "type": "box",
         "x0": " ",
         "xaxis": "x",
         "y": [
          0.8850793471529592,
          0.8861539559366838,
          0.8883945841032395,
          0.8865495584380163,
          0.8884796263076262
         ],
         "y0": " ",
         "yaxis": "y"
        },
        {
         "alignmentgroup": "True",
         "hovertemplate": "Abordagem=ABRI<br>Log=af02<br>AP=%{y}<extra></extra>",
         "legendgroup": "ABRI",
         "marker": {
          "color": "#00cc96"
         },
         "name": "ABRI",
         "notched": false,
         "offsetgroup": "ABRI",
         "orientation": "v",
         "showlegend": false,
         "type": "box",
         "x0": " ",
         "xaxis": "x2",
         "y": [
          0.8876777161048043,
          0.8992642089939169,
          0.8998964449186204,
          0.89041150556685,
          0.8998531536778314
         ],
         "y0": " ",
         "yaxis": "y2"
        },
        {
         "alignmentgroup": "True",
         "hovertemplate": "Abordagem=ABRI<br>Log=af03<br>AP=%{y}<extra></extra>",
         "legendgroup": "ABRI",
         "marker": {
          "color": "#00cc96"
         },
         "name": "ABRI",
         "notched": false,
         "offsetgroup": "ABRI",
         "orientation": "v",
         "showlegend": false,
         "type": "box",
         "x0": " ",
         "xaxis": "x3",
         "y": [
          0.9041375087406848,
          0.8903610849668527,
          0.8952204207881644,
          0.9038905286869721,
          0.8933679670547703
         ],
         "y0": " ",
         "yaxis": "y3"
        },
        {
         "alignmentgroup": "True",
         "hovertemplate": "Abordagem=ABRI<br>Log=ia01<br>AP=%{y}<extra></extra>",
         "legendgroup": "ABRI",
         "marker": {
          "color": "#00cc96"
         },
         "name": "ABRI",
         "notched": false,
         "offsetgroup": "ABRI",
         "orientation": "v",
         "showlegend": false,
         "type": "box",
         "x0": " ",
         "xaxis": "x4",
         "y": [
          0.9692737889629082,
          0.9637938665000522,
          0.9700132379679232,
          0.9632678829107402,
          0.9583755854942296
         ],
         "y0": " ",
         "yaxis": "y4"
        },
        {
         "alignmentgroup": "True",
         "hovertemplate": "Abordagem=ABRI<br>Log=ia02<br>AP=%{y}<extra></extra>",
         "legendgroup": "ABRI",
         "marker": {
          "color": "#00cc96"
         },
         "name": "ABRI",
         "notched": false,
         "offsetgroup": "ABRI",
         "orientation": "v",
         "showlegend": false,
         "type": "box",
         "x0": " ",
         "xaxis": "x5",
         "y": [
          0.9581761658031088,
          0.9527647610121838,
          0.9527647610121838,
          0.9467013888888888,
          0.9465885225885228
         ],
         "y0": " ",
         "yaxis": "y5"
        },
        {
         "alignmentgroup": "True",
         "hovertemplate": "Abordagem=ABRI<br>Log=ia03<br>AP=%{y}<extra></extra>",
         "legendgroup": "ABRI",
         "marker": {
          "color": "#00cc96"
         },
         "name": "ABRI",
         "notched": false,
         "offsetgroup": "ABRI",
         "orientation": "v",
         "showlegend": false,
         "type": "box",
         "x0": " ",
         "xaxis": "x6",
         "y": [
          0.9543235331551484,
          0.9596382384062936,
          0.9547530864197532,
          0.9587684579015716,
          0.9650124843945068
         ],
         "y0": " ",
         "yaxis": "y6"
        },
        {
         "alignmentgroup": "True",
         "hovertemplate": "Abordagem=ABRI<br>Log=ta01<br>AP=%{y}<extra></extra>",
         "legendgroup": "ABRI",
         "marker": {
          "color": "#00cc96"
         },
         "name": "ABRI",
         "notched": false,
         "offsetgroup": "ABRI",
         "orientation": "v",
         "showlegend": false,
         "type": "box",
         "x0": " ",
         "xaxis": "x7",
         "y": [
          0.950880681818182,
          0.9567068308031378,
          0.9611694476409668,
          0.9579437683211268,
          0.950880681818182
         ],
         "y0": " ",
         "yaxis": "y7"
        },
        {
         "alignmentgroup": "True",
         "hovertemplate": "Abordagem=ABRI<br>Log=ta02<br>AP=%{y}<extra></extra>",
         "legendgroup": "ABRI",
         "marker": {
          "color": "#00cc96"
         },
         "name": "ABRI",
         "notched": false,
         "offsetgroup": "ABRI",
         "orientation": "v",
         "showlegend": false,
         "type": "box",
         "x0": " ",
         "xaxis": "x8",
         "y": [
          0.9408459595959596,
          0.9530725138294412,
          0.9513739705120084,
          0.9451191447858156,
          0.9456909422174506
         ],
         "y0": " ",
         "yaxis": "y8"
        },
        {
         "alignmentgroup": "True",
         "hovertemplate": "Abordagem=ABRI<br>Log=ta03<br>AP=%{y}<extra></extra>",
         "legendgroup": "ABRI",
         "marker": {
          "color": "#00cc96"
         },
         "name": "ABRI",
         "notched": false,
         "offsetgroup": "ABRI",
         "orientation": "v",
         "showlegend": false,
         "type": "box",
         "x0": " ",
         "xaxis": "x9",
         "y": [
          0.9574928407789232,
          0.9574928407789232,
          0.9567068308031378,
          0.9574928407789232,
          0.9544831423729672
         ],
         "y0": " ",
         "yaxis": "y9"
        },
        {
         "alignmentgroup": "True",
         "hovertemplate": "Abordagem=Randômica<br>Log=af01<br>AP=%{y}<extra></extra>",
         "legendgroup": "Randômica",
         "marker": {
          "color": "#ab63fa"
         },
         "name": "Randômica",
         "notched": false,
         "offsetgroup": "Randômica",
         "orientation": "v",
         "showlegend": true,
         "type": "box",
         "x0": " ",
         "xaxis": "x",
         "y": [
          0.5239141063103367,
          0.3814666338295831,
          0.3791290143896173,
          0.32409552897040583,
          0.4470311325016744
         ],
         "y0": " ",
         "yaxis": "y"
        },
        {
         "alignmentgroup": "True",
         "hovertemplate": "Abordagem=Randômica<br>Log=af02<br>AP=%{y}<extra></extra>",
         "legendgroup": "Randômica",
         "marker": {
          "color": "#ab63fa"
         },
         "name": "Randômica",
         "notched": false,
         "offsetgroup": "Randômica",
         "orientation": "v",
         "showlegend": false,
         "type": "box",
         "x0": " ",
         "xaxis": "x2",
         "y": [
          0.2231166483920056,
          0.3507717909653512,
          0.3940973162462801,
          0.4528981309540243,
          0.41253193898434826
         ],
         "y0": " ",
         "yaxis": "y2"
        },
        {
         "alignmentgroup": "True",
         "hovertemplate": "Abordagem=Randômica<br>Log=af03<br>AP=%{y}<extra></extra>",
         "legendgroup": "Randômica",
         "marker": {
          "color": "#ab63fa"
         },
         "name": "Randômica",
         "notched": false,
         "offsetgroup": "Randômica",
         "orientation": "v",
         "showlegend": false,
         "type": "box",
         "x0": " ",
         "xaxis": "x3",
         "y": [
          0.40229363166436943,
          0.4723693905100546,
          0.29057434223047235,
          0.26802238510832965,
          0.3548053562994562
         ],
         "y0": " ",
         "yaxis": "y3"
        },
        {
         "alignmentgroup": "True",
         "hovertemplate": "Abordagem=Randômica<br>Log=ia01<br>AP=%{y}<extra></extra>",
         "legendgroup": "Randômica",
         "marker": {
          "color": "#ab63fa"
         },
         "name": "Randômica",
         "notched": false,
         "offsetgroup": "Randômica",
         "orientation": "v",
         "showlegend": false,
         "type": "box",
         "x0": " ",
         "xaxis": "x4",
         "y": [
          0.3694561697691184,
          0.3599479568043049,
          0.3467452476057502,
          0.3199713862883431,
          0.3630517297497263
         ],
         "y0": " ",
         "yaxis": "y4"
        },
        {
         "alignmentgroup": "True",
         "hovertemplate": "Abordagem=Randômica<br>Log=ia02<br>AP=%{y}<extra></extra>",
         "legendgroup": "Randômica",
         "marker": {
          "color": "#ab63fa"
         },
         "name": "Randômica",
         "notched": false,
         "offsetgroup": "Randômica",
         "orientation": "v",
         "showlegend": false,
         "type": "box",
         "x0": " ",
         "xaxis": "x5",
         "y": [
          0.2882283178924285,
          0.3343527817117288,
          0.3584902226782233,
          0.3062916721748187,
          0.32025384271794444
         ],
         "y0": " ",
         "yaxis": "y5"
        },
        {
         "alignmentgroup": "True",
         "hovertemplate": "Abordagem=Randômica<br>Log=ia03<br>AP=%{y}<extra></extra>",
         "legendgroup": "Randômica",
         "marker": {
          "color": "#ab63fa"
         },
         "name": "Randômica",
         "notched": false,
         "offsetgroup": "Randômica",
         "orientation": "v",
         "showlegend": false,
         "type": "box",
         "x0": " ",
         "xaxis": "x6",
         "y": [
          0.2508142309489432,
          0.3208500140749669,
          0.33293944528192754,
          0.32344433674544043,
          0.3150500526308432
         ],
         "y0": " ",
         "yaxis": "y6"
        },
        {
         "alignmentgroup": "True",
         "hovertemplate": "Abordagem=Randômica<br>Log=ta01<br>AP=%{y}<extra></extra>",
         "legendgroup": "Randômica",
         "marker": {
          "color": "#ab63fa"
         },
         "name": "Randômica",
         "notched": false,
         "offsetgroup": "Randômica",
         "orientation": "v",
         "showlegend": false,
         "type": "box",
         "x0": " ",
         "xaxis": "x7",
         "y": [
          0.3665869121564665,
          0.3633785012771184,
          0.338462858066755,
          0.2698730856865986,
          0.3648201787888701
         ],
         "y0": " ",
         "yaxis": "y7"
        },
        {
         "alignmentgroup": "True",
         "hovertemplate": "Abordagem=Randômica<br>Log=ta02<br>AP=%{y}<extra></extra>",
         "legendgroup": "Randômica",
         "marker": {
          "color": "#ab63fa"
         },
         "name": "Randômica",
         "notched": false,
         "offsetgroup": "Randômica",
         "orientation": "v",
         "showlegend": false,
         "type": "box",
         "x0": " ",
         "xaxis": "x8",
         "y": [
          0.3026036375836194,
          0.3555945670465883,
          0.38601374089912177,
          0.3390560391064048,
          0.2876746839494648
         ],
         "y0": " ",
         "yaxis": "y8"
        },
        {
         "alignmentgroup": "True",
         "hovertemplate": "Abordagem=Randômica<br>Log=ta03<br>AP=%{y}<extra></extra>",
         "legendgroup": "Randômica",
         "marker": {
          "color": "#ab63fa"
         },
         "name": "Randômica",
         "notched": false,
         "offsetgroup": "Randômica",
         "orientation": "v",
         "showlegend": false,
         "type": "box",
         "x0": " ",
         "xaxis": "x9",
         "y": [
          0.31131344699137,
          0.2942099949910031,
          0.3786630792901096,
          0.34614602649528003,
          0.4114631667876324
         ],
         "y0": " ",
         "yaxis": "y9"
        },
        {
         "alignmentgroup": "True",
         "hovertemplate": "Abordagem=t-STIDE+<br>Log=af01<br>AP=%{y}<extra></extra>",
         "legendgroup": "t-STIDE+",
         "marker": {
          "color": "#FFA15A"
         },
         "name": "t-STIDE+",
         "notched": false,
         "offsetgroup": "t-STIDE+",
         "orientation": "v",
         "showlegend": true,
         "type": "box",
         "x0": " ",
         "xaxis": "x",
         "y": [
          0.4827777777777778,
          0.5800000000000001,
          0.5955555555555555,
          0.5488888888888889,
          0.5955555555555555
         ],
         "y0": " ",
         "yaxis": "y"
        },
        {
         "alignmentgroup": "True",
         "hovertemplate": "Abordagem=t-STIDE+<br>Log=af02<br>AP=%{y}<extra></extra>",
         "legendgroup": "t-STIDE+",
         "marker": {
          "color": "#FFA15A"
         },
         "name": "t-STIDE+",
         "notched": false,
         "offsetgroup": "t-STIDE+",
         "orientation": "v",
         "showlegend": false,
         "type": "box",
         "x0": " ",
         "xaxis": "x2",
         "y": [
          0.5527777777777777,
          0.58,
          0.6266666666666667,
          0.4827777777777778,
          0.6188888888888889
         ],
         "y0": " ",
         "yaxis": "y2"
        },
        {
         "alignmentgroup": "True",
         "hovertemplate": "Abordagem=t-STIDE+<br>Log=af03<br>AP=%{y}<extra></extra>",
         "legendgroup": "t-STIDE+",
         "marker": {
          "color": "#FFA15A"
         },
         "name": "t-STIDE+",
         "notched": false,
         "offsetgroup": "t-STIDE+",
         "orientation": "v",
         "showlegend": false,
         "type": "box",
         "x0": " ",
         "xaxis": "x3",
         "y": [
          0.5411111111111111,
          0.5372222222222223,
          0.6111111111111112,
          0.5566666666666665,
          0.5994444444444444
         ],
         "y0": " ",
         "yaxis": "y3"
        },
        {
         "alignmentgroup": "True",
         "hovertemplate": "Abordagem=t-STIDE+<br>Log=ia01<br>AP=%{y}<extra></extra>",
         "legendgroup": "t-STIDE+",
         "marker": {
          "color": "#FFA15A"
         },
         "name": "t-STIDE+",
         "notched": false,
         "offsetgroup": "t-STIDE+",
         "orientation": "v",
         "showlegend": false,
         "type": "box",
         "x0": " ",
         "xaxis": "x4",
         "y": [
          0.9766666666666666,
          0.9533333333333334,
          0.9494444444444444,
          0.9377777777777776,
          0.9494444444444444
         ],
         "y0": " ",
         "yaxis": "y4"
        },
        {
         "alignmentgroup": "True",
         "hovertemplate": "Abordagem=t-STIDE+<br>Log=ia02<br>AP=%{y}<extra></extra>",
         "legendgroup": "t-STIDE+",
         "marker": {
          "color": "#FFA15A"
         },
         "name": "t-STIDE+",
         "notched": false,
         "offsetgroup": "t-STIDE+",
         "orientation": "v",
         "showlegend": false,
         "type": "box",
         "x0": " ",
         "xaxis": "x5",
         "y": [
          0.965,
          0.9611111111111112,
          0.9494444444444444,
          0.9766666666666668,
          0.9455555555555556
         ],
         "y0": " ",
         "yaxis": "y5"
        },
        {
         "alignmentgroup": "True",
         "hovertemplate": "Abordagem=t-STIDE+<br>Log=ia03<br>AP=%{y}<extra></extra>",
         "legendgroup": "t-STIDE+",
         "marker": {
          "color": "#FFA15A"
         },
         "name": "t-STIDE+",
         "notched": false,
         "offsetgroup": "t-STIDE+",
         "orientation": "v",
         "showlegend": false,
         "type": "box",
         "x0": " ",
         "xaxis": "x6",
         "y": [
          0.9611111111111108,
          0.9688888888888888,
          0.9611111111111108,
          0.965,
          0.9572222222222222
         ],
         "y0": " ",
         "yaxis": "y6"
        },
        {
         "alignmentgroup": "True",
         "hovertemplate": "Abordagem=t-STIDE+<br>Log=ta01<br>AP=%{y}<extra></extra>",
         "legendgroup": "t-STIDE+",
         "marker": {
          "color": "#FFA15A"
         },
         "name": "t-STIDE+",
         "notched": false,
         "offsetgroup": "t-STIDE+",
         "orientation": "v",
         "showlegend": false,
         "type": "box",
         "x0": " ",
         "xaxis": "x7",
         "y": [
          0.9961111111111112,
          1,
          1,
          1,
          1
         ],
         "y0": " ",
         "yaxis": "y7"
        },
        {
         "alignmentgroup": "True",
         "hovertemplate": "Abordagem=t-STIDE+<br>Log=ta02<br>AP=%{y}<extra></extra>",
         "legendgroup": "t-STIDE+",
         "marker": {
          "color": "#FFA15A"
         },
         "name": "t-STIDE+",
         "notched": false,
         "offsetgroup": "t-STIDE+",
         "orientation": "v",
         "showlegend": false,
         "type": "box",
         "x0": " ",
         "xaxis": "x8",
         "y": [
          1,
          1,
          1,
          0.9961111111111112,
          1
         ],
         "y0": " ",
         "yaxis": "y8"
        },
        {
         "alignmentgroup": "True",
         "hovertemplate": "Abordagem=t-STIDE+<br>Log=ta03<br>AP=%{y}<extra></extra>",
         "legendgroup": "t-STIDE+",
         "marker": {
          "color": "#FFA15A"
         },
         "name": "t-STIDE+",
         "notched": false,
         "offsetgroup": "t-STIDE+",
         "orientation": "v",
         "showlegend": false,
         "type": "box",
         "x0": " ",
         "xaxis": "x9",
         "y": [
          1,
          0.9922222222222222,
          0.9961111111111112,
          1,
          1
         ],
         "y0": " ",
         "yaxis": "y9"
        }
       ],
       "layout": {
        "annotations": [
         {
          "showarrow": false,
          "text": "Log=af01",
          "x": 0.04666666666666666,
          "xanchor": "center",
          "xref": "paper",
          "y": 1,
          "yanchor": "bottom",
          "yref": "paper"
         },
         {
          "showarrow": false,
          "text": "Log=af02",
          "x": 0.16,
          "xanchor": "center",
          "xref": "paper",
          "y": 1,
          "yanchor": "bottom",
          "yref": "paper"
         },
         {
          "showarrow": false,
          "text": "Log=af03",
          "x": 0.2733333333333333,
          "xanchor": "center",
          "xref": "paper",
          "y": 1,
          "yanchor": "bottom",
          "yref": "paper"
         },
         {
          "showarrow": false,
          "text": "Log=ia01",
          "x": 0.3866666666666666,
          "xanchor": "center",
          "xref": "paper",
          "y": 1,
          "yanchor": "bottom",
          "yref": "paper"
         },
         {
          "showarrow": false,
          "text": "Log=ia02",
          "x": 0.5,
          "xanchor": "center",
          "xref": "paper",
          "y": 1,
          "yanchor": "bottom",
          "yref": "paper"
         },
         {
          "showarrow": false,
          "text": "Log=ia03",
          "x": 0.6133333333333333,
          "xanchor": "center",
          "xref": "paper",
          "y": 1,
          "yanchor": "bottom",
          "yref": "paper"
         },
         {
          "showarrow": false,
          "text": "Log=ta01",
          "x": 0.7266666666666666,
          "xanchor": "center",
          "xref": "paper",
          "y": 1,
          "yanchor": "bottom",
          "yref": "paper"
         },
         {
          "showarrow": false,
          "text": "Log=ta02",
          "x": 0.8400000000000001,
          "xanchor": "center",
          "xref": "paper",
          "y": 1,
          "yanchor": "bottom",
          "yref": "paper"
         },
         {
          "showarrow": false,
          "text": "Log=ta03",
          "x": 0.9533333333333334,
          "xanchor": "center",
          "xref": "paper",
          "y": 1,
          "yanchor": "bottom",
          "yref": "paper"
         }
        ],
        "boxmode": "group",
        "height": 330,
        "legend": {
         "title": {
          "text": "Abordagem"
         },
         "tracegroupgap": 0
        },
        "template": {
         "data": {
          "bar": [
           {
            "error_x": {
             "color": "#2a3f5f"
            },
            "error_y": {
             "color": "#2a3f5f"
            },
            "marker": {
             "line": {
              "color": "#E5ECF6",
              "width": 0.5
             }
            },
            "type": "bar"
           }
          ],
          "barpolar": [
           {
            "marker": {
             "line": {
              "color": "#E5ECF6",
              "width": 0.5
             }
            },
            "type": "barpolar"
           }
          ],
          "carpet": [
           {
            "aaxis": {
             "endlinecolor": "#2a3f5f",
             "gridcolor": "white",
             "linecolor": "white",
             "minorgridcolor": "white",
             "startlinecolor": "#2a3f5f"
            },
            "baxis": {
             "endlinecolor": "#2a3f5f",
             "gridcolor": "white",
             "linecolor": "white",
             "minorgridcolor": "white",
             "startlinecolor": "#2a3f5f"
            },
            "type": "carpet"
           }
          ],
          "choropleth": [
           {
            "colorbar": {
             "outlinewidth": 0,
             "ticks": ""
            },
            "type": "choropleth"
           }
          ],
          "contour": [
           {
            "colorbar": {
             "outlinewidth": 0,
             "ticks": ""
            },
            "colorscale": [
             [
              0,
              "#0d0887"
             ],
             [
              0.1111111111111111,
              "#46039f"
             ],
             [
              0.2222222222222222,
              "#7201a8"
             ],
             [
              0.3333333333333333,
              "#9c179e"
             ],
             [
              0.4444444444444444,
              "#bd3786"
             ],
             [
              0.5555555555555556,
              "#d8576b"
             ],
             [
              0.6666666666666666,
              "#ed7953"
             ],
             [
              0.7777777777777778,
              "#fb9f3a"
             ],
             [
              0.8888888888888888,
              "#fdca26"
             ],
             [
              1,
              "#f0f921"
             ]
            ],
            "type": "contour"
           }
          ],
          "contourcarpet": [
           {
            "colorbar": {
             "outlinewidth": 0,
             "ticks": ""
            },
            "type": "contourcarpet"
           }
          ],
          "heatmap": [
           {
            "colorbar": {
             "outlinewidth": 0,
             "ticks": ""
            },
            "colorscale": [
             [
              0,
              "#0d0887"
             ],
             [
              0.1111111111111111,
              "#46039f"
             ],
             [
              0.2222222222222222,
              "#7201a8"
             ],
             [
              0.3333333333333333,
              "#9c179e"
             ],
             [
              0.4444444444444444,
              "#bd3786"
             ],
             [
              0.5555555555555556,
              "#d8576b"
             ],
             [
              0.6666666666666666,
              "#ed7953"
             ],
             [
              0.7777777777777778,
              "#fb9f3a"
             ],
             [
              0.8888888888888888,
              "#fdca26"
             ],
             [
              1,
              "#f0f921"
             ]
            ],
            "type": "heatmap"
           }
          ],
          "heatmapgl": [
           {
            "colorbar": {
             "outlinewidth": 0,
             "ticks": ""
            },
            "colorscale": [
             [
              0,
              "#0d0887"
             ],
             [
              0.1111111111111111,
              "#46039f"
             ],
             [
              0.2222222222222222,
              "#7201a8"
             ],
             [
              0.3333333333333333,
              "#9c179e"
             ],
             [
              0.4444444444444444,
              "#bd3786"
             ],
             [
              0.5555555555555556,
              "#d8576b"
             ],
             [
              0.6666666666666666,
              "#ed7953"
             ],
             [
              0.7777777777777778,
              "#fb9f3a"
             ],
             [
              0.8888888888888888,
              "#fdca26"
             ],
             [
              1,
              "#f0f921"
             ]
            ],
            "type": "heatmapgl"
           }
          ],
          "histogram": [
           {
            "marker": {
             "colorbar": {
              "outlinewidth": 0,
              "ticks": ""
             }
            },
            "type": "histogram"
           }
          ],
          "histogram2d": [
           {
            "colorbar": {
             "outlinewidth": 0,
             "ticks": ""
            },
            "colorscale": [
             [
              0,
              "#0d0887"
             ],
             [
              0.1111111111111111,
              "#46039f"
             ],
             [
              0.2222222222222222,
              "#7201a8"
             ],
             [
              0.3333333333333333,
              "#9c179e"
             ],
             [
              0.4444444444444444,
              "#bd3786"
             ],
             [
              0.5555555555555556,
              "#d8576b"
             ],
             [
              0.6666666666666666,
              "#ed7953"
             ],
             [
              0.7777777777777778,
              "#fb9f3a"
             ],
             [
              0.8888888888888888,
              "#fdca26"
             ],
             [
              1,
              "#f0f921"
             ]
            ],
            "type": "histogram2d"
           }
          ],
          "histogram2dcontour": [
           {
            "colorbar": {
             "outlinewidth": 0,
             "ticks": ""
            },
            "colorscale": [
             [
              0,
              "#0d0887"
             ],
             [
              0.1111111111111111,
              "#46039f"
             ],
             [
              0.2222222222222222,
              "#7201a8"
             ],
             [
              0.3333333333333333,
              "#9c179e"
             ],
             [
              0.4444444444444444,
              "#bd3786"
             ],
             [
              0.5555555555555556,
              "#d8576b"
             ],
             [
              0.6666666666666666,
              "#ed7953"
             ],
             [
              0.7777777777777778,
              "#fb9f3a"
             ],
             [
              0.8888888888888888,
              "#fdca26"
             ],
             [
              1,
              "#f0f921"
             ]
            ],
            "type": "histogram2dcontour"
           }
          ],
          "mesh3d": [
           {
            "colorbar": {
             "outlinewidth": 0,
             "ticks": ""
            },
            "type": "mesh3d"
           }
          ],
          "parcoords": [
           {
            "line": {
             "colorbar": {
              "outlinewidth": 0,
              "ticks": ""
             }
            },
            "type": "parcoords"
           }
          ],
          "pie": [
           {
            "automargin": true,
            "type": "pie"
           }
          ],
          "scatter": [
           {
            "marker": {
             "colorbar": {
              "outlinewidth": 0,
              "ticks": ""
             }
            },
            "type": "scatter"
           }
          ],
          "scatter3d": [
           {
            "line": {
             "colorbar": {
              "outlinewidth": 0,
              "ticks": ""
             }
            },
            "marker": {
             "colorbar": {
              "outlinewidth": 0,
              "ticks": ""
             }
            },
            "type": "scatter3d"
           }
          ],
          "scattercarpet": [
           {
            "marker": {
             "colorbar": {
              "outlinewidth": 0,
              "ticks": ""
             }
            },
            "type": "scattercarpet"
           }
          ],
          "scattergeo": [
           {
            "marker": {
             "colorbar": {
              "outlinewidth": 0,
              "ticks": ""
             }
            },
            "type": "scattergeo"
           }
          ],
          "scattergl": [
           {
            "marker": {
             "colorbar": {
              "outlinewidth": 0,
              "ticks": ""
             }
            },
            "type": "scattergl"
           }
          ],
          "scattermapbox": [
           {
            "marker": {
             "colorbar": {
              "outlinewidth": 0,
              "ticks": ""
             }
            },
            "type": "scattermapbox"
           }
          ],
          "scatterpolar": [
           {
            "marker": {
             "colorbar": {
              "outlinewidth": 0,
              "ticks": ""
             }
            },
            "type": "scatterpolar"
           }
          ],
          "scatterpolargl": [
           {
            "marker": {
             "colorbar": {
              "outlinewidth": 0,
              "ticks": ""
             }
            },
            "type": "scatterpolargl"
           }
          ],
          "scatterternary": [
           {
            "marker": {
             "colorbar": {
              "outlinewidth": 0,
              "ticks": ""
             }
            },
            "type": "scatterternary"
           }
          ],
          "surface": [
           {
            "colorbar": {
             "outlinewidth": 0,
             "ticks": ""
            },
            "colorscale": [
             [
              0,
              "#0d0887"
             ],
             [
              0.1111111111111111,
              "#46039f"
             ],
             [
              0.2222222222222222,
              "#7201a8"
             ],
             [
              0.3333333333333333,
              "#9c179e"
             ],
             [
              0.4444444444444444,
              "#bd3786"
             ],
             [
              0.5555555555555556,
              "#d8576b"
             ],
             [
              0.6666666666666666,
              "#ed7953"
             ],
             [
              0.7777777777777778,
              "#fb9f3a"
             ],
             [
              0.8888888888888888,
              "#fdca26"
             ],
             [
              1,
              "#f0f921"
             ]
            ],
            "type": "surface"
           }
          ],
          "table": [
           {
            "cells": {
             "fill": {
              "color": "#EBF0F8"
             },
             "line": {
              "color": "white"
             }
            },
            "header": {
             "fill": {
              "color": "#C8D4E3"
             },
             "line": {
              "color": "white"
             }
            },
            "type": "table"
           }
          ]
         },
         "layout": {
          "annotationdefaults": {
           "arrowcolor": "#2a3f5f",
           "arrowhead": 0,
           "arrowwidth": 1
          },
          "autotypenumbers": "strict",
          "coloraxis": {
           "colorbar": {
            "outlinewidth": 0,
            "ticks": ""
           }
          },
          "colorscale": {
           "diverging": [
            [
             0,
             "#8e0152"
            ],
            [
             0.1,
             "#c51b7d"
            ],
            [
             0.2,
             "#de77ae"
            ],
            [
             0.3,
             "#f1b6da"
            ],
            [
             0.4,
             "#fde0ef"
            ],
            [
             0.5,
             "#f7f7f7"
            ],
            [
             0.6,
             "#e6f5d0"
            ],
            [
             0.7,
             "#b8e186"
            ],
            [
             0.8,
             "#7fbc41"
            ],
            [
             0.9,
             "#4d9221"
            ],
            [
             1,
             "#276419"
            ]
           ],
           "sequential": [
            [
             0,
             "#0d0887"
            ],
            [
             0.1111111111111111,
             "#46039f"
            ],
            [
             0.2222222222222222,
             "#7201a8"
            ],
            [
             0.3333333333333333,
             "#9c179e"
            ],
            [
             0.4444444444444444,
             "#bd3786"
            ],
            [
             0.5555555555555556,
             "#d8576b"
            ],
            [
             0.6666666666666666,
             "#ed7953"
            ],
            [
             0.7777777777777778,
             "#fb9f3a"
            ],
            [
             0.8888888888888888,
             "#fdca26"
            ],
            [
             1,
             "#f0f921"
            ]
           ],
           "sequentialminus": [
            [
             0,
             "#0d0887"
            ],
            [
             0.1111111111111111,
             "#46039f"
            ],
            [
             0.2222222222222222,
             "#7201a8"
            ],
            [
             0.3333333333333333,
             "#9c179e"
            ],
            [
             0.4444444444444444,
             "#bd3786"
            ],
            [
             0.5555555555555556,
             "#d8576b"
            ],
            [
             0.6666666666666666,
             "#ed7953"
            ],
            [
             0.7777777777777778,
             "#fb9f3a"
            ],
            [
             0.8888888888888888,
             "#fdca26"
            ],
            [
             1,
             "#f0f921"
            ]
           ]
          },
          "colorway": [
           "#636efa",
           "#EF553B",
           "#00cc96",
           "#ab63fa",
           "#FFA15A",
           "#19d3f3",
           "#FF6692",
           "#B6E880",
           "#FF97FF",
           "#FECB52"
          ],
          "font": {
           "color": "#2a3f5f"
          },
          "geo": {
           "bgcolor": "white",
           "lakecolor": "white",
           "landcolor": "#E5ECF6",
           "showlakes": true,
           "showland": true,
           "subunitcolor": "white"
          },
          "hoverlabel": {
           "align": "left"
          },
          "hovermode": "closest",
          "mapbox": {
           "style": "light"
          },
          "paper_bgcolor": "white",
          "plot_bgcolor": "#E5ECF6",
          "polar": {
           "angularaxis": {
            "gridcolor": "white",
            "linecolor": "white",
            "ticks": ""
           },
           "bgcolor": "#E5ECF6",
           "radialaxis": {
            "gridcolor": "white",
            "linecolor": "white",
            "ticks": ""
           }
          },
          "scene": {
           "xaxis": {
            "backgroundcolor": "#E5ECF6",
            "gridcolor": "white",
            "gridwidth": 2,
            "linecolor": "white",
            "showbackground": true,
            "ticks": "",
            "zerolinecolor": "white"
           },
           "yaxis": {
            "backgroundcolor": "#E5ECF6",
            "gridcolor": "white",
            "gridwidth": 2,
            "linecolor": "white",
            "showbackground": true,
            "ticks": "",
            "zerolinecolor": "white"
           },
           "zaxis": {
            "backgroundcolor": "#E5ECF6",
            "gridcolor": "white",
            "gridwidth": 2,
            "linecolor": "white",
            "showbackground": true,
            "ticks": "",
            "zerolinecolor": "white"
           }
          },
          "shapedefaults": {
           "line": {
            "color": "#2a3f5f"
           }
          },
          "ternary": {
           "aaxis": {
            "gridcolor": "white",
            "linecolor": "white",
            "ticks": ""
           },
           "baxis": {
            "gridcolor": "white",
            "linecolor": "white",
            "ticks": ""
           },
           "bgcolor": "#E5ECF6",
           "caxis": {
            "gridcolor": "white",
            "linecolor": "white",
            "ticks": ""
           }
          },
          "title": {
           "x": 0.05
          },
          "xaxis": {
           "automargin": true,
           "gridcolor": "white",
           "linecolor": "white",
           "ticks": "",
           "title": {
            "standoff": 15
           },
           "zerolinecolor": "white",
           "zerolinewidth": 2
          },
          "yaxis": {
           "automargin": true,
           "gridcolor": "white",
           "linecolor": "white",
           "ticks": "",
           "title": {
            "standoff": 15
           },
           "zerolinecolor": "white",
           "zerolinewidth": 2
          }
         }
        },
        "title": {
         "text": "AP versus parameterizations"
        },
        "xaxis": {
         "anchor": "y",
         "categoryorder": "array",
         "domain": [
          0,
          0.09333333333333332
         ],
         "type": "category"
        },
        "xaxis2": {
         "anchor": "y2",
         "categoryorder": "array",
         "domain": [
          0.11333333333333333,
          0.20666666666666667
         ],
         "matches": "x",
         "type": "category"
        },
        "xaxis3": {
         "anchor": "y3",
         "categoryorder": "array",
         "domain": [
          0.22666666666666666,
          0.31999999999999995
         ],
         "matches": "x",
         "type": "category"
        },
        "xaxis4": {
         "anchor": "y4",
         "categoryorder": "array",
         "domain": [
          0.33999999999999997,
          0.4333333333333333
         ],
         "matches": "x",
         "type": "category"
        },
        "xaxis5": {
         "anchor": "y5",
         "categoryorder": "array",
         "domain": [
          0.4533333333333333,
          0.5466666666666666
         ],
         "matches": "x",
         "type": "category"
        },
        "xaxis6": {
         "anchor": "y6",
         "categoryorder": "array",
         "domain": [
          0.5666666666666667,
          0.6599999999999999
         ],
         "matches": "x",
         "type": "category"
        },
        "xaxis7": {
         "anchor": "y7",
         "categoryorder": "array",
         "domain": [
          0.6799999999999999,
          0.7733333333333332
         ],
         "matches": "x",
         "type": "category"
        },
        "xaxis8": {
         "anchor": "y8",
         "categoryorder": "array",
         "domain": [
          0.7933333333333333,
          0.8866666666666667
         ],
         "matches": "x",
         "type": "category"
        },
        "xaxis9": {
         "anchor": "y9",
         "categoryorder": "array",
         "domain": [
          0.9066666666666666,
          1
         ],
         "matches": "x",
         "type": "category"
        },
        "yaxis": {
         "anchor": "x",
         "domain": [
          0,
          1
         ],
         "range": [
          0,
          1.01
         ],
         "title": {
          "text": "AP"
         }
        },
        "yaxis2": {
         "anchor": "x2",
         "domain": [
          0,
          1
         ],
         "matches": "y",
         "showticklabels": false
        },
        "yaxis3": {
         "anchor": "x3",
         "domain": [
          0,
          1
         ],
         "matches": "y",
         "showticklabels": false
        },
        "yaxis4": {
         "anchor": "x4",
         "domain": [
          0,
          1
         ],
         "matches": "y",
         "showticklabels": false
        },
        "yaxis5": {
         "anchor": "x5",
         "domain": [
          0,
          1
         ],
         "matches": "y",
         "showticklabels": false
        },
        "yaxis6": {
         "anchor": "x6",
         "domain": [
          0,
          1
         ],
         "matches": "y",
         "showticklabels": false
        },
        "yaxis7": {
         "anchor": "x7",
         "domain": [
          0,
          1
         ],
         "matches": "y",
         "showticklabels": false
        },
        "yaxis8": {
         "anchor": "x8",
         "domain": [
          0,
          1
         ],
         "matches": "y",
         "showticklabels": false
        },
        "yaxis9": {
         "anchor": "x9",
         "domain": [
          0,
          1
         ],
         "matches": "y",
         "showticklabels": false
        }
       }
      },
      "text/html": [
       "<div>                            <div id=\"c6fcbe5b-c333-4609-b7e0-9c6940bcd22a\" class=\"plotly-graph-div\" style=\"height:330px; width:100%;\"></div>            <script type=\"text/javascript\">                require([\"plotly\"], function(Plotly) {                    window.PLOTLYENV=window.PLOTLYENV || {};                                    if (document.getElementById(\"c6fcbe5b-c333-4609-b7e0-9c6940bcd22a\")) {                    Plotly.newPlot(                        \"c6fcbe5b-c333-4609-b7e0-9c6940bcd22a\",                        [{\"alignmentgroup\": \"True\", \"hovertemplate\": \"Abordagem=DAE<br>Log=af01<br>AP=%{y}<extra></extra>\", \"legendgroup\": \"DAE\", \"marker\": {\"color\": \"#636efa\"}, \"name\": \"DAE\", \"notched\": false, \"offsetgroup\": \"DAE\", \"orientation\": \"v\", \"showlegend\": true, \"type\": \"box\", \"x0\": \" \", \"xaxis\": \"x\", \"y\": [0.7070124176582893, 0.7589870249169821, 0.7485747931641061, 0.7098678198310142, 0.7854810696764857], \"y0\": \" \", \"yaxis\": \"y\"}, {\"alignmentgroup\": \"True\", \"hovertemplate\": \"Abordagem=DAE<br>Log=af02<br>AP=%{y}<extra></extra>\", \"legendgroup\": \"DAE\", \"marker\": {\"color\": \"#636efa\"}, \"name\": \"DAE\", \"notched\": false, \"offsetgroup\": \"DAE\", \"orientation\": \"v\", \"showlegend\": false, \"type\": \"box\", \"x0\": \" \", \"xaxis\": \"x2\", \"y\": [0.6284255669056173, 0.5950307134415346, 0.7218804791156311, 0.7649734606296871, 0.5553259012399351], \"y0\": \" \", \"yaxis\": \"y2\"}, {\"alignmentgroup\": \"True\", \"hovertemplate\": \"Abordagem=DAE<br>Log=af03<br>AP=%{y}<extra></extra>\", \"legendgroup\": \"DAE\", \"marker\": {\"color\": \"#636efa\"}, \"name\": \"DAE\", \"notched\": false, \"offsetgroup\": \"DAE\", \"orientation\": \"v\", \"showlegend\": false, \"type\": \"box\", \"x0\": \" \", \"xaxis\": \"x3\", \"y\": [0.4376668793919256, 0.640650467911704, 0.6927695600584234, 0.4196621720313559, 0.7729772258868793], \"y0\": \" \", \"yaxis\": \"y3\"}, {\"alignmentgroup\": \"True\", \"hovertemplate\": \"Abordagem=DAE<br>Log=ia01<br>AP=%{y}<extra></extra>\", \"legendgroup\": \"DAE\", \"marker\": {\"color\": \"#636efa\"}, \"name\": \"DAE\", \"notched\": false, \"offsetgroup\": \"DAE\", \"orientation\": \"v\", \"showlegend\": false, \"type\": \"box\", \"x0\": \" \", \"xaxis\": \"x4\", \"y\": [0.5197993102707158, 0.5985643301636293, 0.4602557805138669, 0.7131099825047627, 0.5133606796036255], \"y0\": \" \", \"yaxis\": \"y4\"}, {\"alignmentgroup\": \"True\", \"hovertemplate\": \"Abordagem=DAE<br>Log=ia02<br>AP=%{y}<extra></extra>\", \"legendgroup\": \"DAE\", \"marker\": {\"color\": \"#636efa\"}, \"name\": \"DAE\", \"notched\": false, \"offsetgroup\": \"DAE\", \"orientation\": \"v\", \"showlegend\": false, \"type\": \"box\", \"x0\": \" \", \"xaxis\": \"x5\", \"y\": [0.6294141291269293, 0.5502949330370958, 0.6054806921461279, 0.7812799029349639, 0.6303233416739749], \"y0\": \" \", \"yaxis\": \"y5\"}, {\"alignmentgroup\": \"True\", \"hovertemplate\": \"Abordagem=DAE<br>Log=ia03<br>AP=%{y}<extra></extra>\", \"legendgroup\": \"DAE\", \"marker\": {\"color\": \"#636efa\"}, \"name\": \"DAE\", \"notched\": false, \"offsetgroup\": \"DAE\", \"orientation\": \"v\", \"showlegend\": false, \"type\": \"box\", \"x0\": \" \", \"xaxis\": \"x6\", \"y\": [0.31762918599561185, 0.4733445737372377, 0.4034206361895276, 0.6568274019572167, 0.6299093231931823], \"y0\": \" \", \"yaxis\": \"y6\"}, {\"alignmentgroup\": \"True\", \"hovertemplate\": \"Abordagem=DAE<br>Log=ta01<br>AP=%{y}<extra></extra>\", \"legendgroup\": \"DAE\", \"marker\": {\"color\": \"#636efa\"}, \"name\": \"DAE\", \"notched\": false, \"offsetgroup\": \"DAE\", \"orientation\": \"v\", \"showlegend\": false, \"type\": \"box\", \"x0\": \" \", \"xaxis\": \"x7\", \"y\": [0.8542808576761171, 0.8890795793542119, 0.5832695121204416, 0.5710549998734782, 0.7238427856807408], \"y0\": \" \", \"yaxis\": \"y7\"}, {\"alignmentgroup\": \"True\", \"hovertemplate\": \"Abordagem=DAE<br>Log=ta02<br>AP=%{y}<extra></extra>\", \"legendgroup\": \"DAE\", \"marker\": {\"color\": \"#636efa\"}, \"name\": \"DAE\", \"notched\": false, \"offsetgroup\": \"DAE\", \"orientation\": \"v\", \"showlegend\": false, \"type\": \"box\", \"x0\": \" \", \"xaxis\": \"x8\", \"y\": [0.7585984513912334, 0.6744084039433645, 0.7087913882987497, 0.6977801464212601, 0.7315041751876603], \"y0\": \" \", \"yaxis\": \"y8\"}, {\"alignmentgroup\": \"True\", \"hovertemplate\": \"Abordagem=DAE<br>Log=ta03<br>AP=%{y}<extra></extra>\", \"legendgroup\": \"DAE\", \"marker\": {\"color\": \"#636efa\"}, \"name\": \"DAE\", \"notched\": false, \"offsetgroup\": \"DAE\", \"orientation\": \"v\", \"showlegend\": false, \"type\": \"box\", \"x0\": \" \", \"xaxis\": \"x9\", \"y\": [0.4889348056328103, 0.7770959384361219, 0.7269937849474166, 0.6929671705477883, 0.7095142637094979], \"y0\": \" \", \"yaxis\": \"y9\"}, {\"alignmentgroup\": \"True\", \"hovertemplate\": \"Abordagem=Binet<br>Log=af01<br>AP=%{y}<extra></extra>\", \"legendgroup\": \"Binet\", \"marker\": {\"color\": \"#EF553B\"}, \"name\": \"Binet\", \"notched\": false, \"offsetgroup\": \"Binet\", \"orientation\": \"v\", \"showlegend\": true, \"type\": \"box\", \"x0\": \" \", \"xaxis\": \"x\", \"y\": [0.27879246438795224, 0.2725849471767725, 0.30163492989408913, 0.2917047285084685, 0.3143980930707161], \"y0\": \" \", \"yaxis\": \"y\"}, {\"alignmentgroup\": \"True\", \"hovertemplate\": \"Abordagem=Binet<br>Log=af02<br>AP=%{y}<extra></extra>\", \"legendgroup\": \"Binet\", \"marker\": {\"color\": \"#EF553B\"}, \"name\": \"Binet\", \"notched\": false, \"offsetgroup\": \"Binet\", \"orientation\": \"v\", \"showlegend\": false, \"type\": \"box\", \"x0\": \" \", \"xaxis\": \"x2\", \"y\": [0.26174677417726816, 0.2803823313556722, 0.2935217904067493, 0.306012074574476, 0.2760702999786634], \"y0\": \" \", \"yaxis\": \"y2\"}, {\"alignmentgroup\": \"True\", \"hovertemplate\": \"Abordagem=Binet<br>Log=af03<br>AP=%{y}<extra></extra>\", \"legendgroup\": \"Binet\", \"marker\": {\"color\": \"#EF553B\"}, \"name\": \"Binet\", \"notched\": false, \"offsetgroup\": \"Binet\", \"orientation\": \"v\", \"showlegend\": false, \"type\": \"box\", \"x0\": \" \", \"xaxis\": \"x3\", \"y\": [0.28358993769090635, 0.3389081210470495, 0.2983060333373769, 0.3028129864326125, 0.3453128314912417], \"y0\": \" \", \"yaxis\": \"y3\"}, {\"alignmentgroup\": \"True\", \"hovertemplate\": \"Abordagem=Binet<br>Log=ia01<br>AP=%{y}<extra></extra>\", \"legendgroup\": \"Binet\", \"marker\": {\"color\": \"#EF553B\"}, \"name\": \"Binet\", \"notched\": false, \"offsetgroup\": \"Binet\", \"orientation\": \"v\", \"showlegend\": false, \"type\": \"box\", \"x0\": \" \", \"xaxis\": \"x4\", \"y\": [0.3880029655669307, 0.4234070000225885, 0.5810748724205981, 0.4209778534875373, 0.4002572547357863], \"y0\": \" \", \"yaxis\": \"y4\"}, {\"alignmentgroup\": \"True\", \"hovertemplate\": \"Abordagem=Binet<br>Log=ia02<br>AP=%{y}<extra></extra>\", \"legendgroup\": \"Binet\", \"marker\": {\"color\": \"#EF553B\"}, \"name\": \"Binet\", \"notched\": false, \"offsetgroup\": \"Binet\", \"orientation\": \"v\", \"showlegend\": false, \"type\": \"box\", \"x0\": \" \", \"xaxis\": \"x5\", \"y\": [0.4675119010472582, 0.3996122189065297, 0.5333690003587879, 0.3517768652609618, 0.35114773006054256], \"y0\": \" \", \"yaxis\": \"y5\"}, {\"alignmentgroup\": \"True\", \"hovertemplate\": \"Abordagem=Binet<br>Log=ia03<br>AP=%{y}<extra></extra>\", \"legendgroup\": \"Binet\", \"marker\": {\"color\": \"#EF553B\"}, \"name\": \"Binet\", \"notched\": false, \"offsetgroup\": \"Binet\", \"orientation\": \"v\", \"showlegend\": false, \"type\": \"box\", \"x0\": \" \", \"xaxis\": \"x6\", \"y\": [0.4346135245828912, 0.4071054930381104, 0.3846669541309285, 0.4932629210479247, 0.4366368625745564], \"y0\": \" \", \"yaxis\": \"y6\"}, {\"alignmentgroup\": \"True\", \"hovertemplate\": \"Abordagem=Binet<br>Log=ta01<br>AP=%{y}<extra></extra>\", \"legendgroup\": \"Binet\", \"marker\": {\"color\": \"#EF553B\"}, \"name\": \"Binet\", \"notched\": false, \"offsetgroup\": \"Binet\", \"orientation\": \"v\", \"showlegend\": false, \"type\": \"box\", \"x0\": \" \", \"xaxis\": \"x7\", \"y\": [0.4666862180621347, 0.4011009906657023, 0.4602870391476785, 0.4831865021975567, 0.6186240449784739], \"y0\": \" \", \"yaxis\": \"y7\"}, {\"alignmentgroup\": \"True\", \"hovertemplate\": \"Abordagem=Binet<br>Log=ta02<br>AP=%{y}<extra></extra>\", \"legendgroup\": \"Binet\", \"marker\": {\"color\": \"#EF553B\"}, \"name\": \"Binet\", \"notched\": false, \"offsetgroup\": \"Binet\", \"orientation\": \"v\", \"showlegend\": false, \"type\": \"box\", \"x0\": \" \", \"xaxis\": \"x8\", \"y\": [0.4850326807486858, 0.40614628650929896, 0.4825337708589528, 0.4716228763630079, 0.4310382742218473], \"y0\": \" \", \"yaxis\": \"y8\"}, {\"alignmentgroup\": \"True\", \"hovertemplate\": \"Abordagem=Binet<br>Log=ta03<br>AP=%{y}<extra></extra>\", \"legendgroup\": \"Binet\", \"marker\": {\"color\": \"#EF553B\"}, \"name\": \"Binet\", \"notched\": false, \"offsetgroup\": \"Binet\", \"orientation\": \"v\", \"showlegend\": false, \"type\": \"box\", \"x0\": \" \", \"xaxis\": \"x9\", \"y\": [0.4265494674877797, 0.3542225495675661, 0.450585859207758, 0.5313823889503542, 0.3755155381662113], \"y0\": \" \", \"yaxis\": \"y9\"}, {\"alignmentgroup\": \"True\", \"hovertemplate\": \"Abordagem=ABRI<br>Log=af01<br>AP=%{y}<extra></extra>\", \"legendgroup\": \"ABRI\", \"marker\": {\"color\": \"#00cc96\"}, \"name\": \"ABRI\", \"notched\": false, \"offsetgroup\": \"ABRI\", \"orientation\": \"v\", \"showlegend\": true, \"type\": \"box\", \"x0\": \" \", \"xaxis\": \"x\", \"y\": [0.8850793471529592, 0.8861539559366838, 0.8883945841032395, 0.8865495584380163, 0.8884796263076262], \"y0\": \" \", \"yaxis\": \"y\"}, {\"alignmentgroup\": \"True\", \"hovertemplate\": \"Abordagem=ABRI<br>Log=af02<br>AP=%{y}<extra></extra>\", \"legendgroup\": \"ABRI\", \"marker\": {\"color\": \"#00cc96\"}, \"name\": \"ABRI\", \"notched\": false, \"offsetgroup\": \"ABRI\", \"orientation\": \"v\", \"showlegend\": false, \"type\": \"box\", \"x0\": \" \", \"xaxis\": \"x2\", \"y\": [0.8876777161048043, 0.8992642089939169, 0.8998964449186204, 0.89041150556685, 0.8998531536778314], \"y0\": \" \", \"yaxis\": \"y2\"}, {\"alignmentgroup\": \"True\", \"hovertemplate\": \"Abordagem=ABRI<br>Log=af03<br>AP=%{y}<extra></extra>\", \"legendgroup\": \"ABRI\", \"marker\": {\"color\": \"#00cc96\"}, \"name\": \"ABRI\", \"notched\": false, \"offsetgroup\": \"ABRI\", \"orientation\": \"v\", \"showlegend\": false, \"type\": \"box\", \"x0\": \" \", \"xaxis\": \"x3\", \"y\": [0.9041375087406848, 0.8903610849668527, 0.8952204207881644, 0.9038905286869721, 0.8933679670547703], \"y0\": \" \", \"yaxis\": \"y3\"}, {\"alignmentgroup\": \"True\", \"hovertemplate\": \"Abordagem=ABRI<br>Log=ia01<br>AP=%{y}<extra></extra>\", \"legendgroup\": \"ABRI\", \"marker\": {\"color\": \"#00cc96\"}, \"name\": \"ABRI\", \"notched\": false, \"offsetgroup\": \"ABRI\", \"orientation\": \"v\", \"showlegend\": false, \"type\": \"box\", \"x0\": \" \", \"xaxis\": \"x4\", \"y\": [0.9692737889629082, 0.9637938665000522, 0.9700132379679232, 0.9632678829107402, 0.9583755854942296], \"y0\": \" \", \"yaxis\": \"y4\"}, {\"alignmentgroup\": \"True\", \"hovertemplate\": \"Abordagem=ABRI<br>Log=ia02<br>AP=%{y}<extra></extra>\", \"legendgroup\": \"ABRI\", \"marker\": {\"color\": \"#00cc96\"}, \"name\": \"ABRI\", \"notched\": false, \"offsetgroup\": \"ABRI\", \"orientation\": \"v\", \"showlegend\": false, \"type\": \"box\", \"x0\": \" \", \"xaxis\": \"x5\", \"y\": [0.9581761658031088, 0.9527647610121838, 0.9527647610121838, 0.9467013888888888, 0.9465885225885228], \"y0\": \" \", \"yaxis\": \"y5\"}, {\"alignmentgroup\": \"True\", \"hovertemplate\": \"Abordagem=ABRI<br>Log=ia03<br>AP=%{y}<extra></extra>\", \"legendgroup\": \"ABRI\", \"marker\": {\"color\": \"#00cc96\"}, \"name\": \"ABRI\", \"notched\": false, \"offsetgroup\": \"ABRI\", \"orientation\": \"v\", \"showlegend\": false, \"type\": \"box\", \"x0\": \" \", \"xaxis\": \"x6\", \"y\": [0.9543235331551484, 0.9596382384062936, 0.9547530864197532, 0.9587684579015716, 0.9650124843945068], \"y0\": \" \", \"yaxis\": \"y6\"}, {\"alignmentgroup\": \"True\", \"hovertemplate\": \"Abordagem=ABRI<br>Log=ta01<br>AP=%{y}<extra></extra>\", \"legendgroup\": \"ABRI\", \"marker\": {\"color\": \"#00cc96\"}, \"name\": \"ABRI\", \"notched\": false, \"offsetgroup\": \"ABRI\", \"orientation\": \"v\", \"showlegend\": false, \"type\": \"box\", \"x0\": \" \", \"xaxis\": \"x7\", \"y\": [0.950880681818182, 0.9567068308031378, 0.9611694476409668, 0.9579437683211268, 0.950880681818182], \"y0\": \" \", \"yaxis\": \"y7\"}, {\"alignmentgroup\": \"True\", \"hovertemplate\": \"Abordagem=ABRI<br>Log=ta02<br>AP=%{y}<extra></extra>\", \"legendgroup\": \"ABRI\", \"marker\": {\"color\": \"#00cc96\"}, \"name\": \"ABRI\", \"notched\": false, \"offsetgroup\": \"ABRI\", \"orientation\": \"v\", \"showlegend\": false, \"type\": \"box\", \"x0\": \" \", \"xaxis\": \"x8\", \"y\": [0.9408459595959596, 0.9530725138294412, 0.9513739705120084, 0.9451191447858156, 0.9456909422174506], \"y0\": \" \", \"yaxis\": \"y8\"}, {\"alignmentgroup\": \"True\", \"hovertemplate\": \"Abordagem=ABRI<br>Log=ta03<br>AP=%{y}<extra></extra>\", \"legendgroup\": \"ABRI\", \"marker\": {\"color\": \"#00cc96\"}, \"name\": \"ABRI\", \"notched\": false, \"offsetgroup\": \"ABRI\", \"orientation\": \"v\", \"showlegend\": false, \"type\": \"box\", \"x0\": \" \", \"xaxis\": \"x9\", \"y\": [0.9574928407789232, 0.9574928407789232, 0.9567068308031378, 0.9574928407789232, 0.9544831423729672], \"y0\": \" \", \"yaxis\": \"y9\"}, {\"alignmentgroup\": \"True\", \"hovertemplate\": \"Abordagem=Rand\\u00f4mica<br>Log=af01<br>AP=%{y}<extra></extra>\", \"legendgroup\": \"Rand\\u00f4mica\", \"marker\": {\"color\": \"#ab63fa\"}, \"name\": \"Rand\\u00f4mica\", \"notched\": false, \"offsetgroup\": \"Rand\\u00f4mica\", \"orientation\": \"v\", \"showlegend\": true, \"type\": \"box\", \"x0\": \" \", \"xaxis\": \"x\", \"y\": [0.5239141063103367, 0.3814666338295831, 0.3791290143896173, 0.32409552897040583, 0.4470311325016744], \"y0\": \" \", \"yaxis\": \"y\"}, {\"alignmentgroup\": \"True\", \"hovertemplate\": \"Abordagem=Rand\\u00f4mica<br>Log=af02<br>AP=%{y}<extra></extra>\", \"legendgroup\": \"Rand\\u00f4mica\", \"marker\": {\"color\": \"#ab63fa\"}, \"name\": \"Rand\\u00f4mica\", \"notched\": false, \"offsetgroup\": \"Rand\\u00f4mica\", \"orientation\": \"v\", \"showlegend\": false, \"type\": \"box\", \"x0\": \" \", \"xaxis\": \"x2\", \"y\": [0.2231166483920056, 0.3507717909653512, 0.3940973162462801, 0.4528981309540243, 0.41253193898434826], \"y0\": \" \", \"yaxis\": \"y2\"}, {\"alignmentgroup\": \"True\", \"hovertemplate\": \"Abordagem=Rand\\u00f4mica<br>Log=af03<br>AP=%{y}<extra></extra>\", \"legendgroup\": \"Rand\\u00f4mica\", \"marker\": {\"color\": \"#ab63fa\"}, \"name\": \"Rand\\u00f4mica\", \"notched\": false, \"offsetgroup\": \"Rand\\u00f4mica\", \"orientation\": \"v\", \"showlegend\": false, \"type\": \"box\", \"x0\": \" \", \"xaxis\": \"x3\", \"y\": [0.40229363166436943, 0.4723693905100546, 0.29057434223047235, 0.26802238510832965, 0.3548053562994562], \"y0\": \" \", \"yaxis\": \"y3\"}, {\"alignmentgroup\": \"True\", \"hovertemplate\": \"Abordagem=Rand\\u00f4mica<br>Log=ia01<br>AP=%{y}<extra></extra>\", \"legendgroup\": \"Rand\\u00f4mica\", \"marker\": {\"color\": \"#ab63fa\"}, \"name\": \"Rand\\u00f4mica\", \"notched\": false, \"offsetgroup\": \"Rand\\u00f4mica\", \"orientation\": \"v\", \"showlegend\": false, \"type\": \"box\", \"x0\": \" \", \"xaxis\": \"x4\", \"y\": [0.3694561697691184, 0.3599479568043049, 0.3467452476057502, 0.3199713862883431, 0.3630517297497263], \"y0\": \" \", \"yaxis\": \"y4\"}, {\"alignmentgroup\": \"True\", \"hovertemplate\": \"Abordagem=Rand\\u00f4mica<br>Log=ia02<br>AP=%{y}<extra></extra>\", \"legendgroup\": \"Rand\\u00f4mica\", \"marker\": {\"color\": \"#ab63fa\"}, \"name\": \"Rand\\u00f4mica\", \"notched\": false, \"offsetgroup\": \"Rand\\u00f4mica\", \"orientation\": \"v\", \"showlegend\": false, \"type\": \"box\", \"x0\": \" \", \"xaxis\": \"x5\", \"y\": [0.2882283178924285, 0.3343527817117288, 0.3584902226782233, 0.3062916721748187, 0.32025384271794444], \"y0\": \" \", \"yaxis\": \"y5\"}, {\"alignmentgroup\": \"True\", \"hovertemplate\": \"Abordagem=Rand\\u00f4mica<br>Log=ia03<br>AP=%{y}<extra></extra>\", \"legendgroup\": \"Rand\\u00f4mica\", \"marker\": {\"color\": \"#ab63fa\"}, \"name\": \"Rand\\u00f4mica\", \"notched\": false, \"offsetgroup\": \"Rand\\u00f4mica\", \"orientation\": \"v\", \"showlegend\": false, \"type\": \"box\", \"x0\": \" \", \"xaxis\": \"x6\", \"y\": [0.2508142309489432, 0.3208500140749669, 0.33293944528192754, 0.32344433674544043, 0.3150500526308432], \"y0\": \" \", \"yaxis\": \"y6\"}, {\"alignmentgroup\": \"True\", \"hovertemplate\": \"Abordagem=Rand\\u00f4mica<br>Log=ta01<br>AP=%{y}<extra></extra>\", \"legendgroup\": \"Rand\\u00f4mica\", \"marker\": {\"color\": \"#ab63fa\"}, \"name\": \"Rand\\u00f4mica\", \"notched\": false, \"offsetgroup\": \"Rand\\u00f4mica\", \"orientation\": \"v\", \"showlegend\": false, \"type\": \"box\", \"x0\": \" \", \"xaxis\": \"x7\", \"y\": [0.3665869121564665, 0.3633785012771184, 0.338462858066755, 0.2698730856865986, 0.3648201787888701], \"y0\": \" \", \"yaxis\": \"y7\"}, {\"alignmentgroup\": \"True\", \"hovertemplate\": \"Abordagem=Rand\\u00f4mica<br>Log=ta02<br>AP=%{y}<extra></extra>\", \"legendgroup\": \"Rand\\u00f4mica\", \"marker\": {\"color\": \"#ab63fa\"}, \"name\": \"Rand\\u00f4mica\", \"notched\": false, \"offsetgroup\": \"Rand\\u00f4mica\", \"orientation\": \"v\", \"showlegend\": false, \"type\": \"box\", \"x0\": \" \", \"xaxis\": \"x8\", \"y\": [0.3026036375836194, 0.3555945670465883, 0.38601374089912177, 0.3390560391064048, 0.2876746839494648], \"y0\": \" \", \"yaxis\": \"y8\"}, {\"alignmentgroup\": \"True\", \"hovertemplate\": \"Abordagem=Rand\\u00f4mica<br>Log=ta03<br>AP=%{y}<extra></extra>\", \"legendgroup\": \"Rand\\u00f4mica\", \"marker\": {\"color\": \"#ab63fa\"}, \"name\": \"Rand\\u00f4mica\", \"notched\": false, \"offsetgroup\": \"Rand\\u00f4mica\", \"orientation\": \"v\", \"showlegend\": false, \"type\": \"box\", \"x0\": \" \", \"xaxis\": \"x9\", \"y\": [0.31131344699137, 0.2942099949910031, 0.3786630792901096, 0.34614602649528003, 0.4114631667876324], \"y0\": \" \", \"yaxis\": \"y9\"}, {\"alignmentgroup\": \"True\", \"hovertemplate\": \"Abordagem=t-STIDE+<br>Log=af01<br>AP=%{y}<extra></extra>\", \"legendgroup\": \"t-STIDE+\", \"marker\": {\"color\": \"#FFA15A\"}, \"name\": \"t-STIDE+\", \"notched\": false, \"offsetgroup\": \"t-STIDE+\", \"orientation\": \"v\", \"showlegend\": true, \"type\": \"box\", \"x0\": \" \", \"xaxis\": \"x\", \"y\": [0.4827777777777778, 0.5800000000000001, 0.5955555555555555, 0.5488888888888889, 0.5955555555555555], \"y0\": \" \", \"yaxis\": \"y\"}, {\"alignmentgroup\": \"True\", \"hovertemplate\": \"Abordagem=t-STIDE+<br>Log=af02<br>AP=%{y}<extra></extra>\", \"legendgroup\": \"t-STIDE+\", \"marker\": {\"color\": \"#FFA15A\"}, \"name\": \"t-STIDE+\", \"notched\": false, \"offsetgroup\": \"t-STIDE+\", \"orientation\": \"v\", \"showlegend\": false, \"type\": \"box\", \"x0\": \" \", \"xaxis\": \"x2\", \"y\": [0.5527777777777777, 0.58, 0.6266666666666667, 0.4827777777777778, 0.6188888888888889], \"y0\": \" \", \"yaxis\": \"y2\"}, {\"alignmentgroup\": \"True\", \"hovertemplate\": \"Abordagem=t-STIDE+<br>Log=af03<br>AP=%{y}<extra></extra>\", \"legendgroup\": \"t-STIDE+\", \"marker\": {\"color\": \"#FFA15A\"}, \"name\": \"t-STIDE+\", \"notched\": false, \"offsetgroup\": \"t-STIDE+\", \"orientation\": \"v\", \"showlegend\": false, \"type\": \"box\", \"x0\": \" \", \"xaxis\": \"x3\", \"y\": [0.5411111111111111, 0.5372222222222223, 0.6111111111111112, 0.5566666666666665, 0.5994444444444444], \"y0\": \" \", \"yaxis\": \"y3\"}, {\"alignmentgroup\": \"True\", \"hovertemplate\": \"Abordagem=t-STIDE+<br>Log=ia01<br>AP=%{y}<extra></extra>\", \"legendgroup\": \"t-STIDE+\", \"marker\": {\"color\": \"#FFA15A\"}, \"name\": \"t-STIDE+\", \"notched\": false, \"offsetgroup\": \"t-STIDE+\", \"orientation\": \"v\", \"showlegend\": false, \"type\": \"box\", \"x0\": \" \", \"xaxis\": \"x4\", \"y\": [0.9766666666666666, 0.9533333333333334, 0.9494444444444444, 0.9377777777777776, 0.9494444444444444], \"y0\": \" \", \"yaxis\": \"y4\"}, {\"alignmentgroup\": \"True\", \"hovertemplate\": \"Abordagem=t-STIDE+<br>Log=ia02<br>AP=%{y}<extra></extra>\", \"legendgroup\": \"t-STIDE+\", \"marker\": {\"color\": \"#FFA15A\"}, \"name\": \"t-STIDE+\", \"notched\": false, \"offsetgroup\": \"t-STIDE+\", \"orientation\": \"v\", \"showlegend\": false, \"type\": \"box\", \"x0\": \" \", \"xaxis\": \"x5\", \"y\": [0.965, 0.9611111111111112, 0.9494444444444444, 0.9766666666666668, 0.9455555555555556], \"y0\": \" \", \"yaxis\": \"y5\"}, {\"alignmentgroup\": \"True\", \"hovertemplate\": \"Abordagem=t-STIDE+<br>Log=ia03<br>AP=%{y}<extra></extra>\", \"legendgroup\": \"t-STIDE+\", \"marker\": {\"color\": \"#FFA15A\"}, \"name\": \"t-STIDE+\", \"notched\": false, \"offsetgroup\": \"t-STIDE+\", \"orientation\": \"v\", \"showlegend\": false, \"type\": \"box\", \"x0\": \" \", \"xaxis\": \"x6\", \"y\": [0.9611111111111108, 0.9688888888888888, 0.9611111111111108, 0.965, 0.9572222222222222], \"y0\": \" \", \"yaxis\": \"y6\"}, {\"alignmentgroup\": \"True\", \"hovertemplate\": \"Abordagem=t-STIDE+<br>Log=ta01<br>AP=%{y}<extra></extra>\", \"legendgroup\": \"t-STIDE+\", \"marker\": {\"color\": \"#FFA15A\"}, \"name\": \"t-STIDE+\", \"notched\": false, \"offsetgroup\": \"t-STIDE+\", \"orientation\": \"v\", \"showlegend\": false, \"type\": \"box\", \"x0\": \" \", \"xaxis\": \"x7\", \"y\": [0.9961111111111112, 1.0, 1.0, 1.0, 1.0], \"y0\": \" \", \"yaxis\": \"y7\"}, {\"alignmentgroup\": \"True\", \"hovertemplate\": \"Abordagem=t-STIDE+<br>Log=ta02<br>AP=%{y}<extra></extra>\", \"legendgroup\": \"t-STIDE+\", \"marker\": {\"color\": \"#FFA15A\"}, \"name\": \"t-STIDE+\", \"notched\": false, \"offsetgroup\": \"t-STIDE+\", \"orientation\": \"v\", \"showlegend\": false, \"type\": \"box\", \"x0\": \" \", \"xaxis\": \"x8\", \"y\": [1.0, 1.0, 1.0, 0.9961111111111112, 1.0], \"y0\": \" \", \"yaxis\": \"y8\"}, {\"alignmentgroup\": \"True\", \"hovertemplate\": \"Abordagem=t-STIDE+<br>Log=ta03<br>AP=%{y}<extra></extra>\", \"legendgroup\": \"t-STIDE+\", \"marker\": {\"color\": \"#FFA15A\"}, \"name\": \"t-STIDE+\", \"notched\": false, \"offsetgroup\": \"t-STIDE+\", \"orientation\": \"v\", \"showlegend\": false, \"type\": \"box\", \"x0\": \" \", \"xaxis\": \"x9\", \"y\": [1.0, 0.9922222222222222, 0.9961111111111112, 1.0, 1.0], \"y0\": \" \", \"yaxis\": \"y9\"}],                        {\"annotations\": [{\"showarrow\": false, \"text\": \"Log=af01\", \"x\": 0.04666666666666666, \"xanchor\": \"center\", \"xref\": \"paper\", \"y\": 1.0, \"yanchor\": \"bottom\", \"yref\": \"paper\"}, {\"showarrow\": false, \"text\": \"Log=af02\", \"x\": 0.16, \"xanchor\": \"center\", \"xref\": \"paper\", \"y\": 1.0, \"yanchor\": \"bottom\", \"yref\": \"paper\"}, {\"showarrow\": false, \"text\": \"Log=af03\", \"x\": 0.2733333333333333, \"xanchor\": \"center\", \"xref\": \"paper\", \"y\": 1.0, \"yanchor\": \"bottom\", \"yref\": \"paper\"}, {\"showarrow\": false, \"text\": \"Log=ia01\", \"x\": 0.3866666666666666, \"xanchor\": \"center\", \"xref\": \"paper\", \"y\": 1.0, \"yanchor\": \"bottom\", \"yref\": \"paper\"}, {\"showarrow\": false, \"text\": \"Log=ia02\", \"x\": 0.5, \"xanchor\": \"center\", \"xref\": \"paper\", \"y\": 1.0, \"yanchor\": \"bottom\", \"yref\": \"paper\"}, {\"showarrow\": false, \"text\": \"Log=ia03\", \"x\": 0.6133333333333333, \"xanchor\": \"center\", \"xref\": \"paper\", \"y\": 1.0, \"yanchor\": \"bottom\", \"yref\": \"paper\"}, {\"showarrow\": false, \"text\": \"Log=ta01\", \"x\": 0.7266666666666666, \"xanchor\": \"center\", \"xref\": \"paper\", \"y\": 1.0, \"yanchor\": \"bottom\", \"yref\": \"paper\"}, {\"showarrow\": false, \"text\": \"Log=ta02\", \"x\": 0.8400000000000001, \"xanchor\": \"center\", \"xref\": \"paper\", \"y\": 1.0, \"yanchor\": \"bottom\", \"yref\": \"paper\"}, {\"showarrow\": false, \"text\": \"Log=ta03\", \"x\": 0.9533333333333334, \"xanchor\": \"center\", \"xref\": \"paper\", \"y\": 1.0, \"yanchor\": \"bottom\", \"yref\": \"paper\"}], \"boxmode\": \"group\", \"height\": 330, \"legend\": {\"title\": {\"text\": \"Abordagem\"}, \"tracegroupgap\": 0}, \"template\": {\"data\": {\"bar\": [{\"error_x\": {\"color\": \"#2a3f5f\"}, \"error_y\": {\"color\": \"#2a3f5f\"}, \"marker\": {\"line\": {\"color\": \"#E5ECF6\", \"width\": 0.5}}, \"type\": \"bar\"}], \"barpolar\": [{\"marker\": {\"line\": {\"color\": \"#E5ECF6\", \"width\": 0.5}}, \"type\": \"barpolar\"}], \"carpet\": [{\"aaxis\": {\"endlinecolor\": \"#2a3f5f\", \"gridcolor\": \"white\", \"linecolor\": \"white\", \"minorgridcolor\": \"white\", \"startlinecolor\": \"#2a3f5f\"}, \"baxis\": {\"endlinecolor\": \"#2a3f5f\", \"gridcolor\": \"white\", \"linecolor\": \"white\", \"minorgridcolor\": \"white\", \"startlinecolor\": \"#2a3f5f\"}, \"type\": \"carpet\"}], \"choropleth\": [{\"colorbar\": {\"outlinewidth\": 0, \"ticks\": \"\"}, \"type\": \"choropleth\"}], \"contour\": [{\"colorbar\": {\"outlinewidth\": 0, \"ticks\": \"\"}, \"colorscale\": [[0.0, \"#0d0887\"], [0.1111111111111111, \"#46039f\"], [0.2222222222222222, \"#7201a8\"], [0.3333333333333333, \"#9c179e\"], [0.4444444444444444, \"#bd3786\"], [0.5555555555555556, \"#d8576b\"], [0.6666666666666666, \"#ed7953\"], [0.7777777777777778, \"#fb9f3a\"], [0.8888888888888888, \"#fdca26\"], [1.0, \"#f0f921\"]], \"type\": \"contour\"}], \"contourcarpet\": [{\"colorbar\": {\"outlinewidth\": 0, \"ticks\": \"\"}, \"type\": \"contourcarpet\"}], \"heatmap\": [{\"colorbar\": {\"outlinewidth\": 0, \"ticks\": \"\"}, \"colorscale\": [[0.0, \"#0d0887\"], [0.1111111111111111, \"#46039f\"], [0.2222222222222222, \"#7201a8\"], [0.3333333333333333, \"#9c179e\"], [0.4444444444444444, \"#bd3786\"], [0.5555555555555556, \"#d8576b\"], [0.6666666666666666, \"#ed7953\"], [0.7777777777777778, \"#fb9f3a\"], [0.8888888888888888, \"#fdca26\"], [1.0, \"#f0f921\"]], \"type\": \"heatmap\"}], \"heatmapgl\": [{\"colorbar\": {\"outlinewidth\": 0, \"ticks\": \"\"}, \"colorscale\": [[0.0, \"#0d0887\"], [0.1111111111111111, \"#46039f\"], [0.2222222222222222, \"#7201a8\"], [0.3333333333333333, \"#9c179e\"], [0.4444444444444444, \"#bd3786\"], [0.5555555555555556, \"#d8576b\"], [0.6666666666666666, \"#ed7953\"], [0.7777777777777778, \"#fb9f3a\"], [0.8888888888888888, \"#fdca26\"], [1.0, \"#f0f921\"]], \"type\": \"heatmapgl\"}], \"histogram\": [{\"marker\": {\"colorbar\": {\"outlinewidth\": 0, \"ticks\": \"\"}}, \"type\": \"histogram\"}], \"histogram2d\": [{\"colorbar\": {\"outlinewidth\": 0, \"ticks\": \"\"}, \"colorscale\": [[0.0, \"#0d0887\"], [0.1111111111111111, \"#46039f\"], [0.2222222222222222, \"#7201a8\"], [0.3333333333333333, \"#9c179e\"], [0.4444444444444444, \"#bd3786\"], [0.5555555555555556, \"#d8576b\"], [0.6666666666666666, \"#ed7953\"], [0.7777777777777778, \"#fb9f3a\"], [0.8888888888888888, \"#fdca26\"], [1.0, \"#f0f921\"]], \"type\": \"histogram2d\"}], \"histogram2dcontour\": [{\"colorbar\": {\"outlinewidth\": 0, \"ticks\": \"\"}, \"colorscale\": [[0.0, \"#0d0887\"], [0.1111111111111111, \"#46039f\"], [0.2222222222222222, \"#7201a8\"], [0.3333333333333333, \"#9c179e\"], [0.4444444444444444, \"#bd3786\"], [0.5555555555555556, \"#d8576b\"], [0.6666666666666666, \"#ed7953\"], [0.7777777777777778, \"#fb9f3a\"], [0.8888888888888888, \"#fdca26\"], [1.0, \"#f0f921\"]], \"type\": \"histogram2dcontour\"}], \"mesh3d\": [{\"colorbar\": {\"outlinewidth\": 0, \"ticks\": \"\"}, \"type\": \"mesh3d\"}], \"parcoords\": [{\"line\": {\"colorbar\": {\"outlinewidth\": 0, \"ticks\": \"\"}}, \"type\": \"parcoords\"}], \"pie\": [{\"automargin\": true, \"type\": \"pie\"}], \"scatter\": [{\"marker\": {\"colorbar\": {\"outlinewidth\": 0, \"ticks\": \"\"}}, \"type\": \"scatter\"}], \"scatter3d\": [{\"line\": {\"colorbar\": {\"outlinewidth\": 0, \"ticks\": \"\"}}, \"marker\": {\"colorbar\": {\"outlinewidth\": 0, \"ticks\": \"\"}}, \"type\": \"scatter3d\"}], \"scattercarpet\": [{\"marker\": {\"colorbar\": {\"outlinewidth\": 0, \"ticks\": \"\"}}, \"type\": \"scattercarpet\"}], \"scattergeo\": [{\"marker\": {\"colorbar\": {\"outlinewidth\": 0, \"ticks\": \"\"}}, \"type\": \"scattergeo\"}], \"scattergl\": [{\"marker\": {\"colorbar\": {\"outlinewidth\": 0, \"ticks\": \"\"}}, \"type\": \"scattergl\"}], \"scattermapbox\": [{\"marker\": {\"colorbar\": {\"outlinewidth\": 0, \"ticks\": \"\"}}, \"type\": \"scattermapbox\"}], \"scatterpolar\": [{\"marker\": {\"colorbar\": {\"outlinewidth\": 0, \"ticks\": \"\"}}, \"type\": \"scatterpolar\"}], \"scatterpolargl\": [{\"marker\": {\"colorbar\": {\"outlinewidth\": 0, \"ticks\": \"\"}}, \"type\": \"scatterpolargl\"}], \"scatterternary\": [{\"marker\": {\"colorbar\": {\"outlinewidth\": 0, \"ticks\": \"\"}}, \"type\": \"scatterternary\"}], \"surface\": [{\"colorbar\": {\"outlinewidth\": 0, \"ticks\": \"\"}, \"colorscale\": [[0.0, \"#0d0887\"], [0.1111111111111111, \"#46039f\"], [0.2222222222222222, \"#7201a8\"], [0.3333333333333333, \"#9c179e\"], [0.4444444444444444, \"#bd3786\"], [0.5555555555555556, \"#d8576b\"], [0.6666666666666666, \"#ed7953\"], [0.7777777777777778, \"#fb9f3a\"], [0.8888888888888888, \"#fdca26\"], [1.0, \"#f0f921\"]], \"type\": \"surface\"}], \"table\": [{\"cells\": {\"fill\": {\"color\": \"#EBF0F8\"}, \"line\": {\"color\": \"white\"}}, \"header\": {\"fill\": {\"color\": \"#C8D4E3\"}, \"line\": {\"color\": \"white\"}}, \"type\": \"table\"}]}, \"layout\": {\"annotationdefaults\": {\"arrowcolor\": \"#2a3f5f\", \"arrowhead\": 0, \"arrowwidth\": 1}, \"autotypenumbers\": \"strict\", \"coloraxis\": {\"colorbar\": {\"outlinewidth\": 0, \"ticks\": \"\"}}, \"colorscale\": {\"diverging\": [[0, \"#8e0152\"], [0.1, \"#c51b7d\"], [0.2, \"#de77ae\"], [0.3, \"#f1b6da\"], [0.4, \"#fde0ef\"], [0.5, \"#f7f7f7\"], [0.6, \"#e6f5d0\"], [0.7, \"#b8e186\"], [0.8, \"#7fbc41\"], [0.9, \"#4d9221\"], [1, \"#276419\"]], \"sequential\": [[0.0, \"#0d0887\"], [0.1111111111111111, \"#46039f\"], [0.2222222222222222, \"#7201a8\"], [0.3333333333333333, \"#9c179e\"], [0.4444444444444444, \"#bd3786\"], [0.5555555555555556, \"#d8576b\"], [0.6666666666666666, \"#ed7953\"], [0.7777777777777778, \"#fb9f3a\"], [0.8888888888888888, \"#fdca26\"], [1.0, \"#f0f921\"]], \"sequentialminus\": [[0.0, \"#0d0887\"], [0.1111111111111111, \"#46039f\"], [0.2222222222222222, \"#7201a8\"], [0.3333333333333333, \"#9c179e\"], [0.4444444444444444, \"#bd3786\"], [0.5555555555555556, \"#d8576b\"], [0.6666666666666666, \"#ed7953\"], [0.7777777777777778, \"#fb9f3a\"], [0.8888888888888888, \"#fdca26\"], [1.0, \"#f0f921\"]]}, \"colorway\": [\"#636efa\", \"#EF553B\", \"#00cc96\", \"#ab63fa\", \"#FFA15A\", \"#19d3f3\", \"#FF6692\", \"#B6E880\", \"#FF97FF\", \"#FECB52\"], \"font\": {\"color\": \"#2a3f5f\"}, \"geo\": {\"bgcolor\": \"white\", \"lakecolor\": \"white\", \"landcolor\": \"#E5ECF6\", \"showlakes\": true, \"showland\": true, \"subunitcolor\": \"white\"}, \"hoverlabel\": {\"align\": \"left\"}, \"hovermode\": \"closest\", \"mapbox\": {\"style\": \"light\"}, \"paper_bgcolor\": \"white\", \"plot_bgcolor\": \"#E5ECF6\", \"polar\": {\"angularaxis\": {\"gridcolor\": \"white\", \"linecolor\": \"white\", \"ticks\": \"\"}, \"bgcolor\": \"#E5ECF6\", \"radialaxis\": {\"gridcolor\": \"white\", \"linecolor\": \"white\", \"ticks\": \"\"}}, \"scene\": {\"xaxis\": {\"backgroundcolor\": \"#E5ECF6\", \"gridcolor\": \"white\", \"gridwidth\": 2, \"linecolor\": \"white\", \"showbackground\": true, \"ticks\": \"\", \"zerolinecolor\": \"white\"}, \"yaxis\": {\"backgroundcolor\": \"#E5ECF6\", \"gridcolor\": \"white\", \"gridwidth\": 2, \"linecolor\": \"white\", \"showbackground\": true, \"ticks\": \"\", \"zerolinecolor\": \"white\"}, \"zaxis\": {\"backgroundcolor\": \"#E5ECF6\", \"gridcolor\": \"white\", \"gridwidth\": 2, \"linecolor\": \"white\", \"showbackground\": true, \"ticks\": \"\", \"zerolinecolor\": \"white\"}}, \"shapedefaults\": {\"line\": {\"color\": \"#2a3f5f\"}}, \"ternary\": {\"aaxis\": {\"gridcolor\": \"white\", \"linecolor\": \"white\", \"ticks\": \"\"}, \"baxis\": {\"gridcolor\": \"white\", \"linecolor\": \"white\", \"ticks\": \"\"}, \"bgcolor\": \"#E5ECF6\", \"caxis\": {\"gridcolor\": \"white\", \"linecolor\": \"white\", \"ticks\": \"\"}}, \"title\": {\"x\": 0.05}, \"xaxis\": {\"automargin\": true, \"gridcolor\": \"white\", \"linecolor\": \"white\", \"ticks\": \"\", \"title\": {\"standoff\": 15}, \"zerolinecolor\": \"white\", \"zerolinewidth\": 2}, \"yaxis\": {\"automargin\": true, \"gridcolor\": \"white\", \"linecolor\": \"white\", \"ticks\": \"\", \"title\": {\"standoff\": 15}, \"zerolinecolor\": \"white\", \"zerolinewidth\": 2}}}, \"title\": {\"text\": \"AP versus parameterizations\"}, \"xaxis\": {\"anchor\": \"y\", \"categoryorder\": \"array\", \"domain\": [0.0, 0.09333333333333332], \"type\": \"category\"}, \"xaxis2\": {\"anchor\": \"y2\", \"categoryorder\": \"array\", \"domain\": [0.11333333333333333, 0.20666666666666667], \"matches\": \"x\", \"type\": \"category\"}, \"xaxis3\": {\"anchor\": \"y3\", \"categoryorder\": \"array\", \"domain\": [0.22666666666666666, 0.31999999999999995], \"matches\": \"x\", \"type\": \"category\"}, \"xaxis4\": {\"anchor\": \"y4\", \"categoryorder\": \"array\", \"domain\": [0.33999999999999997, 0.4333333333333333], \"matches\": \"x\", \"type\": \"category\"}, \"xaxis5\": {\"anchor\": \"y5\", \"categoryorder\": \"array\", \"domain\": [0.4533333333333333, 0.5466666666666666], \"matches\": \"x\", \"type\": \"category\"}, \"xaxis6\": {\"anchor\": \"y6\", \"categoryorder\": \"array\", \"domain\": [0.5666666666666667, 0.6599999999999999], \"matches\": \"x\", \"type\": \"category\"}, \"xaxis7\": {\"anchor\": \"y7\", \"categoryorder\": \"array\", \"domain\": [0.6799999999999999, 0.7733333333333332], \"matches\": \"x\", \"type\": \"category\"}, \"xaxis8\": {\"anchor\": \"y8\", \"categoryorder\": \"array\", \"domain\": [0.7933333333333333, 0.8866666666666667], \"matches\": \"x\", \"type\": \"category\"}, \"xaxis9\": {\"anchor\": \"y9\", \"categoryorder\": \"array\", \"domain\": [0.9066666666666666, 1.0], \"matches\": \"x\", \"type\": \"category\"}, \"yaxis\": {\"anchor\": \"x\", \"domain\": [0.0, 1.0], \"range\": [0, 1.01], \"title\": {\"text\": \"AP\"}}, \"yaxis2\": {\"anchor\": \"x2\", \"domain\": [0.0, 1.0], \"matches\": \"y\", \"showticklabels\": false}, \"yaxis3\": {\"anchor\": \"x3\", \"domain\": [0.0, 1.0], \"matches\": \"y\", \"showticklabels\": false}, \"yaxis4\": {\"anchor\": \"x4\", \"domain\": [0.0, 1.0], \"matches\": \"y\", \"showticklabels\": false}, \"yaxis5\": {\"anchor\": \"x5\", \"domain\": [0.0, 1.0], \"matches\": \"y\", \"showticklabels\": false}, \"yaxis6\": {\"anchor\": \"x6\", \"domain\": [0.0, 1.0], \"matches\": \"y\", \"showticklabels\": false}, \"yaxis7\": {\"anchor\": \"x7\", \"domain\": [0.0, 1.0], \"matches\": \"y\", \"showticklabels\": false}, \"yaxis8\": {\"anchor\": \"x8\", \"domain\": [0.0, 1.0], \"matches\": \"y\", \"showticklabels\": false}, \"yaxis9\": {\"anchor\": \"x9\", \"domain\": [0.0, 1.0], \"matches\": \"y\", \"showticklabels\": false}},                        {\"responsive\": true}                    ).then(function(){\n",
       "                            \n",
       "var gd = document.getElementById('c6fcbe5b-c333-4609-b7e0-9c6940bcd22a');\n",
       "var x = new MutationObserver(function (mutations, observer) {{\n",
       "        var display = window.getComputedStyle(gd).display;\n",
       "        if (!display || display === 'none') {{\n",
       "            console.log([gd, 'removed!']);\n",
       "            Plotly.purge(gd);\n",
       "            observer.disconnect();\n",
       "        }}\n",
       "}});\n",
       "\n",
       "// Listen for the removal of the full notebook cells\n",
       "var notebookContainer = gd.closest('#notebook-container');\n",
       "if (notebookContainer) {{\n",
       "    x.observe(notebookContainer, {childList: true});\n",
       "}}\n",
       "\n",
       "// Listen for the clearing of the current output cell\n",
       "var outputEl = gd.closest('.output');\n",
       "if (outputEl) {{\n",
       "    x.observe(outputEl, {childList: true});\n",
       "}}\n",
       "\n",
       "                        })                };                });            </script>        </div>"
      ]
     },
     "metadata": {},
     "output_type": "display_data"
    },
    {
     "name": "stdout",
     "output_type": "stream",
     "text": [
      "Fig18A\n"
     ]
    },
    {
     "data": {
      "text/html": [
       "        <script type=\"text/javascript\">\n",
       "        window.PlotlyConfig = {MathJaxConfig: 'local'};\n",
       "        if (window.MathJax) {MathJax.Hub.Config({SVG: {font: \"STIX-Web\"}});}\n",
       "        if (typeof require !== 'undefined') {\n",
       "        require.undef(\"plotly\");\n",
       "        requirejs.config({\n",
       "            paths: {\n",
       "                'plotly': ['https://cdn.plot.ly/plotly-latest.min']\n",
       "            }\n",
       "        });\n",
       "        require(['plotly'], function(Plotly) {\n",
       "            window._Plotly = Plotly;\n",
       "        });\n",
       "        }\n",
       "        </script>\n",
       "        "
      ]
     },
     "metadata": {},
     "output_type": "display_data"
    },
    {
     "data": {
      "application/vnd.plotly.v1+json": {
       "config": {
        "linkText": "Export to plot.ly",
        "plotlyServerURL": "https://plot.ly",
        "showLink": false
       },
       "data": [
        {
         "alignmentgroup": "True",
         "boxpoints": "all",
         "hovertemplate": "Log=%{x}<br>AP=%{y}<extra></extra>",
         "legendgroup": "",
         "marker": {
          "color": "#636efa"
         },
         "name": "",
         "notched": false,
         "offsetgroup": "",
         "orientation": "v",
         "showlegend": false,
         "type": "box",
         "x": [
          "af01",
          "af01",
          "af01",
          "af01",
          "af01",
          "af02",
          "af02",
          "af02",
          "af02",
          "af02",
          "af03",
          "af03",
          "af03",
          "af03",
          "af03",
          "ia01",
          "ia01",
          "ia01",
          "ia01",
          "ia01",
          "ia02",
          "ia02",
          "ia02",
          "ia02",
          "ia02",
          "ia03",
          "ia03",
          "ia03",
          "ia03",
          "ia03",
          "ta01",
          "ta01",
          "ta01",
          "ta01",
          "ta01",
          "ta02",
          "ta02",
          "ta02",
          "ta02",
          "ta02",
          "ta03",
          "ta03",
          "ta03",
          "ta03",
          "ta03",
          "af01",
          "af01",
          "af01",
          "af01",
          "af01",
          "af02",
          "af02",
          "af02",
          "af02",
          "af02",
          "af03",
          "af03",
          "af03",
          "af03",
          "af03",
          "ia01",
          "ia01",
          "ia01",
          "ia01",
          "ia01",
          "ia02",
          "ia02",
          "ia02",
          "ia02",
          "ia02",
          "ia03",
          "ia03",
          "ia03",
          "ia03",
          "ia03",
          "ta01",
          "ta01",
          "ta01",
          "ta01",
          "ta01",
          "ta02",
          "ta02",
          "ta02",
          "ta02",
          "ta02",
          "ta03",
          "ta03",
          "ta03",
          "ta03",
          "ta03",
          "af01",
          "af01",
          "af01",
          "af01",
          "af01",
          "af02",
          "af02",
          "af02",
          "af02",
          "af02",
          "af03",
          "af03",
          "af03",
          "af03",
          "af03",
          "ia01",
          "ia01",
          "ia01",
          "ia01",
          "ia01",
          "ia02",
          "ia02",
          "ia02",
          "ia02",
          "ia02",
          "ia03",
          "ia03",
          "ia03",
          "ia03",
          "ia03",
          "ta01",
          "ta01",
          "ta01",
          "ta01",
          "ta01",
          "ta02",
          "ta02",
          "ta02",
          "ta02",
          "ta02",
          "ta03",
          "ta03",
          "ta03",
          "ta03",
          "ta03",
          "af01",
          "af01",
          "af01",
          "af01",
          "af01",
          "af02",
          "af02",
          "af02",
          "af02",
          "af02",
          "af03",
          "af03",
          "af03",
          "af03",
          "af03",
          "ia01",
          "ia01",
          "ia01",
          "ia01",
          "ia01",
          "ia02",
          "ia02",
          "ia02",
          "ia02",
          "ia02",
          "ia03",
          "ia03",
          "ia03",
          "ia03",
          "ia03",
          "ta01",
          "ta01",
          "ta01",
          "ta01",
          "ta01",
          "ta02",
          "ta02",
          "ta02",
          "ta02",
          "ta02",
          "ta03",
          "ta03",
          "ta03",
          "ta03",
          "ta03",
          "af01",
          "af01",
          "af01",
          "af01",
          "af01",
          "af02",
          "af02",
          "af02",
          "af02",
          "af02",
          "af03",
          "af03",
          "af03",
          "af03",
          "af03",
          "ia01",
          "ia01",
          "ia01",
          "ia01",
          "ia01",
          "ia02",
          "ia02",
          "ia02",
          "ia02",
          "ia02",
          "ia03",
          "ia03",
          "ia03",
          "ia03",
          "ia03",
          "ta01",
          "ta01",
          "ta01",
          "ta01",
          "ta01",
          "ta02",
          "ta02",
          "ta02",
          "ta02",
          "ta02",
          "ta03",
          "ta03",
          "ta03",
          "ta03",
          "ta03"
         ],
         "x0": " ",
         "xaxis": "x",
         "y": [
          0.7070124176582893,
          0.7589870249169821,
          0.7485747931641061,
          0.7098678198310142,
          0.7854810696764857,
          0.6284255669056173,
          0.5950307134415346,
          0.7218804791156311,
          0.7649734606296871,
          0.5553259012399351,
          0.4376668793919256,
          0.640650467911704,
          0.6927695600584234,
          0.4196621720313559,
          0.7729772258868793,
          0.5197993102707158,
          0.5985643301636293,
          0.4602557805138669,
          0.7131099825047627,
          0.5133606796036255,
          0.6294141291269293,
          0.5502949330370958,
          0.6054806921461279,
          0.7812799029349639,
          0.6303233416739749,
          0.31762918599561185,
          0.4733445737372377,
          0.4034206361895276,
          0.6568274019572167,
          0.6299093231931823,
          0.8542808576761171,
          0.8890795793542119,
          0.5832695121204416,
          0.5710549998734782,
          0.7238427856807408,
          0.7585984513912334,
          0.6744084039433645,
          0.7087913882987497,
          0.6977801464212601,
          0.7315041751876603,
          0.4889348056328103,
          0.7770959384361219,
          0.7269937849474166,
          0.6929671705477883,
          0.7095142637094979,
          0.27879246438795224,
          0.2725849471767725,
          0.30163492989408913,
          0.2917047285084685,
          0.3143980930707161,
          0.26174677417726816,
          0.2803823313556722,
          0.2935217904067493,
          0.306012074574476,
          0.2760702999786634,
          0.28358993769090635,
          0.3389081210470495,
          0.2983060333373769,
          0.3028129864326125,
          0.3453128314912417,
          0.3880029655669307,
          0.4234070000225885,
          0.5810748724205981,
          0.4209778534875373,
          0.4002572547357863,
          0.4675119010472582,
          0.3996122189065297,
          0.5333690003587879,
          0.3517768652609618,
          0.35114773006054256,
          0.4346135245828912,
          0.4071054930381104,
          0.3846669541309285,
          0.4932629210479247,
          0.4366368625745564,
          0.4666862180621347,
          0.4011009906657023,
          0.4602870391476785,
          0.4831865021975567,
          0.6186240449784739,
          0.4850326807486858,
          0.40614628650929896,
          0.4825337708589528,
          0.4716228763630079,
          0.4310382742218473,
          0.4265494674877797,
          0.3542225495675661,
          0.450585859207758,
          0.5313823889503542,
          0.3755155381662113,
          0.8850793471529592,
          0.8861539559366838,
          0.8883945841032395,
          0.8865495584380163,
          0.8884796263076262,
          0.8876777161048043,
          0.8992642089939169,
          0.8998964449186204,
          0.89041150556685,
          0.8998531536778314,
          0.9041375087406848,
          0.8903610849668527,
          0.8952204207881644,
          0.9038905286869721,
          0.8933679670547703,
          0.9692737889629082,
          0.9637938665000522,
          0.9700132379679232,
          0.9632678829107402,
          0.9583755854942296,
          0.9581761658031088,
          0.9527647610121838,
          0.9527647610121838,
          0.9467013888888888,
          0.9465885225885228,
          0.9543235331551484,
          0.9596382384062936,
          0.9547530864197532,
          0.9587684579015716,
          0.9650124843945068,
          0.950880681818182,
          0.9567068308031378,
          0.9611694476409668,
          0.9579437683211268,
          0.950880681818182,
          0.9408459595959596,
          0.9530725138294412,
          0.9513739705120084,
          0.9451191447858156,
          0.9456909422174506,
          0.9574928407789232,
          0.9574928407789232,
          0.9567068308031378,
          0.9574928407789232,
          0.9544831423729672,
          0.5239141063103367,
          0.3814666338295831,
          0.3791290143896173,
          0.32409552897040583,
          0.4470311325016744,
          0.2231166483920056,
          0.3507717909653512,
          0.3940973162462801,
          0.4528981309540243,
          0.41253193898434826,
          0.40229363166436943,
          0.4723693905100546,
          0.29057434223047235,
          0.26802238510832965,
          0.3548053562994562,
          0.3694561697691184,
          0.3599479568043049,
          0.3467452476057502,
          0.3199713862883431,
          0.3630517297497263,
          0.2882283178924285,
          0.3343527817117288,
          0.3584902226782233,
          0.3062916721748187,
          0.32025384271794444,
          0.2508142309489432,
          0.3208500140749669,
          0.33293944528192754,
          0.32344433674544043,
          0.3150500526308432,
          0.3665869121564665,
          0.3633785012771184,
          0.338462858066755,
          0.2698730856865986,
          0.3648201787888701,
          0.3026036375836194,
          0.3555945670465883,
          0.38601374089912177,
          0.3390560391064048,
          0.2876746839494648,
          0.31131344699137,
          0.2942099949910031,
          0.3786630792901096,
          0.34614602649528003,
          0.4114631667876324,
          0.4827777777777778,
          0.5800000000000001,
          0.5955555555555555,
          0.5488888888888889,
          0.5955555555555555,
          0.5527777777777777,
          0.58,
          0.6266666666666667,
          0.4827777777777778,
          0.6188888888888889,
          0.5411111111111111,
          0.5372222222222223,
          0.6111111111111112,
          0.5566666666666665,
          0.5994444444444444,
          0.9766666666666666,
          0.9533333333333334,
          0.9494444444444444,
          0.9377777777777776,
          0.9494444444444444,
          0.965,
          0.9611111111111112,
          0.9494444444444444,
          0.9766666666666668,
          0.9455555555555556,
          0.9611111111111108,
          0.9688888888888888,
          0.9611111111111108,
          0.965,
          0.9572222222222222,
          0.9961111111111112,
          1,
          1,
          1,
          1,
          1,
          1,
          1,
          0.9961111111111112,
          1,
          1,
          0.9922222222222222,
          0.9961111111111112,
          1,
          1
         ],
         "y0": " ",
         "yaxis": "y"
        }
       ],
       "layout": {
        "boxmode": "overlay",
        "legend": {
         "tracegroupgap": 0
        },
        "template": {
         "data": {
          "bar": [
           {
            "error_x": {
             "color": "#2a3f5f"
            },
            "error_y": {
             "color": "#2a3f5f"
            },
            "marker": {
             "line": {
              "color": "#E5ECF6",
              "width": 0.5
             }
            },
            "type": "bar"
           }
          ],
          "barpolar": [
           {
            "marker": {
             "line": {
              "color": "#E5ECF6",
              "width": 0.5
             }
            },
            "type": "barpolar"
           }
          ],
          "carpet": [
           {
            "aaxis": {
             "endlinecolor": "#2a3f5f",
             "gridcolor": "white",
             "linecolor": "white",
             "minorgridcolor": "white",
             "startlinecolor": "#2a3f5f"
            },
            "baxis": {
             "endlinecolor": "#2a3f5f",
             "gridcolor": "white",
             "linecolor": "white",
             "minorgridcolor": "white",
             "startlinecolor": "#2a3f5f"
            },
            "type": "carpet"
           }
          ],
          "choropleth": [
           {
            "colorbar": {
             "outlinewidth": 0,
             "ticks": ""
            },
            "type": "choropleth"
           }
          ],
          "contour": [
           {
            "colorbar": {
             "outlinewidth": 0,
             "ticks": ""
            },
            "colorscale": [
             [
              0,
              "#0d0887"
             ],
             [
              0.1111111111111111,
              "#46039f"
             ],
             [
              0.2222222222222222,
              "#7201a8"
             ],
             [
              0.3333333333333333,
              "#9c179e"
             ],
             [
              0.4444444444444444,
              "#bd3786"
             ],
             [
              0.5555555555555556,
              "#d8576b"
             ],
             [
              0.6666666666666666,
              "#ed7953"
             ],
             [
              0.7777777777777778,
              "#fb9f3a"
             ],
             [
              0.8888888888888888,
              "#fdca26"
             ],
             [
              1,
              "#f0f921"
             ]
            ],
            "type": "contour"
           }
          ],
          "contourcarpet": [
           {
            "colorbar": {
             "outlinewidth": 0,
             "ticks": ""
            },
            "type": "contourcarpet"
           }
          ],
          "heatmap": [
           {
            "colorbar": {
             "outlinewidth": 0,
             "ticks": ""
            },
            "colorscale": [
             [
              0,
              "#0d0887"
             ],
             [
              0.1111111111111111,
              "#46039f"
             ],
             [
              0.2222222222222222,
              "#7201a8"
             ],
             [
              0.3333333333333333,
              "#9c179e"
             ],
             [
              0.4444444444444444,
              "#bd3786"
             ],
             [
              0.5555555555555556,
              "#d8576b"
             ],
             [
              0.6666666666666666,
              "#ed7953"
             ],
             [
              0.7777777777777778,
              "#fb9f3a"
             ],
             [
              0.8888888888888888,
              "#fdca26"
             ],
             [
              1,
              "#f0f921"
             ]
            ],
            "type": "heatmap"
           }
          ],
          "heatmapgl": [
           {
            "colorbar": {
             "outlinewidth": 0,
             "ticks": ""
            },
            "colorscale": [
             [
              0,
              "#0d0887"
             ],
             [
              0.1111111111111111,
              "#46039f"
             ],
             [
              0.2222222222222222,
              "#7201a8"
             ],
             [
              0.3333333333333333,
              "#9c179e"
             ],
             [
              0.4444444444444444,
              "#bd3786"
             ],
             [
              0.5555555555555556,
              "#d8576b"
             ],
             [
              0.6666666666666666,
              "#ed7953"
             ],
             [
              0.7777777777777778,
              "#fb9f3a"
             ],
             [
              0.8888888888888888,
              "#fdca26"
             ],
             [
              1,
              "#f0f921"
             ]
            ],
            "type": "heatmapgl"
           }
          ],
          "histogram": [
           {
            "marker": {
             "colorbar": {
              "outlinewidth": 0,
              "ticks": ""
             }
            },
            "type": "histogram"
           }
          ],
          "histogram2d": [
           {
            "colorbar": {
             "outlinewidth": 0,
             "ticks": ""
            },
            "colorscale": [
             [
              0,
              "#0d0887"
             ],
             [
              0.1111111111111111,
              "#46039f"
             ],
             [
              0.2222222222222222,
              "#7201a8"
             ],
             [
              0.3333333333333333,
              "#9c179e"
             ],
             [
              0.4444444444444444,
              "#bd3786"
             ],
             [
              0.5555555555555556,
              "#d8576b"
             ],
             [
              0.6666666666666666,
              "#ed7953"
             ],
             [
              0.7777777777777778,
              "#fb9f3a"
             ],
             [
              0.8888888888888888,
              "#fdca26"
             ],
             [
              1,
              "#f0f921"
             ]
            ],
            "type": "histogram2d"
           }
          ],
          "histogram2dcontour": [
           {
            "colorbar": {
             "outlinewidth": 0,
             "ticks": ""
            },
            "colorscale": [
             [
              0,
              "#0d0887"
             ],
             [
              0.1111111111111111,
              "#46039f"
             ],
             [
              0.2222222222222222,
              "#7201a8"
             ],
             [
              0.3333333333333333,
              "#9c179e"
             ],
             [
              0.4444444444444444,
              "#bd3786"
             ],
             [
              0.5555555555555556,
              "#d8576b"
             ],
             [
              0.6666666666666666,
              "#ed7953"
             ],
             [
              0.7777777777777778,
              "#fb9f3a"
             ],
             [
              0.8888888888888888,
              "#fdca26"
             ],
             [
              1,
              "#f0f921"
             ]
            ],
            "type": "histogram2dcontour"
           }
          ],
          "mesh3d": [
           {
            "colorbar": {
             "outlinewidth": 0,
             "ticks": ""
            },
            "type": "mesh3d"
           }
          ],
          "parcoords": [
           {
            "line": {
             "colorbar": {
              "outlinewidth": 0,
              "ticks": ""
             }
            },
            "type": "parcoords"
           }
          ],
          "pie": [
           {
            "automargin": true,
            "type": "pie"
           }
          ],
          "scatter": [
           {
            "marker": {
             "colorbar": {
              "outlinewidth": 0,
              "ticks": ""
             }
            },
            "type": "scatter"
           }
          ],
          "scatter3d": [
           {
            "line": {
             "colorbar": {
              "outlinewidth": 0,
              "ticks": ""
             }
            },
            "marker": {
             "colorbar": {
              "outlinewidth": 0,
              "ticks": ""
             }
            },
            "type": "scatter3d"
           }
          ],
          "scattercarpet": [
           {
            "marker": {
             "colorbar": {
              "outlinewidth": 0,
              "ticks": ""
             }
            },
            "type": "scattercarpet"
           }
          ],
          "scattergeo": [
           {
            "marker": {
             "colorbar": {
              "outlinewidth": 0,
              "ticks": ""
             }
            },
            "type": "scattergeo"
           }
          ],
          "scattergl": [
           {
            "marker": {
             "colorbar": {
              "outlinewidth": 0,
              "ticks": ""
             }
            },
            "type": "scattergl"
           }
          ],
          "scattermapbox": [
           {
            "marker": {
             "colorbar": {
              "outlinewidth": 0,
              "ticks": ""
             }
            },
            "type": "scattermapbox"
           }
          ],
          "scatterpolar": [
           {
            "marker": {
             "colorbar": {
              "outlinewidth": 0,
              "ticks": ""
             }
            },
            "type": "scatterpolar"
           }
          ],
          "scatterpolargl": [
           {
            "marker": {
             "colorbar": {
              "outlinewidth": 0,
              "ticks": ""
             }
            },
            "type": "scatterpolargl"
           }
          ],
          "scatterternary": [
           {
            "marker": {
             "colorbar": {
              "outlinewidth": 0,
              "ticks": ""
             }
            },
            "type": "scatterternary"
           }
          ],
          "surface": [
           {
            "colorbar": {
             "outlinewidth": 0,
             "ticks": ""
            },
            "colorscale": [
             [
              0,
              "#0d0887"
             ],
             [
              0.1111111111111111,
              "#46039f"
             ],
             [
              0.2222222222222222,
              "#7201a8"
             ],
             [
              0.3333333333333333,
              "#9c179e"
             ],
             [
              0.4444444444444444,
              "#bd3786"
             ],
             [
              0.5555555555555556,
              "#d8576b"
             ],
             [
              0.6666666666666666,
              "#ed7953"
             ],
             [
              0.7777777777777778,
              "#fb9f3a"
             ],
             [
              0.8888888888888888,
              "#fdca26"
             ],
             [
              1,
              "#f0f921"
             ]
            ],
            "type": "surface"
           }
          ],
          "table": [
           {
            "cells": {
             "fill": {
              "color": "#EBF0F8"
             },
             "line": {
              "color": "white"
             }
            },
            "header": {
             "fill": {
              "color": "#C8D4E3"
             },
             "line": {
              "color": "white"
             }
            },
            "type": "table"
           }
          ]
         },
         "layout": {
          "annotationdefaults": {
           "arrowcolor": "#2a3f5f",
           "arrowhead": 0,
           "arrowwidth": 1
          },
          "autotypenumbers": "strict",
          "coloraxis": {
           "colorbar": {
            "outlinewidth": 0,
            "ticks": ""
           }
          },
          "colorscale": {
           "diverging": [
            [
             0,
             "#8e0152"
            ],
            [
             0.1,
             "#c51b7d"
            ],
            [
             0.2,
             "#de77ae"
            ],
            [
             0.3,
             "#f1b6da"
            ],
            [
             0.4,
             "#fde0ef"
            ],
            [
             0.5,
             "#f7f7f7"
            ],
            [
             0.6,
             "#e6f5d0"
            ],
            [
             0.7,
             "#b8e186"
            ],
            [
             0.8,
             "#7fbc41"
            ],
            [
             0.9,
             "#4d9221"
            ],
            [
             1,
             "#276419"
            ]
           ],
           "sequential": [
            [
             0,
             "#0d0887"
            ],
            [
             0.1111111111111111,
             "#46039f"
            ],
            [
             0.2222222222222222,
             "#7201a8"
            ],
            [
             0.3333333333333333,
             "#9c179e"
            ],
            [
             0.4444444444444444,
             "#bd3786"
            ],
            [
             0.5555555555555556,
             "#d8576b"
            ],
            [
             0.6666666666666666,
             "#ed7953"
            ],
            [
             0.7777777777777778,
             "#fb9f3a"
            ],
            [
             0.8888888888888888,
             "#fdca26"
            ],
            [
             1,
             "#f0f921"
            ]
           ],
           "sequentialminus": [
            [
             0,
             "#0d0887"
            ],
            [
             0.1111111111111111,
             "#46039f"
            ],
            [
             0.2222222222222222,
             "#7201a8"
            ],
            [
             0.3333333333333333,
             "#9c179e"
            ],
            [
             0.4444444444444444,
             "#bd3786"
            ],
            [
             0.5555555555555556,
             "#d8576b"
            ],
            [
             0.6666666666666666,
             "#ed7953"
            ],
            [
             0.7777777777777778,
             "#fb9f3a"
            ],
            [
             0.8888888888888888,
             "#fdca26"
            ],
            [
             1,
             "#f0f921"
            ]
           ]
          },
          "colorway": [
           "#636efa",
           "#EF553B",
           "#00cc96",
           "#ab63fa",
           "#FFA15A",
           "#19d3f3",
           "#FF6692",
           "#B6E880",
           "#FF97FF",
           "#FECB52"
          ],
          "font": {
           "color": "#2a3f5f"
          },
          "geo": {
           "bgcolor": "white",
           "lakecolor": "white",
           "landcolor": "#E5ECF6",
           "showlakes": true,
           "showland": true,
           "subunitcolor": "white"
          },
          "hoverlabel": {
           "align": "left"
          },
          "hovermode": "closest",
          "mapbox": {
           "style": "light"
          },
          "paper_bgcolor": "white",
          "plot_bgcolor": "#E5ECF6",
          "polar": {
           "angularaxis": {
            "gridcolor": "white",
            "linecolor": "white",
            "ticks": ""
           },
           "bgcolor": "#E5ECF6",
           "radialaxis": {
            "gridcolor": "white",
            "linecolor": "white",
            "ticks": ""
           }
          },
          "scene": {
           "xaxis": {
            "backgroundcolor": "#E5ECF6",
            "gridcolor": "white",
            "gridwidth": 2,
            "linecolor": "white",
            "showbackground": true,
            "ticks": "",
            "zerolinecolor": "white"
           },
           "yaxis": {
            "backgroundcolor": "#E5ECF6",
            "gridcolor": "white",
            "gridwidth": 2,
            "linecolor": "white",
            "showbackground": true,
            "ticks": "",
            "zerolinecolor": "white"
           },
           "zaxis": {
            "backgroundcolor": "#E5ECF6",
            "gridcolor": "white",
            "gridwidth": 2,
            "linecolor": "white",
            "showbackground": true,
            "ticks": "",
            "zerolinecolor": "white"
           }
          },
          "shapedefaults": {
           "line": {
            "color": "#2a3f5f"
           }
          },
          "ternary": {
           "aaxis": {
            "gridcolor": "white",
            "linecolor": "white",
            "ticks": ""
           },
           "baxis": {
            "gridcolor": "white",
            "linecolor": "white",
            "ticks": ""
           },
           "bgcolor": "#E5ECF6",
           "caxis": {
            "gridcolor": "white",
            "linecolor": "white",
            "ticks": ""
           }
          },
          "title": {
           "x": 0.05
          },
          "xaxis": {
           "automargin": true,
           "gridcolor": "white",
           "linecolor": "white",
           "ticks": "",
           "title": {
            "standoff": 15
           },
           "zerolinecolor": "white",
           "zerolinewidth": 2
          },
          "yaxis": {
           "automargin": true,
           "gridcolor": "white",
           "linecolor": "white",
           "ticks": "",
           "title": {
            "standoff": 15
           },
           "zerolinecolor": "white",
           "zerolinewidth": 2
          }
         }
        },
        "title": {
         "text": "AP versus parameterizations"
        },
        "xaxis": {
         "anchor": "y",
         "categoryarray": [
          "af01",
          "af02",
          "af03",
          "ia01",
          "ia02",
          "ia03",
          "ta01",
          "ta02",
          "ta03"
         ],
         "categoryorder": "array",
         "domain": [
          0,
          1
         ],
         "showticklabels": true,
         "title": {
          "text": "Log"
         },
         "type": "category"
        },
        "yaxis": {
         "anchor": "x",
         "domain": [
          0,
          1
         ],
         "range": [
          0,
          1.01
         ],
         "title": {
          "text": "AP"
         }
        }
       }
      },
      "text/html": [
       "<div>                            <div id=\"a525d21f-ff5c-401d-864c-4033f3bf1f4d\" class=\"plotly-graph-div\" style=\"height:525px; width:100%;\"></div>            <script type=\"text/javascript\">                require([\"plotly\"], function(Plotly) {                    window.PLOTLYENV=window.PLOTLYENV || {};                                    if (document.getElementById(\"a525d21f-ff5c-401d-864c-4033f3bf1f4d\")) {                    Plotly.newPlot(                        \"a525d21f-ff5c-401d-864c-4033f3bf1f4d\",                        [{\"alignmentgroup\": \"True\", \"boxpoints\": \"all\", \"hovertemplate\": \"Log=%{x}<br>AP=%{y}<extra></extra>\", \"legendgroup\": \"\", \"marker\": {\"color\": \"#636efa\"}, \"name\": \"\", \"notched\": false, \"offsetgroup\": \"\", \"orientation\": \"v\", \"showlegend\": false, \"type\": \"box\", \"x\": [\"af01\", \"af01\", \"af01\", \"af01\", \"af01\", \"af02\", \"af02\", \"af02\", \"af02\", \"af02\", \"af03\", \"af03\", \"af03\", \"af03\", \"af03\", \"ia01\", \"ia01\", \"ia01\", \"ia01\", \"ia01\", \"ia02\", \"ia02\", \"ia02\", \"ia02\", \"ia02\", \"ia03\", \"ia03\", \"ia03\", \"ia03\", \"ia03\", \"ta01\", \"ta01\", \"ta01\", \"ta01\", \"ta01\", \"ta02\", \"ta02\", \"ta02\", \"ta02\", \"ta02\", \"ta03\", \"ta03\", \"ta03\", \"ta03\", \"ta03\", \"af01\", \"af01\", \"af01\", \"af01\", \"af01\", \"af02\", \"af02\", \"af02\", \"af02\", \"af02\", \"af03\", \"af03\", \"af03\", \"af03\", \"af03\", \"ia01\", \"ia01\", \"ia01\", \"ia01\", \"ia01\", \"ia02\", \"ia02\", \"ia02\", \"ia02\", \"ia02\", \"ia03\", \"ia03\", \"ia03\", \"ia03\", \"ia03\", \"ta01\", \"ta01\", \"ta01\", \"ta01\", \"ta01\", \"ta02\", \"ta02\", \"ta02\", \"ta02\", \"ta02\", \"ta03\", \"ta03\", \"ta03\", \"ta03\", \"ta03\", \"af01\", \"af01\", \"af01\", \"af01\", \"af01\", \"af02\", \"af02\", \"af02\", \"af02\", \"af02\", \"af03\", \"af03\", \"af03\", \"af03\", \"af03\", \"ia01\", \"ia01\", \"ia01\", \"ia01\", \"ia01\", \"ia02\", \"ia02\", \"ia02\", \"ia02\", \"ia02\", \"ia03\", \"ia03\", \"ia03\", \"ia03\", \"ia03\", \"ta01\", \"ta01\", \"ta01\", \"ta01\", \"ta01\", \"ta02\", \"ta02\", \"ta02\", \"ta02\", \"ta02\", \"ta03\", \"ta03\", \"ta03\", \"ta03\", \"ta03\", \"af01\", \"af01\", \"af01\", \"af01\", \"af01\", \"af02\", \"af02\", \"af02\", \"af02\", \"af02\", \"af03\", \"af03\", \"af03\", \"af03\", \"af03\", \"ia01\", \"ia01\", \"ia01\", \"ia01\", \"ia01\", \"ia02\", \"ia02\", \"ia02\", \"ia02\", \"ia02\", \"ia03\", \"ia03\", \"ia03\", \"ia03\", \"ia03\", \"ta01\", \"ta01\", \"ta01\", \"ta01\", \"ta01\", \"ta02\", \"ta02\", \"ta02\", \"ta02\", \"ta02\", \"ta03\", \"ta03\", \"ta03\", \"ta03\", \"ta03\", \"af01\", \"af01\", \"af01\", \"af01\", \"af01\", \"af02\", \"af02\", \"af02\", \"af02\", \"af02\", \"af03\", \"af03\", \"af03\", \"af03\", \"af03\", \"ia01\", \"ia01\", \"ia01\", \"ia01\", \"ia01\", \"ia02\", \"ia02\", \"ia02\", \"ia02\", \"ia02\", \"ia03\", \"ia03\", \"ia03\", \"ia03\", \"ia03\", \"ta01\", \"ta01\", \"ta01\", \"ta01\", \"ta01\", \"ta02\", \"ta02\", \"ta02\", \"ta02\", \"ta02\", \"ta03\", \"ta03\", \"ta03\", \"ta03\", \"ta03\"], \"x0\": \" \", \"xaxis\": \"x\", \"y\": [0.7070124176582893, 0.7589870249169821, 0.7485747931641061, 0.7098678198310142, 0.7854810696764857, 0.6284255669056173, 0.5950307134415346, 0.7218804791156311, 0.7649734606296871, 0.5553259012399351, 0.4376668793919256, 0.640650467911704, 0.6927695600584234, 0.4196621720313559, 0.7729772258868793, 0.5197993102707158, 0.5985643301636293, 0.4602557805138669, 0.7131099825047627, 0.5133606796036255, 0.6294141291269293, 0.5502949330370958, 0.6054806921461279, 0.7812799029349639, 0.6303233416739749, 0.31762918599561185, 0.4733445737372377, 0.4034206361895276, 0.6568274019572167, 0.6299093231931823, 0.8542808576761171, 0.8890795793542119, 0.5832695121204416, 0.5710549998734782, 0.7238427856807408, 0.7585984513912334, 0.6744084039433645, 0.7087913882987497, 0.6977801464212601, 0.7315041751876603, 0.4889348056328103, 0.7770959384361219, 0.7269937849474166, 0.6929671705477883, 0.7095142637094979, 0.27879246438795224, 0.2725849471767725, 0.30163492989408913, 0.2917047285084685, 0.3143980930707161, 0.26174677417726816, 0.2803823313556722, 0.2935217904067493, 0.306012074574476, 0.2760702999786634, 0.28358993769090635, 0.3389081210470495, 0.2983060333373769, 0.3028129864326125, 0.3453128314912417, 0.3880029655669307, 0.4234070000225885, 0.5810748724205981, 0.4209778534875373, 0.4002572547357863, 0.4675119010472582, 0.3996122189065297, 0.5333690003587879, 0.3517768652609618, 0.35114773006054256, 0.4346135245828912, 0.4071054930381104, 0.3846669541309285, 0.4932629210479247, 0.4366368625745564, 0.4666862180621347, 0.4011009906657023, 0.4602870391476785, 0.4831865021975567, 0.6186240449784739, 0.4850326807486858, 0.40614628650929896, 0.4825337708589528, 0.4716228763630079, 0.4310382742218473, 0.4265494674877797, 0.3542225495675661, 0.450585859207758, 0.5313823889503542, 0.3755155381662113, 0.8850793471529592, 0.8861539559366838, 0.8883945841032395, 0.8865495584380163, 0.8884796263076262, 0.8876777161048043, 0.8992642089939169, 0.8998964449186204, 0.89041150556685, 0.8998531536778314, 0.9041375087406848, 0.8903610849668527, 0.8952204207881644, 0.9038905286869721, 0.8933679670547703, 0.9692737889629082, 0.9637938665000522, 0.9700132379679232, 0.9632678829107402, 0.9583755854942296, 0.9581761658031088, 0.9527647610121838, 0.9527647610121838, 0.9467013888888888, 0.9465885225885228, 0.9543235331551484, 0.9596382384062936, 0.9547530864197532, 0.9587684579015716, 0.9650124843945068, 0.950880681818182, 0.9567068308031378, 0.9611694476409668, 0.9579437683211268, 0.950880681818182, 0.9408459595959596, 0.9530725138294412, 0.9513739705120084, 0.9451191447858156, 0.9456909422174506, 0.9574928407789232, 0.9574928407789232, 0.9567068308031378, 0.9574928407789232, 0.9544831423729672, 0.5239141063103367, 0.3814666338295831, 0.3791290143896173, 0.32409552897040583, 0.4470311325016744, 0.2231166483920056, 0.3507717909653512, 0.3940973162462801, 0.4528981309540243, 0.41253193898434826, 0.40229363166436943, 0.4723693905100546, 0.29057434223047235, 0.26802238510832965, 0.3548053562994562, 0.3694561697691184, 0.3599479568043049, 0.3467452476057502, 0.3199713862883431, 0.3630517297497263, 0.2882283178924285, 0.3343527817117288, 0.3584902226782233, 0.3062916721748187, 0.32025384271794444, 0.2508142309489432, 0.3208500140749669, 0.33293944528192754, 0.32344433674544043, 0.3150500526308432, 0.3665869121564665, 0.3633785012771184, 0.338462858066755, 0.2698730856865986, 0.3648201787888701, 0.3026036375836194, 0.3555945670465883, 0.38601374089912177, 0.3390560391064048, 0.2876746839494648, 0.31131344699137, 0.2942099949910031, 0.3786630792901096, 0.34614602649528003, 0.4114631667876324, 0.4827777777777778, 0.5800000000000001, 0.5955555555555555, 0.5488888888888889, 0.5955555555555555, 0.5527777777777777, 0.58, 0.6266666666666667, 0.4827777777777778, 0.6188888888888889, 0.5411111111111111, 0.5372222222222223, 0.6111111111111112, 0.5566666666666665, 0.5994444444444444, 0.9766666666666666, 0.9533333333333334, 0.9494444444444444, 0.9377777777777776, 0.9494444444444444, 0.965, 0.9611111111111112, 0.9494444444444444, 0.9766666666666668, 0.9455555555555556, 0.9611111111111108, 0.9688888888888888, 0.9611111111111108, 0.965, 0.9572222222222222, 0.9961111111111112, 1.0, 1.0, 1.0, 1.0, 1.0, 1.0, 1.0, 0.9961111111111112, 1.0, 1.0, 0.9922222222222222, 0.9961111111111112, 1.0, 1.0], \"y0\": \" \", \"yaxis\": \"y\"}],                        {\"boxmode\": \"overlay\", \"legend\": {\"tracegroupgap\": 0}, \"template\": {\"data\": {\"bar\": [{\"error_x\": {\"color\": \"#2a3f5f\"}, \"error_y\": {\"color\": \"#2a3f5f\"}, \"marker\": {\"line\": {\"color\": \"#E5ECF6\", \"width\": 0.5}}, \"type\": \"bar\"}], \"barpolar\": [{\"marker\": {\"line\": {\"color\": \"#E5ECF6\", \"width\": 0.5}}, \"type\": \"barpolar\"}], \"carpet\": [{\"aaxis\": {\"endlinecolor\": \"#2a3f5f\", \"gridcolor\": \"white\", \"linecolor\": \"white\", \"minorgridcolor\": \"white\", \"startlinecolor\": \"#2a3f5f\"}, \"baxis\": {\"endlinecolor\": \"#2a3f5f\", \"gridcolor\": \"white\", \"linecolor\": \"white\", \"minorgridcolor\": \"white\", \"startlinecolor\": \"#2a3f5f\"}, \"type\": \"carpet\"}], \"choropleth\": [{\"colorbar\": {\"outlinewidth\": 0, \"ticks\": \"\"}, \"type\": \"choropleth\"}], \"contour\": [{\"colorbar\": {\"outlinewidth\": 0, \"ticks\": \"\"}, \"colorscale\": [[0.0, \"#0d0887\"], [0.1111111111111111, \"#46039f\"], [0.2222222222222222, \"#7201a8\"], [0.3333333333333333, \"#9c179e\"], [0.4444444444444444, \"#bd3786\"], [0.5555555555555556, \"#d8576b\"], [0.6666666666666666, \"#ed7953\"], [0.7777777777777778, \"#fb9f3a\"], [0.8888888888888888, \"#fdca26\"], [1.0, \"#f0f921\"]], \"type\": \"contour\"}], \"contourcarpet\": [{\"colorbar\": {\"outlinewidth\": 0, \"ticks\": \"\"}, \"type\": \"contourcarpet\"}], \"heatmap\": [{\"colorbar\": {\"outlinewidth\": 0, \"ticks\": \"\"}, \"colorscale\": [[0.0, \"#0d0887\"], [0.1111111111111111, \"#46039f\"], [0.2222222222222222, \"#7201a8\"], [0.3333333333333333, \"#9c179e\"], [0.4444444444444444, \"#bd3786\"], [0.5555555555555556, \"#d8576b\"], [0.6666666666666666, \"#ed7953\"], [0.7777777777777778, \"#fb9f3a\"], [0.8888888888888888, \"#fdca26\"], [1.0, \"#f0f921\"]], \"type\": \"heatmap\"}], \"heatmapgl\": [{\"colorbar\": {\"outlinewidth\": 0, \"ticks\": \"\"}, \"colorscale\": [[0.0, \"#0d0887\"], [0.1111111111111111, \"#46039f\"], [0.2222222222222222, \"#7201a8\"], [0.3333333333333333, \"#9c179e\"], [0.4444444444444444, \"#bd3786\"], [0.5555555555555556, \"#d8576b\"], [0.6666666666666666, \"#ed7953\"], [0.7777777777777778, \"#fb9f3a\"], [0.8888888888888888, \"#fdca26\"], [1.0, \"#f0f921\"]], \"type\": \"heatmapgl\"}], \"histogram\": [{\"marker\": {\"colorbar\": {\"outlinewidth\": 0, \"ticks\": \"\"}}, \"type\": \"histogram\"}], \"histogram2d\": [{\"colorbar\": {\"outlinewidth\": 0, \"ticks\": \"\"}, \"colorscale\": [[0.0, \"#0d0887\"], [0.1111111111111111, \"#46039f\"], [0.2222222222222222, \"#7201a8\"], [0.3333333333333333, \"#9c179e\"], [0.4444444444444444, \"#bd3786\"], [0.5555555555555556, \"#d8576b\"], [0.6666666666666666, \"#ed7953\"], [0.7777777777777778, \"#fb9f3a\"], [0.8888888888888888, \"#fdca26\"], [1.0, \"#f0f921\"]], \"type\": \"histogram2d\"}], \"histogram2dcontour\": [{\"colorbar\": {\"outlinewidth\": 0, \"ticks\": \"\"}, \"colorscale\": [[0.0, \"#0d0887\"], [0.1111111111111111, \"#46039f\"], [0.2222222222222222, \"#7201a8\"], [0.3333333333333333, \"#9c179e\"], [0.4444444444444444, \"#bd3786\"], [0.5555555555555556, \"#d8576b\"], [0.6666666666666666, \"#ed7953\"], [0.7777777777777778, \"#fb9f3a\"], [0.8888888888888888, \"#fdca26\"], [1.0, \"#f0f921\"]], \"type\": \"histogram2dcontour\"}], \"mesh3d\": [{\"colorbar\": {\"outlinewidth\": 0, \"ticks\": \"\"}, \"type\": \"mesh3d\"}], \"parcoords\": [{\"line\": {\"colorbar\": {\"outlinewidth\": 0, \"ticks\": \"\"}}, \"type\": \"parcoords\"}], \"pie\": [{\"automargin\": true, \"type\": \"pie\"}], \"scatter\": [{\"marker\": {\"colorbar\": {\"outlinewidth\": 0, \"ticks\": \"\"}}, \"type\": \"scatter\"}], \"scatter3d\": [{\"line\": {\"colorbar\": {\"outlinewidth\": 0, \"ticks\": \"\"}}, \"marker\": {\"colorbar\": {\"outlinewidth\": 0, \"ticks\": \"\"}}, \"type\": \"scatter3d\"}], \"scattercarpet\": [{\"marker\": {\"colorbar\": {\"outlinewidth\": 0, \"ticks\": \"\"}}, \"type\": \"scattercarpet\"}], \"scattergeo\": [{\"marker\": {\"colorbar\": {\"outlinewidth\": 0, \"ticks\": \"\"}}, \"type\": \"scattergeo\"}], \"scattergl\": [{\"marker\": {\"colorbar\": {\"outlinewidth\": 0, \"ticks\": \"\"}}, \"type\": \"scattergl\"}], \"scattermapbox\": [{\"marker\": {\"colorbar\": {\"outlinewidth\": 0, \"ticks\": \"\"}}, \"type\": \"scattermapbox\"}], \"scatterpolar\": [{\"marker\": {\"colorbar\": {\"outlinewidth\": 0, \"ticks\": \"\"}}, \"type\": \"scatterpolar\"}], \"scatterpolargl\": [{\"marker\": {\"colorbar\": {\"outlinewidth\": 0, \"ticks\": \"\"}}, \"type\": \"scatterpolargl\"}], \"scatterternary\": [{\"marker\": {\"colorbar\": {\"outlinewidth\": 0, \"ticks\": \"\"}}, \"type\": \"scatterternary\"}], \"surface\": [{\"colorbar\": {\"outlinewidth\": 0, \"ticks\": \"\"}, \"colorscale\": [[0.0, \"#0d0887\"], [0.1111111111111111, \"#46039f\"], [0.2222222222222222, \"#7201a8\"], [0.3333333333333333, \"#9c179e\"], [0.4444444444444444, \"#bd3786\"], [0.5555555555555556, \"#d8576b\"], [0.6666666666666666, \"#ed7953\"], [0.7777777777777778, \"#fb9f3a\"], [0.8888888888888888, \"#fdca26\"], [1.0, \"#f0f921\"]], \"type\": \"surface\"}], \"table\": [{\"cells\": {\"fill\": {\"color\": \"#EBF0F8\"}, \"line\": {\"color\": \"white\"}}, \"header\": {\"fill\": {\"color\": \"#C8D4E3\"}, \"line\": {\"color\": \"white\"}}, \"type\": \"table\"}]}, \"layout\": {\"annotationdefaults\": {\"arrowcolor\": \"#2a3f5f\", \"arrowhead\": 0, \"arrowwidth\": 1}, \"autotypenumbers\": \"strict\", \"coloraxis\": {\"colorbar\": {\"outlinewidth\": 0, \"ticks\": \"\"}}, \"colorscale\": {\"diverging\": [[0, \"#8e0152\"], [0.1, \"#c51b7d\"], [0.2, \"#de77ae\"], [0.3, \"#f1b6da\"], [0.4, \"#fde0ef\"], [0.5, \"#f7f7f7\"], [0.6, \"#e6f5d0\"], [0.7, \"#b8e186\"], [0.8, \"#7fbc41\"], [0.9, \"#4d9221\"], [1, \"#276419\"]], \"sequential\": [[0.0, \"#0d0887\"], [0.1111111111111111, \"#46039f\"], [0.2222222222222222, \"#7201a8\"], [0.3333333333333333, \"#9c179e\"], [0.4444444444444444, \"#bd3786\"], [0.5555555555555556, \"#d8576b\"], [0.6666666666666666, \"#ed7953\"], [0.7777777777777778, \"#fb9f3a\"], [0.8888888888888888, \"#fdca26\"], [1.0, \"#f0f921\"]], \"sequentialminus\": [[0.0, \"#0d0887\"], [0.1111111111111111, \"#46039f\"], [0.2222222222222222, \"#7201a8\"], [0.3333333333333333, \"#9c179e\"], [0.4444444444444444, \"#bd3786\"], [0.5555555555555556, \"#d8576b\"], [0.6666666666666666, \"#ed7953\"], [0.7777777777777778, \"#fb9f3a\"], [0.8888888888888888, \"#fdca26\"], [1.0, \"#f0f921\"]]}, \"colorway\": [\"#636efa\", \"#EF553B\", \"#00cc96\", \"#ab63fa\", \"#FFA15A\", \"#19d3f3\", \"#FF6692\", \"#B6E880\", \"#FF97FF\", \"#FECB52\"], \"font\": {\"color\": \"#2a3f5f\"}, \"geo\": {\"bgcolor\": \"white\", \"lakecolor\": \"white\", \"landcolor\": \"#E5ECF6\", \"showlakes\": true, \"showland\": true, \"subunitcolor\": \"white\"}, \"hoverlabel\": {\"align\": \"left\"}, \"hovermode\": \"closest\", \"mapbox\": {\"style\": \"light\"}, \"paper_bgcolor\": \"white\", \"plot_bgcolor\": \"#E5ECF6\", \"polar\": {\"angularaxis\": {\"gridcolor\": \"white\", \"linecolor\": \"white\", \"ticks\": \"\"}, \"bgcolor\": \"#E5ECF6\", \"radialaxis\": {\"gridcolor\": \"white\", \"linecolor\": \"white\", \"ticks\": \"\"}}, \"scene\": {\"xaxis\": {\"backgroundcolor\": \"#E5ECF6\", \"gridcolor\": \"white\", \"gridwidth\": 2, \"linecolor\": \"white\", \"showbackground\": true, \"ticks\": \"\", \"zerolinecolor\": \"white\"}, \"yaxis\": {\"backgroundcolor\": \"#E5ECF6\", \"gridcolor\": \"white\", \"gridwidth\": 2, \"linecolor\": \"white\", \"showbackground\": true, \"ticks\": \"\", \"zerolinecolor\": \"white\"}, \"zaxis\": {\"backgroundcolor\": \"#E5ECF6\", \"gridcolor\": \"white\", \"gridwidth\": 2, \"linecolor\": \"white\", \"showbackground\": true, \"ticks\": \"\", \"zerolinecolor\": \"white\"}}, \"shapedefaults\": {\"line\": {\"color\": \"#2a3f5f\"}}, \"ternary\": {\"aaxis\": {\"gridcolor\": \"white\", \"linecolor\": \"white\", \"ticks\": \"\"}, \"baxis\": {\"gridcolor\": \"white\", \"linecolor\": \"white\", \"ticks\": \"\"}, \"bgcolor\": \"#E5ECF6\", \"caxis\": {\"gridcolor\": \"white\", \"linecolor\": \"white\", \"ticks\": \"\"}}, \"title\": {\"x\": 0.05}, \"xaxis\": {\"automargin\": true, \"gridcolor\": \"white\", \"linecolor\": \"white\", \"ticks\": \"\", \"title\": {\"standoff\": 15}, \"zerolinecolor\": \"white\", \"zerolinewidth\": 2}, \"yaxis\": {\"automargin\": true, \"gridcolor\": \"white\", \"linecolor\": \"white\", \"ticks\": \"\", \"title\": {\"standoff\": 15}, \"zerolinecolor\": \"white\", \"zerolinewidth\": 2}}}, \"title\": {\"text\": \"AP versus parameterizations\"}, \"xaxis\": {\"anchor\": \"y\", \"categoryarray\": [\"af01\", \"af02\", \"af03\", \"ia01\", \"ia02\", \"ia03\", \"ta01\", \"ta02\", \"ta03\"], \"categoryorder\": \"array\", \"domain\": [0.0, 1.0], \"showticklabels\": true, \"title\": {\"text\": \"Log\"}, \"type\": \"category\"}, \"yaxis\": {\"anchor\": \"x\", \"domain\": [0.0, 1.0], \"range\": [0, 1.01], \"title\": {\"text\": \"AP\"}}},                        {\"responsive\": true}                    ).then(function(){\n",
       "                            \n",
       "var gd = document.getElementById('a525d21f-ff5c-401d-864c-4033f3bf1f4d');\n",
       "var x = new MutationObserver(function (mutations, observer) {{\n",
       "        var display = window.getComputedStyle(gd).display;\n",
       "        if (!display || display === 'none') {{\n",
       "            console.log([gd, 'removed!']);\n",
       "            Plotly.purge(gd);\n",
       "            observer.disconnect();\n",
       "        }}\n",
       "}});\n",
       "\n",
       "// Listen for the removal of the full notebook cells\n",
       "var notebookContainer = gd.closest('#notebook-container');\n",
       "if (notebookContainer) {{\n",
       "    x.observe(notebookContainer, {childList: true});\n",
       "}}\n",
       "\n",
       "// Listen for the clearing of the current output cell\n",
       "var outputEl = gd.closest('.output');\n",
       "if (outputEl) {{\n",
       "    x.observe(outputEl, {childList: true});\n",
       "}}\n",
       "\n",
       "                        })                };                });            </script>        </div>"
      ]
     },
     "metadata": {},
     "output_type": "display_data"
    },
    {
     "name": "stdout",
     "output_type": "stream",
     "text": [
      "Fig18B\n"
     ]
    },
    {
     "data": {
      "text/html": [
       "        <script type=\"text/javascript\">\n",
       "        window.PlotlyConfig = {MathJaxConfig: 'local'};\n",
       "        if (window.MathJax) {MathJax.Hub.Config({SVG: {font: \"STIX-Web\"}});}\n",
       "        if (typeof require !== 'undefined') {\n",
       "        require.undef(\"plotly\");\n",
       "        requirejs.config({\n",
       "            paths: {\n",
       "                'plotly': ['https://cdn.plot.ly/plotly-latest.min']\n",
       "            }\n",
       "        });\n",
       "        require(['plotly'], function(Plotly) {\n",
       "            window._Plotly = Plotly;\n",
       "        });\n",
       "        }\n",
       "        </script>\n",
       "        "
      ]
     },
     "metadata": {},
     "output_type": "display_data"
    },
    {
     "data": {
      "application/vnd.plotly.v1+json": {
       "config": {
        "linkText": "Export to plot.ly",
        "plotlyServerURL": "https://plot.ly",
        "showLink": false
       },
       "data": [
        {
         "alignmentgroup": "True",
         "hovertemplate": "Abordagem=DAE<br>Log=%{x}<br>AP=%{y}<extra></extra>",
         "legendgroup": "DAE",
         "marker": {
          "color": "#636efa"
         },
         "name": "DAE",
         "notched": false,
         "offsetgroup": "DAE",
         "orientation": "v",
         "showlegend": true,
         "type": "box",
         "x": [
          "af01",
          "af01",
          "af01",
          "af01",
          "af01",
          "af02",
          "af02",
          "af02",
          "af02",
          "af02",
          "af03",
          "af03",
          "af03",
          "af03",
          "af03",
          "ia01",
          "ia01",
          "ia01",
          "ia01",
          "ia01",
          "ia02",
          "ia02",
          "ia02",
          "ia02",
          "ia02",
          "ia03",
          "ia03",
          "ia03",
          "ia03",
          "ia03",
          "ta01",
          "ta01",
          "ta01",
          "ta01",
          "ta01",
          "ta02",
          "ta02",
          "ta02",
          "ta02",
          "ta02",
          "ta03",
          "ta03",
          "ta03",
          "ta03",
          "ta03"
         ],
         "x0": " ",
         "xaxis": "x",
         "y": [
          0.7070124176582893,
          0.7589870249169821,
          0.7485747931641061,
          0.7098678198310142,
          0.7854810696764857,
          0.6284255669056173,
          0.5950307134415346,
          0.7218804791156311,
          0.7649734606296871,
          0.5553259012399351,
          0.4376668793919256,
          0.640650467911704,
          0.6927695600584234,
          0.4196621720313559,
          0.7729772258868793,
          0.5197993102707158,
          0.5985643301636293,
          0.4602557805138669,
          0.7131099825047627,
          0.5133606796036255,
          0.6294141291269293,
          0.5502949330370958,
          0.6054806921461279,
          0.7812799029349639,
          0.6303233416739749,
          0.31762918599561185,
          0.4733445737372377,
          0.4034206361895276,
          0.6568274019572167,
          0.6299093231931823,
          0.8542808576761171,
          0.8890795793542119,
          0.5832695121204416,
          0.5710549998734782,
          0.7238427856807408,
          0.7585984513912334,
          0.6744084039433645,
          0.7087913882987497,
          0.6977801464212601,
          0.7315041751876603,
          0.4889348056328103,
          0.7770959384361219,
          0.7269937849474166,
          0.6929671705477883,
          0.7095142637094979
         ],
         "y0": " ",
         "yaxis": "y"
        },
        {
         "alignmentgroup": "True",
         "hovertemplate": "Abordagem=Binet<br>Log=%{x}<br>AP=%{y}<extra></extra>",
         "legendgroup": "Binet",
         "marker": {
          "color": "#EF553B"
         },
         "name": "Binet",
         "notched": false,
         "offsetgroup": "Binet",
         "orientation": "v",
         "showlegend": true,
         "type": "box",
         "x": [
          "af01",
          "af01",
          "af01",
          "af01",
          "af01",
          "af02",
          "af02",
          "af02",
          "af02",
          "af02",
          "af03",
          "af03",
          "af03",
          "af03",
          "af03",
          "ia01",
          "ia01",
          "ia01",
          "ia01",
          "ia01",
          "ia02",
          "ia02",
          "ia02",
          "ia02",
          "ia02",
          "ia03",
          "ia03",
          "ia03",
          "ia03",
          "ia03",
          "ta01",
          "ta01",
          "ta01",
          "ta01",
          "ta01",
          "ta02",
          "ta02",
          "ta02",
          "ta02",
          "ta02",
          "ta03",
          "ta03",
          "ta03",
          "ta03",
          "ta03"
         ],
         "x0": " ",
         "xaxis": "x",
         "y": [
          0.27879246438795224,
          0.2725849471767725,
          0.30163492989408913,
          0.2917047285084685,
          0.3143980930707161,
          0.26174677417726816,
          0.2803823313556722,
          0.2935217904067493,
          0.306012074574476,
          0.2760702999786634,
          0.28358993769090635,
          0.3389081210470495,
          0.2983060333373769,
          0.3028129864326125,
          0.3453128314912417,
          0.3880029655669307,
          0.4234070000225885,
          0.5810748724205981,
          0.4209778534875373,
          0.4002572547357863,
          0.4675119010472582,
          0.3996122189065297,
          0.5333690003587879,
          0.3517768652609618,
          0.35114773006054256,
          0.4346135245828912,
          0.4071054930381104,
          0.3846669541309285,
          0.4932629210479247,
          0.4366368625745564,
          0.4666862180621347,
          0.4011009906657023,
          0.4602870391476785,
          0.4831865021975567,
          0.6186240449784739,
          0.4850326807486858,
          0.40614628650929896,
          0.4825337708589528,
          0.4716228763630079,
          0.4310382742218473,
          0.4265494674877797,
          0.3542225495675661,
          0.450585859207758,
          0.5313823889503542,
          0.3755155381662113
         ],
         "y0": " ",
         "yaxis": "y"
        },
        {
         "alignmentgroup": "True",
         "hovertemplate": "Abordagem=ABRI<br>Log=%{x}<br>AP=%{y}<extra></extra>",
         "legendgroup": "ABRI",
         "marker": {
          "color": "#00cc96"
         },
         "name": "ABRI",
         "notched": false,
         "offsetgroup": "ABRI",
         "orientation": "v",
         "showlegend": true,
         "type": "box",
         "x": [
          "af01",
          "af01",
          "af01",
          "af01",
          "af01",
          "af02",
          "af02",
          "af02",
          "af02",
          "af02",
          "af03",
          "af03",
          "af03",
          "af03",
          "af03",
          "ia01",
          "ia01",
          "ia01",
          "ia01",
          "ia01",
          "ia02",
          "ia02",
          "ia02",
          "ia02",
          "ia02",
          "ia03",
          "ia03",
          "ia03",
          "ia03",
          "ia03",
          "ta01",
          "ta01",
          "ta01",
          "ta01",
          "ta01",
          "ta02",
          "ta02",
          "ta02",
          "ta02",
          "ta02",
          "ta03",
          "ta03",
          "ta03",
          "ta03",
          "ta03"
         ],
         "x0": " ",
         "xaxis": "x",
         "y": [
          0.8850793471529592,
          0.8861539559366838,
          0.8883945841032395,
          0.8865495584380163,
          0.8884796263076262,
          0.8876777161048043,
          0.8992642089939169,
          0.8998964449186204,
          0.89041150556685,
          0.8998531536778314,
          0.9041375087406848,
          0.8903610849668527,
          0.8952204207881644,
          0.9038905286869721,
          0.8933679670547703,
          0.9692737889629082,
          0.9637938665000522,
          0.9700132379679232,
          0.9632678829107402,
          0.9583755854942296,
          0.9581761658031088,
          0.9527647610121838,
          0.9527647610121838,
          0.9467013888888888,
          0.9465885225885228,
          0.9543235331551484,
          0.9596382384062936,
          0.9547530864197532,
          0.9587684579015716,
          0.9650124843945068,
          0.950880681818182,
          0.9567068308031378,
          0.9611694476409668,
          0.9579437683211268,
          0.950880681818182,
          0.9408459595959596,
          0.9530725138294412,
          0.9513739705120084,
          0.9451191447858156,
          0.9456909422174506,
          0.9574928407789232,
          0.9574928407789232,
          0.9567068308031378,
          0.9574928407789232,
          0.9544831423729672
         ],
         "y0": " ",
         "yaxis": "y"
        },
        {
         "alignmentgroup": "True",
         "hovertemplate": "Abordagem=Randômica<br>Log=%{x}<br>AP=%{y}<extra></extra>",
         "legendgroup": "Randômica",
         "marker": {
          "color": "#ab63fa"
         },
         "name": "Randômica",
         "notched": false,
         "offsetgroup": "Randômica",
         "orientation": "v",
         "showlegend": true,
         "type": "box",
         "x": [
          "af01",
          "af01",
          "af01",
          "af01",
          "af01",
          "af02",
          "af02",
          "af02",
          "af02",
          "af02",
          "af03",
          "af03",
          "af03",
          "af03",
          "af03",
          "ia01",
          "ia01",
          "ia01",
          "ia01",
          "ia01",
          "ia02",
          "ia02",
          "ia02",
          "ia02",
          "ia02",
          "ia03",
          "ia03",
          "ia03",
          "ia03",
          "ia03",
          "ta01",
          "ta01",
          "ta01",
          "ta01",
          "ta01",
          "ta02",
          "ta02",
          "ta02",
          "ta02",
          "ta02",
          "ta03",
          "ta03",
          "ta03",
          "ta03",
          "ta03"
         ],
         "x0": " ",
         "xaxis": "x",
         "y": [
          0.5239141063103367,
          0.3814666338295831,
          0.3791290143896173,
          0.32409552897040583,
          0.4470311325016744,
          0.2231166483920056,
          0.3507717909653512,
          0.3940973162462801,
          0.4528981309540243,
          0.41253193898434826,
          0.40229363166436943,
          0.4723693905100546,
          0.29057434223047235,
          0.26802238510832965,
          0.3548053562994562,
          0.3694561697691184,
          0.3599479568043049,
          0.3467452476057502,
          0.3199713862883431,
          0.3630517297497263,
          0.2882283178924285,
          0.3343527817117288,
          0.3584902226782233,
          0.3062916721748187,
          0.32025384271794444,
          0.2508142309489432,
          0.3208500140749669,
          0.33293944528192754,
          0.32344433674544043,
          0.3150500526308432,
          0.3665869121564665,
          0.3633785012771184,
          0.338462858066755,
          0.2698730856865986,
          0.3648201787888701,
          0.3026036375836194,
          0.3555945670465883,
          0.38601374089912177,
          0.3390560391064048,
          0.2876746839494648,
          0.31131344699137,
          0.2942099949910031,
          0.3786630792901096,
          0.34614602649528003,
          0.4114631667876324
         ],
         "y0": " ",
         "yaxis": "y"
        },
        {
         "alignmentgroup": "True",
         "hovertemplate": "Abordagem=t-STIDE+<br>Log=%{x}<br>AP=%{y}<extra></extra>",
         "legendgroup": "t-STIDE+",
         "marker": {
          "color": "#FFA15A"
         },
         "name": "t-STIDE+",
         "notched": false,
         "offsetgroup": "t-STIDE+",
         "orientation": "v",
         "showlegend": true,
         "type": "box",
         "x": [
          "af01",
          "af01",
          "af01",
          "af01",
          "af01",
          "af02",
          "af02",
          "af02",
          "af02",
          "af02",
          "af03",
          "af03",
          "af03",
          "af03",
          "af03",
          "ia01",
          "ia01",
          "ia01",
          "ia01",
          "ia01",
          "ia02",
          "ia02",
          "ia02",
          "ia02",
          "ia02",
          "ia03",
          "ia03",
          "ia03",
          "ia03",
          "ia03",
          "ta01",
          "ta01",
          "ta01",
          "ta01",
          "ta01",
          "ta02",
          "ta02",
          "ta02",
          "ta02",
          "ta02",
          "ta03",
          "ta03",
          "ta03",
          "ta03",
          "ta03"
         ],
         "x0": " ",
         "xaxis": "x",
         "y": [
          0.4827777777777778,
          0.5800000000000001,
          0.5955555555555555,
          0.5488888888888889,
          0.5955555555555555,
          0.5527777777777777,
          0.58,
          0.6266666666666667,
          0.4827777777777778,
          0.6188888888888889,
          0.5411111111111111,
          0.5372222222222223,
          0.6111111111111112,
          0.5566666666666665,
          0.5994444444444444,
          0.9766666666666666,
          0.9533333333333334,
          0.9494444444444444,
          0.9377777777777776,
          0.9494444444444444,
          0.965,
          0.9611111111111112,
          0.9494444444444444,
          0.9766666666666668,
          0.9455555555555556,
          0.9611111111111108,
          0.9688888888888888,
          0.9611111111111108,
          0.965,
          0.9572222222222222,
          0.9961111111111112,
          1,
          1,
          1,
          1,
          1,
          1,
          1,
          0.9961111111111112,
          1,
          1,
          0.9922222222222222,
          0.9961111111111112,
          1,
          1
         ],
         "y0": " ",
         "yaxis": "y"
        }
       ],
       "layout": {
        "boxmode": "group",
        "height": 400,
        "legend": {
         "title": {
          "text": "Abordagem"
         },
         "tracegroupgap": 0
        },
        "template": {
         "data": {
          "bar": [
           {
            "error_x": {
             "color": "#2a3f5f"
            },
            "error_y": {
             "color": "#2a3f5f"
            },
            "marker": {
             "line": {
              "color": "#E5ECF6",
              "width": 0.5
             }
            },
            "type": "bar"
           }
          ],
          "barpolar": [
           {
            "marker": {
             "line": {
              "color": "#E5ECF6",
              "width": 0.5
             }
            },
            "type": "barpolar"
           }
          ],
          "carpet": [
           {
            "aaxis": {
             "endlinecolor": "#2a3f5f",
             "gridcolor": "white",
             "linecolor": "white",
             "minorgridcolor": "white",
             "startlinecolor": "#2a3f5f"
            },
            "baxis": {
             "endlinecolor": "#2a3f5f",
             "gridcolor": "white",
             "linecolor": "white",
             "minorgridcolor": "white",
             "startlinecolor": "#2a3f5f"
            },
            "type": "carpet"
           }
          ],
          "choropleth": [
           {
            "colorbar": {
             "outlinewidth": 0,
             "ticks": ""
            },
            "type": "choropleth"
           }
          ],
          "contour": [
           {
            "colorbar": {
             "outlinewidth": 0,
             "ticks": ""
            },
            "colorscale": [
             [
              0,
              "#0d0887"
             ],
             [
              0.1111111111111111,
              "#46039f"
             ],
             [
              0.2222222222222222,
              "#7201a8"
             ],
             [
              0.3333333333333333,
              "#9c179e"
             ],
             [
              0.4444444444444444,
              "#bd3786"
             ],
             [
              0.5555555555555556,
              "#d8576b"
             ],
             [
              0.6666666666666666,
              "#ed7953"
             ],
             [
              0.7777777777777778,
              "#fb9f3a"
             ],
             [
              0.8888888888888888,
              "#fdca26"
             ],
             [
              1,
              "#f0f921"
             ]
            ],
            "type": "contour"
           }
          ],
          "contourcarpet": [
           {
            "colorbar": {
             "outlinewidth": 0,
             "ticks": ""
            },
            "type": "contourcarpet"
           }
          ],
          "heatmap": [
           {
            "colorbar": {
             "outlinewidth": 0,
             "ticks": ""
            },
            "colorscale": [
             [
              0,
              "#0d0887"
             ],
             [
              0.1111111111111111,
              "#46039f"
             ],
             [
              0.2222222222222222,
              "#7201a8"
             ],
             [
              0.3333333333333333,
              "#9c179e"
             ],
             [
              0.4444444444444444,
              "#bd3786"
             ],
             [
              0.5555555555555556,
              "#d8576b"
             ],
             [
              0.6666666666666666,
              "#ed7953"
             ],
             [
              0.7777777777777778,
              "#fb9f3a"
             ],
             [
              0.8888888888888888,
              "#fdca26"
             ],
             [
              1,
              "#f0f921"
             ]
            ],
            "type": "heatmap"
           }
          ],
          "heatmapgl": [
           {
            "colorbar": {
             "outlinewidth": 0,
             "ticks": ""
            },
            "colorscale": [
             [
              0,
              "#0d0887"
             ],
             [
              0.1111111111111111,
              "#46039f"
             ],
             [
              0.2222222222222222,
              "#7201a8"
             ],
             [
              0.3333333333333333,
              "#9c179e"
             ],
             [
              0.4444444444444444,
              "#bd3786"
             ],
             [
              0.5555555555555556,
              "#d8576b"
             ],
             [
              0.6666666666666666,
              "#ed7953"
             ],
             [
              0.7777777777777778,
              "#fb9f3a"
             ],
             [
              0.8888888888888888,
              "#fdca26"
             ],
             [
              1,
              "#f0f921"
             ]
            ],
            "type": "heatmapgl"
           }
          ],
          "histogram": [
           {
            "marker": {
             "colorbar": {
              "outlinewidth": 0,
              "ticks": ""
             }
            },
            "type": "histogram"
           }
          ],
          "histogram2d": [
           {
            "colorbar": {
             "outlinewidth": 0,
             "ticks": ""
            },
            "colorscale": [
             [
              0,
              "#0d0887"
             ],
             [
              0.1111111111111111,
              "#46039f"
             ],
             [
              0.2222222222222222,
              "#7201a8"
             ],
             [
              0.3333333333333333,
              "#9c179e"
             ],
             [
              0.4444444444444444,
              "#bd3786"
             ],
             [
              0.5555555555555556,
              "#d8576b"
             ],
             [
              0.6666666666666666,
              "#ed7953"
             ],
             [
              0.7777777777777778,
              "#fb9f3a"
             ],
             [
              0.8888888888888888,
              "#fdca26"
             ],
             [
              1,
              "#f0f921"
             ]
            ],
            "type": "histogram2d"
           }
          ],
          "histogram2dcontour": [
           {
            "colorbar": {
             "outlinewidth": 0,
             "ticks": ""
            },
            "colorscale": [
             [
              0,
              "#0d0887"
             ],
             [
              0.1111111111111111,
              "#46039f"
             ],
             [
              0.2222222222222222,
              "#7201a8"
             ],
             [
              0.3333333333333333,
              "#9c179e"
             ],
             [
              0.4444444444444444,
              "#bd3786"
             ],
             [
              0.5555555555555556,
              "#d8576b"
             ],
             [
              0.6666666666666666,
              "#ed7953"
             ],
             [
              0.7777777777777778,
              "#fb9f3a"
             ],
             [
              0.8888888888888888,
              "#fdca26"
             ],
             [
              1,
              "#f0f921"
             ]
            ],
            "type": "histogram2dcontour"
           }
          ],
          "mesh3d": [
           {
            "colorbar": {
             "outlinewidth": 0,
             "ticks": ""
            },
            "type": "mesh3d"
           }
          ],
          "parcoords": [
           {
            "line": {
             "colorbar": {
              "outlinewidth": 0,
              "ticks": ""
             }
            },
            "type": "parcoords"
           }
          ],
          "pie": [
           {
            "automargin": true,
            "type": "pie"
           }
          ],
          "scatter": [
           {
            "marker": {
             "colorbar": {
              "outlinewidth": 0,
              "ticks": ""
             }
            },
            "type": "scatter"
           }
          ],
          "scatter3d": [
           {
            "line": {
             "colorbar": {
              "outlinewidth": 0,
              "ticks": ""
             }
            },
            "marker": {
             "colorbar": {
              "outlinewidth": 0,
              "ticks": ""
             }
            },
            "type": "scatter3d"
           }
          ],
          "scattercarpet": [
           {
            "marker": {
             "colorbar": {
              "outlinewidth": 0,
              "ticks": ""
             }
            },
            "type": "scattercarpet"
           }
          ],
          "scattergeo": [
           {
            "marker": {
             "colorbar": {
              "outlinewidth": 0,
              "ticks": ""
             }
            },
            "type": "scattergeo"
           }
          ],
          "scattergl": [
           {
            "marker": {
             "colorbar": {
              "outlinewidth": 0,
              "ticks": ""
             }
            },
            "type": "scattergl"
           }
          ],
          "scattermapbox": [
           {
            "marker": {
             "colorbar": {
              "outlinewidth": 0,
              "ticks": ""
             }
            },
            "type": "scattermapbox"
           }
          ],
          "scatterpolar": [
           {
            "marker": {
             "colorbar": {
              "outlinewidth": 0,
              "ticks": ""
             }
            },
            "type": "scatterpolar"
           }
          ],
          "scatterpolargl": [
           {
            "marker": {
             "colorbar": {
              "outlinewidth": 0,
              "ticks": ""
             }
            },
            "type": "scatterpolargl"
           }
          ],
          "scatterternary": [
           {
            "marker": {
             "colorbar": {
              "outlinewidth": 0,
              "ticks": ""
             }
            },
            "type": "scatterternary"
           }
          ],
          "surface": [
           {
            "colorbar": {
             "outlinewidth": 0,
             "ticks": ""
            },
            "colorscale": [
             [
              0,
              "#0d0887"
             ],
             [
              0.1111111111111111,
              "#46039f"
             ],
             [
              0.2222222222222222,
              "#7201a8"
             ],
             [
              0.3333333333333333,
              "#9c179e"
             ],
             [
              0.4444444444444444,
              "#bd3786"
             ],
             [
              0.5555555555555556,
              "#d8576b"
             ],
             [
              0.6666666666666666,
              "#ed7953"
             ],
             [
              0.7777777777777778,
              "#fb9f3a"
             ],
             [
              0.8888888888888888,
              "#fdca26"
             ],
             [
              1,
              "#f0f921"
             ]
            ],
            "type": "surface"
           }
          ],
          "table": [
           {
            "cells": {
             "fill": {
              "color": "#EBF0F8"
             },
             "line": {
              "color": "white"
             }
            },
            "header": {
             "fill": {
              "color": "#C8D4E3"
             },
             "line": {
              "color": "white"
             }
            },
            "type": "table"
           }
          ]
         },
         "layout": {
          "annotationdefaults": {
           "arrowcolor": "#2a3f5f",
           "arrowhead": 0,
           "arrowwidth": 1
          },
          "autotypenumbers": "strict",
          "coloraxis": {
           "colorbar": {
            "outlinewidth": 0,
            "ticks": ""
           }
          },
          "colorscale": {
           "diverging": [
            [
             0,
             "#8e0152"
            ],
            [
             0.1,
             "#c51b7d"
            ],
            [
             0.2,
             "#de77ae"
            ],
            [
             0.3,
             "#f1b6da"
            ],
            [
             0.4,
             "#fde0ef"
            ],
            [
             0.5,
             "#f7f7f7"
            ],
            [
             0.6,
             "#e6f5d0"
            ],
            [
             0.7,
             "#b8e186"
            ],
            [
             0.8,
             "#7fbc41"
            ],
            [
             0.9,
             "#4d9221"
            ],
            [
             1,
             "#276419"
            ]
           ],
           "sequential": [
            [
             0,
             "#0d0887"
            ],
            [
             0.1111111111111111,
             "#46039f"
            ],
            [
             0.2222222222222222,
             "#7201a8"
            ],
            [
             0.3333333333333333,
             "#9c179e"
            ],
            [
             0.4444444444444444,
             "#bd3786"
            ],
            [
             0.5555555555555556,
             "#d8576b"
            ],
            [
             0.6666666666666666,
             "#ed7953"
            ],
            [
             0.7777777777777778,
             "#fb9f3a"
            ],
            [
             0.8888888888888888,
             "#fdca26"
            ],
            [
             1,
             "#f0f921"
            ]
           ],
           "sequentialminus": [
            [
             0,
             "#0d0887"
            ],
            [
             0.1111111111111111,
             "#46039f"
            ],
            [
             0.2222222222222222,
             "#7201a8"
            ],
            [
             0.3333333333333333,
             "#9c179e"
            ],
            [
             0.4444444444444444,
             "#bd3786"
            ],
            [
             0.5555555555555556,
             "#d8576b"
            ],
            [
             0.6666666666666666,
             "#ed7953"
            ],
            [
             0.7777777777777778,
             "#fb9f3a"
            ],
            [
             0.8888888888888888,
             "#fdca26"
            ],
            [
             1,
             "#f0f921"
            ]
           ]
          },
          "colorway": [
           "#636efa",
           "#EF553B",
           "#00cc96",
           "#ab63fa",
           "#FFA15A",
           "#19d3f3",
           "#FF6692",
           "#B6E880",
           "#FF97FF",
           "#FECB52"
          ],
          "font": {
           "color": "#2a3f5f"
          },
          "geo": {
           "bgcolor": "white",
           "lakecolor": "white",
           "landcolor": "#E5ECF6",
           "showlakes": true,
           "showland": true,
           "subunitcolor": "white"
          },
          "hoverlabel": {
           "align": "left"
          },
          "hovermode": "closest",
          "mapbox": {
           "style": "light"
          },
          "paper_bgcolor": "white",
          "plot_bgcolor": "#E5ECF6",
          "polar": {
           "angularaxis": {
            "gridcolor": "white",
            "linecolor": "white",
            "ticks": ""
           },
           "bgcolor": "#E5ECF6",
           "radialaxis": {
            "gridcolor": "white",
            "linecolor": "white",
            "ticks": ""
           }
          },
          "scene": {
           "xaxis": {
            "backgroundcolor": "#E5ECF6",
            "gridcolor": "white",
            "gridwidth": 2,
            "linecolor": "white",
            "showbackground": true,
            "ticks": "",
            "zerolinecolor": "white"
           },
           "yaxis": {
            "backgroundcolor": "#E5ECF6",
            "gridcolor": "white",
            "gridwidth": 2,
            "linecolor": "white",
            "showbackground": true,
            "ticks": "",
            "zerolinecolor": "white"
           },
           "zaxis": {
            "backgroundcolor": "#E5ECF6",
            "gridcolor": "white",
            "gridwidth": 2,
            "linecolor": "white",
            "showbackground": true,
            "ticks": "",
            "zerolinecolor": "white"
           }
          },
          "shapedefaults": {
           "line": {
            "color": "#2a3f5f"
           }
          },
          "ternary": {
           "aaxis": {
            "gridcolor": "white",
            "linecolor": "white",
            "ticks": ""
           },
           "baxis": {
            "gridcolor": "white",
            "linecolor": "white",
            "ticks": ""
           },
           "bgcolor": "#E5ECF6",
           "caxis": {
            "gridcolor": "white",
            "linecolor": "white",
            "ticks": ""
           }
          },
          "title": {
           "x": 0.05
          },
          "xaxis": {
           "automargin": true,
           "gridcolor": "white",
           "linecolor": "white",
           "ticks": "",
           "title": {
            "standoff": 15
           },
           "zerolinecolor": "white",
           "zerolinewidth": 2
          },
          "yaxis": {
           "automargin": true,
           "gridcolor": "white",
           "linecolor": "white",
           "ticks": "",
           "title": {
            "standoff": 15
           },
           "zerolinecolor": "white",
           "zerolinewidth": 2
          }
         }
        },
        "title": {
         "text": "AP versus parameterizations"
        },
        "xaxis": {
         "anchor": "y",
         "categoryarray": [
          "af01",
          "af02",
          "af03",
          "ia01",
          "ia02",
          "ia03",
          "ta01",
          "ta02",
          "ta03"
         ],
         "categoryorder": "array",
         "domain": [
          0,
          1
         ],
         "showticklabels": true,
         "title": {
          "text": "Log"
         },
         "type": "category"
        },
        "yaxis": {
         "anchor": "x",
         "domain": [
          0,
          1
         ],
         "range": [
          0,
          1.01
         ],
         "title": {
          "text": "AP"
         }
        }
       }
      },
      "text/html": [
       "<div>                            <div id=\"7e6ef1c6-fec1-492b-ac07-cf1581877f63\" class=\"plotly-graph-div\" style=\"height:400px; width:100%;\"></div>            <script type=\"text/javascript\">                require([\"plotly\"], function(Plotly) {                    window.PLOTLYENV=window.PLOTLYENV || {};                                    if (document.getElementById(\"7e6ef1c6-fec1-492b-ac07-cf1581877f63\")) {                    Plotly.newPlot(                        \"7e6ef1c6-fec1-492b-ac07-cf1581877f63\",                        [{\"alignmentgroup\": \"True\", \"hovertemplate\": \"Abordagem=DAE<br>Log=%{x}<br>AP=%{y}<extra></extra>\", \"legendgroup\": \"DAE\", \"marker\": {\"color\": \"#636efa\"}, \"name\": \"DAE\", \"notched\": false, \"offsetgroup\": \"DAE\", \"orientation\": \"v\", \"showlegend\": true, \"type\": \"box\", \"x\": [\"af01\", \"af01\", \"af01\", \"af01\", \"af01\", \"af02\", \"af02\", \"af02\", \"af02\", \"af02\", \"af03\", \"af03\", \"af03\", \"af03\", \"af03\", \"ia01\", \"ia01\", \"ia01\", \"ia01\", \"ia01\", \"ia02\", \"ia02\", \"ia02\", \"ia02\", \"ia02\", \"ia03\", \"ia03\", \"ia03\", \"ia03\", \"ia03\", \"ta01\", \"ta01\", \"ta01\", \"ta01\", \"ta01\", \"ta02\", \"ta02\", \"ta02\", \"ta02\", \"ta02\", \"ta03\", \"ta03\", \"ta03\", \"ta03\", \"ta03\"], \"x0\": \" \", \"xaxis\": \"x\", \"y\": [0.7070124176582893, 0.7589870249169821, 0.7485747931641061, 0.7098678198310142, 0.7854810696764857, 0.6284255669056173, 0.5950307134415346, 0.7218804791156311, 0.7649734606296871, 0.5553259012399351, 0.4376668793919256, 0.640650467911704, 0.6927695600584234, 0.4196621720313559, 0.7729772258868793, 0.5197993102707158, 0.5985643301636293, 0.4602557805138669, 0.7131099825047627, 0.5133606796036255, 0.6294141291269293, 0.5502949330370958, 0.6054806921461279, 0.7812799029349639, 0.6303233416739749, 0.31762918599561185, 0.4733445737372377, 0.4034206361895276, 0.6568274019572167, 0.6299093231931823, 0.8542808576761171, 0.8890795793542119, 0.5832695121204416, 0.5710549998734782, 0.7238427856807408, 0.7585984513912334, 0.6744084039433645, 0.7087913882987497, 0.6977801464212601, 0.7315041751876603, 0.4889348056328103, 0.7770959384361219, 0.7269937849474166, 0.6929671705477883, 0.7095142637094979], \"y0\": \" \", \"yaxis\": \"y\"}, {\"alignmentgroup\": \"True\", \"hovertemplate\": \"Abordagem=Binet<br>Log=%{x}<br>AP=%{y}<extra></extra>\", \"legendgroup\": \"Binet\", \"marker\": {\"color\": \"#EF553B\"}, \"name\": \"Binet\", \"notched\": false, \"offsetgroup\": \"Binet\", \"orientation\": \"v\", \"showlegend\": true, \"type\": \"box\", \"x\": [\"af01\", \"af01\", \"af01\", \"af01\", \"af01\", \"af02\", \"af02\", \"af02\", \"af02\", \"af02\", \"af03\", \"af03\", \"af03\", \"af03\", \"af03\", \"ia01\", \"ia01\", \"ia01\", \"ia01\", \"ia01\", \"ia02\", \"ia02\", \"ia02\", \"ia02\", \"ia02\", \"ia03\", \"ia03\", \"ia03\", \"ia03\", \"ia03\", \"ta01\", \"ta01\", \"ta01\", \"ta01\", \"ta01\", \"ta02\", \"ta02\", \"ta02\", \"ta02\", \"ta02\", \"ta03\", \"ta03\", \"ta03\", \"ta03\", \"ta03\"], \"x0\": \" \", \"xaxis\": \"x\", \"y\": [0.27879246438795224, 0.2725849471767725, 0.30163492989408913, 0.2917047285084685, 0.3143980930707161, 0.26174677417726816, 0.2803823313556722, 0.2935217904067493, 0.306012074574476, 0.2760702999786634, 0.28358993769090635, 0.3389081210470495, 0.2983060333373769, 0.3028129864326125, 0.3453128314912417, 0.3880029655669307, 0.4234070000225885, 0.5810748724205981, 0.4209778534875373, 0.4002572547357863, 0.4675119010472582, 0.3996122189065297, 0.5333690003587879, 0.3517768652609618, 0.35114773006054256, 0.4346135245828912, 0.4071054930381104, 0.3846669541309285, 0.4932629210479247, 0.4366368625745564, 0.4666862180621347, 0.4011009906657023, 0.4602870391476785, 0.4831865021975567, 0.6186240449784739, 0.4850326807486858, 0.40614628650929896, 0.4825337708589528, 0.4716228763630079, 0.4310382742218473, 0.4265494674877797, 0.3542225495675661, 0.450585859207758, 0.5313823889503542, 0.3755155381662113], \"y0\": \" \", \"yaxis\": \"y\"}, {\"alignmentgroup\": \"True\", \"hovertemplate\": \"Abordagem=ABRI<br>Log=%{x}<br>AP=%{y}<extra></extra>\", \"legendgroup\": \"ABRI\", \"marker\": {\"color\": \"#00cc96\"}, \"name\": \"ABRI\", \"notched\": false, \"offsetgroup\": \"ABRI\", \"orientation\": \"v\", \"showlegend\": true, \"type\": \"box\", \"x\": [\"af01\", \"af01\", \"af01\", \"af01\", \"af01\", \"af02\", \"af02\", \"af02\", \"af02\", \"af02\", \"af03\", \"af03\", \"af03\", \"af03\", \"af03\", \"ia01\", \"ia01\", \"ia01\", \"ia01\", \"ia01\", \"ia02\", \"ia02\", \"ia02\", \"ia02\", \"ia02\", \"ia03\", \"ia03\", \"ia03\", \"ia03\", \"ia03\", \"ta01\", \"ta01\", \"ta01\", \"ta01\", \"ta01\", \"ta02\", \"ta02\", \"ta02\", \"ta02\", \"ta02\", \"ta03\", \"ta03\", \"ta03\", \"ta03\", \"ta03\"], \"x0\": \" \", \"xaxis\": \"x\", \"y\": [0.8850793471529592, 0.8861539559366838, 0.8883945841032395, 0.8865495584380163, 0.8884796263076262, 0.8876777161048043, 0.8992642089939169, 0.8998964449186204, 0.89041150556685, 0.8998531536778314, 0.9041375087406848, 0.8903610849668527, 0.8952204207881644, 0.9038905286869721, 0.8933679670547703, 0.9692737889629082, 0.9637938665000522, 0.9700132379679232, 0.9632678829107402, 0.9583755854942296, 0.9581761658031088, 0.9527647610121838, 0.9527647610121838, 0.9467013888888888, 0.9465885225885228, 0.9543235331551484, 0.9596382384062936, 0.9547530864197532, 0.9587684579015716, 0.9650124843945068, 0.950880681818182, 0.9567068308031378, 0.9611694476409668, 0.9579437683211268, 0.950880681818182, 0.9408459595959596, 0.9530725138294412, 0.9513739705120084, 0.9451191447858156, 0.9456909422174506, 0.9574928407789232, 0.9574928407789232, 0.9567068308031378, 0.9574928407789232, 0.9544831423729672], \"y0\": \" \", \"yaxis\": \"y\"}, {\"alignmentgroup\": \"True\", \"hovertemplate\": \"Abordagem=Rand\\u00f4mica<br>Log=%{x}<br>AP=%{y}<extra></extra>\", \"legendgroup\": \"Rand\\u00f4mica\", \"marker\": {\"color\": \"#ab63fa\"}, \"name\": \"Rand\\u00f4mica\", \"notched\": false, \"offsetgroup\": \"Rand\\u00f4mica\", \"orientation\": \"v\", \"showlegend\": true, \"type\": \"box\", \"x\": [\"af01\", \"af01\", \"af01\", \"af01\", \"af01\", \"af02\", \"af02\", \"af02\", \"af02\", \"af02\", \"af03\", \"af03\", \"af03\", \"af03\", \"af03\", \"ia01\", \"ia01\", \"ia01\", \"ia01\", \"ia01\", \"ia02\", \"ia02\", \"ia02\", \"ia02\", \"ia02\", \"ia03\", \"ia03\", \"ia03\", \"ia03\", \"ia03\", \"ta01\", \"ta01\", \"ta01\", \"ta01\", \"ta01\", \"ta02\", \"ta02\", \"ta02\", \"ta02\", \"ta02\", \"ta03\", \"ta03\", \"ta03\", \"ta03\", \"ta03\"], \"x0\": \" \", \"xaxis\": \"x\", \"y\": [0.5239141063103367, 0.3814666338295831, 0.3791290143896173, 0.32409552897040583, 0.4470311325016744, 0.2231166483920056, 0.3507717909653512, 0.3940973162462801, 0.4528981309540243, 0.41253193898434826, 0.40229363166436943, 0.4723693905100546, 0.29057434223047235, 0.26802238510832965, 0.3548053562994562, 0.3694561697691184, 0.3599479568043049, 0.3467452476057502, 0.3199713862883431, 0.3630517297497263, 0.2882283178924285, 0.3343527817117288, 0.3584902226782233, 0.3062916721748187, 0.32025384271794444, 0.2508142309489432, 0.3208500140749669, 0.33293944528192754, 0.32344433674544043, 0.3150500526308432, 0.3665869121564665, 0.3633785012771184, 0.338462858066755, 0.2698730856865986, 0.3648201787888701, 0.3026036375836194, 0.3555945670465883, 0.38601374089912177, 0.3390560391064048, 0.2876746839494648, 0.31131344699137, 0.2942099949910031, 0.3786630792901096, 0.34614602649528003, 0.4114631667876324], \"y0\": \" \", \"yaxis\": \"y\"}, {\"alignmentgroup\": \"True\", \"hovertemplate\": \"Abordagem=t-STIDE+<br>Log=%{x}<br>AP=%{y}<extra></extra>\", \"legendgroup\": \"t-STIDE+\", \"marker\": {\"color\": \"#FFA15A\"}, \"name\": \"t-STIDE+\", \"notched\": false, \"offsetgroup\": \"t-STIDE+\", \"orientation\": \"v\", \"showlegend\": true, \"type\": \"box\", \"x\": [\"af01\", \"af01\", \"af01\", \"af01\", \"af01\", \"af02\", \"af02\", \"af02\", \"af02\", \"af02\", \"af03\", \"af03\", \"af03\", \"af03\", \"af03\", \"ia01\", \"ia01\", \"ia01\", \"ia01\", \"ia01\", \"ia02\", \"ia02\", \"ia02\", \"ia02\", \"ia02\", \"ia03\", \"ia03\", \"ia03\", \"ia03\", \"ia03\", \"ta01\", \"ta01\", \"ta01\", \"ta01\", \"ta01\", \"ta02\", \"ta02\", \"ta02\", \"ta02\", \"ta02\", \"ta03\", \"ta03\", \"ta03\", \"ta03\", \"ta03\"], \"x0\": \" \", \"xaxis\": \"x\", \"y\": [0.4827777777777778, 0.5800000000000001, 0.5955555555555555, 0.5488888888888889, 0.5955555555555555, 0.5527777777777777, 0.58, 0.6266666666666667, 0.4827777777777778, 0.6188888888888889, 0.5411111111111111, 0.5372222222222223, 0.6111111111111112, 0.5566666666666665, 0.5994444444444444, 0.9766666666666666, 0.9533333333333334, 0.9494444444444444, 0.9377777777777776, 0.9494444444444444, 0.965, 0.9611111111111112, 0.9494444444444444, 0.9766666666666668, 0.9455555555555556, 0.9611111111111108, 0.9688888888888888, 0.9611111111111108, 0.965, 0.9572222222222222, 0.9961111111111112, 1.0, 1.0, 1.0, 1.0, 1.0, 1.0, 1.0, 0.9961111111111112, 1.0, 1.0, 0.9922222222222222, 0.9961111111111112, 1.0, 1.0], \"y0\": \" \", \"yaxis\": \"y\"}],                        {\"boxmode\": \"group\", \"height\": 400, \"legend\": {\"title\": {\"text\": \"Abordagem\"}, \"tracegroupgap\": 0}, \"template\": {\"data\": {\"bar\": [{\"error_x\": {\"color\": \"#2a3f5f\"}, \"error_y\": {\"color\": \"#2a3f5f\"}, \"marker\": {\"line\": {\"color\": \"#E5ECF6\", \"width\": 0.5}}, \"type\": \"bar\"}], \"barpolar\": [{\"marker\": {\"line\": {\"color\": \"#E5ECF6\", \"width\": 0.5}}, \"type\": \"barpolar\"}], \"carpet\": [{\"aaxis\": {\"endlinecolor\": \"#2a3f5f\", \"gridcolor\": \"white\", \"linecolor\": \"white\", \"minorgridcolor\": \"white\", \"startlinecolor\": \"#2a3f5f\"}, \"baxis\": {\"endlinecolor\": \"#2a3f5f\", \"gridcolor\": \"white\", \"linecolor\": \"white\", \"minorgridcolor\": \"white\", \"startlinecolor\": \"#2a3f5f\"}, \"type\": \"carpet\"}], \"choropleth\": [{\"colorbar\": {\"outlinewidth\": 0, \"ticks\": \"\"}, \"type\": \"choropleth\"}], \"contour\": [{\"colorbar\": {\"outlinewidth\": 0, \"ticks\": \"\"}, \"colorscale\": [[0.0, \"#0d0887\"], [0.1111111111111111, \"#46039f\"], [0.2222222222222222, \"#7201a8\"], [0.3333333333333333, \"#9c179e\"], [0.4444444444444444, \"#bd3786\"], [0.5555555555555556, \"#d8576b\"], [0.6666666666666666, \"#ed7953\"], [0.7777777777777778, \"#fb9f3a\"], [0.8888888888888888, \"#fdca26\"], [1.0, \"#f0f921\"]], \"type\": \"contour\"}], \"contourcarpet\": [{\"colorbar\": {\"outlinewidth\": 0, \"ticks\": \"\"}, \"type\": \"contourcarpet\"}], \"heatmap\": [{\"colorbar\": {\"outlinewidth\": 0, \"ticks\": \"\"}, \"colorscale\": [[0.0, \"#0d0887\"], [0.1111111111111111, \"#46039f\"], [0.2222222222222222, \"#7201a8\"], [0.3333333333333333, \"#9c179e\"], [0.4444444444444444, \"#bd3786\"], [0.5555555555555556, \"#d8576b\"], [0.6666666666666666, \"#ed7953\"], [0.7777777777777778, \"#fb9f3a\"], [0.8888888888888888, \"#fdca26\"], [1.0, \"#f0f921\"]], \"type\": \"heatmap\"}], \"heatmapgl\": [{\"colorbar\": {\"outlinewidth\": 0, \"ticks\": \"\"}, \"colorscale\": [[0.0, \"#0d0887\"], [0.1111111111111111, \"#46039f\"], [0.2222222222222222, \"#7201a8\"], [0.3333333333333333, \"#9c179e\"], [0.4444444444444444, \"#bd3786\"], [0.5555555555555556, \"#d8576b\"], [0.6666666666666666, \"#ed7953\"], [0.7777777777777778, \"#fb9f3a\"], [0.8888888888888888, \"#fdca26\"], [1.0, \"#f0f921\"]], \"type\": \"heatmapgl\"}], \"histogram\": [{\"marker\": {\"colorbar\": {\"outlinewidth\": 0, \"ticks\": \"\"}}, \"type\": \"histogram\"}], \"histogram2d\": [{\"colorbar\": {\"outlinewidth\": 0, \"ticks\": \"\"}, \"colorscale\": [[0.0, \"#0d0887\"], [0.1111111111111111, \"#46039f\"], [0.2222222222222222, \"#7201a8\"], [0.3333333333333333, \"#9c179e\"], [0.4444444444444444, \"#bd3786\"], [0.5555555555555556, \"#d8576b\"], [0.6666666666666666, \"#ed7953\"], [0.7777777777777778, \"#fb9f3a\"], [0.8888888888888888, \"#fdca26\"], [1.0, \"#f0f921\"]], \"type\": \"histogram2d\"}], \"histogram2dcontour\": [{\"colorbar\": {\"outlinewidth\": 0, \"ticks\": \"\"}, \"colorscale\": [[0.0, \"#0d0887\"], [0.1111111111111111, \"#46039f\"], [0.2222222222222222, \"#7201a8\"], [0.3333333333333333, \"#9c179e\"], [0.4444444444444444, \"#bd3786\"], [0.5555555555555556, \"#d8576b\"], [0.6666666666666666, \"#ed7953\"], [0.7777777777777778, \"#fb9f3a\"], [0.8888888888888888, \"#fdca26\"], [1.0, \"#f0f921\"]], \"type\": \"histogram2dcontour\"}], \"mesh3d\": [{\"colorbar\": {\"outlinewidth\": 0, \"ticks\": \"\"}, \"type\": \"mesh3d\"}], \"parcoords\": [{\"line\": {\"colorbar\": {\"outlinewidth\": 0, \"ticks\": \"\"}}, \"type\": \"parcoords\"}], \"pie\": [{\"automargin\": true, \"type\": \"pie\"}], \"scatter\": [{\"marker\": {\"colorbar\": {\"outlinewidth\": 0, \"ticks\": \"\"}}, \"type\": \"scatter\"}], \"scatter3d\": [{\"line\": {\"colorbar\": {\"outlinewidth\": 0, \"ticks\": \"\"}}, \"marker\": {\"colorbar\": {\"outlinewidth\": 0, \"ticks\": \"\"}}, \"type\": \"scatter3d\"}], \"scattercarpet\": [{\"marker\": {\"colorbar\": {\"outlinewidth\": 0, \"ticks\": \"\"}}, \"type\": \"scattercarpet\"}], \"scattergeo\": [{\"marker\": {\"colorbar\": {\"outlinewidth\": 0, \"ticks\": \"\"}}, \"type\": \"scattergeo\"}], \"scattergl\": [{\"marker\": {\"colorbar\": {\"outlinewidth\": 0, \"ticks\": \"\"}}, \"type\": \"scattergl\"}], \"scattermapbox\": [{\"marker\": {\"colorbar\": {\"outlinewidth\": 0, \"ticks\": \"\"}}, \"type\": \"scattermapbox\"}], \"scatterpolar\": [{\"marker\": {\"colorbar\": {\"outlinewidth\": 0, \"ticks\": \"\"}}, \"type\": \"scatterpolar\"}], \"scatterpolargl\": [{\"marker\": {\"colorbar\": {\"outlinewidth\": 0, \"ticks\": \"\"}}, \"type\": \"scatterpolargl\"}], \"scatterternary\": [{\"marker\": {\"colorbar\": {\"outlinewidth\": 0, \"ticks\": \"\"}}, \"type\": \"scatterternary\"}], \"surface\": [{\"colorbar\": {\"outlinewidth\": 0, \"ticks\": \"\"}, \"colorscale\": [[0.0, \"#0d0887\"], [0.1111111111111111, \"#46039f\"], [0.2222222222222222, \"#7201a8\"], [0.3333333333333333, \"#9c179e\"], [0.4444444444444444, \"#bd3786\"], [0.5555555555555556, \"#d8576b\"], [0.6666666666666666, \"#ed7953\"], [0.7777777777777778, \"#fb9f3a\"], [0.8888888888888888, \"#fdca26\"], [1.0, \"#f0f921\"]], \"type\": \"surface\"}], \"table\": [{\"cells\": {\"fill\": {\"color\": \"#EBF0F8\"}, \"line\": {\"color\": \"white\"}}, \"header\": {\"fill\": {\"color\": \"#C8D4E3\"}, \"line\": {\"color\": \"white\"}}, \"type\": \"table\"}]}, \"layout\": {\"annotationdefaults\": {\"arrowcolor\": \"#2a3f5f\", \"arrowhead\": 0, \"arrowwidth\": 1}, \"autotypenumbers\": \"strict\", \"coloraxis\": {\"colorbar\": {\"outlinewidth\": 0, \"ticks\": \"\"}}, \"colorscale\": {\"diverging\": [[0, \"#8e0152\"], [0.1, \"#c51b7d\"], [0.2, \"#de77ae\"], [0.3, \"#f1b6da\"], [0.4, \"#fde0ef\"], [0.5, \"#f7f7f7\"], [0.6, \"#e6f5d0\"], [0.7, \"#b8e186\"], [0.8, \"#7fbc41\"], [0.9, \"#4d9221\"], [1, \"#276419\"]], \"sequential\": [[0.0, \"#0d0887\"], [0.1111111111111111, \"#46039f\"], [0.2222222222222222, \"#7201a8\"], [0.3333333333333333, \"#9c179e\"], [0.4444444444444444, \"#bd3786\"], [0.5555555555555556, \"#d8576b\"], [0.6666666666666666, \"#ed7953\"], [0.7777777777777778, \"#fb9f3a\"], [0.8888888888888888, \"#fdca26\"], [1.0, \"#f0f921\"]], \"sequentialminus\": [[0.0, \"#0d0887\"], [0.1111111111111111, \"#46039f\"], [0.2222222222222222, \"#7201a8\"], [0.3333333333333333, \"#9c179e\"], [0.4444444444444444, \"#bd3786\"], [0.5555555555555556, \"#d8576b\"], [0.6666666666666666, \"#ed7953\"], [0.7777777777777778, \"#fb9f3a\"], [0.8888888888888888, \"#fdca26\"], [1.0, \"#f0f921\"]]}, \"colorway\": [\"#636efa\", \"#EF553B\", \"#00cc96\", \"#ab63fa\", \"#FFA15A\", \"#19d3f3\", \"#FF6692\", \"#B6E880\", \"#FF97FF\", \"#FECB52\"], \"font\": {\"color\": \"#2a3f5f\"}, \"geo\": {\"bgcolor\": \"white\", \"lakecolor\": \"white\", \"landcolor\": \"#E5ECF6\", \"showlakes\": true, \"showland\": true, \"subunitcolor\": \"white\"}, \"hoverlabel\": {\"align\": \"left\"}, \"hovermode\": \"closest\", \"mapbox\": {\"style\": \"light\"}, \"paper_bgcolor\": \"white\", \"plot_bgcolor\": \"#E5ECF6\", \"polar\": {\"angularaxis\": {\"gridcolor\": \"white\", \"linecolor\": \"white\", \"ticks\": \"\"}, \"bgcolor\": \"#E5ECF6\", \"radialaxis\": {\"gridcolor\": \"white\", \"linecolor\": \"white\", \"ticks\": \"\"}}, \"scene\": {\"xaxis\": {\"backgroundcolor\": \"#E5ECF6\", \"gridcolor\": \"white\", \"gridwidth\": 2, \"linecolor\": \"white\", \"showbackground\": true, \"ticks\": \"\", \"zerolinecolor\": \"white\"}, \"yaxis\": {\"backgroundcolor\": \"#E5ECF6\", \"gridcolor\": \"white\", \"gridwidth\": 2, \"linecolor\": \"white\", \"showbackground\": true, \"ticks\": \"\", \"zerolinecolor\": \"white\"}, \"zaxis\": {\"backgroundcolor\": \"#E5ECF6\", \"gridcolor\": \"white\", \"gridwidth\": 2, \"linecolor\": \"white\", \"showbackground\": true, \"ticks\": \"\", \"zerolinecolor\": \"white\"}}, \"shapedefaults\": {\"line\": {\"color\": \"#2a3f5f\"}}, \"ternary\": {\"aaxis\": {\"gridcolor\": \"white\", \"linecolor\": \"white\", \"ticks\": \"\"}, \"baxis\": {\"gridcolor\": \"white\", \"linecolor\": \"white\", \"ticks\": \"\"}, \"bgcolor\": \"#E5ECF6\", \"caxis\": {\"gridcolor\": \"white\", \"linecolor\": \"white\", \"ticks\": \"\"}}, \"title\": {\"x\": 0.05}, \"xaxis\": {\"automargin\": true, \"gridcolor\": \"white\", \"linecolor\": \"white\", \"ticks\": \"\", \"title\": {\"standoff\": 15}, \"zerolinecolor\": \"white\", \"zerolinewidth\": 2}, \"yaxis\": {\"automargin\": true, \"gridcolor\": \"white\", \"linecolor\": \"white\", \"ticks\": \"\", \"title\": {\"standoff\": 15}, \"zerolinecolor\": \"white\", \"zerolinewidth\": 2}}}, \"title\": {\"text\": \"AP versus parameterizations\"}, \"xaxis\": {\"anchor\": \"y\", \"categoryarray\": [\"af01\", \"af02\", \"af03\", \"ia01\", \"ia02\", \"ia03\", \"ta01\", \"ta02\", \"ta03\"], \"categoryorder\": \"array\", \"domain\": [0.0, 1.0], \"showticklabels\": true, \"title\": {\"text\": \"Log\"}, \"type\": \"category\"}, \"yaxis\": {\"anchor\": \"x\", \"domain\": [0.0, 1.0], \"range\": [0, 1.01], \"title\": {\"text\": \"AP\"}}},                        {\"responsive\": true}                    ).then(function(){\n",
       "                            \n",
       "var gd = document.getElementById('7e6ef1c6-fec1-492b-ac07-cf1581877f63');\n",
       "var x = new MutationObserver(function (mutations, observer) {{\n",
       "        var display = window.getComputedStyle(gd).display;\n",
       "        if (!display || display === 'none') {{\n",
       "            console.log([gd, 'removed!']);\n",
       "            Plotly.purge(gd);\n",
       "            observer.disconnect();\n",
       "        }}\n",
       "}});\n",
       "\n",
       "// Listen for the removal of the full notebook cells\n",
       "var notebookContainer = gd.closest('#notebook-container');\n",
       "if (notebookContainer) {{\n",
       "    x.observe(notebookContainer, {childList: true});\n",
       "}}\n",
       "\n",
       "// Listen for the clearing of the current output cell\n",
       "var outputEl = gd.closest('.output');\n",
       "if (outputEl) {{\n",
       "    x.observe(outputEl, {childList: true});\n",
       "}}\n",
       "\n",
       "                        })                };                });            </script>        </div>"
      ]
     },
     "metadata": {},
     "output_type": "display_data"
    },
    {
     "name": "stdout",
     "output_type": "stream",
     "text": [
      "Fig18C\n"
     ]
    },
    {
     "data": {
      "text/html": [
       "        <script type=\"text/javascript\">\n",
       "        window.PlotlyConfig = {MathJaxConfig: 'local'};\n",
       "        if (window.MathJax) {MathJax.Hub.Config({SVG: {font: \"STIX-Web\"}});}\n",
       "        if (typeof require !== 'undefined') {\n",
       "        require.undef(\"plotly\");\n",
       "        requirejs.config({\n",
       "            paths: {\n",
       "                'plotly': ['https://cdn.plot.ly/plotly-latest.min']\n",
       "            }\n",
       "        });\n",
       "        require(['plotly'], function(Plotly) {\n",
       "            window._Plotly = Plotly;\n",
       "        });\n",
       "        }\n",
       "        </script>\n",
       "        "
      ]
     },
     "metadata": {},
     "output_type": "display_data"
    },
    {
     "data": {
      "application/vnd.plotly.v1+json": {
       "config": {
        "linkText": "Export to plot.ly",
        "plotlyServerURL": "https://plot.ly",
        "showLink": false
       },
       "data": [
        {
         "hovertemplate": "Abordagem=ABRI<br>Log=%{x}<br>AP=%{y}<extra></extra>",
         "legendgroup": "ABRI",
         "marker": {
          "color": "#636efa",
          "symbol": "circle"
         },
         "mode": "markers",
         "name": "ABRI",
         "orientation": "v",
         "showlegend": true,
         "type": "scatter",
         "x": [
          "af01",
          "af02",
          "af03",
          "ia01",
          "ia02",
          "ia03",
          "ta01",
          "ta02",
          "ta03"
         ],
         "xaxis": "x",
         "y": [
          0.886931414387705,
          0.8954206058524047,
          0.8973955020474887,
          0.9649448723671705,
          0.9513991198609775,
          0.9584991600554547,
          0.955516282080319,
          0.947220506188135,
          0.956733699102575
         ],
         "yaxis": "y"
        },
        {
         "hovertemplate": "Abordagem=Binet<br>Log=%{x}<br>AP=%{y}<extra></extra>",
         "legendgroup": "Binet",
         "marker": {
          "color": "#EF553B",
          "symbol": "circle"
         },
         "mode": "markers",
         "name": "Binet",
         "orientation": "v",
         "showlegend": true,
         "type": "scatter",
         "x": [
          "af01",
          "af02",
          "af03",
          "ia01",
          "ia02",
          "ia03",
          "ta01",
          "ta02",
          "ta03"
         ],
         "xaxis": "x",
         "y": [
          0.2918230326075997,
          0.28354665409856583,
          0.31378598199983737,
          0.44274398924668823,
          0.42068354312681605,
          0.4312571510748822,
          0.4859769590103092,
          0.4552747777403586,
          0.4276511606759339
         ],
         "yaxis": "y"
        },
        {
         "hovertemplate": "Abordagem=DAE<br>Log=%{x}<br>AP=%{y}<extra></extra>",
         "legendgroup": "DAE",
         "marker": {
          "color": "#00cc96",
          "symbol": "circle"
         },
         "mode": "markers",
         "name": "DAE",
         "orientation": "v",
         "showlegend": true,
         "type": "scatter",
         "x": [
          "af01",
          "af02",
          "af03",
          "ia01",
          "ia02",
          "ia03",
          "ta01",
          "ta02",
          "ta03"
         ],
         "xaxis": "x",
         "y": [
          0.7419846250493756,
          0.6531272242664811,
          0.5927452610560577,
          0.56101801661132,
          0.6393585997838184,
          0.49622622421455526,
          0.7243055469409978,
          0.7142165130484536,
          0.679101192654727
         ],
         "yaxis": "y"
        },
        {
         "hovertemplate": "Abordagem=Randômica<br>Log=%{x}<br>AP=%{y}<extra></extra>",
         "legendgroup": "Randômica",
         "marker": {
          "color": "#ab63fa",
          "symbol": "circle"
         },
         "mode": "markers",
         "name": "Randômica",
         "orientation": "v",
         "showlegend": true,
         "type": "scatter",
         "x": [
          "af01",
          "af02",
          "af03",
          "ia01",
          "ia02",
          "ia03",
          "ta01",
          "ta02",
          "ta03"
         ],
         "xaxis": "x",
         "y": [
          0.4111272832003235,
          0.3666831651084019,
          0.35761302116253646,
          0.3518344980434486,
          0.32152336743502874,
          0.3086196159364242,
          0.34062430719516174,
          0.3341885337170398,
          0.348359142911079
         ],
         "yaxis": "y"
        },
        {
         "hovertemplate": "Abordagem=t-STIDE+<br>Log=%{x}<br>AP=%{y}<extra></extra>",
         "legendgroup": "t-STIDE+",
         "marker": {
          "color": "#FFA15A",
          "symbol": "circle"
         },
         "mode": "markers",
         "name": "t-STIDE+",
         "orientation": "v",
         "showlegend": true,
         "type": "scatter",
         "x": [
          "af01",
          "af02",
          "af03",
          "ia01",
          "ia02",
          "ia03",
          "ta01",
          "ta02",
          "ta03"
         ],
         "xaxis": "x",
         "y": [
          0.5605555555555555,
          0.5722222222222222,
          0.5691111111111111,
          0.9533333333333334,
          0.9595555555555556,
          0.9626666666666666,
          0.9992222222222222,
          0.9992222222222222,
          0.9976666666666667
         ],
         "yaxis": "y"
        }
       ],
       "layout": {
        "height": 400,
        "legend": {
         "title": {
          "text": "Abordagem"
         },
         "tracegroupgap": 0
        },
        "template": {
         "data": {
          "bar": [
           {
            "error_x": {
             "color": "#2a3f5f"
            },
            "error_y": {
             "color": "#2a3f5f"
            },
            "marker": {
             "line": {
              "color": "#E5ECF6",
              "width": 0.5
             }
            },
            "type": "bar"
           }
          ],
          "barpolar": [
           {
            "marker": {
             "line": {
              "color": "#E5ECF6",
              "width": 0.5
             }
            },
            "type": "barpolar"
           }
          ],
          "carpet": [
           {
            "aaxis": {
             "endlinecolor": "#2a3f5f",
             "gridcolor": "white",
             "linecolor": "white",
             "minorgridcolor": "white",
             "startlinecolor": "#2a3f5f"
            },
            "baxis": {
             "endlinecolor": "#2a3f5f",
             "gridcolor": "white",
             "linecolor": "white",
             "minorgridcolor": "white",
             "startlinecolor": "#2a3f5f"
            },
            "type": "carpet"
           }
          ],
          "choropleth": [
           {
            "colorbar": {
             "outlinewidth": 0,
             "ticks": ""
            },
            "type": "choropleth"
           }
          ],
          "contour": [
           {
            "colorbar": {
             "outlinewidth": 0,
             "ticks": ""
            },
            "colorscale": [
             [
              0,
              "#0d0887"
             ],
             [
              0.1111111111111111,
              "#46039f"
             ],
             [
              0.2222222222222222,
              "#7201a8"
             ],
             [
              0.3333333333333333,
              "#9c179e"
             ],
             [
              0.4444444444444444,
              "#bd3786"
             ],
             [
              0.5555555555555556,
              "#d8576b"
             ],
             [
              0.6666666666666666,
              "#ed7953"
             ],
             [
              0.7777777777777778,
              "#fb9f3a"
             ],
             [
              0.8888888888888888,
              "#fdca26"
             ],
             [
              1,
              "#f0f921"
             ]
            ],
            "type": "contour"
           }
          ],
          "contourcarpet": [
           {
            "colorbar": {
             "outlinewidth": 0,
             "ticks": ""
            },
            "type": "contourcarpet"
           }
          ],
          "heatmap": [
           {
            "colorbar": {
             "outlinewidth": 0,
             "ticks": ""
            },
            "colorscale": [
             [
              0,
              "#0d0887"
             ],
             [
              0.1111111111111111,
              "#46039f"
             ],
             [
              0.2222222222222222,
              "#7201a8"
             ],
             [
              0.3333333333333333,
              "#9c179e"
             ],
             [
              0.4444444444444444,
              "#bd3786"
             ],
             [
              0.5555555555555556,
              "#d8576b"
             ],
             [
              0.6666666666666666,
              "#ed7953"
             ],
             [
              0.7777777777777778,
              "#fb9f3a"
             ],
             [
              0.8888888888888888,
              "#fdca26"
             ],
             [
              1,
              "#f0f921"
             ]
            ],
            "type": "heatmap"
           }
          ],
          "heatmapgl": [
           {
            "colorbar": {
             "outlinewidth": 0,
             "ticks": ""
            },
            "colorscale": [
             [
              0,
              "#0d0887"
             ],
             [
              0.1111111111111111,
              "#46039f"
             ],
             [
              0.2222222222222222,
              "#7201a8"
             ],
             [
              0.3333333333333333,
              "#9c179e"
             ],
             [
              0.4444444444444444,
              "#bd3786"
             ],
             [
              0.5555555555555556,
              "#d8576b"
             ],
             [
              0.6666666666666666,
              "#ed7953"
             ],
             [
              0.7777777777777778,
              "#fb9f3a"
             ],
             [
              0.8888888888888888,
              "#fdca26"
             ],
             [
              1,
              "#f0f921"
             ]
            ],
            "type": "heatmapgl"
           }
          ],
          "histogram": [
           {
            "marker": {
             "colorbar": {
              "outlinewidth": 0,
              "ticks": ""
             }
            },
            "type": "histogram"
           }
          ],
          "histogram2d": [
           {
            "colorbar": {
             "outlinewidth": 0,
             "ticks": ""
            },
            "colorscale": [
             [
              0,
              "#0d0887"
             ],
             [
              0.1111111111111111,
              "#46039f"
             ],
             [
              0.2222222222222222,
              "#7201a8"
             ],
             [
              0.3333333333333333,
              "#9c179e"
             ],
             [
              0.4444444444444444,
              "#bd3786"
             ],
             [
              0.5555555555555556,
              "#d8576b"
             ],
             [
              0.6666666666666666,
              "#ed7953"
             ],
             [
              0.7777777777777778,
              "#fb9f3a"
             ],
             [
              0.8888888888888888,
              "#fdca26"
             ],
             [
              1,
              "#f0f921"
             ]
            ],
            "type": "histogram2d"
           }
          ],
          "histogram2dcontour": [
           {
            "colorbar": {
             "outlinewidth": 0,
             "ticks": ""
            },
            "colorscale": [
             [
              0,
              "#0d0887"
             ],
             [
              0.1111111111111111,
              "#46039f"
             ],
             [
              0.2222222222222222,
              "#7201a8"
             ],
             [
              0.3333333333333333,
              "#9c179e"
             ],
             [
              0.4444444444444444,
              "#bd3786"
             ],
             [
              0.5555555555555556,
              "#d8576b"
             ],
             [
              0.6666666666666666,
              "#ed7953"
             ],
             [
              0.7777777777777778,
              "#fb9f3a"
             ],
             [
              0.8888888888888888,
              "#fdca26"
             ],
             [
              1,
              "#f0f921"
             ]
            ],
            "type": "histogram2dcontour"
           }
          ],
          "mesh3d": [
           {
            "colorbar": {
             "outlinewidth": 0,
             "ticks": ""
            },
            "type": "mesh3d"
           }
          ],
          "parcoords": [
           {
            "line": {
             "colorbar": {
              "outlinewidth": 0,
              "ticks": ""
             }
            },
            "type": "parcoords"
           }
          ],
          "pie": [
           {
            "automargin": true,
            "type": "pie"
           }
          ],
          "scatter": [
           {
            "marker": {
             "colorbar": {
              "outlinewidth": 0,
              "ticks": ""
             }
            },
            "type": "scatter"
           }
          ],
          "scatter3d": [
           {
            "line": {
             "colorbar": {
              "outlinewidth": 0,
              "ticks": ""
             }
            },
            "marker": {
             "colorbar": {
              "outlinewidth": 0,
              "ticks": ""
             }
            },
            "type": "scatter3d"
           }
          ],
          "scattercarpet": [
           {
            "marker": {
             "colorbar": {
              "outlinewidth": 0,
              "ticks": ""
             }
            },
            "type": "scattercarpet"
           }
          ],
          "scattergeo": [
           {
            "marker": {
             "colorbar": {
              "outlinewidth": 0,
              "ticks": ""
             }
            },
            "type": "scattergeo"
           }
          ],
          "scattergl": [
           {
            "marker": {
             "colorbar": {
              "outlinewidth": 0,
              "ticks": ""
             }
            },
            "type": "scattergl"
           }
          ],
          "scattermapbox": [
           {
            "marker": {
             "colorbar": {
              "outlinewidth": 0,
              "ticks": ""
             }
            },
            "type": "scattermapbox"
           }
          ],
          "scatterpolar": [
           {
            "marker": {
             "colorbar": {
              "outlinewidth": 0,
              "ticks": ""
             }
            },
            "type": "scatterpolar"
           }
          ],
          "scatterpolargl": [
           {
            "marker": {
             "colorbar": {
              "outlinewidth": 0,
              "ticks": ""
             }
            },
            "type": "scatterpolargl"
           }
          ],
          "scatterternary": [
           {
            "marker": {
             "colorbar": {
              "outlinewidth": 0,
              "ticks": ""
             }
            },
            "type": "scatterternary"
           }
          ],
          "surface": [
           {
            "colorbar": {
             "outlinewidth": 0,
             "ticks": ""
            },
            "colorscale": [
             [
              0,
              "#0d0887"
             ],
             [
              0.1111111111111111,
              "#46039f"
             ],
             [
              0.2222222222222222,
              "#7201a8"
             ],
             [
              0.3333333333333333,
              "#9c179e"
             ],
             [
              0.4444444444444444,
              "#bd3786"
             ],
             [
              0.5555555555555556,
              "#d8576b"
             ],
             [
              0.6666666666666666,
              "#ed7953"
             ],
             [
              0.7777777777777778,
              "#fb9f3a"
             ],
             [
              0.8888888888888888,
              "#fdca26"
             ],
             [
              1,
              "#f0f921"
             ]
            ],
            "type": "surface"
           }
          ],
          "table": [
           {
            "cells": {
             "fill": {
              "color": "#EBF0F8"
             },
             "line": {
              "color": "white"
             }
            },
            "header": {
             "fill": {
              "color": "#C8D4E3"
             },
             "line": {
              "color": "white"
             }
            },
            "type": "table"
           }
          ]
         },
         "layout": {
          "annotationdefaults": {
           "arrowcolor": "#2a3f5f",
           "arrowhead": 0,
           "arrowwidth": 1
          },
          "autotypenumbers": "strict",
          "coloraxis": {
           "colorbar": {
            "outlinewidth": 0,
            "ticks": ""
           }
          },
          "colorscale": {
           "diverging": [
            [
             0,
             "#8e0152"
            ],
            [
             0.1,
             "#c51b7d"
            ],
            [
             0.2,
             "#de77ae"
            ],
            [
             0.3,
             "#f1b6da"
            ],
            [
             0.4,
             "#fde0ef"
            ],
            [
             0.5,
             "#f7f7f7"
            ],
            [
             0.6,
             "#e6f5d0"
            ],
            [
             0.7,
             "#b8e186"
            ],
            [
             0.8,
             "#7fbc41"
            ],
            [
             0.9,
             "#4d9221"
            ],
            [
             1,
             "#276419"
            ]
           ],
           "sequential": [
            [
             0,
             "#0d0887"
            ],
            [
             0.1111111111111111,
             "#46039f"
            ],
            [
             0.2222222222222222,
             "#7201a8"
            ],
            [
             0.3333333333333333,
             "#9c179e"
            ],
            [
             0.4444444444444444,
             "#bd3786"
            ],
            [
             0.5555555555555556,
             "#d8576b"
            ],
            [
             0.6666666666666666,
             "#ed7953"
            ],
            [
             0.7777777777777778,
             "#fb9f3a"
            ],
            [
             0.8888888888888888,
             "#fdca26"
            ],
            [
             1,
             "#f0f921"
            ]
           ],
           "sequentialminus": [
            [
             0,
             "#0d0887"
            ],
            [
             0.1111111111111111,
             "#46039f"
            ],
            [
             0.2222222222222222,
             "#7201a8"
            ],
            [
             0.3333333333333333,
             "#9c179e"
            ],
            [
             0.4444444444444444,
             "#bd3786"
            ],
            [
             0.5555555555555556,
             "#d8576b"
            ],
            [
             0.6666666666666666,
             "#ed7953"
            ],
            [
             0.7777777777777778,
             "#fb9f3a"
            ],
            [
             0.8888888888888888,
             "#fdca26"
            ],
            [
             1,
             "#f0f921"
            ]
           ]
          },
          "colorway": [
           "#636efa",
           "#EF553B",
           "#00cc96",
           "#ab63fa",
           "#FFA15A",
           "#19d3f3",
           "#FF6692",
           "#B6E880",
           "#FF97FF",
           "#FECB52"
          ],
          "font": {
           "color": "#2a3f5f"
          },
          "geo": {
           "bgcolor": "white",
           "lakecolor": "white",
           "landcolor": "#E5ECF6",
           "showlakes": true,
           "showland": true,
           "subunitcolor": "white"
          },
          "hoverlabel": {
           "align": "left"
          },
          "hovermode": "closest",
          "mapbox": {
           "style": "light"
          },
          "paper_bgcolor": "white",
          "plot_bgcolor": "#E5ECF6",
          "polar": {
           "angularaxis": {
            "gridcolor": "white",
            "linecolor": "white",
            "ticks": ""
           },
           "bgcolor": "#E5ECF6",
           "radialaxis": {
            "gridcolor": "white",
            "linecolor": "white",
            "ticks": ""
           }
          },
          "scene": {
           "xaxis": {
            "backgroundcolor": "#E5ECF6",
            "gridcolor": "white",
            "gridwidth": 2,
            "linecolor": "white",
            "showbackground": true,
            "ticks": "",
            "zerolinecolor": "white"
           },
           "yaxis": {
            "backgroundcolor": "#E5ECF6",
            "gridcolor": "white",
            "gridwidth": 2,
            "linecolor": "white",
            "showbackground": true,
            "ticks": "",
            "zerolinecolor": "white"
           },
           "zaxis": {
            "backgroundcolor": "#E5ECF6",
            "gridcolor": "white",
            "gridwidth": 2,
            "linecolor": "white",
            "showbackground": true,
            "ticks": "",
            "zerolinecolor": "white"
           }
          },
          "shapedefaults": {
           "line": {
            "color": "#2a3f5f"
           }
          },
          "ternary": {
           "aaxis": {
            "gridcolor": "white",
            "linecolor": "white",
            "ticks": ""
           },
           "baxis": {
            "gridcolor": "white",
            "linecolor": "white",
            "ticks": ""
           },
           "bgcolor": "#E5ECF6",
           "caxis": {
            "gridcolor": "white",
            "linecolor": "white",
            "ticks": ""
           }
          },
          "title": {
           "x": 0.05
          },
          "xaxis": {
           "automargin": true,
           "gridcolor": "white",
           "linecolor": "white",
           "ticks": "",
           "title": {
            "standoff": 15
           },
           "zerolinecolor": "white",
           "zerolinewidth": 2
          },
          "yaxis": {
           "automargin": true,
           "gridcolor": "white",
           "linecolor": "white",
           "ticks": "",
           "title": {
            "standoff": 15
           },
           "zerolinecolor": "white",
           "zerolinewidth": 2
          }
         }
        },
        "title": {
         "text": "AP versus parameterizations"
        },
        "xaxis": {
         "anchor": "y",
         "domain": [
          0,
          1
         ],
         "showticklabels": true,
         "title": {
          "text": "Log"
         },
         "type": "category"
        },
        "yaxis": {
         "anchor": "x",
         "domain": [
          0,
          1
         ],
         "range": [
          0,
          1.01
         ],
         "title": {
          "text": "AP"
         }
        }
       }
      },
      "text/html": [
       "<div>                            <div id=\"9320df29-5a9c-4e70-867b-61567bb2a76d\" class=\"plotly-graph-div\" style=\"height:400px; width:100%;\"></div>            <script type=\"text/javascript\">                require([\"plotly\"], function(Plotly) {                    window.PLOTLYENV=window.PLOTLYENV || {};                                    if (document.getElementById(\"9320df29-5a9c-4e70-867b-61567bb2a76d\")) {                    Plotly.newPlot(                        \"9320df29-5a9c-4e70-867b-61567bb2a76d\",                        [{\"hovertemplate\": \"Abordagem=ABRI<br>Log=%{x}<br>AP=%{y}<extra></extra>\", \"legendgroup\": \"ABRI\", \"marker\": {\"color\": \"#636efa\", \"symbol\": \"circle\"}, \"mode\": \"markers\", \"name\": \"ABRI\", \"orientation\": \"v\", \"showlegend\": true, \"type\": \"scatter\", \"x\": [\"af01\", \"af02\", \"af03\", \"ia01\", \"ia02\", \"ia03\", \"ta01\", \"ta02\", \"ta03\"], \"xaxis\": \"x\", \"y\": [0.886931414387705, 0.8954206058524047, 0.8973955020474887, 0.9649448723671705, 0.9513991198609775, 0.9584991600554547, 0.955516282080319, 0.947220506188135, 0.956733699102575], \"yaxis\": \"y\"}, {\"hovertemplate\": \"Abordagem=Binet<br>Log=%{x}<br>AP=%{y}<extra></extra>\", \"legendgroup\": \"Binet\", \"marker\": {\"color\": \"#EF553B\", \"symbol\": \"circle\"}, \"mode\": \"markers\", \"name\": \"Binet\", \"orientation\": \"v\", \"showlegend\": true, \"type\": \"scatter\", \"x\": [\"af01\", \"af02\", \"af03\", \"ia01\", \"ia02\", \"ia03\", \"ta01\", \"ta02\", \"ta03\"], \"xaxis\": \"x\", \"y\": [0.2918230326075997, 0.28354665409856583, 0.31378598199983737, 0.44274398924668823, 0.42068354312681605, 0.4312571510748822, 0.4859769590103092, 0.4552747777403586, 0.4276511606759339], \"yaxis\": \"y\"}, {\"hovertemplate\": \"Abordagem=DAE<br>Log=%{x}<br>AP=%{y}<extra></extra>\", \"legendgroup\": \"DAE\", \"marker\": {\"color\": \"#00cc96\", \"symbol\": \"circle\"}, \"mode\": \"markers\", \"name\": \"DAE\", \"orientation\": \"v\", \"showlegend\": true, \"type\": \"scatter\", \"x\": [\"af01\", \"af02\", \"af03\", \"ia01\", \"ia02\", \"ia03\", \"ta01\", \"ta02\", \"ta03\"], \"xaxis\": \"x\", \"y\": [0.7419846250493756, 0.6531272242664811, 0.5927452610560577, 0.56101801661132, 0.6393585997838184, 0.49622622421455526, 0.7243055469409978, 0.7142165130484536, 0.679101192654727], \"yaxis\": \"y\"}, {\"hovertemplate\": \"Abordagem=Rand\\u00f4mica<br>Log=%{x}<br>AP=%{y}<extra></extra>\", \"legendgroup\": \"Rand\\u00f4mica\", \"marker\": {\"color\": \"#ab63fa\", \"symbol\": \"circle\"}, \"mode\": \"markers\", \"name\": \"Rand\\u00f4mica\", \"orientation\": \"v\", \"showlegend\": true, \"type\": \"scatter\", \"x\": [\"af01\", \"af02\", \"af03\", \"ia01\", \"ia02\", \"ia03\", \"ta01\", \"ta02\", \"ta03\"], \"xaxis\": \"x\", \"y\": [0.4111272832003235, 0.3666831651084019, 0.35761302116253646, 0.3518344980434486, 0.32152336743502874, 0.3086196159364242, 0.34062430719516174, 0.3341885337170398, 0.348359142911079], \"yaxis\": \"y\"}, {\"hovertemplate\": \"Abordagem=t-STIDE+<br>Log=%{x}<br>AP=%{y}<extra></extra>\", \"legendgroup\": \"t-STIDE+\", \"marker\": {\"color\": \"#FFA15A\", \"symbol\": \"circle\"}, \"mode\": \"markers\", \"name\": \"t-STIDE+\", \"orientation\": \"v\", \"showlegend\": true, \"type\": \"scatter\", \"x\": [\"af01\", \"af02\", \"af03\", \"ia01\", \"ia02\", \"ia03\", \"ta01\", \"ta02\", \"ta03\"], \"xaxis\": \"x\", \"y\": [0.5605555555555555, 0.5722222222222222, 0.5691111111111111, 0.9533333333333334, 0.9595555555555556, 0.9626666666666666, 0.9992222222222222, 0.9992222222222222, 0.9976666666666667], \"yaxis\": \"y\"}],                        {\"height\": 400, \"legend\": {\"title\": {\"text\": \"Abordagem\"}, \"tracegroupgap\": 0}, \"template\": {\"data\": {\"bar\": [{\"error_x\": {\"color\": \"#2a3f5f\"}, \"error_y\": {\"color\": \"#2a3f5f\"}, \"marker\": {\"line\": {\"color\": \"#E5ECF6\", \"width\": 0.5}}, \"type\": \"bar\"}], \"barpolar\": [{\"marker\": {\"line\": {\"color\": \"#E5ECF6\", \"width\": 0.5}}, \"type\": \"barpolar\"}], \"carpet\": [{\"aaxis\": {\"endlinecolor\": \"#2a3f5f\", \"gridcolor\": \"white\", \"linecolor\": \"white\", \"minorgridcolor\": \"white\", \"startlinecolor\": \"#2a3f5f\"}, \"baxis\": {\"endlinecolor\": \"#2a3f5f\", \"gridcolor\": \"white\", \"linecolor\": \"white\", \"minorgridcolor\": \"white\", \"startlinecolor\": \"#2a3f5f\"}, \"type\": \"carpet\"}], \"choropleth\": [{\"colorbar\": {\"outlinewidth\": 0, \"ticks\": \"\"}, \"type\": \"choropleth\"}], \"contour\": [{\"colorbar\": {\"outlinewidth\": 0, \"ticks\": \"\"}, \"colorscale\": [[0.0, \"#0d0887\"], [0.1111111111111111, \"#46039f\"], [0.2222222222222222, \"#7201a8\"], [0.3333333333333333, \"#9c179e\"], [0.4444444444444444, \"#bd3786\"], [0.5555555555555556, \"#d8576b\"], [0.6666666666666666, \"#ed7953\"], [0.7777777777777778, \"#fb9f3a\"], [0.8888888888888888, \"#fdca26\"], [1.0, \"#f0f921\"]], \"type\": \"contour\"}], \"contourcarpet\": [{\"colorbar\": {\"outlinewidth\": 0, \"ticks\": \"\"}, \"type\": \"contourcarpet\"}], \"heatmap\": [{\"colorbar\": {\"outlinewidth\": 0, \"ticks\": \"\"}, \"colorscale\": [[0.0, \"#0d0887\"], [0.1111111111111111, \"#46039f\"], [0.2222222222222222, \"#7201a8\"], [0.3333333333333333, \"#9c179e\"], [0.4444444444444444, \"#bd3786\"], [0.5555555555555556, \"#d8576b\"], [0.6666666666666666, \"#ed7953\"], [0.7777777777777778, \"#fb9f3a\"], [0.8888888888888888, \"#fdca26\"], [1.0, \"#f0f921\"]], \"type\": \"heatmap\"}], \"heatmapgl\": [{\"colorbar\": {\"outlinewidth\": 0, \"ticks\": \"\"}, \"colorscale\": [[0.0, \"#0d0887\"], [0.1111111111111111, \"#46039f\"], [0.2222222222222222, \"#7201a8\"], [0.3333333333333333, \"#9c179e\"], [0.4444444444444444, \"#bd3786\"], [0.5555555555555556, \"#d8576b\"], [0.6666666666666666, \"#ed7953\"], [0.7777777777777778, \"#fb9f3a\"], [0.8888888888888888, \"#fdca26\"], [1.0, \"#f0f921\"]], \"type\": \"heatmapgl\"}], \"histogram\": [{\"marker\": {\"colorbar\": {\"outlinewidth\": 0, \"ticks\": \"\"}}, \"type\": \"histogram\"}], \"histogram2d\": [{\"colorbar\": {\"outlinewidth\": 0, \"ticks\": \"\"}, \"colorscale\": [[0.0, \"#0d0887\"], [0.1111111111111111, \"#46039f\"], [0.2222222222222222, \"#7201a8\"], [0.3333333333333333, \"#9c179e\"], [0.4444444444444444, \"#bd3786\"], [0.5555555555555556, \"#d8576b\"], [0.6666666666666666, \"#ed7953\"], [0.7777777777777778, \"#fb9f3a\"], [0.8888888888888888, \"#fdca26\"], [1.0, \"#f0f921\"]], \"type\": \"histogram2d\"}], \"histogram2dcontour\": [{\"colorbar\": {\"outlinewidth\": 0, \"ticks\": \"\"}, \"colorscale\": [[0.0, \"#0d0887\"], [0.1111111111111111, \"#46039f\"], [0.2222222222222222, \"#7201a8\"], [0.3333333333333333, \"#9c179e\"], [0.4444444444444444, \"#bd3786\"], [0.5555555555555556, \"#d8576b\"], [0.6666666666666666, \"#ed7953\"], [0.7777777777777778, \"#fb9f3a\"], [0.8888888888888888, \"#fdca26\"], [1.0, \"#f0f921\"]], \"type\": \"histogram2dcontour\"}], \"mesh3d\": [{\"colorbar\": {\"outlinewidth\": 0, \"ticks\": \"\"}, \"type\": \"mesh3d\"}], \"parcoords\": [{\"line\": {\"colorbar\": {\"outlinewidth\": 0, \"ticks\": \"\"}}, \"type\": \"parcoords\"}], \"pie\": [{\"automargin\": true, \"type\": \"pie\"}], \"scatter\": [{\"marker\": {\"colorbar\": {\"outlinewidth\": 0, \"ticks\": \"\"}}, \"type\": \"scatter\"}], \"scatter3d\": [{\"line\": {\"colorbar\": {\"outlinewidth\": 0, \"ticks\": \"\"}}, \"marker\": {\"colorbar\": {\"outlinewidth\": 0, \"ticks\": \"\"}}, \"type\": \"scatter3d\"}], \"scattercarpet\": [{\"marker\": {\"colorbar\": {\"outlinewidth\": 0, \"ticks\": \"\"}}, \"type\": \"scattercarpet\"}], \"scattergeo\": [{\"marker\": {\"colorbar\": {\"outlinewidth\": 0, \"ticks\": \"\"}}, \"type\": \"scattergeo\"}], \"scattergl\": [{\"marker\": {\"colorbar\": {\"outlinewidth\": 0, \"ticks\": \"\"}}, \"type\": \"scattergl\"}], \"scattermapbox\": [{\"marker\": {\"colorbar\": {\"outlinewidth\": 0, \"ticks\": \"\"}}, \"type\": \"scattermapbox\"}], \"scatterpolar\": [{\"marker\": {\"colorbar\": {\"outlinewidth\": 0, \"ticks\": \"\"}}, \"type\": \"scatterpolar\"}], \"scatterpolargl\": [{\"marker\": {\"colorbar\": {\"outlinewidth\": 0, \"ticks\": \"\"}}, \"type\": \"scatterpolargl\"}], \"scatterternary\": [{\"marker\": {\"colorbar\": {\"outlinewidth\": 0, \"ticks\": \"\"}}, \"type\": \"scatterternary\"}], \"surface\": [{\"colorbar\": {\"outlinewidth\": 0, \"ticks\": \"\"}, \"colorscale\": [[0.0, \"#0d0887\"], [0.1111111111111111, \"#46039f\"], [0.2222222222222222, \"#7201a8\"], [0.3333333333333333, \"#9c179e\"], [0.4444444444444444, \"#bd3786\"], [0.5555555555555556, \"#d8576b\"], [0.6666666666666666, \"#ed7953\"], [0.7777777777777778, \"#fb9f3a\"], [0.8888888888888888, \"#fdca26\"], [1.0, \"#f0f921\"]], \"type\": \"surface\"}], \"table\": [{\"cells\": {\"fill\": {\"color\": \"#EBF0F8\"}, \"line\": {\"color\": \"white\"}}, \"header\": {\"fill\": {\"color\": \"#C8D4E3\"}, \"line\": {\"color\": \"white\"}}, \"type\": \"table\"}]}, \"layout\": {\"annotationdefaults\": {\"arrowcolor\": \"#2a3f5f\", \"arrowhead\": 0, \"arrowwidth\": 1}, \"autotypenumbers\": \"strict\", \"coloraxis\": {\"colorbar\": {\"outlinewidth\": 0, \"ticks\": \"\"}}, \"colorscale\": {\"diverging\": [[0, \"#8e0152\"], [0.1, \"#c51b7d\"], [0.2, \"#de77ae\"], [0.3, \"#f1b6da\"], [0.4, \"#fde0ef\"], [0.5, \"#f7f7f7\"], [0.6, \"#e6f5d0\"], [0.7, \"#b8e186\"], [0.8, \"#7fbc41\"], [0.9, \"#4d9221\"], [1, \"#276419\"]], \"sequential\": [[0.0, \"#0d0887\"], [0.1111111111111111, \"#46039f\"], [0.2222222222222222, \"#7201a8\"], [0.3333333333333333, \"#9c179e\"], [0.4444444444444444, \"#bd3786\"], [0.5555555555555556, \"#d8576b\"], [0.6666666666666666, \"#ed7953\"], [0.7777777777777778, \"#fb9f3a\"], [0.8888888888888888, \"#fdca26\"], [1.0, \"#f0f921\"]], \"sequentialminus\": [[0.0, \"#0d0887\"], [0.1111111111111111, \"#46039f\"], [0.2222222222222222, \"#7201a8\"], [0.3333333333333333, \"#9c179e\"], [0.4444444444444444, \"#bd3786\"], [0.5555555555555556, \"#d8576b\"], [0.6666666666666666, \"#ed7953\"], [0.7777777777777778, \"#fb9f3a\"], [0.8888888888888888, \"#fdca26\"], [1.0, \"#f0f921\"]]}, \"colorway\": [\"#636efa\", \"#EF553B\", \"#00cc96\", \"#ab63fa\", \"#FFA15A\", \"#19d3f3\", \"#FF6692\", \"#B6E880\", \"#FF97FF\", \"#FECB52\"], \"font\": {\"color\": \"#2a3f5f\"}, \"geo\": {\"bgcolor\": \"white\", \"lakecolor\": \"white\", \"landcolor\": \"#E5ECF6\", \"showlakes\": true, \"showland\": true, \"subunitcolor\": \"white\"}, \"hoverlabel\": {\"align\": \"left\"}, \"hovermode\": \"closest\", \"mapbox\": {\"style\": \"light\"}, \"paper_bgcolor\": \"white\", \"plot_bgcolor\": \"#E5ECF6\", \"polar\": {\"angularaxis\": {\"gridcolor\": \"white\", \"linecolor\": \"white\", \"ticks\": \"\"}, \"bgcolor\": \"#E5ECF6\", \"radialaxis\": {\"gridcolor\": \"white\", \"linecolor\": \"white\", \"ticks\": \"\"}}, \"scene\": {\"xaxis\": {\"backgroundcolor\": \"#E5ECF6\", \"gridcolor\": \"white\", \"gridwidth\": 2, \"linecolor\": \"white\", \"showbackground\": true, \"ticks\": \"\", \"zerolinecolor\": \"white\"}, \"yaxis\": {\"backgroundcolor\": \"#E5ECF6\", \"gridcolor\": \"white\", \"gridwidth\": 2, \"linecolor\": \"white\", \"showbackground\": true, \"ticks\": \"\", \"zerolinecolor\": \"white\"}, \"zaxis\": {\"backgroundcolor\": \"#E5ECF6\", \"gridcolor\": \"white\", \"gridwidth\": 2, \"linecolor\": \"white\", \"showbackground\": true, \"ticks\": \"\", \"zerolinecolor\": \"white\"}}, \"shapedefaults\": {\"line\": {\"color\": \"#2a3f5f\"}}, \"ternary\": {\"aaxis\": {\"gridcolor\": \"white\", \"linecolor\": \"white\", \"ticks\": \"\"}, \"baxis\": {\"gridcolor\": \"white\", \"linecolor\": \"white\", \"ticks\": \"\"}, \"bgcolor\": \"#E5ECF6\", \"caxis\": {\"gridcolor\": \"white\", \"linecolor\": \"white\", \"ticks\": \"\"}}, \"title\": {\"x\": 0.05}, \"xaxis\": {\"automargin\": true, \"gridcolor\": \"white\", \"linecolor\": \"white\", \"ticks\": \"\", \"title\": {\"standoff\": 15}, \"zerolinecolor\": \"white\", \"zerolinewidth\": 2}, \"yaxis\": {\"automargin\": true, \"gridcolor\": \"white\", \"linecolor\": \"white\", \"ticks\": \"\", \"title\": {\"standoff\": 15}, \"zerolinecolor\": \"white\", \"zerolinewidth\": 2}}}, \"title\": {\"text\": \"AP versus parameterizations\"}, \"xaxis\": {\"anchor\": \"y\", \"domain\": [0.0, 1.0], \"showticklabels\": true, \"title\": {\"text\": \"Log\"}, \"type\": \"category\"}, \"yaxis\": {\"anchor\": \"x\", \"domain\": [0.0, 1.0], \"range\": [0, 1.01], \"title\": {\"text\": \"AP\"}}},                        {\"responsive\": true}                    ).then(function(){\n",
       "                            \n",
       "var gd = document.getElementById('9320df29-5a9c-4e70-867b-61567bb2a76d');\n",
       "var x = new MutationObserver(function (mutations, observer) {{\n",
       "        var display = window.getComputedStyle(gd).display;\n",
       "        if (!display || display === 'none') {{\n",
       "            console.log([gd, 'removed!']);\n",
       "            Plotly.purge(gd);\n",
       "            observer.disconnect();\n",
       "        }}\n",
       "}});\n",
       "\n",
       "// Listen for the removal of the full notebook cells\n",
       "var notebookContainer = gd.closest('#notebook-container');\n",
       "if (notebookContainer) {{\n",
       "    x.observe(notebookContainer, {childList: true});\n",
       "}}\n",
       "\n",
       "// Listen for the clearing of the current output cell\n",
       "var outputEl = gd.closest('.output');\n",
       "if (outputEl) {{\n",
       "    x.observe(outputEl, {childList: true});\n",
       "}}\n",
       "\n",
       "                        })                };                });            </script>        </div>"
      ]
     },
     "metadata": {},
     "output_type": "display_data"
    },
    {
     "name": "stdout",
     "output_type": "stream",
     "text": [
      " ========================== Test for approaches  ========================== \n",
      "\n",
      " Test Analysis: for af\n"
     ]
    },
    {
     "data": {
      "application/vnd.plotly.v1+json": {
       "config": {
        "linkText": "Export to plot.ly",
        "plotlyServerURL": "https://plot.ly",
        "showLink": false
       },
       "data": [
        {
         "alignmentgroup": "True",
         "bingroup": "x",
         "hovertemplate": "p_modelit_type=autoencoder_nolle<br>AP=%{x}<br>count=%{y}<extra></extra>",
         "legendgroup": "",
         "marker": {
          "color": "#636efa"
         },
         "name": "",
         "offsetgroup": "",
         "orientation": "v",
         "showlegend": false,
         "type": "histogram",
         "x": [
          0.7419846250493756,
          0.6531272242664811,
          0.5927452610560577
         ],
         "xaxis": "x5",
         "yaxis": "y5"
        },
        {
         "alignmentgroup": "True",
         "bingroup": "x",
         "hovertemplate": "p_modelit_type=binet1<br>AP=%{x}<br>count=%{y}<extra></extra>",
         "legendgroup": "",
         "marker": {
          "color": "#636efa"
         },
         "name": "",
         "offsetgroup": "",
         "orientation": "v",
         "showlegend": false,
         "type": "histogram",
         "x": [
          0.2918230326075997,
          0.28354665409856583,
          0.31378598199983737
         ],
         "xaxis": "x6",
         "yaxis": "y6"
        },
        {
         "alignmentgroup": "True",
         "bingroup": "x",
         "hovertemplate": "p_modelit_type=detect_infrequents<br>AP=%{x}<br>count=%{y}<extra></extra>",
         "legendgroup": "",
         "marker": {
          "color": "#636efa"
         },
         "name": "",
         "offsetgroup": "",
         "orientation": "v",
         "showlegend": false,
         "type": "histogram",
         "x": [
          0.886931414387705,
          0.8954206058524047,
          0.8973955020474887
         ],
         "xaxis": "x3",
         "yaxis": "y3"
        },
        {
         "alignmentgroup": "True",
         "bingroup": "x",
         "hovertemplate": "p_modelit_type=random<br>AP=%{x}<br>count=%{y}<extra></extra>",
         "legendgroup": "",
         "marker": {
          "color": "#636efa"
         },
         "name": "",
         "offsetgroup": "",
         "orientation": "v",
         "showlegend": false,
         "type": "histogram",
         "x": [
          0.4111272832003235,
          0.3666831651084019,
          0.35761302116253646
         ],
         "xaxis": "x4",
         "yaxis": "y4"
        },
        {
         "alignmentgroup": "True",
         "bingroup": "x",
         "hovertemplate": "p_modelit_type=tstideplus<br>AP=%{x}<br>count=%{y}<extra></extra>",
         "legendgroup": "",
         "marker": {
          "color": "#636efa"
         },
         "name": "",
         "offsetgroup": "",
         "orientation": "v",
         "showlegend": false,
         "type": "histogram",
         "x": [
          0.5605555555555555,
          0.5722222222222222,
          0.5691111111111111
         ],
         "xaxis": "x",
         "yaxis": "y"
        }
       ],
       "layout": {
        "annotations": [
         {
          "showarrow": false,
          "text": "p_modelit_type=tstideplus",
          "x": 0.245,
          "xanchor": "center",
          "xref": "paper",
          "y": 0.2866666666666666,
          "yanchor": "bottom",
          "yref": "paper"
         },
         {
          "showarrow": false,
          "text": "p_modelit_type=detect_infrequents",
          "x": 0.245,
          "xanchor": "center",
          "xref": "paper",
          "y": 0.6433333333333333,
          "yanchor": "bottom",
          "yref": "paper"
         },
         {
          "showarrow": false,
          "text": "p_modelit_type=random",
          "x": 0.755,
          "xanchor": "center",
          "xref": "paper",
          "y": 0.6433333333333333,
          "yanchor": "bottom",
          "yref": "paper"
         },
         {
          "showarrow": false,
          "text": "p_modelit_type=autoencoder_nolle",
          "x": 0.245,
          "xanchor": "center",
          "xref": "paper",
          "y": 0.9999999999999999,
          "yanchor": "bottom",
          "yref": "paper"
         },
         {
          "showarrow": false,
          "text": "p_modelit_type=binet1",
          "x": 0.755,
          "xanchor": "center",
          "xref": "paper",
          "y": 0.9999999999999999,
          "yanchor": "bottom",
          "yref": "paper"
         }
        ],
        "barmode": "relative",
        "legend": {
         "tracegroupgap": 0
        },
        "template": {
         "data": {
          "bar": [
           {
            "error_x": {
             "color": "#2a3f5f"
            },
            "error_y": {
             "color": "#2a3f5f"
            },
            "marker": {
             "line": {
              "color": "#E5ECF6",
              "width": 0.5
             }
            },
            "type": "bar"
           }
          ],
          "barpolar": [
           {
            "marker": {
             "line": {
              "color": "#E5ECF6",
              "width": 0.5
             }
            },
            "type": "barpolar"
           }
          ],
          "carpet": [
           {
            "aaxis": {
             "endlinecolor": "#2a3f5f",
             "gridcolor": "white",
             "linecolor": "white",
             "minorgridcolor": "white",
             "startlinecolor": "#2a3f5f"
            },
            "baxis": {
             "endlinecolor": "#2a3f5f",
             "gridcolor": "white",
             "linecolor": "white",
             "minorgridcolor": "white",
             "startlinecolor": "#2a3f5f"
            },
            "type": "carpet"
           }
          ],
          "choropleth": [
           {
            "colorbar": {
             "outlinewidth": 0,
             "ticks": ""
            },
            "type": "choropleth"
           }
          ],
          "contour": [
           {
            "colorbar": {
             "outlinewidth": 0,
             "ticks": ""
            },
            "colorscale": [
             [
              0,
              "#0d0887"
             ],
             [
              0.1111111111111111,
              "#46039f"
             ],
             [
              0.2222222222222222,
              "#7201a8"
             ],
             [
              0.3333333333333333,
              "#9c179e"
             ],
             [
              0.4444444444444444,
              "#bd3786"
             ],
             [
              0.5555555555555556,
              "#d8576b"
             ],
             [
              0.6666666666666666,
              "#ed7953"
             ],
             [
              0.7777777777777778,
              "#fb9f3a"
             ],
             [
              0.8888888888888888,
              "#fdca26"
             ],
             [
              1,
              "#f0f921"
             ]
            ],
            "type": "contour"
           }
          ],
          "contourcarpet": [
           {
            "colorbar": {
             "outlinewidth": 0,
             "ticks": ""
            },
            "type": "contourcarpet"
           }
          ],
          "heatmap": [
           {
            "colorbar": {
             "outlinewidth": 0,
             "ticks": ""
            },
            "colorscale": [
             [
              0,
              "#0d0887"
             ],
             [
              0.1111111111111111,
              "#46039f"
             ],
             [
              0.2222222222222222,
              "#7201a8"
             ],
             [
              0.3333333333333333,
              "#9c179e"
             ],
             [
              0.4444444444444444,
              "#bd3786"
             ],
             [
              0.5555555555555556,
              "#d8576b"
             ],
             [
              0.6666666666666666,
              "#ed7953"
             ],
             [
              0.7777777777777778,
              "#fb9f3a"
             ],
             [
              0.8888888888888888,
              "#fdca26"
             ],
             [
              1,
              "#f0f921"
             ]
            ],
            "type": "heatmap"
           }
          ],
          "heatmapgl": [
           {
            "colorbar": {
             "outlinewidth": 0,
             "ticks": ""
            },
            "colorscale": [
             [
              0,
              "#0d0887"
             ],
             [
              0.1111111111111111,
              "#46039f"
             ],
             [
              0.2222222222222222,
              "#7201a8"
             ],
             [
              0.3333333333333333,
              "#9c179e"
             ],
             [
              0.4444444444444444,
              "#bd3786"
             ],
             [
              0.5555555555555556,
              "#d8576b"
             ],
             [
              0.6666666666666666,
              "#ed7953"
             ],
             [
              0.7777777777777778,
              "#fb9f3a"
             ],
             [
              0.8888888888888888,
              "#fdca26"
             ],
             [
              1,
              "#f0f921"
             ]
            ],
            "type": "heatmapgl"
           }
          ],
          "histogram": [
           {
            "marker": {
             "colorbar": {
              "outlinewidth": 0,
              "ticks": ""
             }
            },
            "type": "histogram"
           }
          ],
          "histogram2d": [
           {
            "colorbar": {
             "outlinewidth": 0,
             "ticks": ""
            },
            "colorscale": [
             [
              0,
              "#0d0887"
             ],
             [
              0.1111111111111111,
              "#46039f"
             ],
             [
              0.2222222222222222,
              "#7201a8"
             ],
             [
              0.3333333333333333,
              "#9c179e"
             ],
             [
              0.4444444444444444,
              "#bd3786"
             ],
             [
              0.5555555555555556,
              "#d8576b"
             ],
             [
              0.6666666666666666,
              "#ed7953"
             ],
             [
              0.7777777777777778,
              "#fb9f3a"
             ],
             [
              0.8888888888888888,
              "#fdca26"
             ],
             [
              1,
              "#f0f921"
             ]
            ],
            "type": "histogram2d"
           }
          ],
          "histogram2dcontour": [
           {
            "colorbar": {
             "outlinewidth": 0,
             "ticks": ""
            },
            "colorscale": [
             [
              0,
              "#0d0887"
             ],
             [
              0.1111111111111111,
              "#46039f"
             ],
             [
              0.2222222222222222,
              "#7201a8"
             ],
             [
              0.3333333333333333,
              "#9c179e"
             ],
             [
              0.4444444444444444,
              "#bd3786"
             ],
             [
              0.5555555555555556,
              "#d8576b"
             ],
             [
              0.6666666666666666,
              "#ed7953"
             ],
             [
              0.7777777777777778,
              "#fb9f3a"
             ],
             [
              0.8888888888888888,
              "#fdca26"
             ],
             [
              1,
              "#f0f921"
             ]
            ],
            "type": "histogram2dcontour"
           }
          ],
          "mesh3d": [
           {
            "colorbar": {
             "outlinewidth": 0,
             "ticks": ""
            },
            "type": "mesh3d"
           }
          ],
          "parcoords": [
           {
            "line": {
             "colorbar": {
              "outlinewidth": 0,
              "ticks": ""
             }
            },
            "type": "parcoords"
           }
          ],
          "pie": [
           {
            "automargin": true,
            "type": "pie"
           }
          ],
          "scatter": [
           {
            "marker": {
             "colorbar": {
              "outlinewidth": 0,
              "ticks": ""
             }
            },
            "type": "scatter"
           }
          ],
          "scatter3d": [
           {
            "line": {
             "colorbar": {
              "outlinewidth": 0,
              "ticks": ""
             }
            },
            "marker": {
             "colorbar": {
              "outlinewidth": 0,
              "ticks": ""
             }
            },
            "type": "scatter3d"
           }
          ],
          "scattercarpet": [
           {
            "marker": {
             "colorbar": {
              "outlinewidth": 0,
              "ticks": ""
             }
            },
            "type": "scattercarpet"
           }
          ],
          "scattergeo": [
           {
            "marker": {
             "colorbar": {
              "outlinewidth": 0,
              "ticks": ""
             }
            },
            "type": "scattergeo"
           }
          ],
          "scattergl": [
           {
            "marker": {
             "colorbar": {
              "outlinewidth": 0,
              "ticks": ""
             }
            },
            "type": "scattergl"
           }
          ],
          "scattermapbox": [
           {
            "marker": {
             "colorbar": {
              "outlinewidth": 0,
              "ticks": ""
             }
            },
            "type": "scattermapbox"
           }
          ],
          "scatterpolar": [
           {
            "marker": {
             "colorbar": {
              "outlinewidth": 0,
              "ticks": ""
             }
            },
            "type": "scatterpolar"
           }
          ],
          "scatterpolargl": [
           {
            "marker": {
             "colorbar": {
              "outlinewidth": 0,
              "ticks": ""
             }
            },
            "type": "scatterpolargl"
           }
          ],
          "scatterternary": [
           {
            "marker": {
             "colorbar": {
              "outlinewidth": 0,
              "ticks": ""
             }
            },
            "type": "scatterternary"
           }
          ],
          "surface": [
           {
            "colorbar": {
             "outlinewidth": 0,
             "ticks": ""
            },
            "colorscale": [
             [
              0,
              "#0d0887"
             ],
             [
              0.1111111111111111,
              "#46039f"
             ],
             [
              0.2222222222222222,
              "#7201a8"
             ],
             [
              0.3333333333333333,
              "#9c179e"
             ],
             [
              0.4444444444444444,
              "#bd3786"
             ],
             [
              0.5555555555555556,
              "#d8576b"
             ],
             [
              0.6666666666666666,
              "#ed7953"
             ],
             [
              0.7777777777777778,
              "#fb9f3a"
             ],
             [
              0.8888888888888888,
              "#fdca26"
             ],
             [
              1,
              "#f0f921"
             ]
            ],
            "type": "surface"
           }
          ],
          "table": [
           {
            "cells": {
             "fill": {
              "color": "#EBF0F8"
             },
             "line": {
              "color": "white"
             }
            },
            "header": {
             "fill": {
              "color": "#C8D4E3"
             },
             "line": {
              "color": "white"
             }
            },
            "type": "table"
           }
          ]
         },
         "layout": {
          "annotationdefaults": {
           "arrowcolor": "#2a3f5f",
           "arrowhead": 0,
           "arrowwidth": 1
          },
          "autotypenumbers": "strict",
          "coloraxis": {
           "colorbar": {
            "outlinewidth": 0,
            "ticks": ""
           }
          },
          "colorscale": {
           "diverging": [
            [
             0,
             "#8e0152"
            ],
            [
             0.1,
             "#c51b7d"
            ],
            [
             0.2,
             "#de77ae"
            ],
            [
             0.3,
             "#f1b6da"
            ],
            [
             0.4,
             "#fde0ef"
            ],
            [
             0.5,
             "#f7f7f7"
            ],
            [
             0.6,
             "#e6f5d0"
            ],
            [
             0.7,
             "#b8e186"
            ],
            [
             0.8,
             "#7fbc41"
            ],
            [
             0.9,
             "#4d9221"
            ],
            [
             1,
             "#276419"
            ]
           ],
           "sequential": [
            [
             0,
             "#0d0887"
            ],
            [
             0.1111111111111111,
             "#46039f"
            ],
            [
             0.2222222222222222,
             "#7201a8"
            ],
            [
             0.3333333333333333,
             "#9c179e"
            ],
            [
             0.4444444444444444,
             "#bd3786"
            ],
            [
             0.5555555555555556,
             "#d8576b"
            ],
            [
             0.6666666666666666,
             "#ed7953"
            ],
            [
             0.7777777777777778,
             "#fb9f3a"
            ],
            [
             0.8888888888888888,
             "#fdca26"
            ],
            [
             1,
             "#f0f921"
            ]
           ],
           "sequentialminus": [
            [
             0,
             "#0d0887"
            ],
            [
             0.1111111111111111,
             "#46039f"
            ],
            [
             0.2222222222222222,
             "#7201a8"
            ],
            [
             0.3333333333333333,
             "#9c179e"
            ],
            [
             0.4444444444444444,
             "#bd3786"
            ],
            [
             0.5555555555555556,
             "#d8576b"
            ],
            [
             0.6666666666666666,
             "#ed7953"
            ],
            [
             0.7777777777777778,
             "#fb9f3a"
            ],
            [
             0.8888888888888888,
             "#fdca26"
            ],
            [
             1,
             "#f0f921"
            ]
           ]
          },
          "colorway": [
           "#636efa",
           "#EF553B",
           "#00cc96",
           "#ab63fa",
           "#FFA15A",
           "#19d3f3",
           "#FF6692",
           "#B6E880",
           "#FF97FF",
           "#FECB52"
          ],
          "font": {
           "color": "#2a3f5f"
          },
          "geo": {
           "bgcolor": "white",
           "lakecolor": "white",
           "landcolor": "#E5ECF6",
           "showlakes": true,
           "showland": true,
           "subunitcolor": "white"
          },
          "hoverlabel": {
           "align": "left"
          },
          "hovermode": "closest",
          "mapbox": {
           "style": "light"
          },
          "paper_bgcolor": "white",
          "plot_bgcolor": "#E5ECF6",
          "polar": {
           "angularaxis": {
            "gridcolor": "white",
            "linecolor": "white",
            "ticks": ""
           },
           "bgcolor": "#E5ECF6",
           "radialaxis": {
            "gridcolor": "white",
            "linecolor": "white",
            "ticks": ""
           }
          },
          "scene": {
           "xaxis": {
            "backgroundcolor": "#E5ECF6",
            "gridcolor": "white",
            "gridwidth": 2,
            "linecolor": "white",
            "showbackground": true,
            "ticks": "",
            "zerolinecolor": "white"
           },
           "yaxis": {
            "backgroundcolor": "#E5ECF6",
            "gridcolor": "white",
            "gridwidth": 2,
            "linecolor": "white",
            "showbackground": true,
            "ticks": "",
            "zerolinecolor": "white"
           },
           "zaxis": {
            "backgroundcolor": "#E5ECF6",
            "gridcolor": "white",
            "gridwidth": 2,
            "linecolor": "white",
            "showbackground": true,
            "ticks": "",
            "zerolinecolor": "white"
           }
          },
          "shapedefaults": {
           "line": {
            "color": "#2a3f5f"
           }
          },
          "ternary": {
           "aaxis": {
            "gridcolor": "white",
            "linecolor": "white",
            "ticks": ""
           },
           "baxis": {
            "gridcolor": "white",
            "linecolor": "white",
            "ticks": ""
           },
           "bgcolor": "#E5ECF6",
           "caxis": {
            "gridcolor": "white",
            "linecolor": "white",
            "ticks": ""
           }
          },
          "title": {
           "x": 0.05
          },
          "xaxis": {
           "automargin": true,
           "gridcolor": "white",
           "linecolor": "white",
           "ticks": "",
           "title": {
            "standoff": 15
           },
           "zerolinecolor": "white",
           "zerolinewidth": 2
          },
          "yaxis": {
           "automargin": true,
           "gridcolor": "white",
           "linecolor": "white",
           "ticks": "",
           "title": {
            "standoff": 15
           },
           "zerolinecolor": "white",
           "zerolinewidth": 2
          }
         }
        },
        "title": {
         "text": "Histogram"
        },
        "xaxis": {
         "anchor": "y",
         "domain": [
          0,
          0.49
         ],
         "title": {
          "text": "AP"
         }
        },
        "xaxis2": {
         "anchor": "y2",
         "domain": [
          0.51,
          1
         ],
         "matches": "x",
         "title": {
          "text": "AP"
         }
        },
        "xaxis3": {
         "anchor": "y3",
         "domain": [
          0,
          0.49
         ],
         "matches": "x",
         "showticklabels": false
        },
        "xaxis4": {
         "anchor": "y4",
         "domain": [
          0.51,
          1
         ],
         "matches": "x",
         "showticklabels": false
        },
        "xaxis5": {
         "anchor": "y5",
         "domain": [
          0,
          0.49
         ],
         "matches": "x",
         "showticklabels": false
        },
        "xaxis6": {
         "anchor": "y6",
         "domain": [
          0.51,
          1
         ],
         "matches": "x",
         "showticklabels": false
        },
        "yaxis": {
         "anchor": "x",
         "domain": [
          0,
          0.2866666666666666
         ],
         "title": {
          "text": "count"
         }
        },
        "yaxis2": {
         "anchor": "x2",
         "domain": [
          0,
          0.2866666666666666
         ],
         "matches": "y",
         "showticklabels": false
        },
        "yaxis3": {
         "anchor": "x3",
         "domain": [
          0.35666666666666663,
          0.6433333333333333
         ],
         "matches": "y",
         "title": {
          "text": "count"
         }
        },
        "yaxis4": {
         "anchor": "x4",
         "domain": [
          0.35666666666666663,
          0.6433333333333333
         ],
         "matches": "y",
         "showticklabels": false
        },
        "yaxis5": {
         "anchor": "x5",
         "domain": [
          0.7133333333333333,
          0.9999999999999999
         ],
         "matches": "y",
         "title": {
          "text": "count"
         }
        },
        "yaxis6": {
         "anchor": "x6",
         "domain": [
          0.7133333333333333,
          0.9999999999999999
         ],
         "matches": "y",
         "showticklabels": false
        }
       }
      },
      "text/html": [
       "<div>                            <div id=\"0f037c16-190e-44df-8b61-9bb1a2c1b36b\" class=\"plotly-graph-div\" style=\"height:525px; width:100%;\"></div>            <script type=\"text/javascript\">                require([\"plotly\"], function(Plotly) {                    window.PLOTLYENV=window.PLOTLYENV || {};                                    if (document.getElementById(\"0f037c16-190e-44df-8b61-9bb1a2c1b36b\")) {                    Plotly.newPlot(                        \"0f037c16-190e-44df-8b61-9bb1a2c1b36b\",                        [{\"alignmentgroup\": \"True\", \"bingroup\": \"x\", \"hovertemplate\": \"p_modelit_type=autoencoder_nolle<br>AP=%{x}<br>count=%{y}<extra></extra>\", \"legendgroup\": \"\", \"marker\": {\"color\": \"#636efa\"}, \"name\": \"\", \"offsetgroup\": \"\", \"orientation\": \"v\", \"showlegend\": false, \"type\": \"histogram\", \"x\": [0.7419846250493756, 0.6531272242664811, 0.5927452610560577], \"xaxis\": \"x5\", \"yaxis\": \"y5\"}, {\"alignmentgroup\": \"True\", \"bingroup\": \"x\", \"hovertemplate\": \"p_modelit_type=binet1<br>AP=%{x}<br>count=%{y}<extra></extra>\", \"legendgroup\": \"\", \"marker\": {\"color\": \"#636efa\"}, \"name\": \"\", \"offsetgroup\": \"\", \"orientation\": \"v\", \"showlegend\": false, \"type\": \"histogram\", \"x\": [0.2918230326075997, 0.28354665409856583, 0.31378598199983737], \"xaxis\": \"x6\", \"yaxis\": \"y6\"}, {\"alignmentgroup\": \"True\", \"bingroup\": \"x\", \"hovertemplate\": \"p_modelit_type=detect_infrequents<br>AP=%{x}<br>count=%{y}<extra></extra>\", \"legendgroup\": \"\", \"marker\": {\"color\": \"#636efa\"}, \"name\": \"\", \"offsetgroup\": \"\", \"orientation\": \"v\", \"showlegend\": false, \"type\": \"histogram\", \"x\": [0.886931414387705, 0.8954206058524047, 0.8973955020474887], \"xaxis\": \"x3\", \"yaxis\": \"y3\"}, {\"alignmentgroup\": \"True\", \"bingroup\": \"x\", \"hovertemplate\": \"p_modelit_type=random<br>AP=%{x}<br>count=%{y}<extra></extra>\", \"legendgroup\": \"\", \"marker\": {\"color\": \"#636efa\"}, \"name\": \"\", \"offsetgroup\": \"\", \"orientation\": \"v\", \"showlegend\": false, \"type\": \"histogram\", \"x\": [0.4111272832003235, 0.3666831651084019, 0.35761302116253646], \"xaxis\": \"x4\", \"yaxis\": \"y4\"}, {\"alignmentgroup\": \"True\", \"bingroup\": \"x\", \"hovertemplate\": \"p_modelit_type=tstideplus<br>AP=%{x}<br>count=%{y}<extra></extra>\", \"legendgroup\": \"\", \"marker\": {\"color\": \"#636efa\"}, \"name\": \"\", \"offsetgroup\": \"\", \"orientation\": \"v\", \"showlegend\": false, \"type\": \"histogram\", \"x\": [0.5605555555555555, 0.5722222222222222, 0.5691111111111111], \"xaxis\": \"x\", \"yaxis\": \"y\"}],                        {\"annotations\": [{\"showarrow\": false, \"text\": \"p_modelit_type=tstideplus\", \"x\": 0.245, \"xanchor\": \"center\", \"xref\": \"paper\", \"y\": 0.2866666666666666, \"yanchor\": \"bottom\", \"yref\": \"paper\"}, {\"showarrow\": false, \"text\": \"p_modelit_type=detect_infrequents\", \"x\": 0.245, \"xanchor\": \"center\", \"xref\": \"paper\", \"y\": 0.6433333333333333, \"yanchor\": \"bottom\", \"yref\": \"paper\"}, {\"showarrow\": false, \"text\": \"p_modelit_type=random\", \"x\": 0.755, \"xanchor\": \"center\", \"xref\": \"paper\", \"y\": 0.6433333333333333, \"yanchor\": \"bottom\", \"yref\": \"paper\"}, {\"showarrow\": false, \"text\": \"p_modelit_type=autoencoder_nolle\", \"x\": 0.245, \"xanchor\": \"center\", \"xref\": \"paper\", \"y\": 0.9999999999999999, \"yanchor\": \"bottom\", \"yref\": \"paper\"}, {\"showarrow\": false, \"text\": \"p_modelit_type=binet1\", \"x\": 0.755, \"xanchor\": \"center\", \"xref\": \"paper\", \"y\": 0.9999999999999999, \"yanchor\": \"bottom\", \"yref\": \"paper\"}], \"barmode\": \"relative\", \"legend\": {\"tracegroupgap\": 0}, \"template\": {\"data\": {\"bar\": [{\"error_x\": {\"color\": \"#2a3f5f\"}, \"error_y\": {\"color\": \"#2a3f5f\"}, \"marker\": {\"line\": {\"color\": \"#E5ECF6\", \"width\": 0.5}}, \"type\": \"bar\"}], \"barpolar\": [{\"marker\": {\"line\": {\"color\": \"#E5ECF6\", \"width\": 0.5}}, \"type\": \"barpolar\"}], \"carpet\": [{\"aaxis\": {\"endlinecolor\": \"#2a3f5f\", \"gridcolor\": \"white\", \"linecolor\": \"white\", \"minorgridcolor\": \"white\", \"startlinecolor\": \"#2a3f5f\"}, \"baxis\": {\"endlinecolor\": \"#2a3f5f\", \"gridcolor\": \"white\", \"linecolor\": \"white\", \"minorgridcolor\": \"white\", \"startlinecolor\": \"#2a3f5f\"}, \"type\": \"carpet\"}], \"choropleth\": [{\"colorbar\": {\"outlinewidth\": 0, \"ticks\": \"\"}, \"type\": \"choropleth\"}], \"contour\": [{\"colorbar\": {\"outlinewidth\": 0, \"ticks\": \"\"}, \"colorscale\": [[0.0, \"#0d0887\"], [0.1111111111111111, \"#46039f\"], [0.2222222222222222, \"#7201a8\"], [0.3333333333333333, \"#9c179e\"], [0.4444444444444444, \"#bd3786\"], [0.5555555555555556, \"#d8576b\"], [0.6666666666666666, \"#ed7953\"], [0.7777777777777778, \"#fb9f3a\"], [0.8888888888888888, \"#fdca26\"], [1.0, \"#f0f921\"]], \"type\": \"contour\"}], \"contourcarpet\": [{\"colorbar\": {\"outlinewidth\": 0, \"ticks\": \"\"}, \"type\": \"contourcarpet\"}], \"heatmap\": [{\"colorbar\": {\"outlinewidth\": 0, \"ticks\": \"\"}, \"colorscale\": [[0.0, \"#0d0887\"], [0.1111111111111111, \"#46039f\"], [0.2222222222222222, \"#7201a8\"], [0.3333333333333333, \"#9c179e\"], [0.4444444444444444, \"#bd3786\"], [0.5555555555555556, \"#d8576b\"], [0.6666666666666666, \"#ed7953\"], [0.7777777777777778, \"#fb9f3a\"], [0.8888888888888888, \"#fdca26\"], [1.0, \"#f0f921\"]], \"type\": \"heatmap\"}], \"heatmapgl\": [{\"colorbar\": {\"outlinewidth\": 0, \"ticks\": \"\"}, \"colorscale\": [[0.0, \"#0d0887\"], [0.1111111111111111, \"#46039f\"], [0.2222222222222222, \"#7201a8\"], [0.3333333333333333, \"#9c179e\"], [0.4444444444444444, \"#bd3786\"], [0.5555555555555556, \"#d8576b\"], [0.6666666666666666, \"#ed7953\"], [0.7777777777777778, \"#fb9f3a\"], [0.8888888888888888, \"#fdca26\"], [1.0, \"#f0f921\"]], \"type\": \"heatmapgl\"}], \"histogram\": [{\"marker\": {\"colorbar\": {\"outlinewidth\": 0, \"ticks\": \"\"}}, \"type\": \"histogram\"}], \"histogram2d\": [{\"colorbar\": {\"outlinewidth\": 0, \"ticks\": \"\"}, \"colorscale\": [[0.0, \"#0d0887\"], [0.1111111111111111, \"#46039f\"], [0.2222222222222222, \"#7201a8\"], [0.3333333333333333, \"#9c179e\"], [0.4444444444444444, \"#bd3786\"], [0.5555555555555556, \"#d8576b\"], [0.6666666666666666, \"#ed7953\"], [0.7777777777777778, \"#fb9f3a\"], [0.8888888888888888, \"#fdca26\"], [1.0, \"#f0f921\"]], \"type\": \"histogram2d\"}], \"histogram2dcontour\": [{\"colorbar\": {\"outlinewidth\": 0, \"ticks\": \"\"}, \"colorscale\": [[0.0, \"#0d0887\"], [0.1111111111111111, \"#46039f\"], [0.2222222222222222, \"#7201a8\"], [0.3333333333333333, \"#9c179e\"], [0.4444444444444444, \"#bd3786\"], [0.5555555555555556, \"#d8576b\"], [0.6666666666666666, \"#ed7953\"], [0.7777777777777778, \"#fb9f3a\"], [0.8888888888888888, \"#fdca26\"], [1.0, \"#f0f921\"]], \"type\": \"histogram2dcontour\"}], \"mesh3d\": [{\"colorbar\": {\"outlinewidth\": 0, \"ticks\": \"\"}, \"type\": \"mesh3d\"}], \"parcoords\": [{\"line\": {\"colorbar\": {\"outlinewidth\": 0, \"ticks\": \"\"}}, \"type\": \"parcoords\"}], \"pie\": [{\"automargin\": true, \"type\": \"pie\"}], \"scatter\": [{\"marker\": {\"colorbar\": {\"outlinewidth\": 0, \"ticks\": \"\"}}, \"type\": \"scatter\"}], \"scatter3d\": [{\"line\": {\"colorbar\": {\"outlinewidth\": 0, \"ticks\": \"\"}}, \"marker\": {\"colorbar\": {\"outlinewidth\": 0, \"ticks\": \"\"}}, \"type\": \"scatter3d\"}], \"scattercarpet\": [{\"marker\": {\"colorbar\": {\"outlinewidth\": 0, \"ticks\": \"\"}}, \"type\": \"scattercarpet\"}], \"scattergeo\": [{\"marker\": {\"colorbar\": {\"outlinewidth\": 0, \"ticks\": \"\"}}, \"type\": \"scattergeo\"}], \"scattergl\": [{\"marker\": {\"colorbar\": {\"outlinewidth\": 0, \"ticks\": \"\"}}, \"type\": \"scattergl\"}], \"scattermapbox\": [{\"marker\": {\"colorbar\": {\"outlinewidth\": 0, \"ticks\": \"\"}}, \"type\": \"scattermapbox\"}], \"scatterpolar\": [{\"marker\": {\"colorbar\": {\"outlinewidth\": 0, \"ticks\": \"\"}}, \"type\": \"scatterpolar\"}], \"scatterpolargl\": [{\"marker\": {\"colorbar\": {\"outlinewidth\": 0, \"ticks\": \"\"}}, \"type\": \"scatterpolargl\"}], \"scatterternary\": [{\"marker\": {\"colorbar\": {\"outlinewidth\": 0, \"ticks\": \"\"}}, \"type\": \"scatterternary\"}], \"surface\": [{\"colorbar\": {\"outlinewidth\": 0, \"ticks\": \"\"}, \"colorscale\": [[0.0, \"#0d0887\"], [0.1111111111111111, \"#46039f\"], [0.2222222222222222, \"#7201a8\"], [0.3333333333333333, \"#9c179e\"], [0.4444444444444444, \"#bd3786\"], [0.5555555555555556, \"#d8576b\"], [0.6666666666666666, \"#ed7953\"], [0.7777777777777778, \"#fb9f3a\"], [0.8888888888888888, \"#fdca26\"], [1.0, \"#f0f921\"]], \"type\": \"surface\"}], \"table\": [{\"cells\": {\"fill\": {\"color\": \"#EBF0F8\"}, \"line\": {\"color\": \"white\"}}, \"header\": {\"fill\": {\"color\": \"#C8D4E3\"}, \"line\": {\"color\": \"white\"}}, \"type\": \"table\"}]}, \"layout\": {\"annotationdefaults\": {\"arrowcolor\": \"#2a3f5f\", \"arrowhead\": 0, \"arrowwidth\": 1}, \"autotypenumbers\": \"strict\", \"coloraxis\": {\"colorbar\": {\"outlinewidth\": 0, \"ticks\": \"\"}}, \"colorscale\": {\"diverging\": [[0, \"#8e0152\"], [0.1, \"#c51b7d\"], [0.2, \"#de77ae\"], [0.3, \"#f1b6da\"], [0.4, \"#fde0ef\"], [0.5, \"#f7f7f7\"], [0.6, \"#e6f5d0\"], [0.7, \"#b8e186\"], [0.8, \"#7fbc41\"], [0.9, \"#4d9221\"], [1, \"#276419\"]], \"sequential\": [[0.0, \"#0d0887\"], [0.1111111111111111, \"#46039f\"], [0.2222222222222222, \"#7201a8\"], [0.3333333333333333, \"#9c179e\"], [0.4444444444444444, \"#bd3786\"], [0.5555555555555556, \"#d8576b\"], [0.6666666666666666, \"#ed7953\"], [0.7777777777777778, \"#fb9f3a\"], [0.8888888888888888, \"#fdca26\"], [1.0, \"#f0f921\"]], \"sequentialminus\": [[0.0, \"#0d0887\"], [0.1111111111111111, \"#46039f\"], [0.2222222222222222, \"#7201a8\"], [0.3333333333333333, \"#9c179e\"], [0.4444444444444444, \"#bd3786\"], [0.5555555555555556, \"#d8576b\"], [0.6666666666666666, \"#ed7953\"], [0.7777777777777778, \"#fb9f3a\"], [0.8888888888888888, \"#fdca26\"], [1.0, \"#f0f921\"]]}, \"colorway\": [\"#636efa\", \"#EF553B\", \"#00cc96\", \"#ab63fa\", \"#FFA15A\", \"#19d3f3\", \"#FF6692\", \"#B6E880\", \"#FF97FF\", \"#FECB52\"], \"font\": {\"color\": \"#2a3f5f\"}, \"geo\": {\"bgcolor\": \"white\", \"lakecolor\": \"white\", \"landcolor\": \"#E5ECF6\", \"showlakes\": true, \"showland\": true, \"subunitcolor\": \"white\"}, \"hoverlabel\": {\"align\": \"left\"}, \"hovermode\": \"closest\", \"mapbox\": {\"style\": \"light\"}, \"paper_bgcolor\": \"white\", \"plot_bgcolor\": \"#E5ECF6\", \"polar\": {\"angularaxis\": {\"gridcolor\": \"white\", \"linecolor\": \"white\", \"ticks\": \"\"}, \"bgcolor\": \"#E5ECF6\", \"radialaxis\": {\"gridcolor\": \"white\", \"linecolor\": \"white\", \"ticks\": \"\"}}, \"scene\": {\"xaxis\": {\"backgroundcolor\": \"#E5ECF6\", \"gridcolor\": \"white\", \"gridwidth\": 2, \"linecolor\": \"white\", \"showbackground\": true, \"ticks\": \"\", \"zerolinecolor\": \"white\"}, \"yaxis\": {\"backgroundcolor\": \"#E5ECF6\", \"gridcolor\": \"white\", \"gridwidth\": 2, \"linecolor\": \"white\", \"showbackground\": true, \"ticks\": \"\", \"zerolinecolor\": \"white\"}, \"zaxis\": {\"backgroundcolor\": \"#E5ECF6\", \"gridcolor\": \"white\", \"gridwidth\": 2, \"linecolor\": \"white\", \"showbackground\": true, \"ticks\": \"\", \"zerolinecolor\": \"white\"}}, \"shapedefaults\": {\"line\": {\"color\": \"#2a3f5f\"}}, \"ternary\": {\"aaxis\": {\"gridcolor\": \"white\", \"linecolor\": \"white\", \"ticks\": \"\"}, \"baxis\": {\"gridcolor\": \"white\", \"linecolor\": \"white\", \"ticks\": \"\"}, \"bgcolor\": \"#E5ECF6\", \"caxis\": {\"gridcolor\": \"white\", \"linecolor\": \"white\", \"ticks\": \"\"}}, \"title\": {\"x\": 0.05}, \"xaxis\": {\"automargin\": true, \"gridcolor\": \"white\", \"linecolor\": \"white\", \"ticks\": \"\", \"title\": {\"standoff\": 15}, \"zerolinecolor\": \"white\", \"zerolinewidth\": 2}, \"yaxis\": {\"automargin\": true, \"gridcolor\": \"white\", \"linecolor\": \"white\", \"ticks\": \"\", \"title\": {\"standoff\": 15}, \"zerolinecolor\": \"white\", \"zerolinewidth\": 2}}}, \"title\": {\"text\": \"Histogram\"}, \"xaxis\": {\"anchor\": \"y\", \"domain\": [0.0, 0.49], \"title\": {\"text\": \"AP\"}}, \"xaxis2\": {\"anchor\": \"y2\", \"domain\": [0.51, 1.0], \"matches\": \"x\", \"title\": {\"text\": \"AP\"}}, \"xaxis3\": {\"anchor\": \"y3\", \"domain\": [0.0, 0.49], \"matches\": \"x\", \"showticklabels\": false}, \"xaxis4\": {\"anchor\": \"y4\", \"domain\": [0.51, 1.0], \"matches\": \"x\", \"showticklabels\": false}, \"xaxis5\": {\"anchor\": \"y5\", \"domain\": [0.0, 0.49], \"matches\": \"x\", \"showticklabels\": false}, \"xaxis6\": {\"anchor\": \"y6\", \"domain\": [0.51, 1.0], \"matches\": \"x\", \"showticklabels\": false}, \"yaxis\": {\"anchor\": \"x\", \"domain\": [0.0, 0.2866666666666666], \"title\": {\"text\": \"count\"}}, \"yaxis2\": {\"anchor\": \"x2\", \"domain\": [0.0, 0.2866666666666666], \"matches\": \"y\", \"showticklabels\": false}, \"yaxis3\": {\"anchor\": \"x3\", \"domain\": [0.35666666666666663, 0.6433333333333333], \"matches\": \"y\", \"title\": {\"text\": \"count\"}}, \"yaxis4\": {\"anchor\": \"x4\", \"domain\": [0.35666666666666663, 0.6433333333333333], \"matches\": \"y\", \"showticklabels\": false}, \"yaxis5\": {\"anchor\": \"x5\", \"domain\": [0.7133333333333333, 0.9999999999999999], \"matches\": \"y\", \"title\": {\"text\": \"count\"}}, \"yaxis6\": {\"anchor\": \"x6\", \"domain\": [0.7133333333333333, 0.9999999999999999], \"matches\": \"y\", \"showticklabels\": false}},                        {\"responsive\": true}                    ).then(function(){\n",
       "                            \n",
       "var gd = document.getElementById('0f037c16-190e-44df-8b61-9bb1a2c1b36b');\n",
       "var x = new MutationObserver(function (mutations, observer) {{\n",
       "        var display = window.getComputedStyle(gd).display;\n",
       "        if (!display || display === 'none') {{\n",
       "            console.log([gd, 'removed!']);\n",
       "            Plotly.purge(gd);\n",
       "            observer.disconnect();\n",
       "        }}\n",
       "}});\n",
       "\n",
       "// Listen for the removal of the full notebook cells\n",
       "var notebookContainer = gd.closest('#notebook-container');\n",
       "if (notebookContainer) {{\n",
       "    x.observe(notebookContainer, {childList: true});\n",
       "}}\n",
       "\n",
       "// Listen for the clearing of the current output cell\n",
       "var outputEl = gd.closest('.output');\n",
       "if (outputEl) {{\n",
       "    x.observe(outputEl, {childList: true});\n",
       "}}\n",
       "\n",
       "                        })                };                });            </script>        </div>"
      ]
     },
     "metadata": {},
     "output_type": "display_data"
    },
    {
     "name": "stdout",
     "output_type": "stream",
     "text": [
      "    test_name limiar_AP                                      params_values params_nr  alpha   p_value fail_to_reject_H0 reject_H0  chi_squared\n",
      "0  Friedman_R      None  [autoencoder_nolle, binet1, detect_infrequents...         5   0.05  0.017351             False      True         12.0\n",
      "1  Friedman_R      None  [autoencoder_nolle, binet1, detect_infrequents...         4   0.05  0.029291             False      True          9.0\n",
      "2  Friedman_R      None  [autoencoder_nolle, binet1, detect_infrequents...         4   0.05  0.029291             False      True          9.0\n",
      "3  Friedman_R      None    [autoencoder_nolle, binet1, random, tstideplus]         4   0.05  0.029291             False      True          9.0\n",
      "4  Friedman_R      None  [autoencoder_nolle, detect_infrequents, random...         4   0.05  0.029291             False      True          9.0\n",
      "\n",
      " Test Analysis: for ia\n"
     ]
    },
    {
     "data": {
      "application/vnd.plotly.v1+json": {
       "config": {
        "linkText": "Export to plot.ly",
        "plotlyServerURL": "https://plot.ly",
        "showLink": false
       },
       "data": [
        {
         "alignmentgroup": "True",
         "bingroup": "x",
         "hovertemplate": "p_modelit_type=autoencoder_nolle<br>AP=%{x}<br>count=%{y}<extra></extra>",
         "legendgroup": "",
         "marker": {
          "color": "#636efa"
         },
         "name": "",
         "offsetgroup": "",
         "orientation": "v",
         "showlegend": false,
         "type": "histogram",
         "x": [
          0.56101801661132,
          0.6393585997838184,
          0.49622622421455526
         ],
         "xaxis": "x5",
         "yaxis": "y5"
        },
        {
         "alignmentgroup": "True",
         "bingroup": "x",
         "hovertemplate": "p_modelit_type=binet1<br>AP=%{x}<br>count=%{y}<extra></extra>",
         "legendgroup": "",
         "marker": {
          "color": "#636efa"
         },
         "name": "",
         "offsetgroup": "",
         "orientation": "v",
         "showlegend": false,
         "type": "histogram",
         "x": [
          0.44274398924668823,
          0.42068354312681605,
          0.4312571510748822
         ],
         "xaxis": "x6",
         "yaxis": "y6"
        },
        {
         "alignmentgroup": "True",
         "bingroup": "x",
         "hovertemplate": "p_modelit_type=detect_infrequents<br>AP=%{x}<br>count=%{y}<extra></extra>",
         "legendgroup": "",
         "marker": {
          "color": "#636efa"
         },
         "name": "",
         "offsetgroup": "",
         "orientation": "v",
         "showlegend": false,
         "type": "histogram",
         "x": [
          0.9649448723671705,
          0.9513991198609775,
          0.9584991600554547
         ],
         "xaxis": "x3",
         "yaxis": "y3"
        },
        {
         "alignmentgroup": "True",
         "bingroup": "x",
         "hovertemplate": "p_modelit_type=random<br>AP=%{x}<br>count=%{y}<extra></extra>",
         "legendgroup": "",
         "marker": {
          "color": "#636efa"
         },
         "name": "",
         "offsetgroup": "",
         "orientation": "v",
         "showlegend": false,
         "type": "histogram",
         "x": [
          0.3518344980434486,
          0.32152336743502874,
          0.3086196159364242
         ],
         "xaxis": "x4",
         "yaxis": "y4"
        },
        {
         "alignmentgroup": "True",
         "bingroup": "x",
         "hovertemplate": "p_modelit_type=tstideplus<br>AP=%{x}<br>count=%{y}<extra></extra>",
         "legendgroup": "",
         "marker": {
          "color": "#636efa"
         },
         "name": "",
         "offsetgroup": "",
         "orientation": "v",
         "showlegend": false,
         "type": "histogram",
         "x": [
          0.9533333333333334,
          0.9595555555555556,
          0.9626666666666666
         ],
         "xaxis": "x",
         "yaxis": "y"
        }
       ],
       "layout": {
        "annotations": [
         {
          "showarrow": false,
          "text": "p_modelit_type=tstideplus",
          "x": 0.245,
          "xanchor": "center",
          "xref": "paper",
          "y": 0.2866666666666666,
          "yanchor": "bottom",
          "yref": "paper"
         },
         {
          "showarrow": false,
          "text": "p_modelit_type=detect_infrequents",
          "x": 0.245,
          "xanchor": "center",
          "xref": "paper",
          "y": 0.6433333333333333,
          "yanchor": "bottom",
          "yref": "paper"
         },
         {
          "showarrow": false,
          "text": "p_modelit_type=random",
          "x": 0.755,
          "xanchor": "center",
          "xref": "paper",
          "y": 0.6433333333333333,
          "yanchor": "bottom",
          "yref": "paper"
         },
         {
          "showarrow": false,
          "text": "p_modelit_type=autoencoder_nolle",
          "x": 0.245,
          "xanchor": "center",
          "xref": "paper",
          "y": 0.9999999999999999,
          "yanchor": "bottom",
          "yref": "paper"
         },
         {
          "showarrow": false,
          "text": "p_modelit_type=binet1",
          "x": 0.755,
          "xanchor": "center",
          "xref": "paper",
          "y": 0.9999999999999999,
          "yanchor": "bottom",
          "yref": "paper"
         }
        ],
        "barmode": "relative",
        "legend": {
         "tracegroupgap": 0
        },
        "template": {
         "data": {
          "bar": [
           {
            "error_x": {
             "color": "#2a3f5f"
            },
            "error_y": {
             "color": "#2a3f5f"
            },
            "marker": {
             "line": {
              "color": "#E5ECF6",
              "width": 0.5
             }
            },
            "type": "bar"
           }
          ],
          "barpolar": [
           {
            "marker": {
             "line": {
              "color": "#E5ECF6",
              "width": 0.5
             }
            },
            "type": "barpolar"
           }
          ],
          "carpet": [
           {
            "aaxis": {
             "endlinecolor": "#2a3f5f",
             "gridcolor": "white",
             "linecolor": "white",
             "minorgridcolor": "white",
             "startlinecolor": "#2a3f5f"
            },
            "baxis": {
             "endlinecolor": "#2a3f5f",
             "gridcolor": "white",
             "linecolor": "white",
             "minorgridcolor": "white",
             "startlinecolor": "#2a3f5f"
            },
            "type": "carpet"
           }
          ],
          "choropleth": [
           {
            "colorbar": {
             "outlinewidth": 0,
             "ticks": ""
            },
            "type": "choropleth"
           }
          ],
          "contour": [
           {
            "colorbar": {
             "outlinewidth": 0,
             "ticks": ""
            },
            "colorscale": [
             [
              0,
              "#0d0887"
             ],
             [
              0.1111111111111111,
              "#46039f"
             ],
             [
              0.2222222222222222,
              "#7201a8"
             ],
             [
              0.3333333333333333,
              "#9c179e"
             ],
             [
              0.4444444444444444,
              "#bd3786"
             ],
             [
              0.5555555555555556,
              "#d8576b"
             ],
             [
              0.6666666666666666,
              "#ed7953"
             ],
             [
              0.7777777777777778,
              "#fb9f3a"
             ],
             [
              0.8888888888888888,
              "#fdca26"
             ],
             [
              1,
              "#f0f921"
             ]
            ],
            "type": "contour"
           }
          ],
          "contourcarpet": [
           {
            "colorbar": {
             "outlinewidth": 0,
             "ticks": ""
            },
            "type": "contourcarpet"
           }
          ],
          "heatmap": [
           {
            "colorbar": {
             "outlinewidth": 0,
             "ticks": ""
            },
            "colorscale": [
             [
              0,
              "#0d0887"
             ],
             [
              0.1111111111111111,
              "#46039f"
             ],
             [
              0.2222222222222222,
              "#7201a8"
             ],
             [
              0.3333333333333333,
              "#9c179e"
             ],
             [
              0.4444444444444444,
              "#bd3786"
             ],
             [
              0.5555555555555556,
              "#d8576b"
             ],
             [
              0.6666666666666666,
              "#ed7953"
             ],
             [
              0.7777777777777778,
              "#fb9f3a"
             ],
             [
              0.8888888888888888,
              "#fdca26"
             ],
             [
              1,
              "#f0f921"
             ]
            ],
            "type": "heatmap"
           }
          ],
          "heatmapgl": [
           {
            "colorbar": {
             "outlinewidth": 0,
             "ticks": ""
            },
            "colorscale": [
             [
              0,
              "#0d0887"
             ],
             [
              0.1111111111111111,
              "#46039f"
             ],
             [
              0.2222222222222222,
              "#7201a8"
             ],
             [
              0.3333333333333333,
              "#9c179e"
             ],
             [
              0.4444444444444444,
              "#bd3786"
             ],
             [
              0.5555555555555556,
              "#d8576b"
             ],
             [
              0.6666666666666666,
              "#ed7953"
             ],
             [
              0.7777777777777778,
              "#fb9f3a"
             ],
             [
              0.8888888888888888,
              "#fdca26"
             ],
             [
              1,
              "#f0f921"
             ]
            ],
            "type": "heatmapgl"
           }
          ],
          "histogram": [
           {
            "marker": {
             "colorbar": {
              "outlinewidth": 0,
              "ticks": ""
             }
            },
            "type": "histogram"
           }
          ],
          "histogram2d": [
           {
            "colorbar": {
             "outlinewidth": 0,
             "ticks": ""
            },
            "colorscale": [
             [
              0,
              "#0d0887"
             ],
             [
              0.1111111111111111,
              "#46039f"
             ],
             [
              0.2222222222222222,
              "#7201a8"
             ],
             [
              0.3333333333333333,
              "#9c179e"
             ],
             [
              0.4444444444444444,
              "#bd3786"
             ],
             [
              0.5555555555555556,
              "#d8576b"
             ],
             [
              0.6666666666666666,
              "#ed7953"
             ],
             [
              0.7777777777777778,
              "#fb9f3a"
             ],
             [
              0.8888888888888888,
              "#fdca26"
             ],
             [
              1,
              "#f0f921"
             ]
            ],
            "type": "histogram2d"
           }
          ],
          "histogram2dcontour": [
           {
            "colorbar": {
             "outlinewidth": 0,
             "ticks": ""
            },
            "colorscale": [
             [
              0,
              "#0d0887"
             ],
             [
              0.1111111111111111,
              "#46039f"
             ],
             [
              0.2222222222222222,
              "#7201a8"
             ],
             [
              0.3333333333333333,
              "#9c179e"
             ],
             [
              0.4444444444444444,
              "#bd3786"
             ],
             [
              0.5555555555555556,
              "#d8576b"
             ],
             [
              0.6666666666666666,
              "#ed7953"
             ],
             [
              0.7777777777777778,
              "#fb9f3a"
             ],
             [
              0.8888888888888888,
              "#fdca26"
             ],
             [
              1,
              "#f0f921"
             ]
            ],
            "type": "histogram2dcontour"
           }
          ],
          "mesh3d": [
           {
            "colorbar": {
             "outlinewidth": 0,
             "ticks": ""
            },
            "type": "mesh3d"
           }
          ],
          "parcoords": [
           {
            "line": {
             "colorbar": {
              "outlinewidth": 0,
              "ticks": ""
             }
            },
            "type": "parcoords"
           }
          ],
          "pie": [
           {
            "automargin": true,
            "type": "pie"
           }
          ],
          "scatter": [
           {
            "marker": {
             "colorbar": {
              "outlinewidth": 0,
              "ticks": ""
             }
            },
            "type": "scatter"
           }
          ],
          "scatter3d": [
           {
            "line": {
             "colorbar": {
              "outlinewidth": 0,
              "ticks": ""
             }
            },
            "marker": {
             "colorbar": {
              "outlinewidth": 0,
              "ticks": ""
             }
            },
            "type": "scatter3d"
           }
          ],
          "scattercarpet": [
           {
            "marker": {
             "colorbar": {
              "outlinewidth": 0,
              "ticks": ""
             }
            },
            "type": "scattercarpet"
           }
          ],
          "scattergeo": [
           {
            "marker": {
             "colorbar": {
              "outlinewidth": 0,
              "ticks": ""
             }
            },
            "type": "scattergeo"
           }
          ],
          "scattergl": [
           {
            "marker": {
             "colorbar": {
              "outlinewidth": 0,
              "ticks": ""
             }
            },
            "type": "scattergl"
           }
          ],
          "scattermapbox": [
           {
            "marker": {
             "colorbar": {
              "outlinewidth": 0,
              "ticks": ""
             }
            },
            "type": "scattermapbox"
           }
          ],
          "scatterpolar": [
           {
            "marker": {
             "colorbar": {
              "outlinewidth": 0,
              "ticks": ""
             }
            },
            "type": "scatterpolar"
           }
          ],
          "scatterpolargl": [
           {
            "marker": {
             "colorbar": {
              "outlinewidth": 0,
              "ticks": ""
             }
            },
            "type": "scatterpolargl"
           }
          ],
          "scatterternary": [
           {
            "marker": {
             "colorbar": {
              "outlinewidth": 0,
              "ticks": ""
             }
            },
            "type": "scatterternary"
           }
          ],
          "surface": [
           {
            "colorbar": {
             "outlinewidth": 0,
             "ticks": ""
            },
            "colorscale": [
             [
              0,
              "#0d0887"
             ],
             [
              0.1111111111111111,
              "#46039f"
             ],
             [
              0.2222222222222222,
              "#7201a8"
             ],
             [
              0.3333333333333333,
              "#9c179e"
             ],
             [
              0.4444444444444444,
              "#bd3786"
             ],
             [
              0.5555555555555556,
              "#d8576b"
             ],
             [
              0.6666666666666666,
              "#ed7953"
             ],
             [
              0.7777777777777778,
              "#fb9f3a"
             ],
             [
              0.8888888888888888,
              "#fdca26"
             ],
             [
              1,
              "#f0f921"
             ]
            ],
            "type": "surface"
           }
          ],
          "table": [
           {
            "cells": {
             "fill": {
              "color": "#EBF0F8"
             },
             "line": {
              "color": "white"
             }
            },
            "header": {
             "fill": {
              "color": "#C8D4E3"
             },
             "line": {
              "color": "white"
             }
            },
            "type": "table"
           }
          ]
         },
         "layout": {
          "annotationdefaults": {
           "arrowcolor": "#2a3f5f",
           "arrowhead": 0,
           "arrowwidth": 1
          },
          "autotypenumbers": "strict",
          "coloraxis": {
           "colorbar": {
            "outlinewidth": 0,
            "ticks": ""
           }
          },
          "colorscale": {
           "diverging": [
            [
             0,
             "#8e0152"
            ],
            [
             0.1,
             "#c51b7d"
            ],
            [
             0.2,
             "#de77ae"
            ],
            [
             0.3,
             "#f1b6da"
            ],
            [
             0.4,
             "#fde0ef"
            ],
            [
             0.5,
             "#f7f7f7"
            ],
            [
             0.6,
             "#e6f5d0"
            ],
            [
             0.7,
             "#b8e186"
            ],
            [
             0.8,
             "#7fbc41"
            ],
            [
             0.9,
             "#4d9221"
            ],
            [
             1,
             "#276419"
            ]
           ],
           "sequential": [
            [
             0,
             "#0d0887"
            ],
            [
             0.1111111111111111,
             "#46039f"
            ],
            [
             0.2222222222222222,
             "#7201a8"
            ],
            [
             0.3333333333333333,
             "#9c179e"
            ],
            [
             0.4444444444444444,
             "#bd3786"
            ],
            [
             0.5555555555555556,
             "#d8576b"
            ],
            [
             0.6666666666666666,
             "#ed7953"
            ],
            [
             0.7777777777777778,
             "#fb9f3a"
            ],
            [
             0.8888888888888888,
             "#fdca26"
            ],
            [
             1,
             "#f0f921"
            ]
           ],
           "sequentialminus": [
            [
             0,
             "#0d0887"
            ],
            [
             0.1111111111111111,
             "#46039f"
            ],
            [
             0.2222222222222222,
             "#7201a8"
            ],
            [
             0.3333333333333333,
             "#9c179e"
            ],
            [
             0.4444444444444444,
             "#bd3786"
            ],
            [
             0.5555555555555556,
             "#d8576b"
            ],
            [
             0.6666666666666666,
             "#ed7953"
            ],
            [
             0.7777777777777778,
             "#fb9f3a"
            ],
            [
             0.8888888888888888,
             "#fdca26"
            ],
            [
             1,
             "#f0f921"
            ]
           ]
          },
          "colorway": [
           "#636efa",
           "#EF553B",
           "#00cc96",
           "#ab63fa",
           "#FFA15A",
           "#19d3f3",
           "#FF6692",
           "#B6E880",
           "#FF97FF",
           "#FECB52"
          ],
          "font": {
           "color": "#2a3f5f"
          },
          "geo": {
           "bgcolor": "white",
           "lakecolor": "white",
           "landcolor": "#E5ECF6",
           "showlakes": true,
           "showland": true,
           "subunitcolor": "white"
          },
          "hoverlabel": {
           "align": "left"
          },
          "hovermode": "closest",
          "mapbox": {
           "style": "light"
          },
          "paper_bgcolor": "white",
          "plot_bgcolor": "#E5ECF6",
          "polar": {
           "angularaxis": {
            "gridcolor": "white",
            "linecolor": "white",
            "ticks": ""
           },
           "bgcolor": "#E5ECF6",
           "radialaxis": {
            "gridcolor": "white",
            "linecolor": "white",
            "ticks": ""
           }
          },
          "scene": {
           "xaxis": {
            "backgroundcolor": "#E5ECF6",
            "gridcolor": "white",
            "gridwidth": 2,
            "linecolor": "white",
            "showbackground": true,
            "ticks": "",
            "zerolinecolor": "white"
           },
           "yaxis": {
            "backgroundcolor": "#E5ECF6",
            "gridcolor": "white",
            "gridwidth": 2,
            "linecolor": "white",
            "showbackground": true,
            "ticks": "",
            "zerolinecolor": "white"
           },
           "zaxis": {
            "backgroundcolor": "#E5ECF6",
            "gridcolor": "white",
            "gridwidth": 2,
            "linecolor": "white",
            "showbackground": true,
            "ticks": "",
            "zerolinecolor": "white"
           }
          },
          "shapedefaults": {
           "line": {
            "color": "#2a3f5f"
           }
          },
          "ternary": {
           "aaxis": {
            "gridcolor": "white",
            "linecolor": "white",
            "ticks": ""
           },
           "baxis": {
            "gridcolor": "white",
            "linecolor": "white",
            "ticks": ""
           },
           "bgcolor": "#E5ECF6",
           "caxis": {
            "gridcolor": "white",
            "linecolor": "white",
            "ticks": ""
           }
          },
          "title": {
           "x": 0.05
          },
          "xaxis": {
           "automargin": true,
           "gridcolor": "white",
           "linecolor": "white",
           "ticks": "",
           "title": {
            "standoff": 15
           },
           "zerolinecolor": "white",
           "zerolinewidth": 2
          },
          "yaxis": {
           "automargin": true,
           "gridcolor": "white",
           "linecolor": "white",
           "ticks": "",
           "title": {
            "standoff": 15
           },
           "zerolinecolor": "white",
           "zerolinewidth": 2
          }
         }
        },
        "title": {
         "text": "Histogram"
        },
        "xaxis": {
         "anchor": "y",
         "domain": [
          0,
          0.49
         ],
         "title": {
          "text": "AP"
         }
        },
        "xaxis2": {
         "anchor": "y2",
         "domain": [
          0.51,
          1
         ],
         "matches": "x",
         "title": {
          "text": "AP"
         }
        },
        "xaxis3": {
         "anchor": "y3",
         "domain": [
          0,
          0.49
         ],
         "matches": "x",
         "showticklabels": false
        },
        "xaxis4": {
         "anchor": "y4",
         "domain": [
          0.51,
          1
         ],
         "matches": "x",
         "showticklabels": false
        },
        "xaxis5": {
         "anchor": "y5",
         "domain": [
          0,
          0.49
         ],
         "matches": "x",
         "showticklabels": false
        },
        "xaxis6": {
         "anchor": "y6",
         "domain": [
          0.51,
          1
         ],
         "matches": "x",
         "showticklabels": false
        },
        "yaxis": {
         "anchor": "x",
         "domain": [
          0,
          0.2866666666666666
         ],
         "title": {
          "text": "count"
         }
        },
        "yaxis2": {
         "anchor": "x2",
         "domain": [
          0,
          0.2866666666666666
         ],
         "matches": "y",
         "showticklabels": false
        },
        "yaxis3": {
         "anchor": "x3",
         "domain": [
          0.35666666666666663,
          0.6433333333333333
         ],
         "matches": "y",
         "title": {
          "text": "count"
         }
        },
        "yaxis4": {
         "anchor": "x4",
         "domain": [
          0.35666666666666663,
          0.6433333333333333
         ],
         "matches": "y",
         "showticklabels": false
        },
        "yaxis5": {
         "anchor": "x5",
         "domain": [
          0.7133333333333333,
          0.9999999999999999
         ],
         "matches": "y",
         "title": {
          "text": "count"
         }
        },
        "yaxis6": {
         "anchor": "x6",
         "domain": [
          0.7133333333333333,
          0.9999999999999999
         ],
         "matches": "y",
         "showticklabels": false
        }
       }
      },
      "text/html": [
       "<div>                            <div id=\"f8a63448-c3a1-4f1b-9858-25afb38a94dd\" class=\"plotly-graph-div\" style=\"height:525px; width:100%;\"></div>            <script type=\"text/javascript\">                require([\"plotly\"], function(Plotly) {                    window.PLOTLYENV=window.PLOTLYENV || {};                                    if (document.getElementById(\"f8a63448-c3a1-4f1b-9858-25afb38a94dd\")) {                    Plotly.newPlot(                        \"f8a63448-c3a1-4f1b-9858-25afb38a94dd\",                        [{\"alignmentgroup\": \"True\", \"bingroup\": \"x\", \"hovertemplate\": \"p_modelit_type=autoencoder_nolle<br>AP=%{x}<br>count=%{y}<extra></extra>\", \"legendgroup\": \"\", \"marker\": {\"color\": \"#636efa\"}, \"name\": \"\", \"offsetgroup\": \"\", \"orientation\": \"v\", \"showlegend\": false, \"type\": \"histogram\", \"x\": [0.56101801661132, 0.6393585997838184, 0.49622622421455526], \"xaxis\": \"x5\", \"yaxis\": \"y5\"}, {\"alignmentgroup\": \"True\", \"bingroup\": \"x\", \"hovertemplate\": \"p_modelit_type=binet1<br>AP=%{x}<br>count=%{y}<extra></extra>\", \"legendgroup\": \"\", \"marker\": {\"color\": \"#636efa\"}, \"name\": \"\", \"offsetgroup\": \"\", \"orientation\": \"v\", \"showlegend\": false, \"type\": \"histogram\", \"x\": [0.44274398924668823, 0.42068354312681605, 0.4312571510748822], \"xaxis\": \"x6\", \"yaxis\": \"y6\"}, {\"alignmentgroup\": \"True\", \"bingroup\": \"x\", \"hovertemplate\": \"p_modelit_type=detect_infrequents<br>AP=%{x}<br>count=%{y}<extra></extra>\", \"legendgroup\": \"\", \"marker\": {\"color\": \"#636efa\"}, \"name\": \"\", \"offsetgroup\": \"\", \"orientation\": \"v\", \"showlegend\": false, \"type\": \"histogram\", \"x\": [0.9649448723671705, 0.9513991198609775, 0.9584991600554547], \"xaxis\": \"x3\", \"yaxis\": \"y3\"}, {\"alignmentgroup\": \"True\", \"bingroup\": \"x\", \"hovertemplate\": \"p_modelit_type=random<br>AP=%{x}<br>count=%{y}<extra></extra>\", \"legendgroup\": \"\", \"marker\": {\"color\": \"#636efa\"}, \"name\": \"\", \"offsetgroup\": \"\", \"orientation\": \"v\", \"showlegend\": false, \"type\": \"histogram\", \"x\": [0.3518344980434486, 0.32152336743502874, 0.3086196159364242], \"xaxis\": \"x4\", \"yaxis\": \"y4\"}, {\"alignmentgroup\": \"True\", \"bingroup\": \"x\", \"hovertemplate\": \"p_modelit_type=tstideplus<br>AP=%{x}<br>count=%{y}<extra></extra>\", \"legendgroup\": \"\", \"marker\": {\"color\": \"#636efa\"}, \"name\": \"\", \"offsetgroup\": \"\", \"orientation\": \"v\", \"showlegend\": false, \"type\": \"histogram\", \"x\": [0.9533333333333334, 0.9595555555555556, 0.9626666666666666], \"xaxis\": \"x\", \"yaxis\": \"y\"}],                        {\"annotations\": [{\"showarrow\": false, \"text\": \"p_modelit_type=tstideplus\", \"x\": 0.245, \"xanchor\": \"center\", \"xref\": \"paper\", \"y\": 0.2866666666666666, \"yanchor\": \"bottom\", \"yref\": \"paper\"}, {\"showarrow\": false, \"text\": \"p_modelit_type=detect_infrequents\", \"x\": 0.245, \"xanchor\": \"center\", \"xref\": \"paper\", \"y\": 0.6433333333333333, \"yanchor\": \"bottom\", \"yref\": \"paper\"}, {\"showarrow\": false, \"text\": \"p_modelit_type=random\", \"x\": 0.755, \"xanchor\": \"center\", \"xref\": \"paper\", \"y\": 0.6433333333333333, \"yanchor\": \"bottom\", \"yref\": \"paper\"}, {\"showarrow\": false, \"text\": \"p_modelit_type=autoencoder_nolle\", \"x\": 0.245, \"xanchor\": \"center\", \"xref\": \"paper\", \"y\": 0.9999999999999999, \"yanchor\": \"bottom\", \"yref\": \"paper\"}, {\"showarrow\": false, \"text\": \"p_modelit_type=binet1\", \"x\": 0.755, \"xanchor\": \"center\", \"xref\": \"paper\", \"y\": 0.9999999999999999, \"yanchor\": \"bottom\", \"yref\": \"paper\"}], \"barmode\": \"relative\", \"legend\": {\"tracegroupgap\": 0}, \"template\": {\"data\": {\"bar\": [{\"error_x\": {\"color\": \"#2a3f5f\"}, \"error_y\": {\"color\": \"#2a3f5f\"}, \"marker\": {\"line\": {\"color\": \"#E5ECF6\", \"width\": 0.5}}, \"type\": \"bar\"}], \"barpolar\": [{\"marker\": {\"line\": {\"color\": \"#E5ECF6\", \"width\": 0.5}}, \"type\": \"barpolar\"}], \"carpet\": [{\"aaxis\": {\"endlinecolor\": \"#2a3f5f\", \"gridcolor\": \"white\", \"linecolor\": \"white\", \"minorgridcolor\": \"white\", \"startlinecolor\": \"#2a3f5f\"}, \"baxis\": {\"endlinecolor\": \"#2a3f5f\", \"gridcolor\": \"white\", \"linecolor\": \"white\", \"minorgridcolor\": \"white\", \"startlinecolor\": \"#2a3f5f\"}, \"type\": \"carpet\"}], \"choropleth\": [{\"colorbar\": {\"outlinewidth\": 0, \"ticks\": \"\"}, \"type\": \"choropleth\"}], \"contour\": [{\"colorbar\": {\"outlinewidth\": 0, \"ticks\": \"\"}, \"colorscale\": [[0.0, \"#0d0887\"], [0.1111111111111111, \"#46039f\"], [0.2222222222222222, \"#7201a8\"], [0.3333333333333333, \"#9c179e\"], [0.4444444444444444, \"#bd3786\"], [0.5555555555555556, \"#d8576b\"], [0.6666666666666666, \"#ed7953\"], [0.7777777777777778, \"#fb9f3a\"], [0.8888888888888888, \"#fdca26\"], [1.0, \"#f0f921\"]], \"type\": \"contour\"}], \"contourcarpet\": [{\"colorbar\": {\"outlinewidth\": 0, \"ticks\": \"\"}, \"type\": \"contourcarpet\"}], \"heatmap\": [{\"colorbar\": {\"outlinewidth\": 0, \"ticks\": \"\"}, \"colorscale\": [[0.0, \"#0d0887\"], [0.1111111111111111, \"#46039f\"], [0.2222222222222222, \"#7201a8\"], [0.3333333333333333, \"#9c179e\"], [0.4444444444444444, \"#bd3786\"], [0.5555555555555556, \"#d8576b\"], [0.6666666666666666, \"#ed7953\"], [0.7777777777777778, \"#fb9f3a\"], [0.8888888888888888, \"#fdca26\"], [1.0, \"#f0f921\"]], \"type\": \"heatmap\"}], \"heatmapgl\": [{\"colorbar\": {\"outlinewidth\": 0, \"ticks\": \"\"}, \"colorscale\": [[0.0, \"#0d0887\"], [0.1111111111111111, \"#46039f\"], [0.2222222222222222, \"#7201a8\"], [0.3333333333333333, \"#9c179e\"], [0.4444444444444444, \"#bd3786\"], [0.5555555555555556, \"#d8576b\"], [0.6666666666666666, \"#ed7953\"], [0.7777777777777778, \"#fb9f3a\"], [0.8888888888888888, \"#fdca26\"], [1.0, \"#f0f921\"]], \"type\": \"heatmapgl\"}], \"histogram\": [{\"marker\": {\"colorbar\": {\"outlinewidth\": 0, \"ticks\": \"\"}}, \"type\": \"histogram\"}], \"histogram2d\": [{\"colorbar\": {\"outlinewidth\": 0, \"ticks\": \"\"}, \"colorscale\": [[0.0, \"#0d0887\"], [0.1111111111111111, \"#46039f\"], [0.2222222222222222, \"#7201a8\"], [0.3333333333333333, \"#9c179e\"], [0.4444444444444444, \"#bd3786\"], [0.5555555555555556, \"#d8576b\"], [0.6666666666666666, \"#ed7953\"], [0.7777777777777778, \"#fb9f3a\"], [0.8888888888888888, \"#fdca26\"], [1.0, \"#f0f921\"]], \"type\": \"histogram2d\"}], \"histogram2dcontour\": [{\"colorbar\": {\"outlinewidth\": 0, \"ticks\": \"\"}, \"colorscale\": [[0.0, \"#0d0887\"], [0.1111111111111111, \"#46039f\"], [0.2222222222222222, \"#7201a8\"], [0.3333333333333333, \"#9c179e\"], [0.4444444444444444, \"#bd3786\"], [0.5555555555555556, \"#d8576b\"], [0.6666666666666666, \"#ed7953\"], [0.7777777777777778, \"#fb9f3a\"], [0.8888888888888888, \"#fdca26\"], [1.0, \"#f0f921\"]], \"type\": \"histogram2dcontour\"}], \"mesh3d\": [{\"colorbar\": {\"outlinewidth\": 0, \"ticks\": \"\"}, \"type\": \"mesh3d\"}], \"parcoords\": [{\"line\": {\"colorbar\": {\"outlinewidth\": 0, \"ticks\": \"\"}}, \"type\": \"parcoords\"}], \"pie\": [{\"automargin\": true, \"type\": \"pie\"}], \"scatter\": [{\"marker\": {\"colorbar\": {\"outlinewidth\": 0, \"ticks\": \"\"}}, \"type\": \"scatter\"}], \"scatter3d\": [{\"line\": {\"colorbar\": {\"outlinewidth\": 0, \"ticks\": \"\"}}, \"marker\": {\"colorbar\": {\"outlinewidth\": 0, \"ticks\": \"\"}}, \"type\": \"scatter3d\"}], \"scattercarpet\": [{\"marker\": {\"colorbar\": {\"outlinewidth\": 0, \"ticks\": \"\"}}, \"type\": \"scattercarpet\"}], \"scattergeo\": [{\"marker\": {\"colorbar\": {\"outlinewidth\": 0, \"ticks\": \"\"}}, \"type\": \"scattergeo\"}], \"scattergl\": [{\"marker\": {\"colorbar\": {\"outlinewidth\": 0, \"ticks\": \"\"}}, \"type\": \"scattergl\"}], \"scattermapbox\": [{\"marker\": {\"colorbar\": {\"outlinewidth\": 0, \"ticks\": \"\"}}, \"type\": \"scattermapbox\"}], \"scatterpolar\": [{\"marker\": {\"colorbar\": {\"outlinewidth\": 0, \"ticks\": \"\"}}, \"type\": \"scatterpolar\"}], \"scatterpolargl\": [{\"marker\": {\"colorbar\": {\"outlinewidth\": 0, \"ticks\": \"\"}}, \"type\": \"scatterpolargl\"}], \"scatterternary\": [{\"marker\": {\"colorbar\": {\"outlinewidth\": 0, \"ticks\": \"\"}}, \"type\": \"scatterternary\"}], \"surface\": [{\"colorbar\": {\"outlinewidth\": 0, \"ticks\": \"\"}, \"colorscale\": [[0.0, \"#0d0887\"], [0.1111111111111111, \"#46039f\"], [0.2222222222222222, \"#7201a8\"], [0.3333333333333333, \"#9c179e\"], [0.4444444444444444, \"#bd3786\"], [0.5555555555555556, \"#d8576b\"], [0.6666666666666666, \"#ed7953\"], [0.7777777777777778, \"#fb9f3a\"], [0.8888888888888888, \"#fdca26\"], [1.0, \"#f0f921\"]], \"type\": \"surface\"}], \"table\": [{\"cells\": {\"fill\": {\"color\": \"#EBF0F8\"}, \"line\": {\"color\": \"white\"}}, \"header\": {\"fill\": {\"color\": \"#C8D4E3\"}, \"line\": {\"color\": \"white\"}}, \"type\": \"table\"}]}, \"layout\": {\"annotationdefaults\": {\"arrowcolor\": \"#2a3f5f\", \"arrowhead\": 0, \"arrowwidth\": 1}, \"autotypenumbers\": \"strict\", \"coloraxis\": {\"colorbar\": {\"outlinewidth\": 0, \"ticks\": \"\"}}, \"colorscale\": {\"diverging\": [[0, \"#8e0152\"], [0.1, \"#c51b7d\"], [0.2, \"#de77ae\"], [0.3, \"#f1b6da\"], [0.4, \"#fde0ef\"], [0.5, \"#f7f7f7\"], [0.6, \"#e6f5d0\"], [0.7, \"#b8e186\"], [0.8, \"#7fbc41\"], [0.9, \"#4d9221\"], [1, \"#276419\"]], \"sequential\": [[0.0, \"#0d0887\"], [0.1111111111111111, \"#46039f\"], [0.2222222222222222, \"#7201a8\"], [0.3333333333333333, \"#9c179e\"], [0.4444444444444444, \"#bd3786\"], [0.5555555555555556, \"#d8576b\"], [0.6666666666666666, \"#ed7953\"], [0.7777777777777778, \"#fb9f3a\"], [0.8888888888888888, \"#fdca26\"], [1.0, \"#f0f921\"]], \"sequentialminus\": [[0.0, \"#0d0887\"], [0.1111111111111111, \"#46039f\"], [0.2222222222222222, \"#7201a8\"], [0.3333333333333333, \"#9c179e\"], [0.4444444444444444, \"#bd3786\"], [0.5555555555555556, \"#d8576b\"], [0.6666666666666666, \"#ed7953\"], [0.7777777777777778, \"#fb9f3a\"], [0.8888888888888888, \"#fdca26\"], [1.0, \"#f0f921\"]]}, \"colorway\": [\"#636efa\", \"#EF553B\", \"#00cc96\", \"#ab63fa\", \"#FFA15A\", \"#19d3f3\", \"#FF6692\", \"#B6E880\", \"#FF97FF\", \"#FECB52\"], \"font\": {\"color\": \"#2a3f5f\"}, \"geo\": {\"bgcolor\": \"white\", \"lakecolor\": \"white\", \"landcolor\": \"#E5ECF6\", \"showlakes\": true, \"showland\": true, \"subunitcolor\": \"white\"}, \"hoverlabel\": {\"align\": \"left\"}, \"hovermode\": \"closest\", \"mapbox\": {\"style\": \"light\"}, \"paper_bgcolor\": \"white\", \"plot_bgcolor\": \"#E5ECF6\", \"polar\": {\"angularaxis\": {\"gridcolor\": \"white\", \"linecolor\": \"white\", \"ticks\": \"\"}, \"bgcolor\": \"#E5ECF6\", \"radialaxis\": {\"gridcolor\": \"white\", \"linecolor\": \"white\", \"ticks\": \"\"}}, \"scene\": {\"xaxis\": {\"backgroundcolor\": \"#E5ECF6\", \"gridcolor\": \"white\", \"gridwidth\": 2, \"linecolor\": \"white\", \"showbackground\": true, \"ticks\": \"\", \"zerolinecolor\": \"white\"}, \"yaxis\": {\"backgroundcolor\": \"#E5ECF6\", \"gridcolor\": \"white\", \"gridwidth\": 2, \"linecolor\": \"white\", \"showbackground\": true, \"ticks\": \"\", \"zerolinecolor\": \"white\"}, \"zaxis\": {\"backgroundcolor\": \"#E5ECF6\", \"gridcolor\": \"white\", \"gridwidth\": 2, \"linecolor\": \"white\", \"showbackground\": true, \"ticks\": \"\", \"zerolinecolor\": \"white\"}}, \"shapedefaults\": {\"line\": {\"color\": \"#2a3f5f\"}}, \"ternary\": {\"aaxis\": {\"gridcolor\": \"white\", \"linecolor\": \"white\", \"ticks\": \"\"}, \"baxis\": {\"gridcolor\": \"white\", \"linecolor\": \"white\", \"ticks\": \"\"}, \"bgcolor\": \"#E5ECF6\", \"caxis\": {\"gridcolor\": \"white\", \"linecolor\": \"white\", \"ticks\": \"\"}}, \"title\": {\"x\": 0.05}, \"xaxis\": {\"automargin\": true, \"gridcolor\": \"white\", \"linecolor\": \"white\", \"ticks\": \"\", \"title\": {\"standoff\": 15}, \"zerolinecolor\": \"white\", \"zerolinewidth\": 2}, \"yaxis\": {\"automargin\": true, \"gridcolor\": \"white\", \"linecolor\": \"white\", \"ticks\": \"\", \"title\": {\"standoff\": 15}, \"zerolinecolor\": \"white\", \"zerolinewidth\": 2}}}, \"title\": {\"text\": \"Histogram\"}, \"xaxis\": {\"anchor\": \"y\", \"domain\": [0.0, 0.49], \"title\": {\"text\": \"AP\"}}, \"xaxis2\": {\"anchor\": \"y2\", \"domain\": [0.51, 1.0], \"matches\": \"x\", \"title\": {\"text\": \"AP\"}}, \"xaxis3\": {\"anchor\": \"y3\", \"domain\": [0.0, 0.49], \"matches\": \"x\", \"showticklabels\": false}, \"xaxis4\": {\"anchor\": \"y4\", \"domain\": [0.51, 1.0], \"matches\": \"x\", \"showticklabels\": false}, \"xaxis5\": {\"anchor\": \"y5\", \"domain\": [0.0, 0.49], \"matches\": \"x\", \"showticklabels\": false}, \"xaxis6\": {\"anchor\": \"y6\", \"domain\": [0.51, 1.0], \"matches\": \"x\", \"showticklabels\": false}, \"yaxis\": {\"anchor\": \"x\", \"domain\": [0.0, 0.2866666666666666], \"title\": {\"text\": \"count\"}}, \"yaxis2\": {\"anchor\": \"x2\", \"domain\": [0.0, 0.2866666666666666], \"matches\": \"y\", \"showticklabels\": false}, \"yaxis3\": {\"anchor\": \"x3\", \"domain\": [0.35666666666666663, 0.6433333333333333], \"matches\": \"y\", \"title\": {\"text\": \"count\"}}, \"yaxis4\": {\"anchor\": \"x4\", \"domain\": [0.35666666666666663, 0.6433333333333333], \"matches\": \"y\", \"showticklabels\": false}, \"yaxis5\": {\"anchor\": \"x5\", \"domain\": [0.7133333333333333, 0.9999999999999999], \"matches\": \"y\", \"title\": {\"text\": \"count\"}}, \"yaxis6\": {\"anchor\": \"x6\", \"domain\": [0.7133333333333333, 0.9999999999999999], \"matches\": \"y\", \"showticklabels\": false}},                        {\"responsive\": true}                    ).then(function(){\n",
       "                            \n",
       "var gd = document.getElementById('f8a63448-c3a1-4f1b-9858-25afb38a94dd');\n",
       "var x = new MutationObserver(function (mutations, observer) {{\n",
       "        var display = window.getComputedStyle(gd).display;\n",
       "        if (!display || display === 'none') {{\n",
       "            console.log([gd, 'removed!']);\n",
       "            Plotly.purge(gd);\n",
       "            observer.disconnect();\n",
       "        }}\n",
       "}});\n",
       "\n",
       "// Listen for the removal of the full notebook cells\n",
       "var notebookContainer = gd.closest('#notebook-container');\n",
       "if (notebookContainer) {{\n",
       "    x.observe(notebookContainer, {childList: true});\n",
       "}}\n",
       "\n",
       "// Listen for the clearing of the current output cell\n",
       "var outputEl = gd.closest('.output');\n",
       "if (outputEl) {{\n",
       "    x.observe(outputEl, {childList: true});\n",
       "}}\n",
       "\n",
       "                        })                };                });            </script>        </div>"
      ]
     },
     "metadata": {},
     "output_type": "display_data"
    },
    {
     "name": "stdout",
     "output_type": "stream",
     "text": [
      "    test_name limiar_AP                                      params_values params_nr  alpha   p_value fail_to_reject_H0 reject_H0  chi_squared\n",
      "0  Friedman_R      None  [autoencoder_nolle, binet1, detect_infrequents...         5   0.05  0.021791             False      True    11.466667\n",
      "1  Friedman_R      None  [autoencoder_nolle, binet1, detect_infrequents...         4   0.05  0.029291             False      True     9.000000\n",
      "2  Friedman_R      None  [autoencoder_nolle, binet1, detect_infrequents...         4   0.05  0.042054             False      True     8.200000\n",
      "3  Friedman_R      None    [autoencoder_nolle, binet1, random, tstideplus]         4   0.05  0.029291             False      True     9.000000\n",
      "4  Friedman_R      None  [autoencoder_nolle, detect_infrequents, random...         4   0.05  0.042054             False      True     8.200000\n",
      "\n",
      " Test Analysis: for ta\n"
     ]
    },
    {
     "data": {
      "application/vnd.plotly.v1+json": {
       "config": {
        "linkText": "Export to plot.ly",
        "plotlyServerURL": "https://plot.ly",
        "showLink": false
       },
       "data": [
        {
         "alignmentgroup": "True",
         "bingroup": "x",
         "hovertemplate": "p_modelit_type=autoencoder_nolle<br>AP=%{x}<br>count=%{y}<extra></extra>",
         "legendgroup": "",
         "marker": {
          "color": "#636efa"
         },
         "name": "",
         "offsetgroup": "",
         "orientation": "v",
         "showlegend": false,
         "type": "histogram",
         "x": [
          0.7243055469409978,
          0.7142165130484536,
          0.679101192654727
         ],
         "xaxis": "x5",
         "yaxis": "y5"
        },
        {
         "alignmentgroup": "True",
         "bingroup": "x",
         "hovertemplate": "p_modelit_type=binet1<br>AP=%{x}<br>count=%{y}<extra></extra>",
         "legendgroup": "",
         "marker": {
          "color": "#636efa"
         },
         "name": "",
         "offsetgroup": "",
         "orientation": "v",
         "showlegend": false,
         "type": "histogram",
         "x": [
          0.4859769590103092,
          0.4552747777403586,
          0.4276511606759339
         ],
         "xaxis": "x6",
         "yaxis": "y6"
        },
        {
         "alignmentgroup": "True",
         "bingroup": "x",
         "hovertemplate": "p_modelit_type=detect_infrequents<br>AP=%{x}<br>count=%{y}<extra></extra>",
         "legendgroup": "",
         "marker": {
          "color": "#636efa"
         },
         "name": "",
         "offsetgroup": "",
         "orientation": "v",
         "showlegend": false,
         "type": "histogram",
         "x": [
          0.955516282080319,
          0.947220506188135,
          0.956733699102575
         ],
         "xaxis": "x3",
         "yaxis": "y3"
        },
        {
         "alignmentgroup": "True",
         "bingroup": "x",
         "hovertemplate": "p_modelit_type=random<br>AP=%{x}<br>count=%{y}<extra></extra>",
         "legendgroup": "",
         "marker": {
          "color": "#636efa"
         },
         "name": "",
         "offsetgroup": "",
         "orientation": "v",
         "showlegend": false,
         "type": "histogram",
         "x": [
          0.34062430719516174,
          0.3341885337170398,
          0.348359142911079
         ],
         "xaxis": "x4",
         "yaxis": "y4"
        },
        {
         "alignmentgroup": "True",
         "bingroup": "x",
         "hovertemplate": "p_modelit_type=tstideplus<br>AP=%{x}<br>count=%{y}<extra></extra>",
         "legendgroup": "",
         "marker": {
          "color": "#636efa"
         },
         "name": "",
         "offsetgroup": "",
         "orientation": "v",
         "showlegend": false,
         "type": "histogram",
         "x": [
          0.9992222222222222,
          0.9992222222222222,
          0.9976666666666667
         ],
         "xaxis": "x",
         "yaxis": "y"
        }
       ],
       "layout": {
        "annotations": [
         {
          "showarrow": false,
          "text": "p_modelit_type=tstideplus",
          "x": 0.245,
          "xanchor": "center",
          "xref": "paper",
          "y": 0.2866666666666666,
          "yanchor": "bottom",
          "yref": "paper"
         },
         {
          "showarrow": false,
          "text": "p_modelit_type=detect_infrequents",
          "x": 0.245,
          "xanchor": "center",
          "xref": "paper",
          "y": 0.6433333333333333,
          "yanchor": "bottom",
          "yref": "paper"
         },
         {
          "showarrow": false,
          "text": "p_modelit_type=random",
          "x": 0.755,
          "xanchor": "center",
          "xref": "paper",
          "y": 0.6433333333333333,
          "yanchor": "bottom",
          "yref": "paper"
         },
         {
          "showarrow": false,
          "text": "p_modelit_type=autoencoder_nolle",
          "x": 0.245,
          "xanchor": "center",
          "xref": "paper",
          "y": 0.9999999999999999,
          "yanchor": "bottom",
          "yref": "paper"
         },
         {
          "showarrow": false,
          "text": "p_modelit_type=binet1",
          "x": 0.755,
          "xanchor": "center",
          "xref": "paper",
          "y": 0.9999999999999999,
          "yanchor": "bottom",
          "yref": "paper"
         }
        ],
        "barmode": "relative",
        "legend": {
         "tracegroupgap": 0
        },
        "template": {
         "data": {
          "bar": [
           {
            "error_x": {
             "color": "#2a3f5f"
            },
            "error_y": {
             "color": "#2a3f5f"
            },
            "marker": {
             "line": {
              "color": "#E5ECF6",
              "width": 0.5
             }
            },
            "type": "bar"
           }
          ],
          "barpolar": [
           {
            "marker": {
             "line": {
              "color": "#E5ECF6",
              "width": 0.5
             }
            },
            "type": "barpolar"
           }
          ],
          "carpet": [
           {
            "aaxis": {
             "endlinecolor": "#2a3f5f",
             "gridcolor": "white",
             "linecolor": "white",
             "minorgridcolor": "white",
             "startlinecolor": "#2a3f5f"
            },
            "baxis": {
             "endlinecolor": "#2a3f5f",
             "gridcolor": "white",
             "linecolor": "white",
             "minorgridcolor": "white",
             "startlinecolor": "#2a3f5f"
            },
            "type": "carpet"
           }
          ],
          "choropleth": [
           {
            "colorbar": {
             "outlinewidth": 0,
             "ticks": ""
            },
            "type": "choropleth"
           }
          ],
          "contour": [
           {
            "colorbar": {
             "outlinewidth": 0,
             "ticks": ""
            },
            "colorscale": [
             [
              0,
              "#0d0887"
             ],
             [
              0.1111111111111111,
              "#46039f"
             ],
             [
              0.2222222222222222,
              "#7201a8"
             ],
             [
              0.3333333333333333,
              "#9c179e"
             ],
             [
              0.4444444444444444,
              "#bd3786"
             ],
             [
              0.5555555555555556,
              "#d8576b"
             ],
             [
              0.6666666666666666,
              "#ed7953"
             ],
             [
              0.7777777777777778,
              "#fb9f3a"
             ],
             [
              0.8888888888888888,
              "#fdca26"
             ],
             [
              1,
              "#f0f921"
             ]
            ],
            "type": "contour"
           }
          ],
          "contourcarpet": [
           {
            "colorbar": {
             "outlinewidth": 0,
             "ticks": ""
            },
            "type": "contourcarpet"
           }
          ],
          "heatmap": [
           {
            "colorbar": {
             "outlinewidth": 0,
             "ticks": ""
            },
            "colorscale": [
             [
              0,
              "#0d0887"
             ],
             [
              0.1111111111111111,
              "#46039f"
             ],
             [
              0.2222222222222222,
              "#7201a8"
             ],
             [
              0.3333333333333333,
              "#9c179e"
             ],
             [
              0.4444444444444444,
              "#bd3786"
             ],
             [
              0.5555555555555556,
              "#d8576b"
             ],
             [
              0.6666666666666666,
              "#ed7953"
             ],
             [
              0.7777777777777778,
              "#fb9f3a"
             ],
             [
              0.8888888888888888,
              "#fdca26"
             ],
             [
              1,
              "#f0f921"
             ]
            ],
            "type": "heatmap"
           }
          ],
          "heatmapgl": [
           {
            "colorbar": {
             "outlinewidth": 0,
             "ticks": ""
            },
            "colorscale": [
             [
              0,
              "#0d0887"
             ],
             [
              0.1111111111111111,
              "#46039f"
             ],
             [
              0.2222222222222222,
              "#7201a8"
             ],
             [
              0.3333333333333333,
              "#9c179e"
             ],
             [
              0.4444444444444444,
              "#bd3786"
             ],
             [
              0.5555555555555556,
              "#d8576b"
             ],
             [
              0.6666666666666666,
              "#ed7953"
             ],
             [
              0.7777777777777778,
              "#fb9f3a"
             ],
             [
              0.8888888888888888,
              "#fdca26"
             ],
             [
              1,
              "#f0f921"
             ]
            ],
            "type": "heatmapgl"
           }
          ],
          "histogram": [
           {
            "marker": {
             "colorbar": {
              "outlinewidth": 0,
              "ticks": ""
             }
            },
            "type": "histogram"
           }
          ],
          "histogram2d": [
           {
            "colorbar": {
             "outlinewidth": 0,
             "ticks": ""
            },
            "colorscale": [
             [
              0,
              "#0d0887"
             ],
             [
              0.1111111111111111,
              "#46039f"
             ],
             [
              0.2222222222222222,
              "#7201a8"
             ],
             [
              0.3333333333333333,
              "#9c179e"
             ],
             [
              0.4444444444444444,
              "#bd3786"
             ],
             [
              0.5555555555555556,
              "#d8576b"
             ],
             [
              0.6666666666666666,
              "#ed7953"
             ],
             [
              0.7777777777777778,
              "#fb9f3a"
             ],
             [
              0.8888888888888888,
              "#fdca26"
             ],
             [
              1,
              "#f0f921"
             ]
            ],
            "type": "histogram2d"
           }
          ],
          "histogram2dcontour": [
           {
            "colorbar": {
             "outlinewidth": 0,
             "ticks": ""
            },
            "colorscale": [
             [
              0,
              "#0d0887"
             ],
             [
              0.1111111111111111,
              "#46039f"
             ],
             [
              0.2222222222222222,
              "#7201a8"
             ],
             [
              0.3333333333333333,
              "#9c179e"
             ],
             [
              0.4444444444444444,
              "#bd3786"
             ],
             [
              0.5555555555555556,
              "#d8576b"
             ],
             [
              0.6666666666666666,
              "#ed7953"
             ],
             [
              0.7777777777777778,
              "#fb9f3a"
             ],
             [
              0.8888888888888888,
              "#fdca26"
             ],
             [
              1,
              "#f0f921"
             ]
            ],
            "type": "histogram2dcontour"
           }
          ],
          "mesh3d": [
           {
            "colorbar": {
             "outlinewidth": 0,
             "ticks": ""
            },
            "type": "mesh3d"
           }
          ],
          "parcoords": [
           {
            "line": {
             "colorbar": {
              "outlinewidth": 0,
              "ticks": ""
             }
            },
            "type": "parcoords"
           }
          ],
          "pie": [
           {
            "automargin": true,
            "type": "pie"
           }
          ],
          "scatter": [
           {
            "marker": {
             "colorbar": {
              "outlinewidth": 0,
              "ticks": ""
             }
            },
            "type": "scatter"
           }
          ],
          "scatter3d": [
           {
            "line": {
             "colorbar": {
              "outlinewidth": 0,
              "ticks": ""
             }
            },
            "marker": {
             "colorbar": {
              "outlinewidth": 0,
              "ticks": ""
             }
            },
            "type": "scatter3d"
           }
          ],
          "scattercarpet": [
           {
            "marker": {
             "colorbar": {
              "outlinewidth": 0,
              "ticks": ""
             }
            },
            "type": "scattercarpet"
           }
          ],
          "scattergeo": [
           {
            "marker": {
             "colorbar": {
              "outlinewidth": 0,
              "ticks": ""
             }
            },
            "type": "scattergeo"
           }
          ],
          "scattergl": [
           {
            "marker": {
             "colorbar": {
              "outlinewidth": 0,
              "ticks": ""
             }
            },
            "type": "scattergl"
           }
          ],
          "scattermapbox": [
           {
            "marker": {
             "colorbar": {
              "outlinewidth": 0,
              "ticks": ""
             }
            },
            "type": "scattermapbox"
           }
          ],
          "scatterpolar": [
           {
            "marker": {
             "colorbar": {
              "outlinewidth": 0,
              "ticks": ""
             }
            },
            "type": "scatterpolar"
           }
          ],
          "scatterpolargl": [
           {
            "marker": {
             "colorbar": {
              "outlinewidth": 0,
              "ticks": ""
             }
            },
            "type": "scatterpolargl"
           }
          ],
          "scatterternary": [
           {
            "marker": {
             "colorbar": {
              "outlinewidth": 0,
              "ticks": ""
             }
            },
            "type": "scatterternary"
           }
          ],
          "surface": [
           {
            "colorbar": {
             "outlinewidth": 0,
             "ticks": ""
            },
            "colorscale": [
             [
              0,
              "#0d0887"
             ],
             [
              0.1111111111111111,
              "#46039f"
             ],
             [
              0.2222222222222222,
              "#7201a8"
             ],
             [
              0.3333333333333333,
              "#9c179e"
             ],
             [
              0.4444444444444444,
              "#bd3786"
             ],
             [
              0.5555555555555556,
              "#d8576b"
             ],
             [
              0.6666666666666666,
              "#ed7953"
             ],
             [
              0.7777777777777778,
              "#fb9f3a"
             ],
             [
              0.8888888888888888,
              "#fdca26"
             ],
             [
              1,
              "#f0f921"
             ]
            ],
            "type": "surface"
           }
          ],
          "table": [
           {
            "cells": {
             "fill": {
              "color": "#EBF0F8"
             },
             "line": {
              "color": "white"
             }
            },
            "header": {
             "fill": {
              "color": "#C8D4E3"
             },
             "line": {
              "color": "white"
             }
            },
            "type": "table"
           }
          ]
         },
         "layout": {
          "annotationdefaults": {
           "arrowcolor": "#2a3f5f",
           "arrowhead": 0,
           "arrowwidth": 1
          },
          "autotypenumbers": "strict",
          "coloraxis": {
           "colorbar": {
            "outlinewidth": 0,
            "ticks": ""
           }
          },
          "colorscale": {
           "diverging": [
            [
             0,
             "#8e0152"
            ],
            [
             0.1,
             "#c51b7d"
            ],
            [
             0.2,
             "#de77ae"
            ],
            [
             0.3,
             "#f1b6da"
            ],
            [
             0.4,
             "#fde0ef"
            ],
            [
             0.5,
             "#f7f7f7"
            ],
            [
             0.6,
             "#e6f5d0"
            ],
            [
             0.7,
             "#b8e186"
            ],
            [
             0.8,
             "#7fbc41"
            ],
            [
             0.9,
             "#4d9221"
            ],
            [
             1,
             "#276419"
            ]
           ],
           "sequential": [
            [
             0,
             "#0d0887"
            ],
            [
             0.1111111111111111,
             "#46039f"
            ],
            [
             0.2222222222222222,
             "#7201a8"
            ],
            [
             0.3333333333333333,
             "#9c179e"
            ],
            [
             0.4444444444444444,
             "#bd3786"
            ],
            [
             0.5555555555555556,
             "#d8576b"
            ],
            [
             0.6666666666666666,
             "#ed7953"
            ],
            [
             0.7777777777777778,
             "#fb9f3a"
            ],
            [
             0.8888888888888888,
             "#fdca26"
            ],
            [
             1,
             "#f0f921"
            ]
           ],
           "sequentialminus": [
            [
             0,
             "#0d0887"
            ],
            [
             0.1111111111111111,
             "#46039f"
            ],
            [
             0.2222222222222222,
             "#7201a8"
            ],
            [
             0.3333333333333333,
             "#9c179e"
            ],
            [
             0.4444444444444444,
             "#bd3786"
            ],
            [
             0.5555555555555556,
             "#d8576b"
            ],
            [
             0.6666666666666666,
             "#ed7953"
            ],
            [
             0.7777777777777778,
             "#fb9f3a"
            ],
            [
             0.8888888888888888,
             "#fdca26"
            ],
            [
             1,
             "#f0f921"
            ]
           ]
          },
          "colorway": [
           "#636efa",
           "#EF553B",
           "#00cc96",
           "#ab63fa",
           "#FFA15A",
           "#19d3f3",
           "#FF6692",
           "#B6E880",
           "#FF97FF",
           "#FECB52"
          ],
          "font": {
           "color": "#2a3f5f"
          },
          "geo": {
           "bgcolor": "white",
           "lakecolor": "white",
           "landcolor": "#E5ECF6",
           "showlakes": true,
           "showland": true,
           "subunitcolor": "white"
          },
          "hoverlabel": {
           "align": "left"
          },
          "hovermode": "closest",
          "mapbox": {
           "style": "light"
          },
          "paper_bgcolor": "white",
          "plot_bgcolor": "#E5ECF6",
          "polar": {
           "angularaxis": {
            "gridcolor": "white",
            "linecolor": "white",
            "ticks": ""
           },
           "bgcolor": "#E5ECF6",
           "radialaxis": {
            "gridcolor": "white",
            "linecolor": "white",
            "ticks": ""
           }
          },
          "scene": {
           "xaxis": {
            "backgroundcolor": "#E5ECF6",
            "gridcolor": "white",
            "gridwidth": 2,
            "linecolor": "white",
            "showbackground": true,
            "ticks": "",
            "zerolinecolor": "white"
           },
           "yaxis": {
            "backgroundcolor": "#E5ECF6",
            "gridcolor": "white",
            "gridwidth": 2,
            "linecolor": "white",
            "showbackground": true,
            "ticks": "",
            "zerolinecolor": "white"
           },
           "zaxis": {
            "backgroundcolor": "#E5ECF6",
            "gridcolor": "white",
            "gridwidth": 2,
            "linecolor": "white",
            "showbackground": true,
            "ticks": "",
            "zerolinecolor": "white"
           }
          },
          "shapedefaults": {
           "line": {
            "color": "#2a3f5f"
           }
          },
          "ternary": {
           "aaxis": {
            "gridcolor": "white",
            "linecolor": "white",
            "ticks": ""
           },
           "baxis": {
            "gridcolor": "white",
            "linecolor": "white",
            "ticks": ""
           },
           "bgcolor": "#E5ECF6",
           "caxis": {
            "gridcolor": "white",
            "linecolor": "white",
            "ticks": ""
           }
          },
          "title": {
           "x": 0.05
          },
          "xaxis": {
           "automargin": true,
           "gridcolor": "white",
           "linecolor": "white",
           "ticks": "",
           "title": {
            "standoff": 15
           },
           "zerolinecolor": "white",
           "zerolinewidth": 2
          },
          "yaxis": {
           "automargin": true,
           "gridcolor": "white",
           "linecolor": "white",
           "ticks": "",
           "title": {
            "standoff": 15
           },
           "zerolinecolor": "white",
           "zerolinewidth": 2
          }
         }
        },
        "title": {
         "text": "Histogram"
        },
        "xaxis": {
         "anchor": "y",
         "domain": [
          0,
          0.49
         ],
         "title": {
          "text": "AP"
         }
        },
        "xaxis2": {
         "anchor": "y2",
         "domain": [
          0.51,
          1
         ],
         "matches": "x",
         "title": {
          "text": "AP"
         }
        },
        "xaxis3": {
         "anchor": "y3",
         "domain": [
          0,
          0.49
         ],
         "matches": "x",
         "showticklabels": false
        },
        "xaxis4": {
         "anchor": "y4",
         "domain": [
          0.51,
          1
         ],
         "matches": "x",
         "showticklabels": false
        },
        "xaxis5": {
         "anchor": "y5",
         "domain": [
          0,
          0.49
         ],
         "matches": "x",
         "showticklabels": false
        },
        "xaxis6": {
         "anchor": "y6",
         "domain": [
          0.51,
          1
         ],
         "matches": "x",
         "showticklabels": false
        },
        "yaxis": {
         "anchor": "x",
         "domain": [
          0,
          0.2866666666666666
         ],
         "title": {
          "text": "count"
         }
        },
        "yaxis2": {
         "anchor": "x2",
         "domain": [
          0,
          0.2866666666666666
         ],
         "matches": "y",
         "showticklabels": false
        },
        "yaxis3": {
         "anchor": "x3",
         "domain": [
          0.35666666666666663,
          0.6433333333333333
         ],
         "matches": "y",
         "title": {
          "text": "count"
         }
        },
        "yaxis4": {
         "anchor": "x4",
         "domain": [
          0.35666666666666663,
          0.6433333333333333
         ],
         "matches": "y",
         "showticklabels": false
        },
        "yaxis5": {
         "anchor": "x5",
         "domain": [
          0.7133333333333333,
          0.9999999999999999
         ],
         "matches": "y",
         "title": {
          "text": "count"
         }
        },
        "yaxis6": {
         "anchor": "x6",
         "domain": [
          0.7133333333333333,
          0.9999999999999999
         ],
         "matches": "y",
         "showticklabels": false
        }
       }
      },
      "text/html": [
       "<div>                            <div id=\"8c8bdddc-7bb9-4a75-9963-0946cdef077b\" class=\"plotly-graph-div\" style=\"height:525px; width:100%;\"></div>            <script type=\"text/javascript\">                require([\"plotly\"], function(Plotly) {                    window.PLOTLYENV=window.PLOTLYENV || {};                                    if (document.getElementById(\"8c8bdddc-7bb9-4a75-9963-0946cdef077b\")) {                    Plotly.newPlot(                        \"8c8bdddc-7bb9-4a75-9963-0946cdef077b\",                        [{\"alignmentgroup\": \"True\", \"bingroup\": \"x\", \"hovertemplate\": \"p_modelit_type=autoencoder_nolle<br>AP=%{x}<br>count=%{y}<extra></extra>\", \"legendgroup\": \"\", \"marker\": {\"color\": \"#636efa\"}, \"name\": \"\", \"offsetgroup\": \"\", \"orientation\": \"v\", \"showlegend\": false, \"type\": \"histogram\", \"x\": [0.7243055469409978, 0.7142165130484536, 0.679101192654727], \"xaxis\": \"x5\", \"yaxis\": \"y5\"}, {\"alignmentgroup\": \"True\", \"bingroup\": \"x\", \"hovertemplate\": \"p_modelit_type=binet1<br>AP=%{x}<br>count=%{y}<extra></extra>\", \"legendgroup\": \"\", \"marker\": {\"color\": \"#636efa\"}, \"name\": \"\", \"offsetgroup\": \"\", \"orientation\": \"v\", \"showlegend\": false, \"type\": \"histogram\", \"x\": [0.4859769590103092, 0.4552747777403586, 0.4276511606759339], \"xaxis\": \"x6\", \"yaxis\": \"y6\"}, {\"alignmentgroup\": \"True\", \"bingroup\": \"x\", \"hovertemplate\": \"p_modelit_type=detect_infrequents<br>AP=%{x}<br>count=%{y}<extra></extra>\", \"legendgroup\": \"\", \"marker\": {\"color\": \"#636efa\"}, \"name\": \"\", \"offsetgroup\": \"\", \"orientation\": \"v\", \"showlegend\": false, \"type\": \"histogram\", \"x\": [0.955516282080319, 0.947220506188135, 0.956733699102575], \"xaxis\": \"x3\", \"yaxis\": \"y3\"}, {\"alignmentgroup\": \"True\", \"bingroup\": \"x\", \"hovertemplate\": \"p_modelit_type=random<br>AP=%{x}<br>count=%{y}<extra></extra>\", \"legendgroup\": \"\", \"marker\": {\"color\": \"#636efa\"}, \"name\": \"\", \"offsetgroup\": \"\", \"orientation\": \"v\", \"showlegend\": false, \"type\": \"histogram\", \"x\": [0.34062430719516174, 0.3341885337170398, 0.348359142911079], \"xaxis\": \"x4\", \"yaxis\": \"y4\"}, {\"alignmentgroup\": \"True\", \"bingroup\": \"x\", \"hovertemplate\": \"p_modelit_type=tstideplus<br>AP=%{x}<br>count=%{y}<extra></extra>\", \"legendgroup\": \"\", \"marker\": {\"color\": \"#636efa\"}, \"name\": \"\", \"offsetgroup\": \"\", \"orientation\": \"v\", \"showlegend\": false, \"type\": \"histogram\", \"x\": [0.9992222222222222, 0.9992222222222222, 0.9976666666666667], \"xaxis\": \"x\", \"yaxis\": \"y\"}],                        {\"annotations\": [{\"showarrow\": false, \"text\": \"p_modelit_type=tstideplus\", \"x\": 0.245, \"xanchor\": \"center\", \"xref\": \"paper\", \"y\": 0.2866666666666666, \"yanchor\": \"bottom\", \"yref\": \"paper\"}, {\"showarrow\": false, \"text\": \"p_modelit_type=detect_infrequents\", \"x\": 0.245, \"xanchor\": \"center\", \"xref\": \"paper\", \"y\": 0.6433333333333333, \"yanchor\": \"bottom\", \"yref\": \"paper\"}, {\"showarrow\": false, \"text\": \"p_modelit_type=random\", \"x\": 0.755, \"xanchor\": \"center\", \"xref\": \"paper\", \"y\": 0.6433333333333333, \"yanchor\": \"bottom\", \"yref\": \"paper\"}, {\"showarrow\": false, \"text\": \"p_modelit_type=autoencoder_nolle\", \"x\": 0.245, \"xanchor\": \"center\", \"xref\": \"paper\", \"y\": 0.9999999999999999, \"yanchor\": \"bottom\", \"yref\": \"paper\"}, {\"showarrow\": false, \"text\": \"p_modelit_type=binet1\", \"x\": 0.755, \"xanchor\": \"center\", \"xref\": \"paper\", \"y\": 0.9999999999999999, \"yanchor\": \"bottom\", \"yref\": \"paper\"}], \"barmode\": \"relative\", \"legend\": {\"tracegroupgap\": 0}, \"template\": {\"data\": {\"bar\": [{\"error_x\": {\"color\": \"#2a3f5f\"}, \"error_y\": {\"color\": \"#2a3f5f\"}, \"marker\": {\"line\": {\"color\": \"#E5ECF6\", \"width\": 0.5}}, \"type\": \"bar\"}], \"barpolar\": [{\"marker\": {\"line\": {\"color\": \"#E5ECF6\", \"width\": 0.5}}, \"type\": \"barpolar\"}], \"carpet\": [{\"aaxis\": {\"endlinecolor\": \"#2a3f5f\", \"gridcolor\": \"white\", \"linecolor\": \"white\", \"minorgridcolor\": \"white\", \"startlinecolor\": \"#2a3f5f\"}, \"baxis\": {\"endlinecolor\": \"#2a3f5f\", \"gridcolor\": \"white\", \"linecolor\": \"white\", \"minorgridcolor\": \"white\", \"startlinecolor\": \"#2a3f5f\"}, \"type\": \"carpet\"}], \"choropleth\": [{\"colorbar\": {\"outlinewidth\": 0, \"ticks\": \"\"}, \"type\": \"choropleth\"}], \"contour\": [{\"colorbar\": {\"outlinewidth\": 0, \"ticks\": \"\"}, \"colorscale\": [[0.0, \"#0d0887\"], [0.1111111111111111, \"#46039f\"], [0.2222222222222222, \"#7201a8\"], [0.3333333333333333, \"#9c179e\"], [0.4444444444444444, \"#bd3786\"], [0.5555555555555556, \"#d8576b\"], [0.6666666666666666, \"#ed7953\"], [0.7777777777777778, \"#fb9f3a\"], [0.8888888888888888, \"#fdca26\"], [1.0, \"#f0f921\"]], \"type\": \"contour\"}], \"contourcarpet\": [{\"colorbar\": {\"outlinewidth\": 0, \"ticks\": \"\"}, \"type\": \"contourcarpet\"}], \"heatmap\": [{\"colorbar\": {\"outlinewidth\": 0, \"ticks\": \"\"}, \"colorscale\": [[0.0, \"#0d0887\"], [0.1111111111111111, \"#46039f\"], [0.2222222222222222, \"#7201a8\"], [0.3333333333333333, \"#9c179e\"], [0.4444444444444444, \"#bd3786\"], [0.5555555555555556, \"#d8576b\"], [0.6666666666666666, \"#ed7953\"], [0.7777777777777778, \"#fb9f3a\"], [0.8888888888888888, \"#fdca26\"], [1.0, \"#f0f921\"]], \"type\": \"heatmap\"}], \"heatmapgl\": [{\"colorbar\": {\"outlinewidth\": 0, \"ticks\": \"\"}, \"colorscale\": [[0.0, \"#0d0887\"], [0.1111111111111111, \"#46039f\"], [0.2222222222222222, \"#7201a8\"], [0.3333333333333333, \"#9c179e\"], [0.4444444444444444, \"#bd3786\"], [0.5555555555555556, \"#d8576b\"], [0.6666666666666666, \"#ed7953\"], [0.7777777777777778, \"#fb9f3a\"], [0.8888888888888888, \"#fdca26\"], [1.0, \"#f0f921\"]], \"type\": \"heatmapgl\"}], \"histogram\": [{\"marker\": {\"colorbar\": {\"outlinewidth\": 0, \"ticks\": \"\"}}, \"type\": \"histogram\"}], \"histogram2d\": [{\"colorbar\": {\"outlinewidth\": 0, \"ticks\": \"\"}, \"colorscale\": [[0.0, \"#0d0887\"], [0.1111111111111111, \"#46039f\"], [0.2222222222222222, \"#7201a8\"], [0.3333333333333333, \"#9c179e\"], [0.4444444444444444, \"#bd3786\"], [0.5555555555555556, \"#d8576b\"], [0.6666666666666666, \"#ed7953\"], [0.7777777777777778, \"#fb9f3a\"], [0.8888888888888888, \"#fdca26\"], [1.0, \"#f0f921\"]], \"type\": \"histogram2d\"}], \"histogram2dcontour\": [{\"colorbar\": {\"outlinewidth\": 0, \"ticks\": \"\"}, \"colorscale\": [[0.0, \"#0d0887\"], [0.1111111111111111, \"#46039f\"], [0.2222222222222222, \"#7201a8\"], [0.3333333333333333, \"#9c179e\"], [0.4444444444444444, \"#bd3786\"], [0.5555555555555556, \"#d8576b\"], [0.6666666666666666, \"#ed7953\"], [0.7777777777777778, \"#fb9f3a\"], [0.8888888888888888, \"#fdca26\"], [1.0, \"#f0f921\"]], \"type\": \"histogram2dcontour\"}], \"mesh3d\": [{\"colorbar\": {\"outlinewidth\": 0, \"ticks\": \"\"}, \"type\": \"mesh3d\"}], \"parcoords\": [{\"line\": {\"colorbar\": {\"outlinewidth\": 0, \"ticks\": \"\"}}, \"type\": \"parcoords\"}], \"pie\": [{\"automargin\": true, \"type\": \"pie\"}], \"scatter\": [{\"marker\": {\"colorbar\": {\"outlinewidth\": 0, \"ticks\": \"\"}}, \"type\": \"scatter\"}], \"scatter3d\": [{\"line\": {\"colorbar\": {\"outlinewidth\": 0, \"ticks\": \"\"}}, \"marker\": {\"colorbar\": {\"outlinewidth\": 0, \"ticks\": \"\"}}, \"type\": \"scatter3d\"}], \"scattercarpet\": [{\"marker\": {\"colorbar\": {\"outlinewidth\": 0, \"ticks\": \"\"}}, \"type\": \"scattercarpet\"}], \"scattergeo\": [{\"marker\": {\"colorbar\": {\"outlinewidth\": 0, \"ticks\": \"\"}}, \"type\": \"scattergeo\"}], \"scattergl\": [{\"marker\": {\"colorbar\": {\"outlinewidth\": 0, \"ticks\": \"\"}}, \"type\": \"scattergl\"}], \"scattermapbox\": [{\"marker\": {\"colorbar\": {\"outlinewidth\": 0, \"ticks\": \"\"}}, \"type\": \"scattermapbox\"}], \"scatterpolar\": [{\"marker\": {\"colorbar\": {\"outlinewidth\": 0, \"ticks\": \"\"}}, \"type\": \"scatterpolar\"}], \"scatterpolargl\": [{\"marker\": {\"colorbar\": {\"outlinewidth\": 0, \"ticks\": \"\"}}, \"type\": \"scatterpolargl\"}], \"scatterternary\": [{\"marker\": {\"colorbar\": {\"outlinewidth\": 0, \"ticks\": \"\"}}, \"type\": \"scatterternary\"}], \"surface\": [{\"colorbar\": {\"outlinewidth\": 0, \"ticks\": \"\"}, \"colorscale\": [[0.0, \"#0d0887\"], [0.1111111111111111, \"#46039f\"], [0.2222222222222222, \"#7201a8\"], [0.3333333333333333, \"#9c179e\"], [0.4444444444444444, \"#bd3786\"], [0.5555555555555556, \"#d8576b\"], [0.6666666666666666, \"#ed7953\"], [0.7777777777777778, \"#fb9f3a\"], [0.8888888888888888, \"#fdca26\"], [1.0, \"#f0f921\"]], \"type\": \"surface\"}], \"table\": [{\"cells\": {\"fill\": {\"color\": \"#EBF0F8\"}, \"line\": {\"color\": \"white\"}}, \"header\": {\"fill\": {\"color\": \"#C8D4E3\"}, \"line\": {\"color\": \"white\"}}, \"type\": \"table\"}]}, \"layout\": {\"annotationdefaults\": {\"arrowcolor\": \"#2a3f5f\", \"arrowhead\": 0, \"arrowwidth\": 1}, \"autotypenumbers\": \"strict\", \"coloraxis\": {\"colorbar\": {\"outlinewidth\": 0, \"ticks\": \"\"}}, \"colorscale\": {\"diverging\": [[0, \"#8e0152\"], [0.1, \"#c51b7d\"], [0.2, \"#de77ae\"], [0.3, \"#f1b6da\"], [0.4, \"#fde0ef\"], [0.5, \"#f7f7f7\"], [0.6, \"#e6f5d0\"], [0.7, \"#b8e186\"], [0.8, \"#7fbc41\"], [0.9, \"#4d9221\"], [1, \"#276419\"]], \"sequential\": [[0.0, \"#0d0887\"], [0.1111111111111111, \"#46039f\"], [0.2222222222222222, \"#7201a8\"], [0.3333333333333333, \"#9c179e\"], [0.4444444444444444, \"#bd3786\"], [0.5555555555555556, \"#d8576b\"], [0.6666666666666666, \"#ed7953\"], [0.7777777777777778, \"#fb9f3a\"], [0.8888888888888888, \"#fdca26\"], [1.0, \"#f0f921\"]], \"sequentialminus\": [[0.0, \"#0d0887\"], [0.1111111111111111, \"#46039f\"], [0.2222222222222222, \"#7201a8\"], [0.3333333333333333, \"#9c179e\"], [0.4444444444444444, \"#bd3786\"], [0.5555555555555556, \"#d8576b\"], [0.6666666666666666, \"#ed7953\"], [0.7777777777777778, \"#fb9f3a\"], [0.8888888888888888, \"#fdca26\"], [1.0, \"#f0f921\"]]}, \"colorway\": [\"#636efa\", \"#EF553B\", \"#00cc96\", \"#ab63fa\", \"#FFA15A\", \"#19d3f3\", \"#FF6692\", \"#B6E880\", \"#FF97FF\", \"#FECB52\"], \"font\": {\"color\": \"#2a3f5f\"}, \"geo\": {\"bgcolor\": \"white\", \"lakecolor\": \"white\", \"landcolor\": \"#E5ECF6\", \"showlakes\": true, \"showland\": true, \"subunitcolor\": \"white\"}, \"hoverlabel\": {\"align\": \"left\"}, \"hovermode\": \"closest\", \"mapbox\": {\"style\": \"light\"}, \"paper_bgcolor\": \"white\", \"plot_bgcolor\": \"#E5ECF6\", \"polar\": {\"angularaxis\": {\"gridcolor\": \"white\", \"linecolor\": \"white\", \"ticks\": \"\"}, \"bgcolor\": \"#E5ECF6\", \"radialaxis\": {\"gridcolor\": \"white\", \"linecolor\": \"white\", \"ticks\": \"\"}}, \"scene\": {\"xaxis\": {\"backgroundcolor\": \"#E5ECF6\", \"gridcolor\": \"white\", \"gridwidth\": 2, \"linecolor\": \"white\", \"showbackground\": true, \"ticks\": \"\", \"zerolinecolor\": \"white\"}, \"yaxis\": {\"backgroundcolor\": \"#E5ECF6\", \"gridcolor\": \"white\", \"gridwidth\": 2, \"linecolor\": \"white\", \"showbackground\": true, \"ticks\": \"\", \"zerolinecolor\": \"white\"}, \"zaxis\": {\"backgroundcolor\": \"#E5ECF6\", \"gridcolor\": \"white\", \"gridwidth\": 2, \"linecolor\": \"white\", \"showbackground\": true, \"ticks\": \"\", \"zerolinecolor\": \"white\"}}, \"shapedefaults\": {\"line\": {\"color\": \"#2a3f5f\"}}, \"ternary\": {\"aaxis\": {\"gridcolor\": \"white\", \"linecolor\": \"white\", \"ticks\": \"\"}, \"baxis\": {\"gridcolor\": \"white\", \"linecolor\": \"white\", \"ticks\": \"\"}, \"bgcolor\": \"#E5ECF6\", \"caxis\": {\"gridcolor\": \"white\", \"linecolor\": \"white\", \"ticks\": \"\"}}, \"title\": {\"x\": 0.05}, \"xaxis\": {\"automargin\": true, \"gridcolor\": \"white\", \"linecolor\": \"white\", \"ticks\": \"\", \"title\": {\"standoff\": 15}, \"zerolinecolor\": \"white\", \"zerolinewidth\": 2}, \"yaxis\": {\"automargin\": true, \"gridcolor\": \"white\", \"linecolor\": \"white\", \"ticks\": \"\", \"title\": {\"standoff\": 15}, \"zerolinecolor\": \"white\", \"zerolinewidth\": 2}}}, \"title\": {\"text\": \"Histogram\"}, \"xaxis\": {\"anchor\": \"y\", \"domain\": [0.0, 0.49], \"title\": {\"text\": \"AP\"}}, \"xaxis2\": {\"anchor\": \"y2\", \"domain\": [0.51, 1.0], \"matches\": \"x\", \"title\": {\"text\": \"AP\"}}, \"xaxis3\": {\"anchor\": \"y3\", \"domain\": [0.0, 0.49], \"matches\": \"x\", \"showticklabels\": false}, \"xaxis4\": {\"anchor\": \"y4\", \"domain\": [0.51, 1.0], \"matches\": \"x\", \"showticklabels\": false}, \"xaxis5\": {\"anchor\": \"y5\", \"domain\": [0.0, 0.49], \"matches\": \"x\", \"showticklabels\": false}, \"xaxis6\": {\"anchor\": \"y6\", \"domain\": [0.51, 1.0], \"matches\": \"x\", \"showticklabels\": false}, \"yaxis\": {\"anchor\": \"x\", \"domain\": [0.0, 0.2866666666666666], \"title\": {\"text\": \"count\"}}, \"yaxis2\": {\"anchor\": \"x2\", \"domain\": [0.0, 0.2866666666666666], \"matches\": \"y\", \"showticklabels\": false}, \"yaxis3\": {\"anchor\": \"x3\", \"domain\": [0.35666666666666663, 0.6433333333333333], \"matches\": \"y\", \"title\": {\"text\": \"count\"}}, \"yaxis4\": {\"anchor\": \"x4\", \"domain\": [0.35666666666666663, 0.6433333333333333], \"matches\": \"y\", \"showticklabels\": false}, \"yaxis5\": {\"anchor\": \"x5\", \"domain\": [0.7133333333333333, 0.9999999999999999], \"matches\": \"y\", \"title\": {\"text\": \"count\"}}, \"yaxis6\": {\"anchor\": \"x6\", \"domain\": [0.7133333333333333, 0.9999999999999999], \"matches\": \"y\", \"showticklabels\": false}},                        {\"responsive\": true}                    ).then(function(){\n",
       "                            \n",
       "var gd = document.getElementById('8c8bdddc-7bb9-4a75-9963-0946cdef077b');\n",
       "var x = new MutationObserver(function (mutations, observer) {{\n",
       "        var display = window.getComputedStyle(gd).display;\n",
       "        if (!display || display === 'none') {{\n",
       "            console.log([gd, 'removed!']);\n",
       "            Plotly.purge(gd);\n",
       "            observer.disconnect();\n",
       "        }}\n",
       "}});\n",
       "\n",
       "// Listen for the removal of the full notebook cells\n",
       "var notebookContainer = gd.closest('#notebook-container');\n",
       "if (notebookContainer) {{\n",
       "    x.observe(notebookContainer, {childList: true});\n",
       "}}\n",
       "\n",
       "// Listen for the clearing of the current output cell\n",
       "var outputEl = gd.closest('.output');\n",
       "if (outputEl) {{\n",
       "    x.observe(outputEl, {childList: true});\n",
       "}}\n",
       "\n",
       "                        })                };                });            </script>        </div>"
      ]
     },
     "metadata": {},
     "output_type": "display_data"
    },
    {
     "name": "stdout",
     "output_type": "stream",
     "text": [
      "    test_name limiar_AP                                      params_values params_nr  alpha   p_value fail_to_reject_H0 reject_H0  chi_squared\n",
      "0  Friedman_R      None  [autoencoder_nolle, binet1, detect_infrequents...         5   0.05  0.017351             False      True         12.0\n",
      "1  Friedman_R      None  [autoencoder_nolle, binet1, detect_infrequents...         4   0.05  0.029291             False      True          9.0\n",
      "2  Friedman_R      None  [autoencoder_nolle, binet1, detect_infrequents...         4   0.05  0.029291             False      True          9.0\n",
      "3  Friedman_R      None    [autoencoder_nolle, binet1, random, tstideplus]         4   0.05  0.029291             False      True          9.0\n",
      "4  Friedman_R      None  [autoencoder_nolle, detect_infrequents, random...         4   0.05  0.029291             False      True          9.0\n",
      "\n",
      " time for execute actions:1188.3312351703644\n",
      "\n"
     ]
    }
   ],
   "source": [
    "%matplotlib inline \n",
    "import sys\n",
    "from pathlib import Path\n",
    "\n",
    "ROOT_DIR = Path(\"E:\\\\EXPERIMENTOS2020\\\\anomaly_detection\\\\\")\n",
    "sys.path.insert(1, str(ROOT_DIR))\n",
    "from anomaly_detection.general.utils_da import get_abreviation_of\n",
    "from anomaly_detection.main.tasks import *\n",
    "from anomaly_detection.main.get_experiment_parameterization import *\n",
    "\n",
    "\n",
    "def get_experiments_parameterization(nome_grupo_experimentos, main_path, phase_number, dataset_values,\n",
    "                                     bimp_log_filename,\n",
    "                                     approach_name, enum_p_modelit_id_from=1, start_in_p_modelit_id=1):\n",
    "    ################### General Parameters #################\n",
    "    import time\n",
    "    exp_group_id = 'gexp_' + get_abreviation_of(approach_name) + '_' + str(int(round(time.time() - 1584060000, 3) * 1000))  # identificador usando o tempo\n",
    "\n",
    "    ################### Dataset Parameters #################\n",
    "\n",
    "    # Set Datasets\n",
    "    dataset_values = set(dataset_values)\n",
    "\n",
    "    # Set Scaling Factors\n",
    "    if (nome_grupo_experimentos == \"relatorio1-question1\"):\n",
    "        min_sf = 0\n",
    "        max_sf = 1\n",
    "        sf_number_of_values = 5\n",
    "    elif (nome_grupo_experimentos == \"relatorio1-question2\"):\n",
    "        min_sf = 0\n",
    "        max_sf = 1\n",
    "        sf_number_of_values = 11\n",
    "    elif (nome_grupo_experimentos == \"test_case\"):\n",
    "        min_sf = 0\n",
    "        max_sf = 1\n",
    "        sf_number_of_values = 2\n",
    "\n",
    "    if approach_name == 'autoencoder_nolle':\n",
    "        params_list = ['funcao_f_values', 'funcao_g_values', 'alfa_min', 'alfa_max', 'alfa_number_of_values',\n",
    "                       'vapproach_values', 'voutlierness_calc_values']\n",
    "\n",
    "        if phase_number == 1:\n",
    "            if nome_grupo_experimentos == \"relatorio1-question1\":\n",
    "                # Set Activation Functions\n",
    "                funcao_f_values = {'sigmoid', 'relu', 'tanh', 'softmax'}\n",
    "                funcao_g_values = {'sigmoid', 'softmax'}\n",
    "\n",
    "                # Set Learning rate\n",
    "                alfa_min = 0.001\n",
    "                alfa_max = 1\n",
    "                alfa_number_of_values = 5\n",
    "\n",
    "                vapproach_values = {'original'}\n",
    "                voutlierness_calc_values = {'original'}\n",
    "\n",
    "            if nome_grupo_experimentos == \"test_case\":\n",
    "                # Set Activation Functions\n",
    "                funcao_f_values = {'sigmoid'}\n",
    "                funcao_g_values = {'sigmoid', 'softmax'}\n",
    "\n",
    "                # Set Learning rate\n",
    "                alfa_min = 0.001\n",
    "                alfa_max = 1\n",
    "                alfa_number_of_values = 2\n",
    "\n",
    "                vapproach_values = {'original'}\n",
    "                voutlierness_calc_values = {'original'}\n",
    "\n",
    "        if phase_number == 2:\n",
    "            if nome_grupo_experimentos == \"relatorio1-question2\":  # best parameters\n",
    "                funcao_f_values = {'relu'}\n",
    "                funcao_g_values = {'sigmoid'}\n",
    "\n",
    "                # Set Learning rate\n",
    "                alfa_min = 0.001\n",
    "                alfa_max = 0.001\n",
    "                alfa_number_of_values = 1\n",
    "\n",
    "                vapproach_values = {'original'}\n",
    "                voutlierness_calc_values = {'original'}\n",
    "\n",
    "            if nome_grupo_experimentos == \"test_case\":  # best parameters\n",
    "                funcao_f_values = {'relu'}\n",
    "                funcao_g_values = {'sigmoid'}\n",
    "\n",
    "                # Set Learning rate\n",
    "                alfa_min = 0.001\n",
    "                alfa_max = 0.001\n",
    "                alfa_number_of_values = 1\n",
    "\n",
    "                vapproach_values = {'original'}\n",
    "                voutlierness_calc_values = {'original'}\n",
    "\n",
    "    elif approach_name == 'binet1':\n",
    "        params_list = ['nit_min', 'nit_max', 'nit_number_of_values', 'alfa_min', 'alfa_max', 'alfa_number_of_values',\n",
    "                       'vapproach_values', 'voutlierness_calc_values']\n",
    "        if phase_number == 1:\n",
    "            if nome_grupo_experimentos == \"relatorio1-question1\":\n",
    "                # Set Learning rate\n",
    "                nit_min = 20\n",
    "                nit_max = 200\n",
    "                nit_number_of_values = 10\n",
    "\n",
    "                # Set Learning rate\n",
    "                alfa_min = 0.001\n",
    "                alfa_max = 1\n",
    "                alfa_number_of_values = 3\n",
    "\n",
    "                vapproach_values = {'original'}\n",
    "                voutlierness_calc_values = {'original'}\n",
    "\n",
    "            if nome_grupo_experimentos == 'test_case':\n",
    "                params_list = ['nit_min', 'nit_max', 'nit_number_of_values', 'alfa_min', 'alfa_max',\n",
    "                               'alfa_number_of_values','vapproach_values', 'voutlierness_calc_values']\n",
    "                # Set Learning rate\n",
    "                nit_min = 20\n",
    "                nit_max = 40\n",
    "                nit_number_of_values = 2\n",
    "\n",
    "                # Set Learning rate\n",
    "                alfa_min = 0.001\n",
    "                alfa_max = 1\n",
    "                alfa_number_of_values = 2\n",
    "\n",
    "                vapproach_values = {'original'}\n",
    "                voutlierness_calc_values = {'original'}\n",
    "\n",
    "        if phase_number == 2:\n",
    "            if nome_grupo_experimentos == \"relatorio1-question2\":\n",
    "                # Set Learning rate\n",
    "                nit_min = 100\n",
    "                nit_max = 100\n",
    "                nit_number_of_values = 1\n",
    "\n",
    "                # Set Learning rate\n",
    "                alfa_min = 0.001\n",
    "                alfa_max = 0.001\n",
    "                alfa_number_of_values = 1\n",
    "\n",
    "                vapproach_values = {'original'}\n",
    "                voutlierness_calc_values = {'original'}\n",
    "\n",
    "            if nome_grupo_experimentos == 'test_case':\n",
    "                params_list = ['nit_min', 'nit_max', 'nit_number_of_values', 'alfa_min', 'alfa_max',\n",
    "                               'alfa_number_of_values','vapproach_values', 'voutlierness_calc_values']\n",
    "                # Set Learning rate\n",
    "                nit_min = 2\n",
    "                nit_max = 2\n",
    "                nit_number_of_values = 1\n",
    "\n",
    "                # Set Learning rate\n",
    "                alfa_min = 0.001\n",
    "                alfa_max = 0.001\n",
    "                alfa_number_of_values = 1\n",
    "\n",
    "                vapproach_values = {'original'}\n",
    "                voutlierness_calc_values = {'original'}\n",
    "\n",
    "        if approach_name == 'aalst_approach':\n",
    "            params_list = ['thdd_min', 'thdd_max', 'thdd_number_of_values', 'min_kk', 'max_kk', 'vapproach_values',\n",
    "                       'voutlierness_calc_values']\n",
    "        if phase_number == 1:\n",
    "            if nome_grupo_experimentos == \"relatorio1-question1\":\n",
    "                thdd_min = 0\n",
    "                thdd_max = 0.4\n",
    "                thdd_number_of_values = 11\n",
    "\n",
    "                min_kk = 1\n",
    "                max_kk = 4\n",
    "                vapproach_values = {'original', 'original_mod'}\n",
    "                voutlierness_calc_values = {'using_mismatches'}\n",
    "\n",
    "            if nome_grupo_experimentos == \"test_case\":\n",
    "                thdd_min = 0\n",
    "                thdd_max = 0.4\n",
    "                thdd_number_of_values = 3\n",
    "\n",
    "                min_kk = 1\n",
    "                max_kk = 2\n",
    "                vapproach_values = {'original', 'original_mod'}\n",
    "                voutlierness_calc_values = {'using_mismatches'}\n",
    "\n",
    "        if phase_number == 2:\n",
    "            if nome_grupo_experimentos == \"relatorio1-question2\":\n",
    "                thdd_min = 0.04\n",
    "                thdd_max = 0.04\n",
    "                thdd_number_of_values = 1\n",
    "\n",
    "                min_kk = 1\n",
    "                max_kk = 1\n",
    "                vapproach_values = {'original_mod'}\n",
    "                voutlierness_calc_values = {'using_mismatches'}\n",
    "\n",
    "    elif approach_name == 'tstideplus':\n",
    "        params_list = ['thd_min', 'thd_max', 'thd_number_of_values', 'min_windows_size', 'max_windows_size',\n",
    "                       'vapproach_values', 'voutlierness_calc_values']\n",
    "        if phase_number == 1:\n",
    "            if nome_grupo_experimentos == \"relatorio1-question1\":\n",
    "                thd_min = 0\n",
    "                thd_max = 0.01\n",
    "                thd_number_of_values = 11\n",
    "\n",
    "                min_windows_size = 2  # should be higher than one\n",
    "                max_windows_size = 10\n",
    "                vapproach_values = {'original'}\n",
    "                voutlierness_calc_values = {'using_mismatches'}\n",
    "\n",
    "            if nome_grupo_experimentos == 'test_case':\n",
    "                thd_min = 0\n",
    "                thd_max = 0.01\n",
    "                thd_number_of_values = 3\n",
    "\n",
    "                min_windows_size = 2  # should be higher than one\n",
    "                max_windows_size = 3\n",
    "                vapproach_values = {'original'}\n",
    "                voutlierness_calc_values = {'using_mismatches'}\n",
    "\n",
    "        if phase_number == 2:\n",
    "\n",
    "            if nome_grupo_experimentos == \"relatorio1-question2\":\n",
    "                thd_min = 0.003\n",
    "                thd_max = 0.003\n",
    "                thd_number_of_values = 1\n",
    "\n",
    "                min_windows_size = 3  # should be higher than one\n",
    "                max_windows_size = 3\n",
    "                vapproach_values = {'original'}\n",
    "                voutlierness_calc_values = {'using_mismatches'}\n",
    "\n",
    "            if nome_grupo_experimentos == 'test_case':\n",
    "                thd_min = 0.001\n",
    "                thd_max = 0.001\n",
    "                thd_number_of_values = 1\n",
    "\n",
    "                min_windows_size = 2  # should be higher than one\n",
    "                max_windows_size = 2\n",
    "                vapproach_values = {'original'}\n",
    "                voutlierness_calc_values = {'using_mismatches'}\n",
    "\n",
    "    elif approach_name == 'detect_infrequents':\n",
    "        params_list = ['vapproach_values',\n",
    "                       'voutlierness_calc_values']\n",
    "\n",
    "        vapproach_values = {'original'}\n",
    "        voutlierness_calc_values = {'original'}\n",
    "\n",
    "    elif approach_name == 'random':\n",
    "        params_list = ['vapproach_values',\n",
    "                       'voutlierness_calc_values']\n",
    "\n",
    "        vapproach_values = {'original'}\n",
    "        voutlierness_calc_values = {'original'}\n",
    "\n",
    "    params = {}\n",
    "    for variable in params_list:\n",
    "        params[variable] = eval(variable)\n",
    "\n",
    "    # Create combination of parameteres values\n",
    "    [number_of_models_it, d_dynamic_parameters_model] = get_combinated_dynamic_parameters(dataset_values, min_sf,\n",
    "                                                                                          max_sf, sf_number_of_values,\n",
    "                                                                                          approach_name, params,\n",
    "                                                                                          enum_p_modelit_id_from)\n",
    "    dataset_tipo_processo = []\n",
    "    dataset_intuicao_anomalias = []\n",
    "    for log_name in d_dynamic_parameters_model['log_name']:\n",
    "        process = log_name[log_name.find(\"_pt\") + 1:].split(\"_\")[0].replace(\"pt\", \"\")\n",
    "        anomaly_type = log_name[log_name.find(\"_at\") + 1:].split(\"_\")[0].replace(\"at\", \"\")\n",
    "\n",
    "        dataset_tipo_processo.append(process)\n",
    "        dataset_intuicao_anomalias.append(anomaly_type)\n",
    "\n",
    "    # Set parameters for all approaches\n",
    "    d_general_fixed_parameters = {\n",
    "        # Dataset-related parameters\n",
    "        'log_bimp': bimp_log_filename,\n",
    "        'log_anomaly_intuition': dataset_intuicao_anomalias,\n",
    "        'log_control_flow_type': dataset_tipo_processo,\n",
    "\n",
    "        # Experiments setting (Principal)\n",
    "        's_k_cv': 5,\n",
    "        's_tipo_heuristica': None,\n",
    "        's_method_for_explore_thresholds': 'percentiles_unique',  # 'scaling_factor_x_mean','percentiles_unique'\n",
    "        's_strategy_tr_tst': 'train_with_all_with_repetitions' if nome_grupo_experimentos == 'reproduce_binet1_p2p' else 'cv_without_traces_duplicated_tst_tr',\n",
    "\n",
    "        # Experiments setting (Secondary)\n",
    "        's_avaliation_type': 'q_classification',  # q_model or q_classification\n",
    "        's_avaliation_gran_level': 'anomalous_cases',\n",
    "\n",
    "        # Experiments group parameters\n",
    "        'exp_group_name': nome_grupo_experimentos,  # experiment group description\n",
    "        'exp_group_id': exp_group_id,  # experiment group ID\n",
    "\n",
    "        # Mask\n",
    "        'use_mask': 'default'\n",
    "    }\n",
    "    d_fixed_parameters_model = get_fixed_parameterization_model(approach_name, nome_grupo_experimentos)\n",
    "    d_derived_parameters = get_derived_parameters_set_automatically(approach_name, d_general_fixed_parameters)\n",
    "\n",
    "    dict_parameterization = {**d_general_fixed_parameters, **d_dynamic_parameters_model, **d_fixed_parameters_model,\n",
    "                             **d_derived_parameters}\n",
    "\n",
    "    experiments_parameterization = pd.DataFrame.from_dict(dict_parameterization)\n",
    "    experiments_parameterization[\"log_name_abbrev\"] = experiments_parameterization[\"log_name\"].apply(\n",
    "        lambda x: x[x.rfind('_at') + 3:-4].replace(\"_\", \"\"))\n",
    "\n",
    "    if (start_in_p_modelit_id > 1):\n",
    "        experiments_parameterization = experiments_parameterization[\n",
    "            (experiments_parameterization['p_modelit_id'] >= start_in_p_modelit_id)].reset_index(drop=True)\n",
    "\n",
    "    return experiments_parameterization\n",
    "\n",
    "\n",
    "def train_test_and_evaluate(input_rep_filenames, bimp_log_filename, nome_grupo_experimentos, main_path, question,\n",
    "                            approach_name, first_p_modelit_id=1, start_in_p_modelit_id=1):\n",
    "    \"\"\" Function that execute training and testing in batch\"\"\"\n",
    "\n",
    "    from anomaly_detection.main.execute_experiments_and_save_results import execute_experiments_and_save_results\n",
    "\n",
    "    # Get parameterization\n",
    "    experiments_parameterization = get_experiments_parameterization(nome_grupo_experimentos, main_path, question,\n",
    "                                                                    input_rep_filenames, bimp_log_filename,\n",
    "                                                                    approach_name,\n",
    "                                                                    first_p_modelit_id, start_in_p_modelit_id)\n",
    "\n",
    "    # Execute experiments: Train and test\n",
    "    [experiments_group_path, results_data_filename] = execute_experiments_and_save_results(experiments_parameterization,\n",
    "                                                                                           main_path)\n",
    "\n",
    "    return [experiments_group_path, results_data_filename]\n",
    "\n",
    "\n",
    "def execute_actions(phase_number, list_actions, bimp_log_filename, nome_grupo_experimentos, approach_name_list,\n",
    "                    experiments_group_path=None, results_data_filename=None, enum_p_modelit_id_from=1,\n",
    "                    start_in_p_modelit_id=1):\n",
    "    # for action= \"qualittv_analysis_create_d_analysis_files\" the approach_name_list should start with aalst_approach\n",
    "\n",
    "    import glob\n",
    "    import os\n",
    "\n",
    "    # set dirs:\n",
    "    main_path = ROOT_DIR\n",
    "    bimp_logs_path = BIMP_LOGS_DIR\n",
    "    reference_logs_path = REFERENCE_LOGS_DIR\n",
    "    logs_path = LOGS_DIR  # ( Original logs)\n",
    "\n",
    "    # 0. Create logs\n",
    "    if (\"create_logs\" in list_actions):\n",
    "        if phase_number == 1:\n",
    "            anomalies_list = ['allinone']  # vai inserir todas as anomalias em cada log\n",
    "        if phase_number == 2:\n",
    "            # Only skipp, only insert, only swit in every log\n",
    "            anomalies_list = ['skipping_activity', 'activity_insertion', 'activity_switching']\n",
    "        if (phase_number == 1) | (phase_number == 2):\n",
    "\n",
    "            print(\"Not included yet\")\n",
    "    else:\n",
    "        # If logs already were created\n",
    "        original_logs_filenames = list(\n",
    "            pd.read_csv(logs_path / (\"original_logs_filenames_\" + bimp_log_filename), header=None)[0])\n",
    "\n",
    "    log_of_cases_all = pd.DataFrame()\n",
    "    for approach_name in approach_name_list:\n",
    "        if ((\"create_input_representations\" in list_actions)\n",
    "                | (\"train_test_and_evaluate\" in list_actions)\n",
    "                | (\"quantittv_analysis_by_approach_ap\" in list_actions)\n",
    "                | (\"quantittv_analysis_by_approach_pr_rec\" in list_actions)\n",
    "                | (\"qualittv_analysis_create_d_analysis_files\" in list_actions)):\n",
    "            print(\"\\n ========================== Approach %s ==========================\" % approach_name)\n",
    "\n",
    "        # 1. Create ohe from logs\n",
    "        if (\"create_input_representations\" in list_actions):\n",
    "            input_rep_filenames = create_input_representation_from_logs(logs_path, original_logs_filenames,\n",
    "                                                                        approach_name)\n",
    "\n",
    "        if ((\"create_input_representations\" not in list_actions) | (\n",
    "                len(input_rep_filenames) < 1)):  # We assume, files are in hard disk\n",
    "            if (approach_name == \"autoencoder_nolle\"):\n",
    "                input_rep_filenames = \"ohe_\" + pd.Series(original_logs_filenames)\n",
    "\n",
    "            if ((approach_name == \"tstideplus\") | (approach_name == 'binet1') | (\n",
    "                    approach_name == 'detect_infrequents') | (\n",
    "                    approach_name == 'random')):\n",
    "                input_rep_filenames = \"tstideplus_\" + pd.Series(original_logs_filenames).apply(\n",
    "                    lambda x: x.replace('.csv', '.pkl'))\n",
    "\n",
    "            if (approach_name == \"aalst_approach\"):\n",
    "                input_rep_filenames = \"ohe_\" + pd.Series(original_logs_filenames)\n",
    "            input_rep_filenames = input_rep_filenames.tolist()\n",
    "\n",
    "        # 2. Train and test in batch\n",
    "        if (\"train_test_and_evaluate\" in list_actions):\n",
    "            [experiments_group_path, results_data_filename] = train_test_and_evaluate(input_rep_filenames,\n",
    "                                                                                      bimp_log_filename,\n",
    "                                                                                      nome_grupo_experimentos,\n",
    "                                                                                      main_path,\n",
    "                                                                                      phase_number, approach_name,\n",
    "                                                                                      enum_p_modelit_id_from,\n",
    "                                                                                      start_in_p_modelit_id)\n",
    "\n",
    "        # 3. Evaluate anomaly detection\n",
    "        if ( \"quantittv_analysis_by_approach_ap\" in list_actions\n",
    "            or \"quantittv_analysis_by_approach_pr_rec\" in list_actions\n",
    "            or \"qualittv_analysis_create_d_analysis_files\" in list_actions):\n",
    "\n",
    "            if experiments_group_path is None:\n",
    "\n",
    "                all_result = glob.glob(os.path.join(RESULTS_DIR, 'resultados_gexp_' + get_abreviation_of(approach_name) + \"*\"))\n",
    "                if len(all_result) > 0:\n",
    "                    experiments_group_path_ = Path(all_result[0])\n",
    "                    results_data_filename = os.path.basename(glob.glob(os.path.join(experiments_group_path_, \"*_all_results_details.csv\"))[0])\n",
    "                else:\n",
    "                    experiments_group_path_ = None\n",
    "                    print(\"\\n It was not found any folder named resultados_gexp_%s*\" % get_abreviation_of(approach_name))\n",
    "            else:\n",
    "                experiments_group_path_ = Path(experiments_group_path)\n",
    "        ##3.1 Quantitative analysis\n",
    "        if (\"quantittv_analysis_by_approach_pr_rec\" in list_actions or \"quantittv_analysis_by_approach_ap\" in list_actions):\n",
    "\n",
    "            from anomaly_detection.pos_processamento import p_q1_create_figures_from_results_files as figures_ad\n",
    "\n",
    "            if (experiments_group_path_ is not None):\n",
    "                if (\"quantittv_analysis_by_approach_ap\" in list_actions):\n",
    "                    if phase_number == 1:\n",
    "                        dict_limiar_test = {\n",
    "                            \"autoencoder_nolle\": 0.78,\n",
    "                            \"tstideplus\": 0.9,\n",
    "                            \"binet1\": 0.9,\n",
    "                            \"aalst_approach\": 0.88\n",
    "                        }\n",
    "                        figures_ad.create_analysis_q1(experiments_group_path_,\n",
    "                                                      results_data_filename,\n",
    "                                                      dict_limiar_test,\n",
    "                                                      statistic_analysis=True,\n",
    "                                                      iplot=True,\n",
    "                                                      print_figure=False,\n",
    "                                                      # figure_numbers=[12])\n",
    "                                                      figure_numbers=[11, 12])\n",
    "\n",
    "                    if phase_number == 2:\n",
    "                        figures_ad.create_analysis_q1(experiments_group_path_,\n",
    "                                                      results_data_filename,\n",
    "                                                      dict_limiar_test=None,\n",
    "                                                      statistic_analysis=True,\n",
    "                                                      iplot=True,\n",
    "                                                      print_figure=False,\n",
    "                                                      figure_numbers=[13])\n",
    "\n",
    "                if (\"quantittv_analysis_by_approach_pr_rec\" in list_actions):\n",
    "                    figures_ad.create_analysis_q1(experiments_group_path_,\n",
    "                                                  results_data_filename,\n",
    "                                                  dict_limiar_test=None,\n",
    "                                                  statistic_analysis=True,\n",
    "                                                  iplot=True,\n",
    "                                                  print_figure=False,\n",
    "                                                  figure_numbers=[17])\n",
    "\n",
    "\n",
    "    if (\"quantittv_analysis_all_approaches_in_one\" in list_actions) & (phase_number == 2):\n",
    "        from anomaly_detection.pos_processamento import p_q1_create_figures_from_results_files as figures_ad\n",
    "        print(\"\\n ========================== All Approaches in list ==========================\")\n",
    "\n",
    "        df_full_name = \"full.csv\"\n",
    "        # If full file does not exist, we create it\n",
    "        if not (os.path.isfile(RESULTS_DIR / df_full_name)):\n",
    "            print(\"full.csv was created\")\n",
    "            df_full = pd.DataFrame()\n",
    "            for approach_name in approach_name_list:\n",
    "                # experiments_group_paths= glob.glob(os.path.join(RESULTS_DIR, 'resultados_gexp_' + \"*\"))\n",
    "                experiments_group_path = \\\n",
    "                glob.glob(os.path.join(RESULTS_DIR, 'resultados_gexp_' + get_abreviation_of(approach_name) + \"*\"))[0]\n",
    "                experiments_group_path = Path(experiments_group_path)\n",
    "                results_data_filename = glob.glob(os.path.join(experiments_group_path, \"*_all_results_details.csv\"))[0]\n",
    "                df_full = df_full.append(pd.read_csv(results_data_filename))\n",
    "            df_full.to_csv(RESULTS_DIR / df_full_name, sep=',', encoding='utf-8', index=False)\n",
    "        else:\n",
    "            print(\"full.csv already exists. It will be used for analisys\")\n",
    "\n",
    "        figures_ad.create_analysis_q1(RESULTS_DIR,\n",
    "                                      df_full_name,\n",
    "                                      dict_limiar_test=None,\n",
    "                                      statistic_analysis=True,\n",
    "                                      iplot=True,\n",
    "                                      print_figure=False,\n",
    "                                      figure_numbers=[14, 15, 16, 18])\n",
    "        #  figure_numbers = [18]) # for dissertation\n",
    "\n",
    "\n",
    "def get_params_by_research_questions(phase_number):\n",
    "    \"\"\" Definition of parameters that will be executed used according to phase_number selected.\n",
    "\n",
    "    :param\n",
    "        phase_number: integer. Possible values:\n",
    "            1 (Look for the best parameterizations)\n",
    "            2 (Analyze robustness of approaches,\n",
    "            3 (Analyze approaches to process discovery improvement).\n",
    "    :return: list\n",
    "    \"\"\"\n",
    "    if (phase_number == 1) | (phase_number == 2) | (phase_number == 3):\n",
    "        bimp_log_filename = \"log_bimp_ptall.csv\"\n",
    "\n",
    "    if (phase_number == 1):\n",
    "        nome_grupo_experimentos = \"relatorio1-question1\"\n",
    "        task_list = [\"create_logs\", \"create_input_representations\", \"train_test_and_evaluate\",\n",
    "                     \"quantittv_analysis_by_approach_ap\"]\n",
    "\n",
    "    if (phase_number == 2):\n",
    "        # Possible tasks:\n",
    "        #   A. Tasks for log creation and training: [\"create_logs\",\"create_input_representations\",\"train_test_and_evaluate\"]\n",
    "        #   B. Tasks for quantitative analysis  : [\"quantittv_analysis_by_approach_ap\",\"quantittv_analysis_all_approaches_in_one\"]\n",
    "        #   C. Tasks for creation of files for qualitative analysis: [\"qualittv_analysis_create_d_analysis_files\"]\n",
    "        #   D. Opcional Task : [\"quantittv_analysis_by_approach_pr_rec\"]\n",
    "        nome_grupo_experimentos = \"relatorio1-question2\"\n",
    "        task_list = [\"create_input_representations\", \"train_test_and_evaluate\",\n",
    "                     \"quantittv_analysis_all_approaches_in_one\"]\n",
    "\n",
    "    if (phase_number == 3):\n",
    "        nome_grupo_experimentos = \"relatorio1-question3\"\n",
    "        task_list = [\"generate_filtered_logs_and_labeled\", \"generate_pmodels_and_quality_measures\"]\n",
    "\n",
    "    return [bimp_log_filename, nome_grupo_experimentos, task_list]\n",
    "\n",
    "\n",
    "def main(phase_number):\n",
    "    approach_name_list = [\"tstideplus\", \"autoencoder_nolle\", \"binet1\", \"detect_infrequents\", \"aalst_approach\"]\n",
    "    approach_name_list = [\"tstideplus\", \"autoencoder_nolle\", \"binet1\", \"detect_infrequents\",\"random\"]\n",
    "    [bimp_log_filename, nome_grupo_experimentos, list_actions] = get_params_by_research_questions(phase_number)\n",
    "    nome_grupo_experimentos = \"test_case\"\n",
    "    import time\n",
    "    time_tst_start = time.time()\n",
    "    execute_actions(phase_number, list_actions, bimp_log_filename, nome_grupo_experimentos, approach_name_list,\n",
    "                    experiments_group_path=None, results_data_filename=None, enum_p_modelit_id_from=1,\n",
    "                    start_in_p_modelit_id=0)\n",
    "    time_tst_end = time.time()\n",
    "    time_tst = time_tst_end - time_tst_start\n",
    "    print(\"\\n time for execute actions:\" + str(time_tst) + \"\\n\")\n",
    "\n",
    "main(phase_number=2)\n"
   ]
  },
  {
   "cell_type": "code",
   "execution_count": null,
   "metadata": {},
   "outputs": [],
   "source": []
  }
 ],
 "metadata": {
  "kernelspec": {
   "display_name": "Python 3",
   "language": "python",
   "name": "python3"
  },
  "language_info": {
   "codemirror_mode": {
    "name": "ipython",
    "version": 3
   },
   "file_extension": ".py",
   "mimetype": "text/x-python",
   "name": "python",
   "nbconvert_exporter": "python",
   "pygments_lexer": "ipython3",
   "version": "3.8.5"
  }
 },
 "nbformat": 4,
 "nbformat_minor": 4
}
