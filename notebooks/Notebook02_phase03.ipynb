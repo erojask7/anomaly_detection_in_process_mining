{
 "cells": [
  {
   "cell_type": "code",
   "execution_count": null,
   "metadata": {},
   "outputs": [],
   "source": [
    "from anomaly_detection.main.automatizar import execute_actions,get_params_by_research_questions\n",
    "\n",
    "# Phase to be executed\n",
    "phase_number = 3\n",
    "\n",
    "# List of approaches to be executed\n",
    "#approach_name_list = [\"tstideplus\", \"autoencoder_nolle\", \"binet1\", \"detect_infrequents\", \"aalst_approach\"]\n",
    "approach_name_list = [\"tstideplus\", \"autoencoder_nolle\", \"binet1\", \"detect_infrequents\"]\n",
    "\n",
    "# Set default parameters values according to phase_number\n",
    "[bimp_log_filename, experiments_group_name, task_list] = get_params_by_research_questions(phase_number)\n",
    "\n",
    "# Name of experiments group to be executed\n",
    "experiments_group_name = \"test_case\"\n",
    "\n",
    "# Execute list of task defined in task_list\n",
    "execute_actions(phase_number, task_list, bimp_log_filename, experiments_group_name, approach_name_list,\n",
    "                experiments_group_path=None, results_data_filename=None, enum_p_modelit_id_from=1,\n",
    "                start_in_p_modelit_id=0)"
   ]
  },
  {
   "cell_type": "code",
   "execution_count": null,
   "metadata": {},
   "outputs": [],
   "source": []
  }
 ],
 "metadata": {
  "kernelspec": {
   "display_name": "Python 3",
   "language": "python",
   "name": "python3"
  },
  "language_info": {
   "codemirror_mode": {
    "name": "ipython",
    "version": 3
   },
   "file_extension": ".py",
   "mimetype": "text/x-python",
   "name": "python",
   "nbconvert_exporter": "python",
   "pygments_lexer": "ipython3",
   "version": "3.8.5"
  }
 },
 "nbformat": 4,
 "nbformat_minor": 4
}
